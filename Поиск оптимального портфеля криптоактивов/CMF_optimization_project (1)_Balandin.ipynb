{
 "cells": [
  {
   "cell_type": "code",
   "execution_count": 9,
   "id": "c5d3d3bd",
   "metadata": {
    "id": "c5d3d3bd"
   },
   "outputs": [],
   "source": [
    "import pandas as pd\n",
    "import numpy as np\n",
    "from matplotlib import pyplot as plt\n",
    "from datetime import datetime\n",
    "import seaborn as sns\n",
    "from datetime import timedelta\n",
    "#from sklearn.metrics import mean_absolute_percentage_error\n",
    "from tqdm import tqdm"
   ]
  },
  {
   "cell_type": "code",
   "execution_count": 9,
   "id": "KlRUeyv56m3G",
   "metadata": {
    "id": "KlRUeyv56m3G"
   },
   "outputs": [],
   "source": []
  },
  {
   "cell_type": "code",
   "execution_count": null,
   "id": "18c8f79f",
   "metadata": {
    "id": "18c8f79f"
   },
   "outputs": [],
   "source": [
    "df = pd.read_csv('market_data_train.csv')"
   ]
  },
  {
   "cell_type": "code",
   "execution_count": null,
   "id": "4751eec2",
   "metadata": {
    "id": "4751eec2",
    "outputId": "754fe4fe-010c-4cf3-9c54-725b4b2fb142"
   },
   "outputs": [
    {
     "data": {
      "text/html": [
       "<div>\n",
       "<style scoped>\n",
       "    .dataframe tbody tr th:only-of-type {\n",
       "        vertical-align: middle;\n",
       "    }\n",
       "\n",
       "    .dataframe tbody tr th {\n",
       "        vertical-align: top;\n",
       "    }\n",
       "\n",
       "    .dataframe thead th {\n",
       "        text-align: right;\n",
       "    }\n",
       "</style>\n",
       "<table border=\"1\" class=\"dataframe\">\n",
       "  <thead>\n",
       "    <tr style=\"text-align: right;\">\n",
       "      <th></th>\n",
       "      <th>symbol</th>\n",
       "      <th>time</th>\n",
       "      <th>open</th>\n",
       "      <th>high</th>\n",
       "      <th>low</th>\n",
       "      <th>close</th>\n",
       "      <th>market_cap</th>\n",
       "      <th>n_trades</th>\n",
       "      <th>volume</th>\n",
       "      <th>taker_buy_volume</th>\n",
       "    </tr>\n",
       "  </thead>\n",
       "  <tbody>\n",
       "    <tr>\n",
       "      <th>0</th>\n",
       "      <td>1INCH</td>\n",
       "      <td>2020-12-25 06:00:00</td>\n",
       "      <td>0.2000</td>\n",
       "      <td>3.0885</td>\n",
       "      <td>0.2000</td>\n",
       "      <td>2.5826</td>\n",
       "      <td>6.707592e+07</td>\n",
       "      <td>48768</td>\n",
       "      <td>3.553052e+07</td>\n",
       "      <td>1.724763e+07</td>\n",
       "    </tr>\n",
       "    <tr>\n",
       "      <th>1</th>\n",
       "      <td>1INCH</td>\n",
       "      <td>2020-12-25 07:00:00</td>\n",
       "      <td>2.5824</td>\n",
       "      <td>2.6900</td>\n",
       "      <td>2.2249</td>\n",
       "      <td>2.5059</td>\n",
       "      <td>6.508385e+07</td>\n",
       "      <td>31099</td>\n",
       "      <td>2.244087e+07</td>\n",
       "      <td>9.861481e+06</td>\n",
       "    </tr>\n",
       "    <tr>\n",
       "      <th>2</th>\n",
       "      <td>1INCH</td>\n",
       "      <td>2020-12-25 08:00:00</td>\n",
       "      <td>2.5152</td>\n",
       "      <td>2.8870</td>\n",
       "      <td>2.3609</td>\n",
       "      <td>2.6237</td>\n",
       "      <td>6.814338e+07</td>\n",
       "      <td>33001</td>\n",
       "      <td>2.130043e+07</td>\n",
       "      <td>1.160785e+07</td>\n",
       "    </tr>\n",
       "    <tr>\n",
       "      <th>3</th>\n",
       "      <td>1INCH</td>\n",
       "      <td>2020-12-25 09:00:00</td>\n",
       "      <td>2.6318</td>\n",
       "      <td>2.8247</td>\n",
       "      <td>2.4650</td>\n",
       "      <td>2.6134</td>\n",
       "      <td>6.787587e+07</td>\n",
       "      <td>30459</td>\n",
       "      <td>1.749181e+07</td>\n",
       "      <td>9.087566e+06</td>\n",
       "    </tr>\n",
       "    <tr>\n",
       "      <th>4</th>\n",
       "      <td>1INCH</td>\n",
       "      <td>2020-12-25 10:00:00</td>\n",
       "      <td>2.6104</td>\n",
       "      <td>2.7498</td>\n",
       "      <td>2.5629</td>\n",
       "      <td>2.6365</td>\n",
       "      <td>6.847583e+07</td>\n",
       "      <td>21023</td>\n",
       "      <td>9.919400e+06</td>\n",
       "      <td>4.798067e+06</td>\n",
       "    </tr>\n",
       "  </tbody>\n",
       "</table>\n",
       "</div>"
      ],
      "text/plain": [
       "  symbol                 time    open    high     low   close    market_cap  \\\n",
       "0  1INCH  2020-12-25 06:00:00  0.2000  3.0885  0.2000  2.5826  6.707592e+07   \n",
       "1  1INCH  2020-12-25 07:00:00  2.5824  2.6900  2.2249  2.5059  6.508385e+07   \n",
       "2  1INCH  2020-12-25 08:00:00  2.5152  2.8870  2.3609  2.6237  6.814338e+07   \n",
       "3  1INCH  2020-12-25 09:00:00  2.6318  2.8247  2.4650  2.6134  6.787587e+07   \n",
       "4  1INCH  2020-12-25 10:00:00  2.6104  2.7498  2.5629  2.6365  6.847583e+07   \n",
       "\n",
       "   n_trades        volume  taker_buy_volume  \n",
       "0     48768  3.553052e+07      1.724763e+07  \n",
       "1     31099  2.244087e+07      9.861481e+06  \n",
       "2     33001  2.130043e+07      1.160785e+07  \n",
       "3     30459  1.749181e+07      9.087566e+06  \n",
       "4     21023  9.919400e+06      4.798067e+06  "
      ]
     },
     "execution_count": 127,
     "metadata": {},
     "output_type": "execute_result"
    }
   ],
   "source": [
    "df.head()"
   ]
  },
  {
   "cell_type": "code",
   "execution_count": null,
   "id": "bd6c11f8",
   "metadata": {
    "id": "bd6c11f8",
    "outputId": "7f1ab678-c340-4248-de83-01d3e3a5f4d4"
   },
   "outputs": [
    {
     "data": {
      "text/plain": [
       "array(['1INCH', 'AAVE', 'ACM', 'ADA', 'AION', 'AKRO', 'ALGO', 'ALICE',\n",
       "       'ALPHA', 'ANKR', 'ANT', 'AR', 'ARDR', 'ARPA', 'ASR', 'ATM', 'ATOM',\n",
       "       'AUDIO', 'AUTO', 'AVA', 'AVAX', 'AXS', 'BADGER', 'BAKE', 'BAL',\n",
       "       'BAND', 'BAR', 'BAT', 'BCH', 'BEAM', 'BEL', 'BLZ', 'BNB', 'BNT',\n",
       "       'BTC', 'BTCST', 'BTG', 'BTS', 'BTT', 'BURGER', 'BZRX', 'CAKE',\n",
       "       'CELO', 'CELR', 'CFX', 'CHR', 'CHZ', 'CKB', 'COCOS', 'COMP', 'COS',\n",
       "       'COTI', 'CRV', 'CTK', 'CTSI', 'CTXC', 'CVC', 'DASH', 'DATA', 'DCR',\n",
       "       'DEGO', 'DENT', 'DGB', 'DIA', 'DNT', 'DOCK', 'DODO', 'DOGE', 'DOT',\n",
       "       'DREP', 'DUSK', 'EGLD', 'ENJ', 'EOS', 'EPS', 'ETC', 'ETH', 'FET',\n",
       "       'FIL', 'FIO', 'FIRO', 'FIS', 'FLM', 'FORTH', 'FTM', 'FTT', 'FUN',\n",
       "       'GRT', 'GTO', 'GXS', 'HARD', 'HBAR', 'HIVE', 'HNT', 'HOT', 'ICP',\n",
       "       'ICX', 'INJ', 'IOST', 'IOTA', 'IOTX', 'IRIS', 'JST', 'JUV', 'KAVA',\n",
       "       'KEY', 'KMD', 'KNC', 'KSM', 'LINA', 'LINK', 'LIT', 'LPT', 'LRC',\n",
       "       'LSK', 'LTC', 'LTO', 'LUNA', 'MANA', 'MASK', 'MATIC', 'MBL', 'MDT',\n",
       "       'MDX', 'MFT', 'MIR', 'MITH', 'MKR', 'MTL', 'NANO', 'NBS', 'NEAR',\n",
       "       'NEO', 'NKN', 'NMR', 'NULS', 'OCEAN', 'OG', 'OGN', 'OM', 'OMG',\n",
       "       'ONE', 'ONG', 'ONT', 'ORN', 'OXT', 'PERL', 'PERP', 'PNT', 'POLS',\n",
       "       'POND', 'PSG', 'PUNDIX', 'QTUM', 'RAMP', 'REEF', 'REN', 'REP',\n",
       "       'RIF', 'RLC', 'ROSE', 'RSR', 'RUNE', 'RVN', 'SAND', 'SC', 'SFP',\n",
       "       'SHIB', 'SKL', 'SLP', 'SNX', 'SOL', 'SRM', 'STMX', 'STORJ', 'STPT',\n",
       "       'STRAX', 'STX', 'SUN', 'SUPER', 'SUSHI', 'SXP', 'TCT', 'TFUEL',\n",
       "       'THETA', 'TKO', 'TLM', 'TOMO', 'TRB', 'TROY', 'TRU', 'TRX', 'TWT',\n",
       "       'UMA', 'UNFI', 'UNI', 'UTK', 'VET', 'VITE', 'VTHO', 'WAN', 'WAVES',\n",
       "       'WIN', 'WING', 'WNXM', 'WRX', 'WTC', 'XEM', 'XLM', 'XMR', 'XRP',\n",
       "       'XTZ', 'XVS', 'YFI', 'YFII', 'ZEC', 'ZEN', 'ZIL', 'ZRX'],\n",
       "      dtype=object)"
      ]
     },
     "execution_count": 128,
     "metadata": {},
     "output_type": "execute_result"
    }
   ],
   "source": [
    "df.symbol.unique()"
   ]
  },
  {
   "cell_type": "code",
   "execution_count": null,
   "id": "db647718",
   "metadata": {
    "id": "db647718",
    "outputId": "e417def8-0356-40aa-8578-7eb672d3b671"
   },
   "outputs": [
    {
     "name": "stdout",
     "output_type": "stream",
     "text": [
      "<class 'pandas.core.frame.DataFrame'>\n",
      "RangeIndex: 2235084 entries, 0 to 2235083\n",
      "Data columns (total 10 columns):\n",
      " #   Column            Dtype  \n",
      "---  ------            -----  \n",
      " 0   symbol            object \n",
      " 1   time              object \n",
      " 2   open              float64\n",
      " 3   high              float64\n",
      " 4   low               float64\n",
      " 5   close             float64\n",
      " 6   market_cap        float64\n",
      " 7   n_trades          int64  \n",
      " 8   volume            float64\n",
      " 9   taker_buy_volume  float64\n",
      "dtypes: float64(7), int64(1), object(2)\n",
      "memory usage: 170.5+ MB\n"
     ]
    }
   ],
   "source": [
    "df.info()"
   ]
  },
  {
   "cell_type": "code",
   "execution_count": null,
   "id": "5e6e50a8",
   "metadata": {
    "id": "5e6e50a8",
    "outputId": "150645ec-8ad0-40e2-f211-d3476142a0f0"
   },
   "outputs": [
    {
     "data": {
      "text/html": [
       "<div>\n",
       "<style scoped>\n",
       "    .dataframe tbody tr th:only-of-type {\n",
       "        vertical-align: middle;\n",
       "    }\n",
       "\n",
       "    .dataframe tbody tr th {\n",
       "        vertical-align: top;\n",
       "    }\n",
       "\n",
       "    .dataframe thead th {\n",
       "        text-align: right;\n",
       "    }\n",
       "</style>\n",
       "<table border=\"1\" class=\"dataframe\">\n",
       "  <thead>\n",
       "    <tr style=\"text-align: right;\">\n",
       "      <th></th>\n",
       "      <th>open</th>\n",
       "      <th>high</th>\n",
       "      <th>low</th>\n",
       "      <th>close</th>\n",
       "      <th>market_cap</th>\n",
       "      <th>n_trades</th>\n",
       "      <th>volume</th>\n",
       "      <th>taker_buy_volume</th>\n",
       "    </tr>\n",
       "  </thead>\n",
       "  <tbody>\n",
       "    <tr>\n",
       "      <th>count</th>\n",
       "      <td>2.235084e+06</td>\n",
       "      <td>2.235084e+06</td>\n",
       "      <td>2.235084e+06</td>\n",
       "      <td>2.235084e+06</td>\n",
       "      <td>2.235084e+06</td>\n",
       "      <td>2.235084e+06</td>\n",
       "      <td>2.235084e+06</td>\n",
       "      <td>2.235084e+06</td>\n",
       "    </tr>\n",
       "    <tr>\n",
       "      <th>mean</th>\n",
       "      <td>3.092401e+02</td>\n",
       "      <td>3.122463e+02</td>\n",
       "      <td>3.060462e+02</td>\n",
       "      <td>3.092663e+02</td>\n",
       "      <td>5.133663e+09</td>\n",
       "      <td>2.984957e+03</td>\n",
       "      <td>1.960561e+06</td>\n",
       "      <td>9.791499e+05</td>\n",
       "    </tr>\n",
       "    <tr>\n",
       "      <th>std</th>\n",
       "      <td>2.897115e+03</td>\n",
       "      <td>2.927192e+03</td>\n",
       "      <td>2.865314e+03</td>\n",
       "      <td>2.897322e+03</td>\n",
       "      <td>4.225177e+10</td>\n",
       "      <td>1.136582e+04</td>\n",
       "      <td>1.373418e+07</td>\n",
       "      <td>6.832441e+06</td>\n",
       "    </tr>\n",
       "    <tr>\n",
       "      <th>min</th>\n",
       "      <td>7.050000e-06</td>\n",
       "      <td>7.110000e-06</td>\n",
       "      <td>6.300000e-06</td>\n",
       "      <td>7.040000e-06</td>\n",
       "      <td>0.000000e+00</td>\n",
       "      <td>1.000000e+00</td>\n",
       "      <td>2.405000e-03</td>\n",
       "      <td>0.000000e+00</td>\n",
       "    </tr>\n",
       "    <tr>\n",
       "      <th>25%</th>\n",
       "      <td>2.927000e-02</td>\n",
       "      <td>2.964000e-02</td>\n",
       "      <td>2.891000e-02</td>\n",
       "      <td>2.928000e-02</td>\n",
       "      <td>2.952531e+07</td>\n",
       "      <td>1.390000e+02</td>\n",
       "      <td>1.756327e+04</td>\n",
       "      <td>7.784697e+03</td>\n",
       "    </tr>\n",
       "    <tr>\n",
       "      <th>50%</th>\n",
       "      <td>3.415000e-01</td>\n",
       "      <td>3.458000e-01</td>\n",
       "      <td>3.372000e-01</td>\n",
       "      <td>3.415000e-01</td>\n",
       "      <td>1.430362e+08</td>\n",
       "      <td>5.810000e+02</td>\n",
       "      <td>1.151175e+05</td>\n",
       "      <td>5.545417e+04</td>\n",
       "    </tr>\n",
       "    <tr>\n",
       "      <th>75%</th>\n",
       "      <td>3.989500e+00</td>\n",
       "      <td>4.045000e+00</td>\n",
       "      <td>3.933925e+00</td>\n",
       "      <td>3.989600e+00</td>\n",
       "      <td>7.774754e+08</td>\n",
       "      <td>2.080000e+03</td>\n",
       "      <td>6.247238e+05</td>\n",
       "      <td>3.113743e+05</td>\n",
       "    </tr>\n",
       "    <tr>\n",
       "      <th>max</th>\n",
       "      <td>9.045459e+04</td>\n",
       "      <td>9.500000e+04</td>\n",
       "      <td>8.624000e+04</td>\n",
       "      <td>9.050000e+04</td>\n",
       "      <td>1.206442e+12</td>\n",
       "      <td>1.976442e+06</td>\n",
       "      <td>2.375468e+09</td>\n",
       "      <td>1.246835e+09</td>\n",
       "    </tr>\n",
       "  </tbody>\n",
       "</table>\n",
       "</div>"
      ],
      "text/plain": [
       "               open          high           low         close    market_cap  \\\n",
       "count  2.235084e+06  2.235084e+06  2.235084e+06  2.235084e+06  2.235084e+06   \n",
       "mean   3.092401e+02  3.122463e+02  3.060462e+02  3.092663e+02  5.133663e+09   \n",
       "std    2.897115e+03  2.927192e+03  2.865314e+03  2.897322e+03  4.225177e+10   \n",
       "min    7.050000e-06  7.110000e-06  6.300000e-06  7.040000e-06  0.000000e+00   \n",
       "25%    2.927000e-02  2.964000e-02  2.891000e-02  2.928000e-02  2.952531e+07   \n",
       "50%    3.415000e-01  3.458000e-01  3.372000e-01  3.415000e-01  1.430362e+08   \n",
       "75%    3.989500e+00  4.045000e+00  3.933925e+00  3.989600e+00  7.774754e+08   \n",
       "max    9.045459e+04  9.500000e+04  8.624000e+04  9.050000e+04  1.206442e+12   \n",
       "\n",
       "           n_trades        volume  taker_buy_volume  \n",
       "count  2.235084e+06  2.235084e+06      2.235084e+06  \n",
       "mean   2.984957e+03  1.960561e+06      9.791499e+05  \n",
       "std    1.136582e+04  1.373418e+07      6.832441e+06  \n",
       "min    1.000000e+00  2.405000e-03      0.000000e+00  \n",
       "25%    1.390000e+02  1.756327e+04      7.784697e+03  \n",
       "50%    5.810000e+02  1.151175e+05      5.545417e+04  \n",
       "75%    2.080000e+03  6.247238e+05      3.113743e+05  \n",
       "max    1.976442e+06  2.375468e+09      1.246835e+09  "
      ]
     },
     "execution_count": 130,
     "metadata": {},
     "output_type": "execute_result"
    }
   ],
   "source": [
    "df.describe()"
   ]
  },
  {
   "cell_type": "code",
   "execution_count": null,
   "id": "ad38b489",
   "metadata": {
    "id": "ad38b489",
    "outputId": "843cb2ac-a235-475b-95eb-1748f9ec8f62"
   },
   "outputs": [
    {
     "data": {
      "text/plain": [
       "symbol              0\n",
       "time                0\n",
       "open                0\n",
       "high                0\n",
       "low                 0\n",
       "close               0\n",
       "market_cap          0\n",
       "n_trades            0\n",
       "volume              0\n",
       "taker_buy_volume    0\n",
       "dtype: int64"
      ]
     },
     "execution_count": 131,
     "metadata": {},
     "output_type": "execute_result"
    }
   ],
   "source": [
    "df.isnull().sum()"
   ]
  },
  {
   "cell_type": "code",
   "execution_count": null,
   "id": "ef4cddb8",
   "metadata": {
    "id": "ef4cddb8",
    "outputId": "d677d640-cc02-43f2-9076-dd521eb37b63",
    "scrolled": true
   },
   "outputs": [
    {
     "name": "stdout",
     "output_type": "stream",
     "text": [
      "symbol\n",
      "NEO     29809\n",
      "ETH     29809\n",
      "LTC     29809\n",
      "BNB     29809\n",
      "BTC     29809\n",
      "        ...  \n",
      "AR        416\n",
      "POLS      301\n",
      "MDX       179\n",
      "MASK      158\n",
      "LPT        87\n",
      "Name: symbol, Length: 219, dtype: int64\n",
      "\n",
      "\n",
      "time\n",
      "2021-05-31 18:00:00    219\n",
      "2021-05-31 08:00:00    219\n",
      "2021-05-29 01:00:00    219\n",
      "2021-05-30 11:00:00    219\n",
      "2021-05-29 02:00:00    219\n",
      "                      ... \n",
      "2018-01-19 13:00:00      5\n",
      "2018-02-01 19:00:00      5\n",
      "2018-01-15 22:00:00      5\n",
      "2018-01-30 00:00:00      5\n",
      "2018-01-23 23:00:00      5\n",
      "Name: time, Length: 29809, dtype: int64\n",
      "\n",
      "\n",
      "open\n",
      "0.005100       239\n",
      "0.005110       227\n",
      "0.005200       218\n",
      "0.005090       215\n",
      "0.004800       214\n",
      "              ... \n",
      "0.060058         1\n",
      "0.027128         1\n",
      "11.276300        1\n",
      "0.316120         1\n",
      "5213.760000      1\n",
      "Name: open, Length: 432080, dtype: int64\n",
      "\n",
      "\n",
      "high\n",
      "0.320000     308\n",
      "0.350000     306\n",
      "0.400000     305\n",
      "0.022000     301\n",
      "0.310000     296\n",
      "            ... \n",
      "0.400060       1\n",
      "27.481000      1\n",
      "12.665590      1\n",
      "0.003821       1\n",
      "0.357440       1\n",
      "Name: high, Length: 401426, dtype: int64\n",
      "\n",
      "\n",
      "low\n",
      "0.300000     410\n",
      "0.020000     335\n",
      "0.400000     326\n",
      "0.019000     322\n",
      "0.330000     322\n",
      "            ... \n",
      "62.173000      1\n",
      "29.050200      1\n",
      "18.463000      1\n",
      "77.038000      1\n",
      "0.000423       1\n",
      "Name: low, Length: 399870, dtype: int64\n",
      "\n",
      "\n",
      "close\n",
      "0.00510       244\n",
      "0.00493       230\n",
      "0.00508       229\n",
      "0.00520       226\n",
      "0.00480       224\n",
      "             ... \n",
      "9991.79000      1\n",
      "40.17330        1\n",
      "3468.79000      1\n",
      "9025.50000      1\n",
      "29.38440        1\n",
      "Name: close, Length: 429540, dtype: int64\n",
      "\n",
      "\n",
      "market_cap\n",
      "0.000000e+00    47286\n",
      "1.057885e+07       89\n",
      "1.061818e+07       80\n",
      "1.069683e+07       78\n",
      "1.065750e+07       76\n",
      "                ...  \n",
      "2.785491e+08        1\n",
      "8.578867e+08        1\n",
      "1.267292e+10        1\n",
      "3.450979e+09        1\n",
      "6.673628e+09        1\n",
      "Name: market_cap, Length: 1769068, dtype: int64\n",
      "\n",
      "\n",
      "n_trades\n",
      "19       6168\n",
      "14       6164\n",
      "15       6128\n",
      "16       6093\n",
      "13       6032\n",
      "         ... \n",
      "16661       1\n",
      "50079       1\n",
      "89004       1\n",
      "38957       1\n",
      "35417       1\n",
      "Name: n_trades, Length: 55966, dtype: int64\n",
      "\n",
      "\n",
      "volume\n",
      "1.002712e+06    4\n",
      "1.237176e+06    4\n",
      "1.158495e+05    4\n",
      "1.736620e+05    4\n",
      "1.846083e+05    4\n",
      "               ..\n",
      "5.344631e+04    1\n",
      "1.164579e+07    1\n",
      "4.182832e+04    1\n",
      "4.951553e+04    1\n",
      "2.491265e+02    1\n",
      "Name: volume, Length: 2221309, dtype: int64\n",
      "\n",
      "\n",
      "taker_buy_volume\n",
      "0.000000e+00    7567\n",
      "1.367025e+05       6\n",
      "1.140350e+05       4\n",
      "1.466081e+05       4\n",
      "1.156545e+06       4\n",
      "                ... \n",
      "2.088497e+05       1\n",
      "8.301950e+04       1\n",
      "7.602955e+02       1\n",
      "3.379695e+05       1\n",
      "6.825589e+02       1\n",
      "Name: taker_buy_volume, Length: 2213711, dtype: int64\n",
      "\n",
      "\n"
     ]
    }
   ],
   "source": [
    "for column in df.columns:\n",
    "    print(column)\n",
    "    print(df[column].value_counts())\n",
    "    print('\\n')"
   ]
  },
  {
   "cell_type": "code",
   "execution_count": null,
   "id": "921a510f",
   "metadata": {
    "id": "921a510f",
    "outputId": "885f07ba-8330-4805-d010-1f21a7ed9ce0"
   },
   "outputs": [
    {
     "data": {
      "text/plain": [
       "symbol                  219\n",
       "time                  29809\n",
       "open                 432080\n",
       "high                 401426\n",
       "low                  399870\n",
       "close                429540\n",
       "market_cap          1769068\n",
       "n_trades              55966\n",
       "volume              2221309\n",
       "taker_buy_volume    2213711\n",
       "dtype: int64"
      ]
     },
     "execution_count": 8,
     "metadata": {},
     "output_type": "execute_result"
    }
   ],
   "source": [
    "df.nunique()"
   ]
  },
  {
   "cell_type": "markdown",
   "id": "b90491f6",
   "metadata": {
    "id": "b90491f6"
   },
   "source": [
    "Заполним пучтые значения"
   ]
  },
  {
   "cell_type": "code",
   "execution_count": null,
   "id": "948c74af",
   "metadata": {
    "id": "948c74af",
    "outputId": "de796c63-960d-490a-d62e-a1a67611815e"
   },
   "outputs": [
    {
     "data": {
      "text/html": [
       "<div>\n",
       "<style scoped>\n",
       "    .dataframe tbody tr th:only-of-type {\n",
       "        vertical-align: middle;\n",
       "    }\n",
       "\n",
       "    .dataframe tbody tr th {\n",
       "        vertical-align: top;\n",
       "    }\n",
       "\n",
       "    .dataframe thead th {\n",
       "        text-align: right;\n",
       "    }\n",
       "</style>\n",
       "<table border=\"1\" class=\"dataframe\">\n",
       "  <thead>\n",
       "    <tr style=\"text-align: right;\">\n",
       "      <th></th>\n",
       "      <th>symbol</th>\n",
       "      <th>time</th>\n",
       "      <th>open</th>\n",
       "      <th>high</th>\n",
       "      <th>low</th>\n",
       "      <th>close</th>\n",
       "      <th>market_cap</th>\n",
       "      <th>n_trades</th>\n",
       "      <th>volume</th>\n",
       "      <th>taker_buy_volume</th>\n",
       "    </tr>\n",
       "  </thead>\n",
       "  <tbody>\n",
       "    <tr>\n",
       "      <th>44299</th>\n",
       "      <td>AION</td>\n",
       "      <td>2020-10-04 00:00:00</td>\n",
       "      <td>0.0789</td>\n",
       "      <td>0.0789</td>\n",
       "      <td>0.0787</td>\n",
       "      <td>0.0787</td>\n",
       "      <td>3.684936e+07</td>\n",
       "      <td>8</td>\n",
       "      <td>364.031778</td>\n",
       "      <td>0.0</td>\n",
       "    </tr>\n",
       "    <tr>\n",
       "      <th>44596</th>\n",
       "      <td>AION</td>\n",
       "      <td>2020-10-16 09:00:00</td>\n",
       "      <td>0.0770</td>\n",
       "      <td>0.0770</td>\n",
       "      <td>0.0765</td>\n",
       "      <td>0.0765</td>\n",
       "      <td>3.581926e+07</td>\n",
       "      <td>16</td>\n",
       "      <td>2337.364954</td>\n",
       "      <td>0.0</td>\n",
       "    </tr>\n",
       "    <tr>\n",
       "      <th>44611</th>\n",
       "      <td>AION</td>\n",
       "      <td>2020-10-17 00:00:00</td>\n",
       "      <td>0.0784</td>\n",
       "      <td>0.0784</td>\n",
       "      <td>0.0784</td>\n",
       "      <td>0.0784</td>\n",
       "      <td>3.670889e+07</td>\n",
       "      <td>2</td>\n",
       "      <td>19.262880</td>\n",
       "      <td>0.0</td>\n",
       "    </tr>\n",
       "    <tr>\n",
       "      <th>44639</th>\n",
       "      <td>AION</td>\n",
       "      <td>2020-10-18 04:00:00</td>\n",
       "      <td>0.0792</td>\n",
       "      <td>0.0792</td>\n",
       "      <td>0.0790</td>\n",
       "      <td>0.0790</td>\n",
       "      <td>3.698982e+07</td>\n",
       "      <td>4</td>\n",
       "      <td>112.783806</td>\n",
       "      <td>0.0</td>\n",
       "    </tr>\n",
       "    <tr>\n",
       "      <th>44667</th>\n",
       "      <td>AION</td>\n",
       "      <td>2020-10-19 08:00:00</td>\n",
       "      <td>0.0774</td>\n",
       "      <td>0.0774</td>\n",
       "      <td>0.0772</td>\n",
       "      <td>0.0772</td>\n",
       "      <td>3.614702e+07</td>\n",
       "      <td>13</td>\n",
       "      <td>1711.527567</td>\n",
       "      <td>0.0</td>\n",
       "    </tr>\n",
       "    <tr>\n",
       "      <th>...</th>\n",
       "      <td>...</td>\n",
       "      <td>...</td>\n",
       "      <td>...</td>\n",
       "      <td>...</td>\n",
       "      <td>...</td>\n",
       "      <td>...</td>\n",
       "      <td>...</td>\n",
       "      <td>...</td>\n",
       "      <td>...</td>\n",
       "      <td>...</td>\n",
       "    </tr>\n",
       "    <tr>\n",
       "      <th>2223193</th>\n",
       "      <td>ZRX</td>\n",
       "      <td>2020-01-21 08:00:00</td>\n",
       "      <td>0.2363</td>\n",
       "      <td>0.2363</td>\n",
       "      <td>0.2355</td>\n",
       "      <td>0.2361</td>\n",
       "      <td>1.428056e+08</td>\n",
       "      <td>10</td>\n",
       "      <td>254.945800</td>\n",
       "      <td>0.0</td>\n",
       "    </tr>\n",
       "    <tr>\n",
       "      <th>2223229</th>\n",
       "      <td>ZRX</td>\n",
       "      <td>2020-01-22 20:00:00</td>\n",
       "      <td>0.2434</td>\n",
       "      <td>0.2434</td>\n",
       "      <td>0.2423</td>\n",
       "      <td>0.2423</td>\n",
       "      <td>1.465556e+08</td>\n",
       "      <td>11</td>\n",
       "      <td>407.831800</td>\n",
       "      <td>0.0</td>\n",
       "    </tr>\n",
       "    <tr>\n",
       "      <th>2223295</th>\n",
       "      <td>ZRX</td>\n",
       "      <td>2020-01-25 14:00:00</td>\n",
       "      <td>0.2225</td>\n",
       "      <td>0.2234</td>\n",
       "      <td>0.2225</td>\n",
       "      <td>0.2231</td>\n",
       "      <td>1.371863e+08</td>\n",
       "      <td>5</td>\n",
       "      <td>193.324000</td>\n",
       "      <td>0.0</td>\n",
       "    </tr>\n",
       "    <tr>\n",
       "      <th>2223308</th>\n",
       "      <td>ZRX</td>\n",
       "      <td>2020-01-26 03:00:00</td>\n",
       "      <td>0.2249</td>\n",
       "      <td>0.2249</td>\n",
       "      <td>0.2249</td>\n",
       "      <td>0.2249</td>\n",
       "      <td>1.382931e+08</td>\n",
       "      <td>1</td>\n",
       "      <td>58.881070</td>\n",
       "      <td>0.0</td>\n",
       "    </tr>\n",
       "    <tr>\n",
       "      <th>2224221</th>\n",
       "      <td>ZRX</td>\n",
       "      <td>2020-03-04 10:00:00</td>\n",
       "      <td>0.2529</td>\n",
       "      <td>0.2529</td>\n",
       "      <td>0.2529</td>\n",
       "      <td>0.2529</td>\n",
       "      <td>1.583879e+08</td>\n",
       "      <td>3</td>\n",
       "      <td>202.259300</td>\n",
       "      <td>0.0</td>\n",
       "    </tr>\n",
       "  </tbody>\n",
       "</table>\n",
       "<p>54636 rows × 10 columns</p>\n",
       "</div>"
      ],
      "text/plain": [
       "        symbol                 time    open    high     low   close  \\\n",
       "44299     AION  2020-10-04 00:00:00  0.0789  0.0789  0.0787  0.0787   \n",
       "44596     AION  2020-10-16 09:00:00  0.0770  0.0770  0.0765  0.0765   \n",
       "44611     AION  2020-10-17 00:00:00  0.0784  0.0784  0.0784  0.0784   \n",
       "44639     AION  2020-10-18 04:00:00  0.0792  0.0792  0.0790  0.0790   \n",
       "44667     AION  2020-10-19 08:00:00  0.0774  0.0774  0.0772  0.0772   \n",
       "...        ...                  ...     ...     ...     ...     ...   \n",
       "2223193    ZRX  2020-01-21 08:00:00  0.2363  0.2363  0.2355  0.2361   \n",
       "2223229    ZRX  2020-01-22 20:00:00  0.2434  0.2434  0.2423  0.2423   \n",
       "2223295    ZRX  2020-01-25 14:00:00  0.2225  0.2234  0.2225  0.2231   \n",
       "2223308    ZRX  2020-01-26 03:00:00  0.2249  0.2249  0.2249  0.2249   \n",
       "2224221    ZRX  2020-03-04 10:00:00  0.2529  0.2529  0.2529  0.2529   \n",
       "\n",
       "           market_cap  n_trades       volume  taker_buy_volume  \n",
       "44299    3.684936e+07         8   364.031778               0.0  \n",
       "44596    3.581926e+07        16  2337.364954               0.0  \n",
       "44611    3.670889e+07         2    19.262880               0.0  \n",
       "44639    3.698982e+07         4   112.783806               0.0  \n",
       "44667    3.614702e+07        13  1711.527567               0.0  \n",
       "...               ...       ...          ...               ...  \n",
       "2223193  1.428056e+08        10   254.945800               0.0  \n",
       "2223229  1.465556e+08        11   407.831800               0.0  \n",
       "2223295  1.371863e+08         5   193.324000               0.0  \n",
       "2223308  1.382931e+08         1    58.881070               0.0  \n",
       "2224221  1.583879e+08         3   202.259300               0.0  \n",
       "\n",
       "[54636 rows x 10 columns]"
      ]
     },
     "execution_count": 133,
     "metadata": {},
     "output_type": "execute_result"
    }
   ],
   "source": [
    "df[(df['market_cap'] == 0) | (df['taker_buy_volume'] == 0)]"
   ]
  },
  {
   "cell_type": "code",
   "execution_count": null,
   "id": "15a4c7d5",
   "metadata": {
    "id": "15a4c7d5",
    "outputId": "ace2bcda-3446-4c92-8558-a8ff21d7f85d"
   },
   "outputs": [
    {
     "data": {
      "text/plain": [
       "137"
      ]
     },
     "execution_count": 134,
     "metadata": {},
     "output_type": "execute_result"
    }
   ],
   "source": [
    "df[(df['market_cap'] == 0) | (df['taker_buy_volume'] == 0)].symbol.nunique()"
   ]
  },
  {
   "cell_type": "code",
   "execution_count": null,
   "id": "d8246eb9",
   "metadata": {
    "id": "d8246eb9",
    "outputId": "9fcf2511-bf5f-455a-b0bf-3c09aa90fe8e"
   },
   "outputs": [
    {
     "data": {
      "text/html": [
       "<div>\n",
       "<style scoped>\n",
       "    .dataframe tbody tr th:only-of-type {\n",
       "        vertical-align: middle;\n",
       "    }\n",
       "\n",
       "    .dataframe tbody tr th {\n",
       "        vertical-align: top;\n",
       "    }\n",
       "\n",
       "    .dataframe thead th {\n",
       "        text-align: right;\n",
       "    }\n",
       "</style>\n",
       "<table border=\"1\" class=\"dataframe\">\n",
       "  <thead>\n",
       "    <tr style=\"text-align: right;\">\n",
       "      <th></th>\n",
       "      <th>symbol</th>\n",
       "      <th>market_cap</th>\n",
       "      <th>taker_buy_volume</th>\n",
       "    </tr>\n",
       "  </thead>\n",
       "  <tbody>\n",
       "    <tr>\n",
       "      <th>130</th>\n",
       "      <td>NBS</td>\n",
       "      <td>0.0</td>\n",
       "      <td>65663.039502</td>\n",
       "    </tr>\n",
       "    <tr>\n",
       "      <th>178</th>\n",
       "      <td>SUN</td>\n",
       "      <td>0.0</td>\n",
       "      <td>449997.706698</td>\n",
       "    </tr>\n",
       "  </tbody>\n",
       "</table>\n",
       "</div>"
      ],
      "text/plain": [
       "    symbol  market_cap  taker_buy_volume\n",
       "130    NBS         0.0      65663.039502\n",
       "178    SUN         0.0     449997.706698"
      ]
     },
     "execution_count": 135,
     "metadata": {},
     "output_type": "execute_result"
    }
   ],
   "source": [
    "means_to_replace = df.groupby('symbol').mean()[['market_cap', 'taker_buy_volume']].reset_index()\n",
    "means_to_replace[(means_to_replace['market_cap'] == 0) | (means_to_replace['taker_buy_volume'] == 0)]"
   ]
  },
  {
   "cell_type": "code",
   "execution_count": null,
   "id": "4ea6077d",
   "metadata": {
    "id": "4ea6077d"
   },
   "outputs": [],
   "source": [
    "to_drop = df[df.symbol.isin(['NBS', 'SUN']) == True].index "
   ]
  },
  {
   "cell_type": "code",
   "execution_count": null,
   "id": "c6d86725",
   "metadata": {
    "id": "c6d86725"
   },
   "outputs": [],
   "source": [
    "df.drop(to_drop, inplace=True)"
   ]
  },
  {
   "cell_type": "code",
   "execution_count": null,
   "id": "22a27bf6",
   "metadata": {
    "id": "22a27bf6",
    "outputId": "29dccba0-7e2e-4bc5-91ec-ec305678edfb"
   },
   "outputs": [
    {
     "data": {
      "text/html": [
       "<div>\n",
       "<style scoped>\n",
       "    .dataframe tbody tr th:only-of-type {\n",
       "        vertical-align: middle;\n",
       "    }\n",
       "\n",
       "    .dataframe tbody tr th {\n",
       "        vertical-align: top;\n",
       "    }\n",
       "\n",
       "    .dataframe thead th {\n",
       "        text-align: right;\n",
       "    }\n",
       "</style>\n",
       "<table border=\"1\" class=\"dataframe\">\n",
       "  <thead>\n",
       "    <tr style=\"text-align: right;\">\n",
       "      <th></th>\n",
       "      <th>symbol</th>\n",
       "      <th>market_cap</th>\n",
       "      <th>taker_buy_volume</th>\n",
       "    </tr>\n",
       "  </thead>\n",
       "  <tbody>\n",
       "  </tbody>\n",
       "</table>\n",
       "</div>"
      ],
      "text/plain": [
       "Empty DataFrame\n",
       "Columns: [symbol, market_cap, taker_buy_volume]\n",
       "Index: []"
      ]
     },
     "execution_count": 138,
     "metadata": {},
     "output_type": "execute_result"
    }
   ],
   "source": [
    "means_to_replace = df.groupby('symbol').mean()[['market_cap', 'taker_buy_volume']].reset_index()\n",
    "means_to_replace[(means_to_replace['market_cap'] == 0) | (means_to_replace['taker_buy_volume'] == 0)]"
   ]
  },
  {
   "cell_type": "code",
   "execution_count": null,
   "id": "684426ec",
   "metadata": {
    "id": "684426ec",
    "outputId": "df2c756c-5c6f-4b57-9822-d4b4d8c1287c"
   },
   "outputs": [
    {
     "data": {
      "text/html": [
       "<div>\n",
       "<style scoped>\n",
       "    .dataframe tbody tr th:only-of-type {\n",
       "        vertical-align: middle;\n",
       "    }\n",
       "\n",
       "    .dataframe tbody tr th {\n",
       "        vertical-align: top;\n",
       "    }\n",
       "\n",
       "    .dataframe thead th {\n",
       "        text-align: right;\n",
       "    }\n",
       "</style>\n",
       "<table border=\"1\" class=\"dataframe\">\n",
       "  <thead>\n",
       "    <tr style=\"text-align: right;\">\n",
       "      <th></th>\n",
       "      <th>symbol</th>\n",
       "      <th>market_cap</th>\n",
       "      <th>taker_buy_volume</th>\n",
       "    </tr>\n",
       "  </thead>\n",
       "  <tbody>\n",
       "    <tr>\n",
       "      <th>0</th>\n",
       "      <td>1INCH</td>\n",
       "      <td>5.675210e+08</td>\n",
       "      <td>1.438292e+06</td>\n",
       "    </tr>\n",
       "    <tr>\n",
       "      <th>1</th>\n",
       "      <td>AAVE</td>\n",
       "      <td>3.225183e+09</td>\n",
       "      <td>1.665238e+06</td>\n",
       "    </tr>\n",
       "    <tr>\n",
       "      <th>2</th>\n",
       "      <td>ACM</td>\n",
       "      <td>2.259087e+07</td>\n",
       "      <td>2.111224e+05</td>\n",
       "    </tr>\n",
       "    <tr>\n",
       "      <th>3</th>\n",
       "      <td>ADA</td>\n",
       "      <td>6.401495e+09</td>\n",
       "      <td>2.491576e+06</td>\n",
       "    </tr>\n",
       "    <tr>\n",
       "      <th>4</th>\n",
       "      <td>AION</td>\n",
       "      <td>6.415863e+07</td>\n",
       "      <td>9.393214e+04</td>\n",
       "    </tr>\n",
       "    <tr>\n",
       "      <th>...</th>\n",
       "      <td>...</td>\n",
       "      <td>...</td>\n",
       "      <td>...</td>\n",
       "    </tr>\n",
       "    <tr>\n",
       "      <th>212</th>\n",
       "      <td>YFII</td>\n",
       "      <td>9.060958e+07</td>\n",
       "      <td>5.391621e+05</td>\n",
       "    </tr>\n",
       "    <tr>\n",
       "      <th>213</th>\n",
       "      <td>ZEC</td>\n",
       "      <td>7.379123e+08</td>\n",
       "      <td>4.297843e+05</td>\n",
       "    </tr>\n",
       "    <tr>\n",
       "      <th>214</th>\n",
       "      <td>ZEN</td>\n",
       "      <td>3.797326e+08</td>\n",
       "      <td>2.565964e+05</td>\n",
       "    </tr>\n",
       "    <tr>\n",
       "      <th>215</th>\n",
       "      <td>ZIL</td>\n",
       "      <td>3.962189e+08</td>\n",
       "      <td>2.864320e+05</td>\n",
       "    </tr>\n",
       "    <tr>\n",
       "      <th>216</th>\n",
       "      <td>ZRX</td>\n",
       "      <td>3.505496e+08</td>\n",
       "      <td>1.411494e+05</td>\n",
       "    </tr>\n",
       "  </tbody>\n",
       "</table>\n",
       "<p>217 rows × 3 columns</p>\n",
       "</div>"
      ],
      "text/plain": [
       "    symbol    market_cap  taker_buy_volume\n",
       "0    1INCH  5.675210e+08      1.438292e+06\n",
       "1     AAVE  3.225183e+09      1.665238e+06\n",
       "2      ACM  2.259087e+07      2.111224e+05\n",
       "3      ADA  6.401495e+09      2.491576e+06\n",
       "4     AION  6.415863e+07      9.393214e+04\n",
       "..     ...           ...               ...\n",
       "212   YFII  9.060958e+07      5.391621e+05\n",
       "213    ZEC  7.379123e+08      4.297843e+05\n",
       "214    ZEN  3.797326e+08      2.565964e+05\n",
       "215    ZIL  3.962189e+08      2.864320e+05\n",
       "216    ZRX  3.505496e+08      1.411494e+05\n",
       "\n",
       "[217 rows x 3 columns]"
      ]
     },
     "execution_count": 139,
     "metadata": {},
     "output_type": "execute_result"
    }
   ],
   "source": [
    "means_to_replace"
   ]
  },
  {
   "cell_type": "code",
   "execution_count": null,
   "id": "d32190b2",
   "metadata": {
    "id": "d32190b2"
   },
   "outputs": [],
   "source": [
    "df1 = pd.DataFrame()\n",
    "for s in df.symbol.unique():\n",
    "    a= df[df.symbol == s].copy()\n",
    "    a['market_cap'].replace(0, means_to_replace[means_to_replace.symbol == s].market_cap.values[0], inplace=True)\n",
    "    a['taker_buy_volume'].replace(0, means_to_replace[means_to_replace.symbol == s].taker_buy_volume.values[0], inplace=True)\n",
    "    df1 = pd.concat([df1, a])"
   ]
  },
  {
   "cell_type": "code",
   "execution_count": null,
   "id": "1c1464ca",
   "metadata": {
    "id": "1c1464ca",
    "outputId": "f8fe4e03-5453-4dc1-d231-baa243cf00ea"
   },
   "outputs": [
    {
     "data": {
      "text/plain": [
       "0"
      ]
     },
     "execution_count": 141,
     "metadata": {},
     "output_type": "execute_result"
    }
   ],
   "source": [
    "df1[(df1['market_cap'] == 0) | (df1['taker_buy_volume'] == 0)].symbol.nunique()"
   ]
  },
  {
   "cell_type": "code",
   "execution_count": null,
   "id": "8039e89a",
   "metadata": {
    "id": "8039e89a",
    "outputId": "13f4107e-8b5c-42f4-ded3-85cd818175f9",
    "scrolled": true
   },
   "outputs": [
    {
     "data": {
      "text/html": [
       "<div>\n",
       "<style scoped>\n",
       "    .dataframe tbody tr th:only-of-type {\n",
       "        vertical-align: middle;\n",
       "    }\n",
       "\n",
       "    .dataframe tbody tr th {\n",
       "        vertical-align: top;\n",
       "    }\n",
       "\n",
       "    .dataframe thead th {\n",
       "        text-align: right;\n",
       "    }\n",
       "</style>\n",
       "<table border=\"1\" class=\"dataframe\">\n",
       "  <thead>\n",
       "    <tr style=\"text-align: right;\">\n",
       "      <th></th>\n",
       "      <th>symbol</th>\n",
       "      <th>time</th>\n",
       "      <th>open</th>\n",
       "      <th>high</th>\n",
       "      <th>low</th>\n",
       "      <th>close</th>\n",
       "      <th>market_cap</th>\n",
       "      <th>n_trades</th>\n",
       "      <th>volume</th>\n",
       "      <th>taker_buy_volume</th>\n",
       "    </tr>\n",
       "  </thead>\n",
       "  <tbody>\n",
       "    <tr>\n",
       "      <th>0</th>\n",
       "      <td>1INCH</td>\n",
       "      <td>2020-12-25 06:00:00</td>\n",
       "      <td>0.2000</td>\n",
       "      <td>3.0885</td>\n",
       "      <td>0.2000</td>\n",
       "      <td>2.5826</td>\n",
       "      <td>6.707592e+07</td>\n",
       "      <td>48768</td>\n",
       "      <td>3.553052e+07</td>\n",
       "      <td>1.724763e+07</td>\n",
       "    </tr>\n",
       "    <tr>\n",
       "      <th>1</th>\n",
       "      <td>1INCH</td>\n",
       "      <td>2020-12-25 07:00:00</td>\n",
       "      <td>2.5824</td>\n",
       "      <td>2.6900</td>\n",
       "      <td>2.2249</td>\n",
       "      <td>2.5059</td>\n",
       "      <td>6.508385e+07</td>\n",
       "      <td>31099</td>\n",
       "      <td>2.244087e+07</td>\n",
       "      <td>9.861481e+06</td>\n",
       "    </tr>\n",
       "    <tr>\n",
       "      <th>2</th>\n",
       "      <td>1INCH</td>\n",
       "      <td>2020-12-25 08:00:00</td>\n",
       "      <td>2.5152</td>\n",
       "      <td>2.8870</td>\n",
       "      <td>2.3609</td>\n",
       "      <td>2.6237</td>\n",
       "      <td>6.814338e+07</td>\n",
       "      <td>33001</td>\n",
       "      <td>2.130043e+07</td>\n",
       "      <td>1.160785e+07</td>\n",
       "    </tr>\n",
       "    <tr>\n",
       "      <th>3</th>\n",
       "      <td>1INCH</td>\n",
       "      <td>2020-12-25 09:00:00</td>\n",
       "      <td>2.6318</td>\n",
       "      <td>2.8247</td>\n",
       "      <td>2.4650</td>\n",
       "      <td>2.6134</td>\n",
       "      <td>6.787587e+07</td>\n",
       "      <td>30459</td>\n",
       "      <td>1.749181e+07</td>\n",
       "      <td>9.087566e+06</td>\n",
       "    </tr>\n",
       "    <tr>\n",
       "      <th>4</th>\n",
       "      <td>1INCH</td>\n",
       "      <td>2020-12-25 10:00:00</td>\n",
       "      <td>2.6104</td>\n",
       "      <td>2.7498</td>\n",
       "      <td>2.5629</td>\n",
       "      <td>2.6365</td>\n",
       "      <td>6.847583e+07</td>\n",
       "      <td>21023</td>\n",
       "      <td>9.919400e+06</td>\n",
       "      <td>4.798067e+06</td>\n",
       "    </tr>\n",
       "  </tbody>\n",
       "</table>\n",
       "</div>"
      ],
      "text/plain": [
       "  symbol                 time    open    high     low   close    market_cap  \\\n",
       "0  1INCH  2020-12-25 06:00:00  0.2000  3.0885  0.2000  2.5826  6.707592e+07   \n",
       "1  1INCH  2020-12-25 07:00:00  2.5824  2.6900  2.2249  2.5059  6.508385e+07   \n",
       "2  1INCH  2020-12-25 08:00:00  2.5152  2.8870  2.3609  2.6237  6.814338e+07   \n",
       "3  1INCH  2020-12-25 09:00:00  2.6318  2.8247  2.4650  2.6134  6.787587e+07   \n",
       "4  1INCH  2020-12-25 10:00:00  2.6104  2.7498  2.5629  2.6365  6.847583e+07   \n",
       "\n",
       "   n_trades        volume  taker_buy_volume  \n",
       "0     48768  3.553052e+07      1.724763e+07  \n",
       "1     31099  2.244087e+07      9.861481e+06  \n",
       "2     33001  2.130043e+07      1.160785e+07  \n",
       "3     30459  1.749181e+07      9.087566e+06  \n",
       "4     21023  9.919400e+06      4.798067e+06  "
      ]
     },
     "execution_count": 142,
     "metadata": {},
     "output_type": "execute_result"
    }
   ],
   "source": [
    "df1.head()"
   ]
  },
  {
   "cell_type": "code",
   "execution_count": null,
   "id": "87c30e7f",
   "metadata": {
    "id": "87c30e7f"
   },
   "outputs": [],
   "source": [
    "df = df1.copy()"
   ]
  },
  {
   "cell_type": "code",
   "execution_count": null,
   "id": "ccd9793c",
   "metadata": {
    "id": "ccd9793c"
   },
   "outputs": [],
   "source": [
    "df.time = pd.to_datetime(df.time)\n",
    "df['date'] = df.time.apply(lambda x : x.date())\n",
    "\n"
   ]
  },
  {
   "cell_type": "code",
   "execution_count": null,
   "id": "8e339c71",
   "metadata": {
    "id": "8e339c71",
    "outputId": "33c3376f-4b87-4eae-9016-a9c221bb4761"
   },
   "outputs": [
    {
     "data": {
      "text/html": [
       "<div>\n",
       "<style scoped>\n",
       "    .dataframe tbody tr th:only-of-type {\n",
       "        vertical-align: middle;\n",
       "    }\n",
       "\n",
       "    .dataframe tbody tr th {\n",
       "        vertical-align: top;\n",
       "    }\n",
       "\n",
       "    .dataframe thead th {\n",
       "        text-align: right;\n",
       "    }\n",
       "</style>\n",
       "<table border=\"1\" class=\"dataframe\">\n",
       "  <thead>\n",
       "    <tr style=\"text-align: right;\">\n",
       "      <th></th>\n",
       "      <th>symbol</th>\n",
       "      <th>time</th>\n",
       "      <th>open</th>\n",
       "      <th>high</th>\n",
       "      <th>low</th>\n",
       "      <th>close</th>\n",
       "      <th>market_cap</th>\n",
       "      <th>n_trades</th>\n",
       "      <th>volume</th>\n",
       "      <th>taker_buy_volume</th>\n",
       "      <th>date</th>\n",
       "    </tr>\n",
       "  </thead>\n",
       "  <tbody>\n",
       "    <tr>\n",
       "      <th>0</th>\n",
       "      <td>1INCH</td>\n",
       "      <td>2020-12-25 06:00:00</td>\n",
       "      <td>0.2000</td>\n",
       "      <td>3.0885</td>\n",
       "      <td>0.2000</td>\n",
       "      <td>2.5826</td>\n",
       "      <td>6.707592e+07</td>\n",
       "      <td>48768</td>\n",
       "      <td>3.553052e+07</td>\n",
       "      <td>1.724763e+07</td>\n",
       "      <td>2020-12-25</td>\n",
       "    </tr>\n",
       "    <tr>\n",
       "      <th>1</th>\n",
       "      <td>1INCH</td>\n",
       "      <td>2020-12-25 07:00:00</td>\n",
       "      <td>2.5824</td>\n",
       "      <td>2.6900</td>\n",
       "      <td>2.2249</td>\n",
       "      <td>2.5059</td>\n",
       "      <td>6.508385e+07</td>\n",
       "      <td>31099</td>\n",
       "      <td>2.244087e+07</td>\n",
       "      <td>9.861481e+06</td>\n",
       "      <td>2020-12-25</td>\n",
       "    </tr>\n",
       "    <tr>\n",
       "      <th>2</th>\n",
       "      <td>1INCH</td>\n",
       "      <td>2020-12-25 08:00:00</td>\n",
       "      <td>2.5152</td>\n",
       "      <td>2.8870</td>\n",
       "      <td>2.3609</td>\n",
       "      <td>2.6237</td>\n",
       "      <td>6.814338e+07</td>\n",
       "      <td>33001</td>\n",
       "      <td>2.130043e+07</td>\n",
       "      <td>1.160785e+07</td>\n",
       "      <td>2020-12-25</td>\n",
       "    </tr>\n",
       "    <tr>\n",
       "      <th>3</th>\n",
       "      <td>1INCH</td>\n",
       "      <td>2020-12-25 09:00:00</td>\n",
       "      <td>2.6318</td>\n",
       "      <td>2.8247</td>\n",
       "      <td>2.4650</td>\n",
       "      <td>2.6134</td>\n",
       "      <td>6.787587e+07</td>\n",
       "      <td>30459</td>\n",
       "      <td>1.749181e+07</td>\n",
       "      <td>9.087566e+06</td>\n",
       "      <td>2020-12-25</td>\n",
       "    </tr>\n",
       "    <tr>\n",
       "      <th>4</th>\n",
       "      <td>1INCH</td>\n",
       "      <td>2020-12-25 10:00:00</td>\n",
       "      <td>2.6104</td>\n",
       "      <td>2.7498</td>\n",
       "      <td>2.5629</td>\n",
       "      <td>2.6365</td>\n",
       "      <td>6.847583e+07</td>\n",
       "      <td>21023</td>\n",
       "      <td>9.919400e+06</td>\n",
       "      <td>4.798067e+06</td>\n",
       "      <td>2020-12-25</td>\n",
       "    </tr>\n",
       "  </tbody>\n",
       "</table>\n",
       "</div>"
      ],
      "text/plain": [
       "  symbol                time    open    high     low   close    market_cap  \\\n",
       "0  1INCH 2020-12-25 06:00:00  0.2000  3.0885  0.2000  2.5826  6.707592e+07   \n",
       "1  1INCH 2020-12-25 07:00:00  2.5824  2.6900  2.2249  2.5059  6.508385e+07   \n",
       "2  1INCH 2020-12-25 08:00:00  2.5152  2.8870  2.3609  2.6237  6.814338e+07   \n",
       "3  1INCH 2020-12-25 09:00:00  2.6318  2.8247  2.4650  2.6134  6.787587e+07   \n",
       "4  1INCH 2020-12-25 10:00:00  2.6104  2.7498  2.5629  2.6365  6.847583e+07   \n",
       "\n",
       "   n_trades        volume  taker_buy_volume        date  \n",
       "0     48768  3.553052e+07      1.724763e+07  2020-12-25  \n",
       "1     31099  2.244087e+07      9.861481e+06  2020-12-25  \n",
       "2     33001  2.130043e+07      1.160785e+07  2020-12-25  \n",
       "3     30459  1.749181e+07      9.087566e+06  2020-12-25  \n",
       "4     21023  9.919400e+06      4.798067e+06  2020-12-25  "
      ]
     },
     "execution_count": 145,
     "metadata": {},
     "output_type": "execute_result"
    }
   ],
   "source": [
    "df.head()"
   ]
  },
  {
   "cell_type": "code",
   "execution_count": null,
   "id": "fd94c561",
   "metadata": {
    "id": "fd94c561"
   },
   "outputs": [],
   "source": [
    "market = df.groupby(['time']).agg([np.mean,sum]) #[('mean_price', 'mean')]"
   ]
  },
  {
   "cell_type": "code",
   "execution_count": null,
   "id": "b53a5c20",
   "metadata": {
    "id": "b53a5c20",
    "outputId": "71c5bfe1-91db-4b2a-9f7a-e91c46782c93"
   },
   "outputs": [
    {
     "data": {
      "text/html": [
       "<div>\n",
       "<style scoped>\n",
       "    .dataframe tbody tr th:only-of-type {\n",
       "        vertical-align: middle;\n",
       "    }\n",
       "\n",
       "    .dataframe tbody tr th {\n",
       "        vertical-align: top;\n",
       "    }\n",
       "\n",
       "    .dataframe thead tr th {\n",
       "        text-align: left;\n",
       "    }\n",
       "\n",
       "    .dataframe thead tr:last-of-type th {\n",
       "        text-align: right;\n",
       "    }\n",
       "</style>\n",
       "<table border=\"1\" class=\"dataframe\">\n",
       "  <thead>\n",
       "    <tr>\n",
       "      <th></th>\n",
       "      <th colspan=\"2\" halign=\"left\">open</th>\n",
       "      <th colspan=\"2\" halign=\"left\">high</th>\n",
       "      <th colspan=\"2\" halign=\"left\">low</th>\n",
       "      <th colspan=\"2\" halign=\"left\">close</th>\n",
       "      <th colspan=\"2\" halign=\"left\">market_cap</th>\n",
       "      <th colspan=\"2\" halign=\"left\">n_trades</th>\n",
       "      <th colspan=\"2\" halign=\"left\">volume</th>\n",
       "      <th colspan=\"2\" halign=\"left\">taker_buy_volume</th>\n",
       "    </tr>\n",
       "    <tr>\n",
       "      <th></th>\n",
       "      <th>mean</th>\n",
       "      <th>sum</th>\n",
       "      <th>mean</th>\n",
       "      <th>sum</th>\n",
       "      <th>mean</th>\n",
       "      <th>sum</th>\n",
       "      <th>mean</th>\n",
       "      <th>sum</th>\n",
       "      <th>mean</th>\n",
       "      <th>sum</th>\n",
       "      <th>mean</th>\n",
       "      <th>sum</th>\n",
       "      <th>mean</th>\n",
       "      <th>sum</th>\n",
       "      <th>mean</th>\n",
       "      <th>sum</th>\n",
       "    </tr>\n",
       "    <tr>\n",
       "      <th>time</th>\n",
       "      <th></th>\n",
       "      <th></th>\n",
       "      <th></th>\n",
       "      <th></th>\n",
       "      <th></th>\n",
       "      <th></th>\n",
       "      <th></th>\n",
       "      <th></th>\n",
       "      <th></th>\n",
       "      <th></th>\n",
       "      <th></th>\n",
       "      <th></th>\n",
       "      <th></th>\n",
       "      <th></th>\n",
       "      <th></th>\n",
       "      <th></th>\n",
       "    </tr>\n",
       "  </thead>\n",
       "  <tbody>\n",
       "    <tr>\n",
       "      <th>2018-01-01 00:00:00</th>\n",
       "      <td>2956.36658</td>\n",
       "      <td>14781.8329</td>\n",
       "      <td>2956.45818</td>\n",
       "      <td>14782.2909</td>\n",
       "      <td>2947.56258</td>\n",
       "      <td>14737.8129</td>\n",
       "      <td>2951.48260</td>\n",
       "      <td>14757.4130</td>\n",
       "      <td>6.379382e+10</td>\n",
       "      <td>3.189691e+11</td>\n",
       "      <td>35.4</td>\n",
       "      <td>177</td>\n",
       "      <td>1.807455e+04</td>\n",
       "      <td>9.037273e+04</td>\n",
       "      <td>5904.705478</td>\n",
       "      <td>2.952353e+04</td>\n",
       "    </tr>\n",
       "    <tr>\n",
       "      <th>2018-01-01 01:00:00</th>\n",
       "      <td>2951.15036</td>\n",
       "      <td>14755.7518</td>\n",
       "      <td>2951.49596</td>\n",
       "      <td>14757.4798</td>\n",
       "      <td>2883.31720</td>\n",
       "      <td>14416.5860</td>\n",
       "      <td>2911.50618</td>\n",
       "      <td>14557.5309</td>\n",
       "      <td>6.296904e+10</td>\n",
       "      <td>3.148452e+11</td>\n",
       "      <td>2296.6</td>\n",
       "      <td>11483</td>\n",
       "      <td>1.701488e+06</td>\n",
       "      <td>8.507439e+06</td>\n",
       "      <td>886706.868774</td>\n",
       "      <td>4.433534e+06</td>\n",
       "    </tr>\n",
       "    <tr>\n",
       "      <th>2018-01-01 02:00:00</th>\n",
       "      <td>2911.27876</td>\n",
       "      <td>14556.3938</td>\n",
       "      <td>2926.15794</td>\n",
       "      <td>14630.7897</td>\n",
       "      <td>2833.04050</td>\n",
       "      <td>14165.2025</td>\n",
       "      <td>2842.93598</td>\n",
       "      <td>14214.6799</td>\n",
       "      <td>6.160915e+10</td>\n",
       "      <td>3.080457e+11</td>\n",
       "      <td>1898.0</td>\n",
       "      <td>9490</td>\n",
       "      <td>1.533961e+06</td>\n",
       "      <td>7.669806e+06</td>\n",
       "      <td>715775.353549</td>\n",
       "      <td>3.578877e+06</td>\n",
       "    </tr>\n",
       "    <tr>\n",
       "      <th>2018-01-01 03:00:00</th>\n",
       "      <td>2842.87200</td>\n",
       "      <td>14214.3600</td>\n",
       "      <td>2888.83956</td>\n",
       "      <td>14444.1978</td>\n",
       "      <td>2842.20880</td>\n",
       "      <td>14211.0440</td>\n",
       "      <td>2870.61330</td>\n",
       "      <td>14353.0665</td>\n",
       "      <td>6.221356e+10</td>\n",
       "      <td>3.110678e+11</td>\n",
       "      <td>1905.2</td>\n",
       "      <td>9526</td>\n",
       "      <td>1.546455e+06</td>\n",
       "      <td>7.732273e+06</td>\n",
       "      <td>719741.309376</td>\n",
       "      <td>3.598707e+06</td>\n",
       "    </tr>\n",
       "    <tr>\n",
       "      <th>2018-01-01 04:00:00</th>\n",
       "      <td>2870.44144</td>\n",
       "      <td>14352.2072</td>\n",
       "      <td>2930.82552</td>\n",
       "      <td>14654.1276</td>\n",
       "      <td>2861.98864</td>\n",
       "      <td>14309.9432</td>\n",
       "      <td>2889.03782</td>\n",
       "      <td>14445.1891</td>\n",
       "      <td>6.270454e+10</td>\n",
       "      <td>3.135227e+11</td>\n",
       "      <td>2031.4</td>\n",
       "      <td>10157</td>\n",
       "      <td>1.575103e+06</td>\n",
       "      <td>7.875516e+06</td>\n",
       "      <td>606651.881501</td>\n",
       "      <td>3.033259e+06</td>\n",
       "    </tr>\n",
       "  </tbody>\n",
       "</table>\n",
       "</div>"
      ],
      "text/plain": [
       "                           open                    high              \\\n",
       "                           mean         sum        mean         sum   \n",
       "time                                                                  \n",
       "2018-01-01 00:00:00  2956.36658  14781.8329  2956.45818  14782.2909   \n",
       "2018-01-01 01:00:00  2951.15036  14755.7518  2951.49596  14757.4798   \n",
       "2018-01-01 02:00:00  2911.27876  14556.3938  2926.15794  14630.7897   \n",
       "2018-01-01 03:00:00  2842.87200  14214.3600  2888.83956  14444.1978   \n",
       "2018-01-01 04:00:00  2870.44144  14352.2072  2930.82552  14654.1276   \n",
       "\n",
       "                            low                   close              \\\n",
       "                           mean         sum        mean         sum   \n",
       "time                                                                  \n",
       "2018-01-01 00:00:00  2947.56258  14737.8129  2951.48260  14757.4130   \n",
       "2018-01-01 01:00:00  2883.31720  14416.5860  2911.50618  14557.5309   \n",
       "2018-01-01 02:00:00  2833.04050  14165.2025  2842.93598  14214.6799   \n",
       "2018-01-01 03:00:00  2842.20880  14211.0440  2870.61330  14353.0665   \n",
       "2018-01-01 04:00:00  2861.98864  14309.9432  2889.03782  14445.1891   \n",
       "\n",
       "                       market_cap               n_trades               volume  \\\n",
       "                             mean           sum     mean    sum          mean   \n",
       "time                                                                            \n",
       "2018-01-01 00:00:00  6.379382e+10  3.189691e+11     35.4    177  1.807455e+04   \n",
       "2018-01-01 01:00:00  6.296904e+10  3.148452e+11   2296.6  11483  1.701488e+06   \n",
       "2018-01-01 02:00:00  6.160915e+10  3.080457e+11   1898.0   9490  1.533961e+06   \n",
       "2018-01-01 03:00:00  6.221356e+10  3.110678e+11   1905.2   9526  1.546455e+06   \n",
       "2018-01-01 04:00:00  6.270454e+10  3.135227e+11   2031.4  10157  1.575103e+06   \n",
       "\n",
       "                                  taker_buy_volume                \n",
       "                              sum             mean           sum  \n",
       "time                                                              \n",
       "2018-01-01 00:00:00  9.037273e+04      5904.705478  2.952353e+04  \n",
       "2018-01-01 01:00:00  8.507439e+06    886706.868774  4.433534e+06  \n",
       "2018-01-01 02:00:00  7.669806e+06    715775.353549  3.578877e+06  \n",
       "2018-01-01 03:00:00  7.732273e+06    719741.309376  3.598707e+06  \n",
       "2018-01-01 04:00:00  7.875516e+06    606651.881501  3.033259e+06  "
      ]
     },
     "execution_count": 147,
     "metadata": {},
     "output_type": "execute_result"
    }
   ],
   "source": [
    "market.head()"
   ]
  },
  {
   "cell_type": "markdown",
   "id": "b7fe64d0",
   "metadata": {
    "id": "b7fe64d0"
   },
   "source": [
    "Капитализация"
   ]
  },
  {
   "cell_type": "code",
   "execution_count": null,
   "id": "05cebfca",
   "metadata": {
    "id": "05cebfca"
   },
   "outputs": [],
   "source": []
  },
  {
   "cell_type": "code",
   "execution_count": null,
   "id": "ae12113f",
   "metadata": {
    "id": "ae12113f",
    "outputId": "4c03ad89-ab9e-4869-fba1-7b63d49991aa"
   },
   "outputs": [
    {
     "data": {
      "image/png": "[encoded data removed]",
      "text/plain": [
       "<Figure size 864x504 with 1 Axes>"
      ]
     },
     "metadata": {
      "needs_background": "light"
     },
     "output_type": "display_data"
    }
   ],
   "source": [
    "plt.figure(figsize = (12, 7))\n",
    "plt.plot(market.index, market[('market_cap', 'sum')], label = 'sum market')\n",
    "plt.plot(df[df.symbol == 'BTC'].time, df[df.symbol == 'BTC'].market_cap, label = 'sum_BTC')\n",
    "plt.plot(df[~df.symbol.isin(['BTC'])].groupby(['time']).agg([np.mean,sum]).index, df[~df.symbol.isin(['BTC'])].groupby(['time']).agg([np.mean,sum])[('market_cap', 'sum')], label = 'sum market , non BTC')\n",
    "plt.legend()\n",
    "plt.grid()\n",
    "plt.show()"
   ]
  },
  {
   "cell_type": "markdown",
   "id": "878b0b14",
   "metadata": {
    "id": "878b0b14"
   },
   "source": [
    "Кажется видна довольно сильная зависимость суммарной капитализации рынка от биткоина\n"
   ]
  },
  {
   "cell_type": "markdown",
   "id": "2273819b",
   "metadata": {
    "id": "2273819b"
   },
   "source": [
    "Как меняется количество криптовалют"
   ]
  },
  {
   "cell_type": "code",
   "execution_count": null,
   "id": "618a73b0",
   "metadata": {
    "id": "618a73b0",
    "outputId": "5aa45950-c2a4-4608-ffda-8cdd60c77c70"
   },
   "outputs": [
    {
     "data": {
      "text/plain": [
       "time\n",
       "2018-01-01 00:00:00      5\n",
       "2018-01-01 01:00:00      5\n",
       "2018-01-01 02:00:00      5\n",
       "2018-01-01 03:00:00      5\n",
       "2018-01-01 04:00:00      5\n",
       "                      ... \n",
       "2021-05-31 16:00:00    217\n",
       "2021-05-31 17:00:00    217\n",
       "2021-05-31 18:00:00    217\n",
       "2021-05-31 19:00:00    217\n",
       "2021-05-31 20:00:00    217\n",
       "Name: symbol, Length: 29809, dtype: int64"
      ]
     },
     "execution_count": 72,
     "metadata": {},
     "output_type": "execute_result"
    }
   ],
   "source": [
    "symbols_count = df.groupby(['time']).count().symbol\n",
    "symbols_count"
   ]
  },
  {
   "cell_type": "code",
   "execution_count": null,
   "id": "d0c9cddc",
   "metadata": {
    "id": "d0c9cddc",
    "outputId": "4e8ad8ff-c899-43f4-95bb-327811d46a14"
   },
   "outputs": [
    {
     "data": {
      "image/png": "[encoded data removed]",
      "text/plain": [
       "<Figure size 864x504 with 1 Axes>"
      ]
     },
     "metadata": {
      "needs_background": "light"
     },
     "output_type": "display_data"
    }
   ],
   "source": [
    "plt.figure(figsize = (12, 7))\n",
    "plt.plot(symbols_count.index, symbols_count.values, label = 'count symbols')\n",
    "plt.show()"
   ]
  },
  {
   "cell_type": "code",
   "execution_count": null,
   "id": "7ea8d3d2",
   "metadata": {
    "id": "7ea8d3d2"
   },
   "outputs": [],
   "source": []
  },
  {
   "cell_type": "markdown",
   "id": "e28b8595",
   "metadata": {
    "id": "e28b8595"
   },
   "source": [
    "# Данные в ежедневный формат"
   ]
  },
  {
   "cell_type": "code",
   "execution_count": null,
   "id": "af599646",
   "metadata": {
    "id": "af599646"
   },
   "outputs": [],
   "source": [
    "def take_first(x):\n",
    "    return x.values[0]\n",
    "def take_last(x):\n",
    "    return x.values[-1]"
   ]
  },
  {
   "cell_type": "code",
   "execution_count": null,
   "id": "e47a6fca",
   "metadata": {
    "id": "e47a6fca",
    "scrolled": false
   },
   "outputs": [],
   "source": [
    "df_days = df.groupby(['symbol','date']).aggregate({'open': take_first,\n",
    "                                'high': max, \n",
    "                                'low': min,\n",
    "                                'close': take_last,\n",
    "                                'n_trades': sum,\n",
    "                                'market_cap': take_last,\n",
    "                                'volume':sum, \n",
    "                                'taker_buy_volume': sum}).reset_index()"
   ]
  },
  {
   "cell_type": "code",
   "execution_count": null,
   "id": "ff7416ad",
   "metadata": {
    "id": "ff7416ad",
    "scrolled": true
   },
   "outputs": [],
   "source": [
    "df_days.to_csv('df_days.csv', index = False)\n"
   ]
  },
  {
   "cell_type": "code",
   "execution_count": null,
   "id": "cbad933b",
   "metadata": {
    "id": "cbad933b"
   },
   "outputs": [],
   "source": [
    "df_days = pd.read_csv('df_days.csv')\n",
    "df_days.date = pd.to_datetime(df_days.date).apply(lambda x : x.date())"
   ]
  },
  {
   "cell_type": "markdown",
   "id": "3f8cc401",
   "metadata": {
    "id": "3f8cc401"
   },
   "source": [
    "# Добавить таргет (доходность) и средневзвешенный индикатор"
   ]
  },
  {
   "cell_type": "code",
   "execution_count": null,
   "id": "ea0e78c6",
   "metadata": {
    "id": "ea0e78c6"
   },
   "outputs": [],
   "source": [
    "BTC = df_days[df_days.symbol == 'BTC'].copy()"
   ]
  },
  {
   "cell_type": "code",
   "execution_count": null,
   "id": "f3746419",
   "metadata": {
    "id": "f3746419"
   },
   "outputs": [],
   "source": [
    "BTC.index = range(len(BTC))"
   ]
  },
  {
   "cell_type": "code",
   "execution_count": null,
   "id": "b6862890",
   "metadata": {
    "id": "b6862890"
   },
   "outputs": [],
   "source": [
    "def calculate_profitability(X, days_back, price_col, time_col):\n",
    "    X['profitability'] = 0\n",
    "    for i in range(len(X)):\n",
    "        try :\n",
    "            v = X.loc[i, time_col] - timedelta(days = days_back)\n",
    "            X.loc[i, 'profitability'] = X.loc[i, price_col]/X[X[time_col] == v][price_col].values[0] - 1\n",
    "        except :\n",
    "            X.loc[i, 'profitability'] = np.NaN\n",
    "    return X  \n",
    "    "
   ]
  },
  {
   "cell_type": "code",
   "execution_count": null,
   "id": "1278f965",
   "metadata": {
    "id": "1278f965"
   },
   "outputs": [],
   "source": [
    "BTC = calculate_profitability(BTC, 1, 'close', 'date')"
   ]
  },
  {
   "cell_type": "code",
   "execution_count": null,
   "id": "10bf4c3f",
   "metadata": {
    "id": "10bf4c3f"
   },
   "outputs": [],
   "source": [
    "BTC = BTC.dropna()"
   ]
  },
  {
   "cell_type": "code",
   "execution_count": null,
   "id": "784871a7",
   "metadata": {
    "id": "784871a7",
    "outputId": "0db838cd-34cf-49f4-ff22-960a2c6d5884"
   },
   "outputs": [
    {
     "data": {
      "text/html": [
       "<div>\n",
       "<style scoped>\n",
       "    .dataframe tbody tr th:only-of-type {\n",
       "        vertical-align: middle;\n",
       "    }\n",
       "\n",
       "    .dataframe tbody tr th {\n",
       "        vertical-align: top;\n",
       "    }\n",
       "\n",
       "    .dataframe thead th {\n",
       "        text-align: right;\n",
       "    }\n",
       "</style>\n",
       "<table border=\"1\" class=\"dataframe\">\n",
       "  <thead>\n",
       "    <tr style=\"text-align: right;\">\n",
       "      <th></th>\n",
       "      <th>symbol</th>\n",
       "      <th>date</th>\n",
       "      <th>open</th>\n",
       "      <th>high</th>\n",
       "      <th>low</th>\n",
       "      <th>close</th>\n",
       "      <th>n_trades</th>\n",
       "      <th>market_cap</th>\n",
       "      <th>volume</th>\n",
       "      <th>taker_buy_volume</th>\n",
       "      <th>profitability</th>\n",
       "    </tr>\n",
       "  </thead>\n",
       "  <tbody>\n",
       "    <tr>\n",
       "      <th>1</th>\n",
       "      <td>BTC</td>\n",
       "      <td>2018-01-02</td>\n",
       "      <td>13455.24</td>\n",
       "      <td>15473.49</td>\n",
       "      <td>12890.02</td>\n",
       "      <td>14799.96</td>\n",
       "      <td>175934</td>\n",
       "      <td>2.483213e+11</td>\n",
       "      <td>2.730912e+08</td>\n",
       "      <td>1.532587e+08</td>\n",
       "      <td>0.100205</td>\n",
       "    </tr>\n",
       "    <tr>\n",
       "      <th>2</th>\n",
       "      <td>BTC</td>\n",
       "      <td>2018-01-03</td>\n",
       "      <td>14799.97</td>\n",
       "      <td>15307.56</td>\n",
       "      <td>14150.00</td>\n",
       "      <td>14799.91</td>\n",
       "      <td>161970</td>\n",
       "      <td>2.483495e+11</td>\n",
       "      <td>2.377810e+08</td>\n",
       "      <td>1.326372e+08</td>\n",
       "      <td>-0.000003</td>\n",
       "    </tr>\n",
       "    <tr>\n",
       "      <th>3</th>\n",
       "      <td>BTC</td>\n",
       "      <td>2018-01-04</td>\n",
       "      <td>14792.32</td>\n",
       "      <td>15280.00</td>\n",
       "      <td>13918.04</td>\n",
       "      <td>14939.39</td>\n",
       "      <td>170713</td>\n",
       "      <td>2.507211e+11</td>\n",
       "      <td>3.090431e+08</td>\n",
       "      <td>1.846197e+08</td>\n",
       "      <td>0.009424</td>\n",
       "    </tr>\n",
       "    <tr>\n",
       "      <th>4</th>\n",
       "      <td>BTC</td>\n",
       "      <td>2018-01-05</td>\n",
       "      <td>14895.95</td>\n",
       "      <td>17118.13</td>\n",
       "      <td>14600.00</td>\n",
       "      <td>17021.36</td>\n",
       "      <td>190657</td>\n",
       "      <td>2.856922e+11</td>\n",
       "      <td>3.668175e+08</td>\n",
       "      <td>2.118478e+08</td>\n",
       "      <td>0.139361</td>\n",
       "    </tr>\n",
       "    <tr>\n",
       "      <th>5</th>\n",
       "      <td>BTC</td>\n",
       "      <td>2018-01-06</td>\n",
       "      <td>17021.36</td>\n",
       "      <td>17176.24</td>\n",
       "      <td>16011.21</td>\n",
       "      <td>16975.00</td>\n",
       "      <td>161411</td>\n",
       "      <td>2.849489e+11</td>\n",
       "      <td>3.141261e+08</td>\n",
       "      <td>1.854217e+08</td>\n",
       "      <td>-0.002724</td>\n",
       "    </tr>\n",
       "    <tr>\n",
       "      <th>...</th>\n",
       "      <td>...</td>\n",
       "      <td>...</td>\n",
       "      <td>...</td>\n",
       "      <td>...</td>\n",
       "      <td>...</td>\n",
       "      <td>...</td>\n",
       "      <td>...</td>\n",
       "      <td>...</td>\n",
       "      <td>...</td>\n",
       "      <td>...</td>\n",
       "      <td>...</td>\n",
       "    </tr>\n",
       "    <tr>\n",
       "      <th>1242</th>\n",
       "      <td>BTC</td>\n",
       "      <td>2021-05-27</td>\n",
       "      <td>38957.83</td>\n",
       "      <td>40411.14</td>\n",
       "      <td>37134.27</td>\n",
       "      <td>38503.15</td>\n",
       "      <td>2102177</td>\n",
       "      <td>7.207770e+11</td>\n",
       "      <td>3.385201e+09</td>\n",
       "      <td>1.655766e+09</td>\n",
       "      <td>-0.011671</td>\n",
       "    </tr>\n",
       "    <tr>\n",
       "      <th>1243</th>\n",
       "      <td>BTC</td>\n",
       "      <td>2021-05-28</td>\n",
       "      <td>38503.16</td>\n",
       "      <td>38877.83</td>\n",
       "      <td>34684.00</td>\n",
       "      <td>35061.65</td>\n",
       "      <td>2655912</td>\n",
       "      <td>6.563784e+11</td>\n",
       "      <td>4.880786e+09</td>\n",
       "      <td>2.312898e+09</td>\n",
       "      <td>-0.089382</td>\n",
       "    </tr>\n",
       "    <tr>\n",
       "      <th>1244</th>\n",
       "      <td>BTC</td>\n",
       "      <td>2021-05-29</td>\n",
       "      <td>35061.92</td>\n",
       "      <td>37338.58</td>\n",
       "      <td>33632.76</td>\n",
       "      <td>34467.84</td>\n",
       "      <td>2169588</td>\n",
       "      <td>6.452860e+11</td>\n",
       "      <td>3.948359e+09</td>\n",
       "      <td>1.907578e+09</td>\n",
       "      <td>-0.016936</td>\n",
       "    </tr>\n",
       "    <tr>\n",
       "      <th>1245</th>\n",
       "      <td>BTC</td>\n",
       "      <td>2021-05-30</td>\n",
       "      <td>34468.95</td>\n",
       "      <td>36488.00</td>\n",
       "      <td>33379.00</td>\n",
       "      <td>35741.03</td>\n",
       "      <td>1595345</td>\n",
       "      <td>6.691543e+11</td>\n",
       "      <td>2.675985e+09</td>\n",
       "      <td>1.362647e+09</td>\n",
       "      <td>0.036938</td>\n",
       "    </tr>\n",
       "    <tr>\n",
       "      <th>1246</th>\n",
       "      <td>BTC</td>\n",
       "      <td>2021-05-31</td>\n",
       "      <td>35741.03</td>\n",
       "      <td>37457.07</td>\n",
       "      <td>34153.84</td>\n",
       "      <td>36863.67</td>\n",
       "      <td>1680022</td>\n",
       "      <td>6.901992e+11</td>\n",
       "      <td>3.161451e+09</td>\n",
       "      <td>1.550857e+09</td>\n",
       "      <td>0.031410</td>\n",
       "    </tr>\n",
       "  </tbody>\n",
       "</table>\n",
       "<p>1246 rows × 11 columns</p>\n",
       "</div>"
      ],
      "text/plain": [
       "     symbol        date      open      high       low     close  n_trades  \\\n",
       "1       BTC  2018-01-02  13455.24  15473.49  12890.02  14799.96    175934   \n",
       "2       BTC  2018-01-03  14799.97  15307.56  14150.00  14799.91    161970   \n",
       "3       BTC  2018-01-04  14792.32  15280.00  13918.04  14939.39    170713   \n",
       "4       BTC  2018-01-05  14895.95  17118.13  14600.00  17021.36    190657   \n",
       "5       BTC  2018-01-06  17021.36  17176.24  16011.21  16975.00    161411   \n",
       "...     ...         ...       ...       ...       ...       ...       ...   \n",
       "1242    BTC  2021-05-27  38957.83  40411.14  37134.27  38503.15   2102177   \n",
       "1243    BTC  2021-05-28  38503.16  38877.83  34684.00  35061.65   2655912   \n",
       "1244    BTC  2021-05-29  35061.92  37338.58  33632.76  34467.84   2169588   \n",
       "1245    BTC  2021-05-30  34468.95  36488.00  33379.00  35741.03   1595345   \n",
       "1246    BTC  2021-05-31  35741.03  37457.07  34153.84  36863.67   1680022   \n",
       "\n",
       "        market_cap        volume  taker_buy_volume  profitability  \n",
       "1     2.483213e+11  2.730912e+08      1.532587e+08       0.100205  \n",
       "2     2.483495e+11  2.377810e+08      1.326372e+08      -0.000003  \n",
       "3     2.507211e+11  3.090431e+08      1.846197e+08       0.009424  \n",
       "4     2.856922e+11  3.668175e+08      2.118478e+08       0.139361  \n",
       "5     2.849489e+11  3.141261e+08      1.854217e+08      -0.002724  \n",
       "...            ...           ...               ...            ...  \n",
       "1242  7.207770e+11  3.385201e+09      1.655766e+09      -0.011671  \n",
       "1243  6.563784e+11  4.880786e+09      2.312898e+09      -0.089382  \n",
       "1244  6.452860e+11  3.948359e+09      1.907578e+09      -0.016936  \n",
       "1245  6.691543e+11  2.675985e+09      1.362647e+09       0.036938  \n",
       "1246  6.901992e+11  3.161451e+09      1.550857e+09       0.031410  \n",
       "\n",
       "[1246 rows x 11 columns]"
      ]
     },
     "execution_count": 29,
     "metadata": {},
     "output_type": "execute_result"
    }
   ],
   "source": [
    "BTC"
   ]
  },
  {
   "cell_type": "code",
   "execution_count": null,
   "id": "2df3c584",
   "metadata": {
    "id": "2df3c584",
    "outputId": "84de81fd-2ea2-4df1-c9de-e58cb0ad6bd3"
   },
   "outputs": [
    {
     "data": {
      "image/png": "[encoded data removed]",
      "text/plain": [
       "<Figure size 864x504 with 1 Axes>"
      ]
     },
     "metadata": {
      "needs_background": "light"
     },
     "output_type": "display_data"
    }
   ],
   "source": [
    "plt.figure(figsize = (12, 7))\n",
    "plt.plot(BTC.date, BTC.profitability, label = 'profitabilty')\n",
    "plt.grid()\n",
    "plt.legend()\n",
    "plt.show()"
   ]
  },
  {
   "cell_type": "markdown",
   "id": "5672c25f",
   "metadata": {
    "id": "5672c25f"
   },
   "source": [
    "Для всех данных"
   ]
  },
  {
   "cell_type": "code",
   "execution_count": null,
   "id": "53d630b3",
   "metadata": {
    "id": "53d630b3",
    "outputId": "034eb544-9668-4fa5-bbd7-18976eddd9a2"
   },
   "outputs": [
    {
     "name": "stderr",
     "output_type": "stream",
     "text": [
      "100%|████████████████████████████████████████████████████████████████████████████████| 217/217 [02:21<00:00,  1.53it/s]\n"
     ]
    }
   ],
   "source": [
    "data = pd.DataFrame()\n",
    "for i in tqdm(df_days.symbol.unique()):\n",
    "    data_s = df_days[df_days.symbol == i].copy()\n",
    "    data_s.index = range(len(data_s))\n",
    "    data_s = calculate_profitability(data_s, 1, 'close', 'date')\n",
    "    data_s = data_s.dropna()\n",
    "    data = pd.concat([data, data_s])\n",
    "data.reset_index(drop = True, inplace = True)"
   ]
  },
  {
   "cell_type": "code",
   "execution_count": null,
   "id": "5d23ea8b",
   "metadata": {
    "id": "5d23ea8b"
   },
   "outputs": [],
   "source": [
    "data.to_csv('data.csv', index = False)"
   ]
  },
  {
   "cell_type": "code",
   "execution_count": null,
   "id": "fdd27dd7",
   "metadata": {
    "id": "fdd27dd7"
   },
   "outputs": [],
   "source": [
    "data = pd.read_csv('data.csv')\n",
    "data.date = pd.to_datetime(data.date)"
   ]
  },
  {
   "cell_type": "code",
   "execution_count": null,
   "id": "3abe9094",
   "metadata": {
    "id": "3abe9094",
    "outputId": "72bae1c8-8827-4673-da79-61defaac84dc"
   },
   "outputs": [
    {
     "data": {
      "text/html": [
       "<div>\n",
       "<style scoped>\n",
       "    .dataframe tbody tr th:only-of-type {\n",
       "        vertical-align: middle;\n",
       "    }\n",
       "\n",
       "    .dataframe tbody tr th {\n",
       "        vertical-align: top;\n",
       "    }\n",
       "\n",
       "    .dataframe thead th {\n",
       "        text-align: right;\n",
       "    }\n",
       "</style>\n",
       "<table border=\"1\" class=\"dataframe\">\n",
       "  <thead>\n",
       "    <tr style=\"text-align: right;\">\n",
       "      <th></th>\n",
       "      <th>symbol</th>\n",
       "      <th>date</th>\n",
       "      <th>open</th>\n",
       "      <th>high</th>\n",
       "      <th>low</th>\n",
       "      <th>close</th>\n",
       "      <th>n_trades</th>\n",
       "      <th>market_cap</th>\n",
       "      <th>volume</th>\n",
       "      <th>taker_buy_volume</th>\n",
       "      <th>profitability</th>\n",
       "    </tr>\n",
       "  </thead>\n",
       "  <tbody>\n",
       "    <tr>\n",
       "      <th>0</th>\n",
       "      <td>1INCH</td>\n",
       "      <td>2020-12-26</td>\n",
       "      <td>2.1936</td>\n",
       "      <td>2.4609</td>\n",
       "      <td>1.5717</td>\n",
       "      <td>1.6221</td>\n",
       "      <td>314848</td>\n",
       "      <td>4.212958e+07</td>\n",
       "      <td>1.132451e+08</td>\n",
       "      <td>5.393879e+07</td>\n",
       "      <td>-0.260531</td>\n",
       "    </tr>\n",
       "    <tr>\n",
       "      <th>1</th>\n",
       "      <td>1INCH</td>\n",
       "      <td>2020-12-27</td>\n",
       "      <td>1.6206</td>\n",
       "      <td>1.6668</td>\n",
       "      <td>1.0360</td>\n",
       "      <td>1.1001</td>\n",
       "      <td>301197</td>\n",
       "      <td>2.857207e+07</td>\n",
       "      <td>9.892812e+07</td>\n",
       "      <td>4.747393e+07</td>\n",
       "      <td>-0.321805</td>\n",
       "    </tr>\n",
       "    <tr>\n",
       "      <th>2</th>\n",
       "      <td>1INCH</td>\n",
       "      <td>2020-12-28</td>\n",
       "      <td>1.1019</td>\n",
       "      <td>1.2787</td>\n",
       "      <td>1.0353</td>\n",
       "      <td>1.0906</td>\n",
       "      <td>157507</td>\n",
       "      <td>7.870224e+07</td>\n",
       "      <td>4.796362e+07</td>\n",
       "      <td>2.439249e+07</td>\n",
       "      <td>-0.008636</td>\n",
       "    </tr>\n",
       "    <tr>\n",
       "      <th>3</th>\n",
       "      <td>1INCH</td>\n",
       "      <td>2020-12-29</td>\n",
       "      <td>1.0889</td>\n",
       "      <td>1.1344</td>\n",
       "      <td>0.7541</td>\n",
       "      <td>0.8852</td>\n",
       "      <td>164635</td>\n",
       "      <td>6.387972e+07</td>\n",
       "      <td>4.745768e+07</td>\n",
       "      <td>2.154755e+07</td>\n",
       "      <td>-0.188337</td>\n",
       "    </tr>\n",
       "    <tr>\n",
       "      <th>4</th>\n",
       "      <td>1INCH</td>\n",
       "      <td>2020-12-30</td>\n",
       "      <td>0.8848</td>\n",
       "      <td>1.2574</td>\n",
       "      <td>0.8702</td>\n",
       "      <td>1.0755</td>\n",
       "      <td>206257</td>\n",
       "      <td>7.761256e+07</td>\n",
       "      <td>6.186171e+07</td>\n",
       "      <td>3.158955e+07</td>\n",
       "      <td>0.214980</td>\n",
       "    </tr>\n",
       "  </tbody>\n",
       "</table>\n",
       "</div>"
      ],
      "text/plain": [
       "  symbol       date    open    high     low   close  n_trades    market_cap  \\\n",
       "0  1INCH 2020-12-26  2.1936  2.4609  1.5717  1.6221    314848  4.212958e+07   \n",
       "1  1INCH 2020-12-27  1.6206  1.6668  1.0360  1.1001    301197  2.857207e+07   \n",
       "2  1INCH 2020-12-28  1.1019  1.2787  1.0353  1.0906    157507  7.870224e+07   \n",
       "3  1INCH 2020-12-29  1.0889  1.1344  0.7541  0.8852    164635  6.387972e+07   \n",
       "4  1INCH 2020-12-30  0.8848  1.2574  0.8702  1.0755    206257  7.761256e+07   \n",
       "\n",
       "         volume  taker_buy_volume  profitability  \n",
       "0  1.132451e+08      5.393879e+07      -0.260531  \n",
       "1  9.892812e+07      4.747393e+07      -0.321805  \n",
       "2  4.796362e+07      2.439249e+07      -0.008636  \n",
       "3  4.745768e+07      2.154755e+07      -0.188337  \n",
       "4  6.186171e+07      3.158955e+07       0.214980  "
      ]
     },
     "execution_count": 197,
     "metadata": {},
     "output_type": "execute_result"
    }
   ],
   "source": [
    "data.head()"
   ]
  },
  {
   "cell_type": "code",
   "execution_count": null,
   "id": "ed179d10",
   "metadata": {
    "id": "ed179d10",
    "outputId": "4597fbb7-cd7c-4ac4-e785-90d4f0a99372"
   },
   "outputs": [
    {
     "name": "stdout",
     "output_type": "stream",
     "text": [
      "<class 'pandas.core.frame.DataFrame'>\n",
      "RangeIndex: 92871 entries, 0 to 92870\n",
      "Data columns (total 11 columns):\n",
      " #   Column            Non-Null Count  Dtype  \n",
      "---  ------            --------------  -----  \n",
      " 0   symbol            92871 non-null  object \n",
      " 1   date              92871 non-null  object \n",
      " 2   open              92871 non-null  float64\n",
      " 3   high              92871 non-null  float64\n",
      " 4   low               92871 non-null  float64\n",
      " 5   close             92871 non-null  float64\n",
      " 6   n_trades          92871 non-null  int64  \n",
      " 7   market_cap        92871 non-null  float64\n",
      " 8   volume            92871 non-null  float64\n",
      " 9   taker_buy_volume  92871 non-null  float64\n",
      " 10  profitability     92871 non-null  float64\n",
      "dtypes: float64(8), int64(1), object(2)\n",
      "memory usage: 7.8+ MB\n"
     ]
    }
   ],
   "source": [
    "data.info()"
   ]
  },
  {
   "cell_type": "code",
   "execution_count": null,
   "id": "6030c023",
   "metadata": {
    "id": "6030c023",
    "outputId": "a657a057-b828-4af9-835f-c8262f99c3b4"
   },
   "outputs": [
    {
     "data": {
      "text/html": [
       "<div>\n",
       "<style scoped>\n",
       "    .dataframe tbody tr th:only-of-type {\n",
       "        vertical-align: middle;\n",
       "    }\n",
       "\n",
       "    .dataframe tbody tr th {\n",
       "        vertical-align: top;\n",
       "    }\n",
       "\n",
       "    .dataframe thead th {\n",
       "        text-align: right;\n",
       "    }\n",
       "</style>\n",
       "<table border=\"1\" class=\"dataframe\">\n",
       "  <thead>\n",
       "    <tr style=\"text-align: right;\">\n",
       "      <th></th>\n",
       "      <th>symbol</th>\n",
       "      <th>date</th>\n",
       "      <th>open</th>\n",
       "      <th>high</th>\n",
       "      <th>low</th>\n",
       "      <th>close</th>\n",
       "      <th>n_trades</th>\n",
       "      <th>market_cap</th>\n",
       "      <th>volume</th>\n",
       "      <th>taker_buy_volume</th>\n",
       "      <th>profitability</th>\n",
       "    </tr>\n",
       "  </thead>\n",
       "  <tbody>\n",
       "    <tr>\n",
       "      <th>0</th>\n",
       "      <td>1INCH</td>\n",
       "      <td>2020-12-26</td>\n",
       "      <td>2.1936</td>\n",
       "      <td>2.4609</td>\n",
       "      <td>1.5717</td>\n",
       "      <td>1.6221</td>\n",
       "      <td>314848</td>\n",
       "      <td>4.212958e+07</td>\n",
       "      <td>1.132451e+08</td>\n",
       "      <td>5.393879e+07</td>\n",
       "      <td>-0.260531</td>\n",
       "    </tr>\n",
       "    <tr>\n",
       "      <th>1</th>\n",
       "      <td>1INCH</td>\n",
       "      <td>2020-12-27</td>\n",
       "      <td>1.6206</td>\n",
       "      <td>1.6668</td>\n",
       "      <td>1.0360</td>\n",
       "      <td>1.1001</td>\n",
       "      <td>301197</td>\n",
       "      <td>2.857207e+07</td>\n",
       "      <td>9.892812e+07</td>\n",
       "      <td>4.747393e+07</td>\n",
       "      <td>-0.321805</td>\n",
       "    </tr>\n",
       "    <tr>\n",
       "      <th>2</th>\n",
       "      <td>1INCH</td>\n",
       "      <td>2020-12-28</td>\n",
       "      <td>1.1019</td>\n",
       "      <td>1.2787</td>\n",
       "      <td>1.0353</td>\n",
       "      <td>1.0906</td>\n",
       "      <td>157507</td>\n",
       "      <td>7.870224e+07</td>\n",
       "      <td>4.796362e+07</td>\n",
       "      <td>2.439249e+07</td>\n",
       "      <td>-0.008636</td>\n",
       "    </tr>\n",
       "    <tr>\n",
       "      <th>3</th>\n",
       "      <td>1INCH</td>\n",
       "      <td>2020-12-29</td>\n",
       "      <td>1.0889</td>\n",
       "      <td>1.1344</td>\n",
       "      <td>0.7541</td>\n",
       "      <td>0.8852</td>\n",
       "      <td>164635</td>\n",
       "      <td>6.387972e+07</td>\n",
       "      <td>4.745768e+07</td>\n",
       "      <td>2.154755e+07</td>\n",
       "      <td>-0.188337</td>\n",
       "    </tr>\n",
       "    <tr>\n",
       "      <th>4</th>\n",
       "      <td>1INCH</td>\n",
       "      <td>2020-12-30</td>\n",
       "      <td>0.8848</td>\n",
       "      <td>1.2574</td>\n",
       "      <td>0.8702</td>\n",
       "      <td>1.0755</td>\n",
       "      <td>206257</td>\n",
       "      <td>7.761256e+07</td>\n",
       "      <td>6.186171e+07</td>\n",
       "      <td>3.158955e+07</td>\n",
       "      <td>0.214980</td>\n",
       "    </tr>\n",
       "    <tr>\n",
       "      <th>...</th>\n",
       "      <td>...</td>\n",
       "      <td>...</td>\n",
       "      <td>...</td>\n",
       "      <td>...</td>\n",
       "      <td>...</td>\n",
       "      <td>...</td>\n",
       "      <td>...</td>\n",
       "      <td>...</td>\n",
       "      <td>...</td>\n",
       "      <td>...</td>\n",
       "      <td>...</td>\n",
       "    </tr>\n",
       "    <tr>\n",
       "      <th>92866</th>\n",
       "      <td>ZRX</td>\n",
       "      <td>2021-05-27</td>\n",
       "      <td>1.1324</td>\n",
       "      <td>1.1888</td>\n",
       "      <td>1.0225</td>\n",
       "      <td>1.1076</td>\n",
       "      <td>36198</td>\n",
       "      <td>9.325120e+08</td>\n",
       "      <td>1.049805e+07</td>\n",
       "      <td>5.423639e+06</td>\n",
       "      <td>-0.021036</td>\n",
       "    </tr>\n",
       "    <tr>\n",
       "      <th>92867</th>\n",
       "      <td>ZRX</td>\n",
       "      <td>2021-05-28</td>\n",
       "      <td>1.1078</td>\n",
       "      <td>1.1243</td>\n",
       "      <td>0.9245</td>\n",
       "      <td>0.9421</td>\n",
       "      <td>43691</td>\n",
       "      <td>7.931740e+08</td>\n",
       "      <td>1.264365e+07</td>\n",
       "      <td>6.685530e+06</td>\n",
       "      <td>-0.149422</td>\n",
       "    </tr>\n",
       "    <tr>\n",
       "      <th>92868</th>\n",
       "      <td>ZRX</td>\n",
       "      <td>2021-05-29</td>\n",
       "      <td>0.9420</td>\n",
       "      <td>1.0089</td>\n",
       "      <td>0.8432</td>\n",
       "      <td>0.8922</td>\n",
       "      <td>27272</td>\n",
       "      <td>7.511621e+08</td>\n",
       "      <td>6.976375e+06</td>\n",
       "      <td>3.629081e+06</td>\n",
       "      <td>-0.052967</td>\n",
       "    </tr>\n",
       "    <tr>\n",
       "      <th>92869</th>\n",
       "      <td>ZRX</td>\n",
       "      <td>2021-05-30</td>\n",
       "      <td>0.8905</td>\n",
       "      <td>0.9909</td>\n",
       "      <td>0.8421</td>\n",
       "      <td>0.9444</td>\n",
       "      <td>22351</td>\n",
       "      <td>7.951104e+08</td>\n",
       "      <td>5.166297e+06</td>\n",
       "      <td>2.636999e+06</td>\n",
       "      <td>0.058507</td>\n",
       "    </tr>\n",
       "    <tr>\n",
       "      <th>92870</th>\n",
       "      <td>ZRX</td>\n",
       "      <td>2021-05-31</td>\n",
       "      <td>0.9431</td>\n",
       "      <td>1.0200</td>\n",
       "      <td>0.8874</td>\n",
       "      <td>0.9988</td>\n",
       "      <td>16946</td>\n",
       "      <td>8.409109e+08</td>\n",
       "      <td>4.634872e+06</td>\n",
       "      <td>2.241551e+06</td>\n",
       "      <td>0.057603</td>\n",
       "    </tr>\n",
       "  </tbody>\n",
       "</table>\n",
       "<p>92871 rows × 11 columns</p>\n",
       "</div>"
      ],
      "text/plain": [
       "      symbol        date    open    high     low   close  n_trades  \\\n",
       "0      1INCH  2020-12-26  2.1936  2.4609  1.5717  1.6221    314848   \n",
       "1      1INCH  2020-12-27  1.6206  1.6668  1.0360  1.1001    301197   \n",
       "2      1INCH  2020-12-28  1.1019  1.2787  1.0353  1.0906    157507   \n",
       "3      1INCH  2020-12-29  1.0889  1.1344  0.7541  0.8852    164635   \n",
       "4      1INCH  2020-12-30  0.8848  1.2574  0.8702  1.0755    206257   \n",
       "...      ...         ...     ...     ...     ...     ...       ...   \n",
       "92866    ZRX  2021-05-27  1.1324  1.1888  1.0225  1.1076     36198   \n",
       "92867    ZRX  2021-05-28  1.1078  1.1243  0.9245  0.9421     43691   \n",
       "92868    ZRX  2021-05-29  0.9420  1.0089  0.8432  0.8922     27272   \n",
       "92869    ZRX  2021-05-30  0.8905  0.9909  0.8421  0.9444     22351   \n",
       "92870    ZRX  2021-05-31  0.9431  1.0200  0.8874  0.9988     16946   \n",
       "\n",
       "         market_cap        volume  taker_buy_volume  profitability  \n",
       "0      4.212958e+07  1.132451e+08      5.393879e+07      -0.260531  \n",
       "1      2.857207e+07  9.892812e+07      4.747393e+07      -0.321805  \n",
       "2      7.870224e+07  4.796362e+07      2.439249e+07      -0.008636  \n",
       "3      6.387972e+07  4.745768e+07      2.154755e+07      -0.188337  \n",
       "4      7.761256e+07  6.186171e+07      3.158955e+07       0.214980  \n",
       "...             ...           ...               ...            ...  \n",
       "92866  9.325120e+08  1.049805e+07      5.423639e+06      -0.021036  \n",
       "92867  7.931740e+08  1.264365e+07      6.685530e+06      -0.149422  \n",
       "92868  7.511621e+08  6.976375e+06      3.629081e+06      -0.052967  \n",
       "92869  7.951104e+08  5.166297e+06      2.636999e+06       0.058507  \n",
       "92870  8.409109e+08  4.634872e+06      2.241551e+06       0.057603  \n",
       "\n",
       "[92871 rows x 11 columns]"
      ]
     },
     "execution_count": 36,
     "metadata": {},
     "output_type": "execute_result"
    }
   ],
   "source": [
    "data"
   ]
  },
  {
   "cell_type": "code",
   "execution_count": null,
   "id": "ac0d3c20",
   "metadata": {
    "id": "ac0d3c20",
    "outputId": "aedd081a-0121-4eb5-b903-108044a3038b"
   },
   "outputs": [
    {
     "data": {
      "text/plain": [
       "1246"
      ]
     },
     "execution_count": 70,
     "metadata": {},
     "output_type": "execute_result"
    }
   ],
   "source": [
    "data.date.nunique()"
   ]
  },
  {
   "cell_type": "markdown",
   "id": "141ec709",
   "metadata": {
    "id": "141ec709"
   },
   "source": [
    "Добавление индикатора"
   ]
  },
  {
   "cell_type": "code",
   "execution_count": null,
   "id": "983903c8",
   "metadata": {
    "id": "983903c8",
    "outputId": "d76388da-a194-49de-a696-455bfef6eb3d"
   },
   "outputs": [
    {
     "data": {
      "text/html": [
       "<div>\n",
       "<style scoped>\n",
       "    .dataframe tbody tr th:only-of-type {\n",
       "        vertical-align: middle;\n",
       "    }\n",
       "\n",
       "    .dataframe tbody tr th {\n",
       "        vertical-align: top;\n",
       "    }\n",
       "\n",
       "    .dataframe thead th {\n",
       "        text-align: right;\n",
       "    }\n",
       "</style>\n",
       "<table border=\"1\" class=\"dataframe\">\n",
       "  <thead>\n",
       "    <tr style=\"text-align: right;\">\n",
       "      <th></th>\n",
       "      <th>date</th>\n",
       "      <th>profit_ind_1</th>\n",
       "    </tr>\n",
       "  </thead>\n",
       "  <tbody>\n",
       "    <tr>\n",
       "      <th>0</th>\n",
       "      <td>2018-01-02</td>\n",
       "      <td>0.116414</td>\n",
       "    </tr>\n",
       "    <tr>\n",
       "      <th>1</th>\n",
       "      <td>2018-01-03</td>\n",
       "      <td>0.041759</td>\n",
       "    </tr>\n",
       "    <tr>\n",
       "      <th>2</th>\n",
       "      <td>2018-01-04</td>\n",
       "      <td>-0.011997</td>\n",
       "    </tr>\n",
       "    <tr>\n",
       "      <th>3</th>\n",
       "      <td>2018-01-05</td>\n",
       "      <td>0.168658</td>\n",
       "    </tr>\n",
       "    <tr>\n",
       "      <th>4</th>\n",
       "      <td>2018-01-06</td>\n",
       "      <td>0.140414</td>\n",
       "    </tr>\n",
       "    <tr>\n",
       "      <th>...</th>\n",
       "      <td>...</td>\n",
       "      <td>...</td>\n",
       "    </tr>\n",
       "    <tr>\n",
       "      <th>1241</th>\n",
       "      <td>2021-05-27</td>\n",
       "      <td>-0.014967</td>\n",
       "    </tr>\n",
       "    <tr>\n",
       "      <th>1242</th>\n",
       "      <td>2021-05-28</td>\n",
       "      <td>-0.134624</td>\n",
       "    </tr>\n",
       "    <tr>\n",
       "      <th>1243</th>\n",
       "      <td>2021-05-29</td>\n",
       "      <td>-0.037431</td>\n",
       "    </tr>\n",
       "    <tr>\n",
       "      <th>1244</th>\n",
       "      <td>2021-05-30</td>\n",
       "      <td>0.063033</td>\n",
       "    </tr>\n",
       "    <tr>\n",
       "      <th>1245</th>\n",
       "      <td>2021-05-31</td>\n",
       "      <td>0.051669</td>\n",
       "    </tr>\n",
       "  </tbody>\n",
       "</table>\n",
       "<p>1246 rows × 2 columns</p>\n",
       "</div>"
      ],
      "text/plain": [
       "           date  profit_ind_1\n",
       "0    2018-01-02      0.116414\n",
       "1    2018-01-03      0.041759\n",
       "2    2018-01-04     -0.011997\n",
       "3    2018-01-05      0.168658\n",
       "4    2018-01-06      0.140414\n",
       "...         ...           ...\n",
       "1241 2021-05-27     -0.014967\n",
       "1242 2021-05-28     -0.134624\n",
       "1243 2021-05-29     -0.037431\n",
       "1244 2021-05-30      0.063033\n",
       "1245 2021-05-31      0.051669\n",
       "\n",
       "[1246 rows x 2 columns]"
      ]
     },
     "execution_count": 198,
     "metadata": {},
     "output_type": "execute_result"
    }
   ],
   "source": [
    "# средневзвешенный \n",
    "ind_1 = data.groupby('date').mean().reset_index()[['date', 'profitability']]\n",
    "ind_1.columns = ['date', 'profit_ind_1']\n",
    "ind_1"
   ]
  },
  {
   "cell_type": "code",
   "execution_count": null,
   "id": "8c82eacf",
   "metadata": {
    "id": "8c82eacf",
    "outputId": "73205a93-f164-4824-930a-931d38cefe9b"
   },
   "outputs": [
    {
     "data": {
      "text/html": [
       "<div>\n",
       "<style scoped>\n",
       "    .dataframe tbody tr th:only-of-type {\n",
       "        vertical-align: middle;\n",
       "    }\n",
       "\n",
       "    .dataframe tbody tr th {\n",
       "        vertical-align: top;\n",
       "    }\n",
       "\n",
       "    .dataframe thead th {\n",
       "        text-align: right;\n",
       "    }\n",
       "</style>\n",
       "<table border=\"1\" class=\"dataframe\">\n",
       "  <thead>\n",
       "    <tr style=\"text-align: right;\">\n",
       "      <th></th>\n",
       "      <th>symbol</th>\n",
       "      <th>date</th>\n",
       "      <th>open</th>\n",
       "      <th>high</th>\n",
       "      <th>low</th>\n",
       "      <th>close</th>\n",
       "      <th>n_trades</th>\n",
       "      <th>market_cap</th>\n",
       "      <th>volume</th>\n",
       "      <th>taker_buy_volume</th>\n",
       "      <th>profitability</th>\n",
       "      <th>profit_ind_1</th>\n",
       "    </tr>\n",
       "  </thead>\n",
       "  <tbody>\n",
       "    <tr>\n",
       "      <th>0</th>\n",
       "      <td>1INCH</td>\n",
       "      <td>2020-12-26</td>\n",
       "      <td>2.1936</td>\n",
       "      <td>2.4609</td>\n",
       "      <td>1.5717</td>\n",
       "      <td>1.6221</td>\n",
       "      <td>314848</td>\n",
       "      <td>4.212958e+07</td>\n",
       "      <td>1.132451e+08</td>\n",
       "      <td>5.393879e+07</td>\n",
       "      <td>-0.260531</td>\n",
       "      <td>0.010188</td>\n",
       "    </tr>\n",
       "    <tr>\n",
       "      <th>1</th>\n",
       "      <td>1INCH</td>\n",
       "      <td>2020-12-27</td>\n",
       "      <td>1.6206</td>\n",
       "      <td>1.6668</td>\n",
       "      <td>1.0360</td>\n",
       "      <td>1.1001</td>\n",
       "      <td>301197</td>\n",
       "      <td>2.857207e+07</td>\n",
       "      <td>9.892812e+07</td>\n",
       "      <td>4.747393e+07</td>\n",
       "      <td>-0.321805</td>\n",
       "      <td>0.024765</td>\n",
       "    </tr>\n",
       "    <tr>\n",
       "      <th>2</th>\n",
       "      <td>1INCH</td>\n",
       "      <td>2020-12-28</td>\n",
       "      <td>1.1019</td>\n",
       "      <td>1.2787</td>\n",
       "      <td>1.0353</td>\n",
       "      <td>1.0906</td>\n",
       "      <td>157507</td>\n",
       "      <td>7.870224e+07</td>\n",
       "      <td>4.796362e+07</td>\n",
       "      <td>2.439249e+07</td>\n",
       "      <td>-0.008636</td>\n",
       "      <td>0.019655</td>\n",
       "    </tr>\n",
       "    <tr>\n",
       "      <th>3</th>\n",
       "      <td>1INCH</td>\n",
       "      <td>2020-12-29</td>\n",
       "      <td>1.0889</td>\n",
       "      <td>1.1344</td>\n",
       "      <td>0.7541</td>\n",
       "      <td>0.8852</td>\n",
       "      <td>164635</td>\n",
       "      <td>6.387972e+07</td>\n",
       "      <td>4.745768e+07</td>\n",
       "      <td>2.154755e+07</td>\n",
       "      <td>-0.188337</td>\n",
       "      <td>-0.027361</td>\n",
       "    </tr>\n",
       "    <tr>\n",
       "      <th>4</th>\n",
       "      <td>1INCH</td>\n",
       "      <td>2020-12-30</td>\n",
       "      <td>0.8848</td>\n",
       "      <td>1.2574</td>\n",
       "      <td>0.8702</td>\n",
       "      <td>1.0755</td>\n",
       "      <td>206257</td>\n",
       "      <td>7.761256e+07</td>\n",
       "      <td>6.186171e+07</td>\n",
       "      <td>3.158955e+07</td>\n",
       "      <td>0.214980</td>\n",
       "      <td>-0.002791</td>\n",
       "    </tr>\n",
       "  </tbody>\n",
       "</table>\n",
       "</div>"
      ],
      "text/plain": [
       "  symbol       date    open    high     low   close  n_trades    market_cap  \\\n",
       "0  1INCH 2020-12-26  2.1936  2.4609  1.5717  1.6221    314848  4.212958e+07   \n",
       "1  1INCH 2020-12-27  1.6206  1.6668  1.0360  1.1001    301197  2.857207e+07   \n",
       "2  1INCH 2020-12-28  1.1019  1.2787  1.0353  1.0906    157507  7.870224e+07   \n",
       "3  1INCH 2020-12-29  1.0889  1.1344  0.7541  0.8852    164635  6.387972e+07   \n",
       "4  1INCH 2020-12-30  0.8848  1.2574  0.8702  1.0755    206257  7.761256e+07   \n",
       "\n",
       "         volume  taker_buy_volume  profitability  profit_ind_1  \n",
       "0  1.132451e+08      5.393879e+07      -0.260531      0.010188  \n",
       "1  9.892812e+07      4.747393e+07      -0.321805      0.024765  \n",
       "2  4.796362e+07      2.439249e+07      -0.008636      0.019655  \n",
       "3  4.745768e+07      2.154755e+07      -0.188337     -0.027361  \n",
       "4  6.186171e+07      3.158955e+07       0.214980     -0.002791  "
      ]
     },
     "execution_count": 199,
     "metadata": {},
     "output_type": "execute_result"
    }
   ],
   "source": [
    "data = data.merge(ind_1,on = 'date', how = 'right')\n",
    "data = data.sort_values(['symbol', 'date']).reset_index(drop = True)\n",
    "data.head()"
   ]
  },
  {
   "cell_type": "code",
   "execution_count": null,
   "id": "72435fe3",
   "metadata": {
    "id": "72435fe3"
   },
   "outputs": [],
   "source": []
  },
  {
   "cell_type": "code",
   "execution_count": null,
   "id": "02fed520",
   "metadata": {
    "id": "02fed520"
   },
   "outputs": [],
   "source": [
    "from sklearn.metrics import r2_score"
   ]
  },
  {
   "cell_type": "code",
   "execution_count": null,
   "id": "ec560912",
   "metadata": {
    "id": "ec560912"
   },
   "outputs": [],
   "source": [
    "r2_scores = [(i, r2_score(data[data.symbol == i].profit_ind_1, data[data.symbol == i].profitability)) for i in data.symbol.unique()] #.sort(key=lambda x:x[1])"
   ]
  },
  {
   "cell_type": "code",
   "execution_count": null,
   "id": "759f590b",
   "metadata": {
    "id": "759f590b",
    "outputId": "5aa6bf87-7282-48f2-91c5-b199fb46d5b4"
   },
   "outputs": [
    {
     "data": {
      "text/plain": [
       "[('AR', 0.826469276775929),\n",
       " ('POLS', 0.8123926818540375),\n",
       " ('ETH', 0.6979030499007212),\n",
       " ('BTC', 0.6291410931062196),\n",
       " ('LTC', 0.6051908586286134),\n",
       " ('FTT', 0.5628504893218675),\n",
       " ('IOTA', 0.5330991883107394),\n",
       " ('NEO', 0.5253181894572585),\n",
       " ('BTG', 0.5156096755500457),\n",
       " ('PUNDIX', 0.5090043464592897)]"
      ]
     },
     "execution_count": 202,
     "metadata": {},
     "output_type": "execute_result"
    }
   ],
   "source": [
    "sorted(r2_scores, key=lambda tup: tup[1], reverse=True)[:10]"
   ]
  },
  {
   "cell_type": "code",
   "execution_count": null,
   "id": "aaa07af2",
   "metadata": {
    "id": "aaa07af2",
    "outputId": "6ad579bf-f149-4348-9fd9-d819ce8e9deb"
   },
   "outputs": [
    {
     "data": {
      "image/png": "[encoded data removed]",
      "text/plain": [
       "<Figure size 864x504 with 1 Axes>"
      ]
     },
     "metadata": {
      "needs_background": "light"
     },
     "output_type": "display_data"
    }
   ],
   "source": [
    "plt.figure(figsize = (12, 7))\n",
    "plt.plot(data[data.symbol == 'BTC'].date, data[data.symbol == 'BTC'].profitability, label = 'profitabilty AR')\n",
    "plt.plot(data[data.symbol == 'AR'].date, data[data.symbol == 'AR'].profitability, label = 'profitabilty AR')\n",
    "plt.plot(data[data.symbol == 'POLS'].date, data[data.symbol == 'POLS'].profitability, label = 'profitabilty POLS')\n",
    "plt.plot(data[data.symbol == 'ETC'].date, data[data.symbol == 'ETC'].profitability, label = 'profitabilty ETC')\n",
    "plt.plot(data[data.symbol == 'BTC'].date, data[data.symbol == 'BTC'].profit_ind_1, label = 'index 1', alpha = 0.7, color = 'y')\n",
    "plt.grid()\n",
    "plt.legend()\n",
    "plt.show()"
   ]
  },
  {
   "cell_type": "code",
   "execution_count": null,
   "id": "00568f95",
   "metadata": {
    "id": "00568f95"
   },
   "outputs": [],
   "source": [
    "# По капитализации"
   ]
  },
  {
   "cell_type": "code",
   "execution_count": null,
   "id": "9e8f8736",
   "metadata": {
    "id": "9e8f8736",
    "outputId": "d605ab9e-7bc4-4df1-eb74-08f4bfb2f3a8"
   },
   "outputs": [
    {
     "data": {
      "text/html": [
       "<div>\n",
       "<style scoped>\n",
       "    .dataframe tbody tr th:only-of-type {\n",
       "        vertical-align: middle;\n",
       "    }\n",
       "\n",
       "    .dataframe tbody tr th {\n",
       "        vertical-align: top;\n",
       "    }\n",
       "\n",
       "    .dataframe thead th {\n",
       "        text-align: right;\n",
       "    }\n",
       "</style>\n",
       "<table border=\"1\" class=\"dataframe\">\n",
       "  <thead>\n",
       "    <tr style=\"text-align: right;\">\n",
       "      <th></th>\n",
       "      <th>date</th>\n",
       "      <th>cap_sum_this_day</th>\n",
       "    </tr>\n",
       "  </thead>\n",
       "  <tbody>\n",
       "    <tr>\n",
       "      <th>0</th>\n",
       "      <td>2018-01-02</td>\n",
       "      <td>3.512454e+11</td>\n",
       "    </tr>\n",
       "    <tr>\n",
       "      <th>1</th>\n",
       "      <td>2018-01-03</td>\n",
       "      <td>3.607069e+11</td>\n",
       "    </tr>\n",
       "    <tr>\n",
       "      <th>2</th>\n",
       "      <td>2018-01-04</td>\n",
       "      <td>3.624588e+11</td>\n",
       "    </tr>\n",
       "    <tr>\n",
       "      <th>3</th>\n",
       "      <td>2018-01-05</td>\n",
       "      <td>3.963351e+11</td>\n",
       "    </tr>\n",
       "    <tr>\n",
       "      <th>4</th>\n",
       "      <td>2018-01-06</td>\n",
       "      <td>4.054723e+11</td>\n",
       "    </tr>\n",
       "    <tr>\n",
       "      <th>...</th>\n",
       "      <td>...</td>\n",
       "      <td>...</td>\n",
       "    </tr>\n",
       "    <tr>\n",
       "      <th>1241</th>\n",
       "      <td>2021-05-27</td>\n",
       "      <td>1.540203e+12</td>\n",
       "    </tr>\n",
       "    <tr>\n",
       "      <th>1242</th>\n",
       "      <td>2021-05-28</td>\n",
       "      <td>1.376422e+12</td>\n",
       "    </tr>\n",
       "    <tr>\n",
       "      <th>1243</th>\n",
       "      <td>2021-05-29</td>\n",
       "      <td>1.329430e+12</td>\n",
       "    </tr>\n",
       "    <tr>\n",
       "      <th>1244</th>\n",
       "      <td>2021-05-30</td>\n",
       "      <td>1.398552e+12</td>\n",
       "    </tr>\n",
       "    <tr>\n",
       "      <th>1245</th>\n",
       "      <td>2021-05-31</td>\n",
       "      <td>1.470714e+12</td>\n",
       "    </tr>\n",
       "  </tbody>\n",
       "</table>\n",
       "<p>1246 rows × 2 columns</p>\n",
       "</div>"
      ],
      "text/plain": [
       "           date  cap_sum_this_day\n",
       "0    2018-01-02      3.512454e+11\n",
       "1    2018-01-03      3.607069e+11\n",
       "2    2018-01-04      3.624588e+11\n",
       "3    2018-01-05      3.963351e+11\n",
       "4    2018-01-06      4.054723e+11\n",
       "...         ...               ...\n",
       "1241 2021-05-27      1.540203e+12\n",
       "1242 2021-05-28      1.376422e+12\n",
       "1243 2021-05-29      1.329430e+12\n",
       "1244 2021-05-30      1.398552e+12\n",
       "1245 2021-05-31      1.470714e+12\n",
       "\n",
       "[1246 rows x 2 columns]"
      ]
     },
     "execution_count": 213,
     "metadata": {},
     "output_type": "execute_result"
    }
   ],
   "source": [
    "# суммарная капиталищация на каждый день (знаменятель в формуле)\n",
    "cap_sum = data.groupby('date').sum().reset_index()[['date', 'market_cap']]\n",
    "cap_sum.columns = ['date', 'cap_sum_this_day']\n",
    "cap_sum"
   ]
  },
  {
   "cell_type": "code",
   "execution_count": null,
   "id": "4876e5dc",
   "metadata": {
    "id": "4876e5dc"
   },
   "outputs": [],
   "source": [
    "# Дальше получаем числитель из формулы\n",
    "data['indx_2'] = data.profitability * data.market_cap"
   ]
  },
  {
   "cell_type": "code",
   "execution_count": null,
   "id": "3163d69f",
   "metadata": {
    "id": "3163d69f",
    "outputId": "6ce4c02c-d1a4-4415-ad28-ea022927e2d6"
   },
   "outputs": [
    {
     "data": {
      "text/html": [
       "<div>\n",
       "<style scoped>\n",
       "    .dataframe tbody tr th:only-of-type {\n",
       "        vertical-align: middle;\n",
       "    }\n",
       "\n",
       "    .dataframe tbody tr th {\n",
       "        vertical-align: top;\n",
       "    }\n",
       "\n",
       "    .dataframe thead th {\n",
       "        text-align: right;\n",
       "    }\n",
       "</style>\n",
       "<table border=\"1\" class=\"dataframe\">\n",
       "  <thead>\n",
       "    <tr style=\"text-align: right;\">\n",
       "      <th></th>\n",
       "      <th>date</th>\n",
       "      <th>cap_sum_up</th>\n",
       "    </tr>\n",
       "  </thead>\n",
       "  <tbody>\n",
       "    <tr>\n",
       "      <th>0</th>\n",
       "      <td>2018-01-02</td>\n",
       "      <td>3.815872e+10</td>\n",
       "    </tr>\n",
       "    <tr>\n",
       "      <th>1</th>\n",
       "      <td>2018-01-03</td>\n",
       "      <td>1.050316e+10</td>\n",
       "    </tr>\n",
       "    <tr>\n",
       "      <th>2</th>\n",
       "      <td>2018-01-04</td>\n",
       "      <td>1.763872e+09</td>\n",
       "    </tr>\n",
       "    <tr>\n",
       "      <th>3</th>\n",
       "      <td>2018-01-05</td>\n",
       "      <td>3.935427e+10</td>\n",
       "    </tr>\n",
       "    <tr>\n",
       "      <th>4</th>\n",
       "      <td>2018-01-06</td>\n",
       "      <td>1.017184e+10</td>\n",
       "    </tr>\n",
       "    <tr>\n",
       "      <th>...</th>\n",
       "      <td>...</td>\n",
       "      <td>...</td>\n",
       "    </tr>\n",
       "    <tr>\n",
       "      <th>1241</th>\n",
       "      <td>2021-05-27</td>\n",
       "      <td>-3.191589e+10</td>\n",
       "    </tr>\n",
       "    <tr>\n",
       "      <th>1242</th>\n",
       "      <td>2021-05-28</td>\n",
       "      <td>-1.454033e+11</td>\n",
       "    </tr>\n",
       "    <tr>\n",
       "      <th>1243</th>\n",
       "      <td>2021-05-29</td>\n",
       "      <td>-4.514238e+10</td>\n",
       "    </tr>\n",
       "    <tr>\n",
       "      <th>1244</th>\n",
       "      <td>2021-05-30</td>\n",
       "      <td>7.371234e+10</td>\n",
       "    </tr>\n",
       "    <tr>\n",
       "      <th>1245</th>\n",
       "      <td>2021-05-31</td>\n",
       "      <td>7.699401e+10</td>\n",
       "    </tr>\n",
       "  </tbody>\n",
       "</table>\n",
       "<p>1246 rows × 2 columns</p>\n",
       "</div>"
      ],
      "text/plain": [
       "           date    cap_sum_up\n",
       "0    2018-01-02  3.815872e+10\n",
       "1    2018-01-03  1.050316e+10\n",
       "2    2018-01-04  1.763872e+09\n",
       "3    2018-01-05  3.935427e+10\n",
       "4    2018-01-06  1.017184e+10\n",
       "...         ...           ...\n",
       "1241 2021-05-27 -3.191589e+10\n",
       "1242 2021-05-28 -1.454033e+11\n",
       "1243 2021-05-29 -4.514238e+10\n",
       "1244 2021-05-30  7.371234e+10\n",
       "1245 2021-05-31  7.699401e+10\n",
       "\n",
       "[1246 rows x 2 columns]"
      ]
     },
     "execution_count": 214,
     "metadata": {},
     "output_type": "execute_result"
    }
   ],
   "source": [
    "cap_sum1 = data.groupby('date').sum().reset_index()[['date', 'indx_2']]\n",
    "cap_sum1.columns = ['date', 'cap_sum_up']\n",
    "cap_sum1"
   ]
  },
  {
   "cell_type": "code",
   "execution_count": null,
   "id": "76fd2b41",
   "metadata": {
    "id": "76fd2b41",
    "outputId": "3311b620-0a8d-4856-abf4-ba6ae7cf1c28"
   },
   "outputs": [
    {
     "data": {
      "text/html": [
       "<div>\n",
       "<style scoped>\n",
       "    .dataframe tbody tr th:only-of-type {\n",
       "        vertical-align: middle;\n",
       "    }\n",
       "\n",
       "    .dataframe tbody tr th {\n",
       "        vertical-align: top;\n",
       "    }\n",
       "\n",
       "    .dataframe thead th {\n",
       "        text-align: right;\n",
       "    }\n",
       "</style>\n",
       "<table border=\"1\" class=\"dataframe\">\n",
       "  <thead>\n",
       "    <tr style=\"text-align: right;\">\n",
       "      <th></th>\n",
       "      <th>date</th>\n",
       "      <th>cap_sum_this_day</th>\n",
       "      <th>cap_sum_up</th>\n",
       "    </tr>\n",
       "  </thead>\n",
       "  <tbody>\n",
       "    <tr>\n",
       "      <th>0</th>\n",
       "      <td>2018-01-02</td>\n",
       "      <td>3.512454e+11</td>\n",
       "      <td>3.815872e+10</td>\n",
       "    </tr>\n",
       "    <tr>\n",
       "      <th>1</th>\n",
       "      <td>2018-01-03</td>\n",
       "      <td>3.607069e+11</td>\n",
       "      <td>1.050316e+10</td>\n",
       "    </tr>\n",
       "    <tr>\n",
       "      <th>2</th>\n",
       "      <td>2018-01-04</td>\n",
       "      <td>3.624588e+11</td>\n",
       "      <td>1.763872e+09</td>\n",
       "    </tr>\n",
       "    <tr>\n",
       "      <th>3</th>\n",
       "      <td>2018-01-05</td>\n",
       "      <td>3.963351e+11</td>\n",
       "      <td>3.935427e+10</td>\n",
       "    </tr>\n",
       "    <tr>\n",
       "      <th>4</th>\n",
       "      <td>2018-01-06</td>\n",
       "      <td>4.054723e+11</td>\n",
       "      <td>1.017184e+10</td>\n",
       "    </tr>\n",
       "    <tr>\n",
       "      <th>...</th>\n",
       "      <td>...</td>\n",
       "      <td>...</td>\n",
       "      <td>...</td>\n",
       "    </tr>\n",
       "    <tr>\n",
       "      <th>1241</th>\n",
       "      <td>2021-05-27</td>\n",
       "      <td>1.540203e+12</td>\n",
       "      <td>-3.191589e+10</td>\n",
       "    </tr>\n",
       "    <tr>\n",
       "      <th>1242</th>\n",
       "      <td>2021-05-28</td>\n",
       "      <td>1.376422e+12</td>\n",
       "      <td>-1.454033e+11</td>\n",
       "    </tr>\n",
       "    <tr>\n",
       "      <th>1243</th>\n",
       "      <td>2021-05-29</td>\n",
       "      <td>1.329430e+12</td>\n",
       "      <td>-4.514238e+10</td>\n",
       "    </tr>\n",
       "    <tr>\n",
       "      <th>1244</th>\n",
       "      <td>2021-05-30</td>\n",
       "      <td>1.398552e+12</td>\n",
       "      <td>7.371234e+10</td>\n",
       "    </tr>\n",
       "    <tr>\n",
       "      <th>1245</th>\n",
       "      <td>2021-05-31</td>\n",
       "      <td>1.470714e+12</td>\n",
       "      <td>7.699401e+10</td>\n",
       "    </tr>\n",
       "  </tbody>\n",
       "</table>\n",
       "<p>1246 rows × 3 columns</p>\n",
       "</div>"
      ],
      "text/plain": [
       "           date  cap_sum_this_day    cap_sum_up\n",
       "0    2018-01-02      3.512454e+11  3.815872e+10\n",
       "1    2018-01-03      3.607069e+11  1.050316e+10\n",
       "2    2018-01-04      3.624588e+11  1.763872e+09\n",
       "3    2018-01-05      3.963351e+11  3.935427e+10\n",
       "4    2018-01-06      4.054723e+11  1.017184e+10\n",
       "...         ...               ...           ...\n",
       "1241 2021-05-27      1.540203e+12 -3.191589e+10\n",
       "1242 2021-05-28      1.376422e+12 -1.454033e+11\n",
       "1243 2021-05-29      1.329430e+12 -4.514238e+10\n",
       "1244 2021-05-30      1.398552e+12  7.371234e+10\n",
       "1245 2021-05-31      1.470714e+12  7.699401e+10\n",
       "\n",
       "[1246 rows x 3 columns]"
      ]
     },
     "execution_count": 215,
     "metadata": {},
     "output_type": "execute_result"
    }
   ],
   "source": [
    "ind2 = cap_sum.merge(cap_sum1, on = 'date')\n",
    "ind2"
   ]
  },
  {
   "cell_type": "code",
   "execution_count": null,
   "id": "d540a959",
   "metadata": {
    "id": "d540a959",
    "outputId": "86cf69e8-26aa-4552-9ad3-c1f1ba88cb9c"
   },
   "outputs": [
    {
     "data": {
      "text/html": [
       "<div>\n",
       "<style scoped>\n",
       "    .dataframe tbody tr th:only-of-type {\n",
       "        vertical-align: middle;\n",
       "    }\n",
       "\n",
       "    .dataframe tbody tr th {\n",
       "        vertical-align: top;\n",
       "    }\n",
       "\n",
       "    .dataframe thead th {\n",
       "        text-align: right;\n",
       "    }\n",
       "</style>\n",
       "<table border=\"1\" class=\"dataframe\">\n",
       "  <thead>\n",
       "    <tr style=\"text-align: right;\">\n",
       "      <th></th>\n",
       "      <th>date</th>\n",
       "      <th>profit_ind_2</th>\n",
       "    </tr>\n",
       "  </thead>\n",
       "  <tbody>\n",
       "    <tr>\n",
       "      <th>0</th>\n",
       "      <td>2018-01-02</td>\n",
       "      <td>0.108638</td>\n",
       "    </tr>\n",
       "    <tr>\n",
       "      <th>1</th>\n",
       "      <td>2018-01-03</td>\n",
       "      <td>0.029118</td>\n",
       "    </tr>\n",
       "    <tr>\n",
       "      <th>2</th>\n",
       "      <td>2018-01-04</td>\n",
       "      <td>0.004866</td>\n",
       "    </tr>\n",
       "    <tr>\n",
       "      <th>3</th>\n",
       "      <td>2018-01-05</td>\n",
       "      <td>0.099295</td>\n",
       "    </tr>\n",
       "    <tr>\n",
       "      <th>4</th>\n",
       "      <td>2018-01-06</td>\n",
       "      <td>0.025086</td>\n",
       "    </tr>\n",
       "    <tr>\n",
       "      <th>...</th>\n",
       "      <td>...</td>\n",
       "      <td>...</td>\n",
       "    </tr>\n",
       "    <tr>\n",
       "      <th>1241</th>\n",
       "      <td>2021-05-27</td>\n",
       "      <td>-0.020722</td>\n",
       "    </tr>\n",
       "    <tr>\n",
       "      <th>1242</th>\n",
       "      <td>2021-05-28</td>\n",
       "      <td>-0.105639</td>\n",
       "    </tr>\n",
       "    <tr>\n",
       "      <th>1243</th>\n",
       "      <td>2021-05-29</td>\n",
       "      <td>-0.033956</td>\n",
       "    </tr>\n",
       "    <tr>\n",
       "      <th>1244</th>\n",
       "      <td>2021-05-30</td>\n",
       "      <td>0.052706</td>\n",
       "    </tr>\n",
       "    <tr>\n",
       "      <th>1245</th>\n",
       "      <td>2021-05-31</td>\n",
       "      <td>0.052351</td>\n",
       "    </tr>\n",
       "  </tbody>\n",
       "</table>\n",
       "<p>1246 rows × 2 columns</p>\n",
       "</div>"
      ],
      "text/plain": [
       "           date  profit_ind_2\n",
       "0    2018-01-02      0.108638\n",
       "1    2018-01-03      0.029118\n",
       "2    2018-01-04      0.004866\n",
       "3    2018-01-05      0.099295\n",
       "4    2018-01-06      0.025086\n",
       "...         ...           ...\n",
       "1241 2021-05-27     -0.020722\n",
       "1242 2021-05-28     -0.105639\n",
       "1243 2021-05-29     -0.033956\n",
       "1244 2021-05-30      0.052706\n",
       "1245 2021-05-31      0.052351\n",
       "\n",
       "[1246 rows x 2 columns]"
      ]
     },
     "execution_count": 216,
     "metadata": {},
     "output_type": "execute_result"
    }
   ],
   "source": [
    "# расчитываем требуемый индех\n",
    "ind2['profit_ind_2'] = ind2['cap_sum_up'] / ind2['cap_sum_this_day'] \n",
    "ind2.drop(['cap_sum_this_day', 'cap_sum_up'], axis = 1, inplace=True)\n",
    "ind2"
   ]
  },
  {
   "cell_type": "code",
   "execution_count": null,
   "id": "7e1ec80f",
   "metadata": {
    "id": "7e1ec80f"
   },
   "outputs": [],
   "source": []
  },
  {
   "cell_type": "code",
   "execution_count": null,
   "id": "8a240d66",
   "metadata": {
    "id": "8a240d66"
   },
   "outputs": [],
   "source": []
  },
  {
   "cell_type": "code",
   "execution_count": null,
   "id": "74d7ca4e",
   "metadata": {
    "id": "74d7ca4e"
   },
   "outputs": [],
   "source": [
    "data = data.merge(ind2, on = 'date', how = 'left')\n",
    "data = data.sort_values(['symbol', 'date']).reset_index(drop = True)\n",
    "data.drop('indx_2', axis = 1, inplace = True)"
   ]
  },
  {
   "cell_type": "code",
   "execution_count": null,
   "id": "2ed4272b",
   "metadata": {
    "id": "2ed4272b",
    "outputId": "114cb9b7-52e3-4387-a527-4ae0c5a5bcf2"
   },
   "outputs": [
    {
     "data": {
      "text/html": [
       "<div>\n",
       "<style scoped>\n",
       "    .dataframe tbody tr th:only-of-type {\n",
       "        vertical-align: middle;\n",
       "    }\n",
       "\n",
       "    .dataframe tbody tr th {\n",
       "        vertical-align: top;\n",
       "    }\n",
       "\n",
       "    .dataframe thead th {\n",
       "        text-align: right;\n",
       "    }\n",
       "</style>\n",
       "<table border=\"1\" class=\"dataframe\">\n",
       "  <thead>\n",
       "    <tr style=\"text-align: right;\">\n",
       "      <th></th>\n",
       "      <th>symbol</th>\n",
       "      <th>date</th>\n",
       "      <th>open</th>\n",
       "      <th>high</th>\n",
       "      <th>low</th>\n",
       "      <th>close</th>\n",
       "      <th>n_trades</th>\n",
       "      <th>market_cap</th>\n",
       "      <th>volume</th>\n",
       "      <th>taker_buy_volume</th>\n",
       "      <th>profitability</th>\n",
       "      <th>profit_ind_1</th>\n",
       "      <th>profit_ind_2</th>\n",
       "    </tr>\n",
       "  </thead>\n",
       "  <tbody>\n",
       "    <tr>\n",
       "      <th>0</th>\n",
       "      <td>1INCH</td>\n",
       "      <td>2020-12-26</td>\n",
       "      <td>2.1936</td>\n",
       "      <td>2.4609</td>\n",
       "      <td>1.5717</td>\n",
       "      <td>1.6221</td>\n",
       "      <td>314848</td>\n",
       "      <td>4.212958e+07</td>\n",
       "      <td>1.132451e+08</td>\n",
       "      <td>5.393879e+07</td>\n",
       "      <td>-0.260531</td>\n",
       "      <td>0.010188</td>\n",
       "      <td>0.059273</td>\n",
       "    </tr>\n",
       "    <tr>\n",
       "      <th>1</th>\n",
       "      <td>1INCH</td>\n",
       "      <td>2020-12-27</td>\n",
       "      <td>1.6206</td>\n",
       "      <td>1.6668</td>\n",
       "      <td>1.0360</td>\n",
       "      <td>1.1001</td>\n",
       "      <td>301197</td>\n",
       "      <td>2.857207e+07</td>\n",
       "      <td>9.892812e+07</td>\n",
       "      <td>4.747393e+07</td>\n",
       "      <td>-0.321805</td>\n",
       "      <td>0.024765</td>\n",
       "      <td>0.014809</td>\n",
       "    </tr>\n",
       "    <tr>\n",
       "      <th>2</th>\n",
       "      <td>1INCH</td>\n",
       "      <td>2020-12-28</td>\n",
       "      <td>1.1019</td>\n",
       "      <td>1.2787</td>\n",
       "      <td>1.0353</td>\n",
       "      <td>1.0906</td>\n",
       "      <td>157507</td>\n",
       "      <td>7.870224e+07</td>\n",
       "      <td>4.796362e+07</td>\n",
       "      <td>2.439249e+07</td>\n",
       "      <td>-0.008636</td>\n",
       "      <td>0.019655</td>\n",
       "      <td>0.020706</td>\n",
       "    </tr>\n",
       "    <tr>\n",
       "      <th>3</th>\n",
       "      <td>1INCH</td>\n",
       "      <td>2020-12-29</td>\n",
       "      <td>1.0889</td>\n",
       "      <td>1.1344</td>\n",
       "      <td>0.7541</td>\n",
       "      <td>0.8852</td>\n",
       "      <td>164635</td>\n",
       "      <td>6.387972e+07</td>\n",
       "      <td>4.745768e+07</td>\n",
       "      <td>2.154755e+07</td>\n",
       "      <td>-0.188337</td>\n",
       "      <td>-0.027361</td>\n",
       "      <td>0.003501</td>\n",
       "    </tr>\n",
       "    <tr>\n",
       "      <th>4</th>\n",
       "      <td>1INCH</td>\n",
       "      <td>2020-12-30</td>\n",
       "      <td>0.8848</td>\n",
       "      <td>1.2574</td>\n",
       "      <td>0.8702</td>\n",
       "      <td>1.0755</td>\n",
       "      <td>206257</td>\n",
       "      <td>7.761256e+07</td>\n",
       "      <td>6.186171e+07</td>\n",
       "      <td>3.158955e+07</td>\n",
       "      <td>0.214980</td>\n",
       "      <td>-0.002791</td>\n",
       "      <td>0.047808</td>\n",
       "    </tr>\n",
       "  </tbody>\n",
       "</table>\n",
       "</div>"
      ],
      "text/plain": [
       "  symbol       date    open    high     low   close  n_trades    market_cap  \\\n",
       "0  1INCH 2020-12-26  2.1936  2.4609  1.5717  1.6221    314848  4.212958e+07   \n",
       "1  1INCH 2020-12-27  1.6206  1.6668  1.0360  1.1001    301197  2.857207e+07   \n",
       "2  1INCH 2020-12-28  1.1019  1.2787  1.0353  1.0906    157507  7.870224e+07   \n",
       "3  1INCH 2020-12-29  1.0889  1.1344  0.7541  0.8852    164635  6.387972e+07   \n",
       "4  1INCH 2020-12-30  0.8848  1.2574  0.8702  1.0755    206257  7.761256e+07   \n",
       "\n",
       "         volume  taker_buy_volume  profitability  profit_ind_1  profit_ind_2  \n",
       "0  1.132451e+08      5.393879e+07      -0.260531      0.010188      0.059273  \n",
       "1  9.892812e+07      4.747393e+07      -0.321805      0.024765      0.014809  \n",
       "2  4.796362e+07      2.439249e+07      -0.008636      0.019655      0.020706  \n",
       "3  4.745768e+07      2.154755e+07      -0.188337     -0.027361      0.003501  \n",
       "4  6.186171e+07      3.158955e+07       0.214980     -0.002791      0.047808  "
      ]
     },
     "execution_count": 218,
     "metadata": {},
     "output_type": "execute_result"
    }
   ],
   "source": [
    "data.head()"
   ]
  },
  {
   "cell_type": "code",
   "execution_count": null,
   "id": "eb6fd26e",
   "metadata": {
    "id": "eb6fd26e",
    "outputId": "0fbe41d8-542a-4fa6-b601-ddcf1467bdc0"
   },
   "outputs": [
    {
     "data": {
      "image/png": "[encoded data removed]",
      "text/plain": [
       "<Figure size 864x504 with 1 Axes>"
      ]
     },
     "metadata": {
      "needs_background": "light"
     },
     "output_type": "display_data"
    }
   ],
   "source": [
    "plt.figure(figsize = (12, 7))\n",
    "#plt.plot(data[data.symbol == 'BTC'].date, data[data.symbol == 'BTC'].profitability, label = 'profitabilty AR')\n",
    "#plt.plot(data[data.symbol == 'AR'].date, data[data.symbol == 'AR'].profitability, label = 'profitabilty AR')\n",
    "#plt.plot(data[data.symbol == 'POLS'].date, data[data.symbol == 'POLS'].profitability, label = 'profitabilty POLS')\n",
    "#plt.plot(data[data.symbol == 'ETC'].date, data[data.symbol == 'ETC'].profitability, label = 'profitabilty ETC')\n",
    "plt.plot(data[data.symbol == 'BTC'].date,data[data.symbol == 'BTC'].profit_ind_1, label = 'index 1', alpha = 0.7, color = 'y')\n",
    "plt.plot(data[data.symbol == 'BTC'].date, data[data.symbol == 'BTC'].profit_ind_2, label = 'index 2', alpha = 0.7 )\n",
    "plt.plot(data[data.symbol == 'BTC'].date, data[data.symbol == 'BTC'].profitability, label = 'BTC', alpha = 0.7 )\n",
    "plt.grid()\n",
    "plt.legend()\n",
    "plt.show()"
   ]
  },
  {
   "cell_type": "code",
   "execution_count": null,
   "id": "145c342b",
   "metadata": {
    "id": "145c342b",
    "outputId": "7ddd3e97-40ac-45c4-db81-f90b5a033924"
   },
   "outputs": [
    {
     "data": {
      "text/plain": [
       "0.7790474683194138"
      ]
     },
     "execution_count": 222,
     "metadata": {},
     "output_type": "execute_result"
    }
   ],
   "source": [
    "r2_score(data[data.symbol == 'BTC'].profit_ind_1, data[data.symbol == 'BTC'].profit_ind_2)"
   ]
  },
  {
   "cell_type": "code",
   "execution_count": null,
   "id": "gFHx3fk96S2L",
   "metadata": {
    "id": "gFHx3fk96S2L"
   },
   "outputs": [],
   "source": []
  },
  {
   "cell_type": "markdown",
   "id": "-kCwG-6t6TC3",
   "metadata": {
    "id": "-kCwG-6t6TC3"
   },
   "source": [
    "# Выбор портвеля по Sharp ratio\n",
    "To be done"
   ]
  },
  {
   "cell_type": "markdown",
   "id": "aaf893df",
   "metadata": {
    "id": "aaf893df"
   },
   "source": [
    "# Нейросеть для предсказания доходности"
   ]
  },
  {
   "cell_type": "code",
   "execution_count": 17,
   "id": "diGKtVMU7PIK",
   "metadata": {
    "id": "diGKtVMU7PIK"
   },
   "outputs": [],
   "source": [
    "import matplotlib.pyplot as plt\n",
    "import plotly.express as px # to plot the time series plot\n",
    "from sklearn import metrics # for the evaluation\n",
    "from sklearn.preprocessing import LabelEncoder,MinMaxScaler\n",
    "import tensorflow as tf "
   ]
  },
  {
   "cell_type": "markdown",
   "id": "8bd205f9",
   "metadata": {
    "id": "8bd205f9"
   },
   "source": [
    "На примере биткоина"
   ]
  },
  {
   "cell_type": "code",
   "execution_count": 10,
   "id": "16fdbaee",
   "metadata": {
    "id": "16fdbaee"
   },
   "outputs": [],
   "source": [
    "#data.to_csv('data_prepr.csv', index = False)\n",
    "data = pd.read_csv('data_prepr.csv')"
   ]
  },
  {
   "cell_type": "code",
   "execution_count": 24,
   "id": "U1JDWNE47aGi",
   "metadata": {
    "id": "U1JDWNE47aGi"
   },
   "outputs": [],
   "source": [
    "X = data[data.symbol == 'BTC'][['open', 'high', 'low', 'close', 'n_trades', 'market_cap', 'volume', 'taker_buy_volume', 'profit_ind_1', 'profit_ind_2', 'profitability']].reset_index(drop=True)\n",
    "y = data[data.symbol == 'BTC'].profitability"
   ]
  },
  {
   "cell_type": "code",
   "execution_count": 25,
   "id": "C_4pJ1jM7Xd8",
   "metadata": {
    "id": "C_4pJ1jM7Xd8"
   },
   "outputs": [],
   "source": [
    "X_scaler = MinMaxScaler()\n",
    "Y_scaler = MinMaxScaler()\n",
    "X_data = X_scaler.fit_transform(X)\n",
    "Y_data = Y_scaler.fit_transform(np.array(y).reshape(-1, 1)) "
   ]
  },
  {
   "cell_type": "code",
   "execution_count": 26,
   "id": "6b3cebc2",
   "metadata": {
    "id": "6b3cebc2"
   },
   "outputs": [],
   "source": []
  },
  {
   "cell_type": "code",
   "execution_count": 27,
   "id": "c342bb02",
   "metadata": {
    "id": "c342bb02"
   },
   "outputs": [],
   "source": [
    "def custom_ts_multi_data_prep(dataset, target, start, end, window, horizon):\n",
    "    X = []\n",
    "    y = []\n",
    "    start = start + window\n",
    "    if end is None:\n",
    "        end = len(dataset) - horizon\n",
    "    for i in range(start, end):\n",
    "        indices = range(i-window, i)\n",
    "        X.append(dataset[indices])\n",
    "        indicey = range(i, i+horizon)\n",
    "        y.append(target[indicey])\n",
    "    return np.array(X), np.array(y) "
   ]
  },
  {
   "cell_type": "code",
   "execution_count": 41,
   "id": "d81f1140",
   "metadata": {
    "colab": {
     "base_uri": "https://localhost:8080/"
    },
    "id": "d81f1140",
    "outputId": "358022c3-27c9-4efa-b2c9-582211d3fc7d"
   },
   "outputs": [
    {
     "data": {
      "text/plain": [
       "(1246, 11)"
      ]
     },
     "execution_count": 41,
     "metadata": {},
     "output_type": "execute_result"
    }
   ],
   "source": [
    "X_data.shape"
   ]
  },
  {
   "cell_type": "code",
   "execution_count": 54,
   "id": "6fc63364",
   "metadata": {
    "id": "6fc63364"
   },
   "outputs": [],
   "source": [
    "hist_window = 60\n",
    "horizon = 1\n",
    "TRAIN_SPLIT = 1165\n",
    "X_train, y_train = custom_ts_multi_data_prep(X_data, Y_data, 0, TRAIN_SPLIT, hist_window, horizon)\n",
    "X_valid, y_valid = custom_ts_multi_data_prep(X_data, Y_data, TRAIN_SPLIT, None, hist_window, horizon) "
   ]
  },
  {
   "cell_type": "code",
   "execution_count": 55,
   "id": "0b3034bf",
   "metadata": {
    "colab": {
     "base_uri": "https://localhost:8080/"
    },
    "id": "0b3034bf",
    "outputId": "5719fa39-314d-43f3-e086-1af189b3a067"
   },
   "outputs": [
    {
     "name": "stdout",
     "output_type": "stream",
     "text": [
      "Multiple window of past history\n",
      "\n",
      "[[1.70431931e-01 1.98075433e-01 1.65360883e-01 1.92819485e-01\n",
      "  2.21887835e-02 1.70679495e-01 1.78264065e-02 2.16018755e-02\n",
      "  7.73449866e-01 8.15602959e-01 8.30555123e-01]\n",
      " [1.92833770e-01 1.95380780e-01 1.86765911e-01 1.92818652e-01\n",
      "  1.99340103e-02 1.70704561e-01 1.51651471e-02 1.83263496e-02\n",
      "  6.51009914e-01 6.49974889e-01 6.05709166e-01]\n",
      " [1.92706329e-01 1.94933214e-01 1.82825284e-01 1.95142288e-01\n",
      "  2.13457463e-02 1.72811501e-01 2.05360368e-02 2.65832707e-02\n",
      "  5.62845137e-01 5.99461999e-01 6.26862987e-01]\n",
      " [1.94432700e-01 2.24783890e-01 1.94410685e-01 2.29826405e-01\n",
      "  2.45661128e-02 2.03880843e-01 2.48903747e-02 3.09081862e-02\n",
      "  8.59133811e-01 7.96143084e-01 9.18412438e-01]\n",
      " [2.29839877e-01 2.25727579e-01 2.18384866e-01 2.29054081e-01\n",
      "  1.98437483e-02 2.03220455e-01 2.09191281e-02 2.67106533e-02\n",
      "  8.12810578e-01 6.41577144e-01 5.99605505e-01]\n",
      " [2.29067733e-01 2.25189883e-01 2.11568956e-01 2.20241323e-01\n",
      "  1.34966682e-02 1.95361542e-01 1.32380975e-02 1.58846841e-02\n",
      "  5.56350856e-01 5.95245625e-01 5.35792760e-01]\n",
      " [2.20254962e-01 2.14116845e-01 1.64035449e-01 1.89155110e-01\n",
      "  2.69702462e-02 1.67556920e-01 2.67254930e-02 2.95031316e-02\n",
      "  5.05143328e-01 4.43551724e-01 3.51132429e-01]\n",
      " [1.88904248e-01 1.98505948e-01 1.84405374e-01 1.83739512e-01\n",
      "  1.86921411e-02 1.62732801e-01 1.30353287e-02 1.32658169e-02\n",
      "  6.52991358e-01 6.50441194e-01 5.55688760e-01]\n",
      " [1.83416945e-01 1.86089562e-01 1.69460011e-01 1.87822367e-01\n",
      "  2.05240232e-02 1.66416683e-01 1.60146109e-02 1.65592458e-02\n",
      "  5.68465192e-01 5.93364972e-01 6.44293296e-01]\n",
      " [1.87649494e-01 1.89877471e-01 1.40047846e-01 1.62433461e-01\n",
      "  3.14260230e-02 1.43704804e-01 2.94837827e-02 3.03376874e-02\n",
      "  5.32537646e-01 3.89912012e-01 3.69886172e-01]\n",
      " [1.62448111e-01 1.75929195e-01 1.58735072e-01 1.73611836e-01\n",
      "  1.66558374e-02 1.53744651e-01 1.54868647e-02 1.64944629e-02\n",
      "  7.16822978e-01 7.35568536e-01 7.21744615e-01]\n",
      " [1.73626125e-01 1.83565426e-01 1.77422298e-01 1.84990124e-01\n",
      "  1.38601382e-02 1.63962421e-01 1.04519574e-02 1.00014229e-02\n",
      "  7.41657827e-01 7.54096961e-01 7.18012705e-01]\n",
      " [1.85001381e-01 1.79765336e-01 1.59910668e-01 1.70363444e-01\n",
      "  1.79834473e-02 1.50880305e-01 1.40011193e-02 1.44499501e-02\n",
      "  5.47277717e-01 4.83899694e-01 4.68241668e-01]\n",
      " [1.70752950e-01 1.78206163e-01 1.69739979e-01 1.75106340e-01\n",
      "  1.72127489e-02 1.55152679e-01 1.22205597e-02 1.32891401e-02\n",
      "  6.07751249e-01 6.04948458e-01 6.53204421e-01]\n",
      " [1.75120769e-01 1.70700662e-01 9.98703107e-02 1.24090299e-01\n",
      "  5.70237704e-02 1.09451410e-01 4.85947891e-02 4.92098383e-02\n",
      "  1.25776015e-01 9.76707374e-02 1.05511259e-01]\n",
      " [1.24365834e-01 1.36486379e-01 9.99202565e-02 1.23692143e-01\n",
      "  7.82022333e-02 1.09114175e-01 5.43064389e-02 5.58846572e-02\n",
      "  6.22980368e-01 5.84637738e-01 6.00692910e-01]\n",
      " [1.24532257e-01 1.39699078e-01 1.22227368e-01 1.28915159e-01\n",
      "  5.91391946e-02 1.13816857e-01 3.92433614e-02 4.10451047e-02\n",
      "  6.37171292e-01 6.56232472e-01 6.71767285e-01]\n",
      " [1.28712497e-01 1.38337867e-01 1.22379924e-01 1.33217918e-01\n",
      "  3.94231695e-02 1.17695213e-01 2.70464791e-02 2.81336066e-02\n",
      "  6.14070894e-01 6.34557818e-01 6.58573690e-01]\n",
      " [1.32948877e-01 1.59514433e-01 1.36174664e-01 1.60216277e-01\n",
      "  3.43037491e-02 1.41928498e-01 2.43926417e-02 2.59919004e-02\n",
      "  7.75946898e-01 8.79432502e-01 9.29743141e-01]\n",
      " [1.60230967e-01 1.55357070e-01 1.32657898e-01 1.31672770e-01\n",
      "  5.13065865e-02 1.16354517e-01 3.33584115e-02 3.50745368e-02\n",
      "  3.58935979e-01 3.18479194e-01 3.06374267e-01]\n",
      " [1.31118221e-01 1.40470951e-01 1.14569343e-01 1.23600850e-01\n",
      "  5.19963882e-02 1.09135424e-01 3.28099086e-02 3.36397771e-02\n",
      "  5.10808926e-01 5.10668648e-01 5.08032588e-01]\n",
      " [1.23542047e-01 1.31906947e-01 1.14650207e-01 1.30088306e-01\n",
      "  5.07062394e-02 1.14975843e-01 2.74023884e-02 2.93164618e-02\n",
      "  6.35100059e-01 6.49477152e-01 6.87799682e-01]\n",
      " [1.30360071e-01 1.34691730e-01 1.24758298e-01 1.30930932e-01\n",
      "  4.22083731e-02 1.15753802e-01 2.03415880e-02 2.04630796e-02\n",
      "  6.06593408e-01 6.18604546e-01 6.16001872e-01]\n",
      " [1.31016268e-01 1.38322439e-01 1.32406639e-01 1.33013342e-01\n",
      "  3.01408797e-02 1.17642369e-01 1.52979961e-02 1.60904377e-02\n",
      "  6.08116947e-01 6.26843794e-01 6.31018733e-01]\n",
      " [1.32861251e-01 1.35869433e-01 1.21550041e-01 1.26730295e-01\n",
      "  4.38640910e-02 1.12022526e-01 2.42906644e-02 2.35671965e-02\n",
      "  5.29676653e-01 5.23729314e-01 5.30226856e-01]\n",
      " [1.26745570e-01 1.35983111e-01 1.29957084e-01 1.38277674e-01\n",
      "  2.76493908e-02 1.22405552e-01 1.32891722e-02 1.40237285e-02\n",
      "  6.85908952e-01 7.39528876e-01 7.49287108e-01]\n",
      " [1.38292747e-01 1.45629491e-01 1.40047846e-01 1.45258078e-01\n",
      "  2.73727920e-02 1.28691049e-01 1.25560008e-02 1.12343478e-02\n",
      "  6.94055222e-01 7.29587638e-01 6.87285921e-01]\n",
      " [1.45273029e-01 1.41261337e-01 1.35623221e-01 1.32217362e-01\n",
      "  2.12220600e-02 1.17003721e-01 9.47873257e-03 8.15801213e-03\n",
      "  5.08709104e-01 4.54967456e-01 4.58675544e-01]\n",
      " [1.32245535e-01 1.30605335e-01 1.14565265e-01 1.19121503e-01\n",
      "  3.47900981e-02 1.05266120e-01 1.70919005e-02 1.59642629e-02\n",
      "  4.64411531e-01 4.54016341e-01 4.47698400e-01]\n",
      " [1.19141243e-01 1.16103284e-01 1.11167588e-01 1.15735671e-01\n",
      "  2.73371070e-02 1.02240261e-01 1.14503718e-02 1.17431607e-02\n",
      "  5.39266051e-01 5.70585415e-01 5.61767190e-01]\n",
      " [1.15751139e-01 1.14627908e-01 9.50454388e-02 9.81954503e-02\n",
      "  4.39227047e-02 8.65059233e-02 2.07938384e-02 2.00411336e-02\n",
      "  3.82570982e-01 3.82426754e-01 3.73488390e-01]\n",
      " [9.82108914e-02 9.86180017e-02 8.24575537e-02 9.32787975e-02\n",
      "  6.64844850e-02 8.21074221e-02 2.99895465e-02 2.92225867e-02\n",
      "  5.07785012e-01 4.69267314e-01 5.33106349e-01]\n",
      " [9.32966569e-02 1.00629451e-01 8.61776707e-02 9.75372422e-02\n",
      "  4.71059330e-02 8.59480062e-02 1.66452844e-02 1.75714000e-02\n",
      "  6.77255812e-01 6.73867316e-01 6.70709780e-01]\n",
      " [9.75530281e-02 9.89241200e-02 8.10981429e-02 8.69337782e-02\n",
      "  5.05780319e-02 7.64392723e-02 1.78496394e-02 1.59928054e-02\n",
      "  4.59572989e-01 4.18440067e-01 4.48440696e-01]\n",
      " [8.69539142e-02 8.41973123e-02 5.89282978e-02 6.05451482e-02\n",
      "  7.84628466e-02 5.27473436e-02 3.17658000e-02 3.15435042e-02\n",
      "  2.27342558e-01 1.86368011e-01 1.84803367e-01]\n",
      " [6.04128164e-02 7.47269701e-02 4.83107258e-02 7.29298223e-02\n",
      "  1.20664276e-01 6.38887916e-02 4.87901974e-02 5.09776816e-02\n",
      "  8.76002826e-01 8.40813538e-01 8.48873224e-01]\n",
      " [7.29460385e-02 8.44383094e-02 6.78473709e-02 7.58886767e-02\n",
      "  7.64909696e-02 6.65597552e-02 3.24747348e-02 3.47157446e-02\n",
      "  5.98960394e-01 6.32755037e-01 6.58129918e-01]\n",
      " [7.59048412e-02 7.41748203e-02 7.43216452e-02 7.59389877e-02\n",
      "  0.00000000e+00 6.66064430e-02 6.07022870e-04 3.20550885e-04\n",
      "  5.96078489e-01 5.87882545e-01 6.06587614e-01]\n",
      " [7.60531062e-02 8.86931103e-02 7.87180699e-02 8.87151548e-02\n",
      "  3.52178333e-02 7.81130159e-02 9.48419596e-03 1.02619944e-02\n",
      "  7.52487900e-01 7.96988825e-01 8.26782135e-01]\n",
      " [8.87587489e-02 9.40161585e-02 8.43259365e-02 8.85329023e-02\n",
      "  8.06609437e-02 7.79621879e-02 2.91272394e-02 3.07600923e-02\n",
      "  5.45065468e-01 5.74523592e-01 6.02846070e-01]\n",
      " [8.85486791e-02 8.59973204e-02 7.76415158e-02 8.42669609e-02\n",
      "  7.72418072e-02 7.41415403e-02 2.43356183e-02 2.68186240e-02\n",
      "  5.46241455e-01 5.31394242e-01 5.38437420e-01]\n",
      " [8.43604432e-02 9.17624132e-02 8.25421558e-02 9.43641495e-02\n",
      "  7.08705065e-02 8.32355640e-02 2.41339079e-02 2.52436307e-02\n",
      "  6.63781792e-01 7.19487225e-01 7.69884813e-01]\n",
      " [9.44626194e-02 9.27692745e-02 8.82502539e-02 8.91994400e-02\n",
      "  6.06616994e-02 7.86077003e-02 2.14722262e-02 2.12925620e-02\n",
      "  5.38744744e-01 5.22438041e-01 5.27469824e-01]\n",
      " [8.92153717e-02 1.00174577e-01 9.04417558e-02 1.03358327e-01\n",
      "  7.62382684e-02 9.13588657e-02 2.46042293e-02 2.61245191e-02\n",
      "  8.35342111e-01 8.14186651e-01 8.27979119e-01]\n",
      " [1.03370346e-01 1.12752223e-01 1.04397716e-01 1.13904483e-01\n",
      "  9.23859583e-02 1.00859033e-01 3.58920263e-02 3.74883546e-02\n",
      "  6.38073704e-01 6.83176788e-01 7.56346498e-01]\n",
      " [1.13919816e-01 1.14439040e-01 1.10589983e-01 1.15853786e-01\n",
      "  5.94228982e-02 1.02630642e-01 2.62886241e-02 2.65304738e-02\n",
      "  6.26370435e-01 6.21096727e-01 6.31806954e-01]\n",
      " [1.15868918e-01 1.24517884e-01 1.17113524e-01 1.27848966e-01\n",
      "  5.86785195e-02 1.13439722e-01 2.93302525e-02 3.11395929e-02\n",
      "  6.56402065e-01 7.01417082e-01 7.64419473e-01]\n",
      " [1.28114106e-01 1.29876984e-01 1.17623175e-01 1.22351404e-01\n",
      "  8.11166133e-02 1.08512505e-01 4.64750223e-02 4.79846007e-02\n",
      "  4.90136889e-01 5.06457230e-01 5.37785789e-01]\n",
      " [1.22389245e-01 1.29487232e-01 1.20856575e-01 1.30798824e-01\n",
      "  5.46885849e-02 1.16132623e-01 3.17818224e-02 3.38383610e-02\n",
      "  6.42984620e-01 6.69716386e-01 7.13356631e-01]\n",
      " [1.30689585e-01 1.38191872e-01 1.33966004e-01 1.35755959e-01\n",
      "  5.81863576e-02 1.20611982e-01 3.46364148e-02 3.72823175e-02\n",
      "  5.49450961e-01 5.97861367e-01 6.65990737e-01]\n",
      " [1.35770910e-01 1.32442857e-01 1.19661782e-01 1.20518883e-01\n",
      "  8.55136149e-02 1.06918391e-01 5.58563283e-02 5.59043994e-02\n",
      "  4.58575859e-01 4.35887958e-01 4.25295176e-01]\n",
      " [1.20584077e-01 1.24346393e-01 1.10810832e-01 1.11606169e-01\n",
      "  7.63782632e-02 9.89124849e-02 4.92616487e-02 5.12791630e-02\n",
      "  4.93030048e-01 4.87282520e-01 4.90953615e-01]\n",
      " [1.11621376e-01 1.16251878e-01 1.08962326e-01 1.15112947e-01\n",
      "  6.85915127e-02 1.02085628e-01 3.99920529e-02 4.12167207e-02\n",
      "  6.73396554e-01 6.64145639e-01 6.53305232e-01]\n",
      " [1.15128426e-01 1.17258252e-01 1.05255629e-01 1.05861217e-01\n",
      "  4.91059059e-02 9.37709783e-02 2.83607177e-02 2.74984158e-02\n",
      "  5.11453537e-01 4.92909087e-01 4.82774288e-01]\n",
      " [1.06018292e-01 1.06702935e-01 1.03944126e-01 1.07058020e-01\n",
      "  3.21720164e-02 9.48673749e-02 1.78795759e-02 1.86001071e-02\n",
      "  6.46745912e-01 6.25444140e-01 6.22542492e-01]\n",
      " [1.07207078e-01 1.16403232e-01 1.05221653e-01 1.18910596e-01\n",
      "  3.99222746e-02 1.05556681e-01 2.33094571e-02 2.41934602e-02\n",
      "  6.76434564e-01 7.10628042e-01 7.71110851e-01]\n",
      " [1.18926008e-01 1.23316146e-01 1.18319699e-01 1.25134003e-01\n",
      "  3.24214882e-02 1.11181251e-01 2.17473031e-02 2.27765000e-02\n",
      "  6.46538247e-01 6.47622064e-01 6.86597933e-01]\n",
      " [1.25149306e-01 1.27018797e-01 1.22643923e-01 1.20019605e-01\n",
      "  3.77940942e-02 1.06593373e-01 2.12226762e-02 2.11551733e-02\n",
      "  5.14490554e-01 5.26693782e-01 5.41561157e-01]\n",
      " [1.20034997e-01 1.26408347e-01 1.20341317e-01 1.29015115e-01\n",
      "  3.18889587e-02 1.14716006e-01 1.80392260e-02 1.92069507e-02\n",
      "  6.07741909e-01 6.69963630e-01 7.21878824e-01]\n",
      " [1.29096986e-01 1.28675247e-01 1.29345162e-01 1.31514007e-01\n",
      "  2.77377152e-02 1.16986535e-01 1.71546186e-02 1.81092825e-02\n",
      "  5.59263924e-01 5.95379564e-01 6.36397423e-01]]\n",
      "\n",
      " Target horizon\n",
      "\n",
      "[[0.66423663]]\n"
     ]
    }
   ],
   "source": [
    "print('Multiple window of past history\\n')\n",
    "print(X_train[0])\n",
    "print('\\n Target horizon\\n')\n",
    "print(y_train[0]) "
   ]
  },
  {
   "cell_type": "code",
   "execution_count": 56,
   "id": "e9092cbc",
   "metadata": {
    "colab": {
     "base_uri": "https://localhost:8080/"
    },
    "id": "e9092cbc",
    "outputId": "fac4b38e-943a-4981-9b1b-91c0c8bab8f7"
   },
   "outputs": [
    {
     "data": {
      "text/plain": [
       "(1105, 60, 11)"
      ]
     },
     "execution_count": 56,
     "metadata": {},
     "output_type": "execute_result"
    }
   ],
   "source": [
    "X_train.shape"
   ]
  },
  {
   "cell_type": "code",
   "execution_count": 57,
   "id": "58f93bf0",
   "metadata": {
    "colab": {
     "base_uri": "https://localhost:8080/"
    },
    "id": "58f93bf0",
    "outputId": "4e734450-6aa1-4905-aa8b-1fd3786d1a3e",
    "scrolled": true
   },
   "outputs": [
    {
     "data": {
      "text/plain": [
       "(20, 60, 11)"
      ]
     },
     "execution_count": 57,
     "metadata": {},
     "output_type": "execute_result"
    }
   ],
   "source": [
    "X_valid.shape"
   ]
  },
  {
   "cell_type": "code",
   "execution_count": 59,
   "id": "gDkzXLTf-Ara",
   "metadata": {
    "id": "gDkzXLTf-Ara"
   },
   "outputs": [],
   "source": []
  },
  {
   "cell_type": "code",
   "execution_count": 66,
   "id": "2oIkPPPk7BnP",
   "metadata": {
    "id": "2oIkPPPk7BnP"
   },
   "outputs": [],
   "source": [
    "batch_size = 256\n",
    "buffer_size = 256\n",
    "train_data = tf.data.Dataset.from_tensor_slices((X_train, y_train))\n",
    "train_data = train_data.cache().shuffle(buffer_size).batch(batch_size) #.repeat()\n",
    "val_data = tf.data.Dataset.from_tensor_slices((X_valid, y_valid))\n",
    "val_data = val_data.batch(batch_size) #.repeat()"
   ]
  },
  {
   "cell_type": "code",
   "execution_count": 67,
   "id": "rEuWUVjo8Rbc",
   "metadata": {
    "colab": {
     "base_uri": "https://localhost:8080/"
    },
    "id": "rEuWUVjo8Rbc",
    "outputId": "be969996-6a87-46a8-af40-cc938c02bee5"
   },
   "outputs": [
    {
     "name": "stdout",
     "output_type": "stream",
     "text": [
      "Model: \"sequential_2\"\n",
      "_________________________________________________________________\n",
      " Layer (type)                Output Shape              Param #   \n",
      "=================================================================\n",
      " bidirectional_4 (Bidirectio  (None, 60, 256)          143360    \n",
      " nal)                                                            \n",
      "                                                                 \n",
      " dropout_6 (Dropout)         (None, 60, 256)           0         \n",
      "                                                                 \n",
      " bidirectional_5 (Bidirectio  (None, 128)              164352    \n",
      " nal)                                                            \n",
      "                                                                 \n",
      " dropout_7 (Dropout)         (None, 128)               0         \n",
      "                                                                 \n",
      " dense_6 (Dense)             (None, 64)                8256      \n",
      "                                                                 \n",
      " dropout_8 (Dropout)         (None, 64)                0         \n",
      "                                                                 \n",
      " dense_7 (Dense)             (None, 32)                2080      \n",
      "                                                                 \n",
      " dense_8 (Dense)             (None, 1)                 33        \n",
      "                                                                 \n",
      "=================================================================\n",
      "Total params: 318,081\n",
      "Trainable params: 318,081\n",
      "Non-trainable params: 0\n",
      "_________________________________________________________________\n"
     ]
    }
   ],
   "source": [
    "lstm_model = tf.keras.models.Sequential([\n",
    "    tf.keras.layers.Bidirectional(tf.keras.layers.LSTM(128, return_sequences=True), \n",
    "                              input_shape=X_train.shape[-2:]),\n",
    "    tf.keras.layers.Dropout(0.2),\n",
    "    #tf.keras.layers.Dense(64, activation='tanh'),\n",
    "    tf.keras.layers.Bidirectional(tf.keras.layers.LSTM(64)),\n",
    "    tf.keras.layers.Dropout(0.2),\n",
    "    tf.keras.layers.Dense(64, activation='relu'),\n",
    "    tf.keras.layers.Dropout(0.2),\n",
    "    tf.keras.layers.Dense(32, activation='relu'),\n",
    "    tf.keras.layers.Dense(units=horizon),\n",
    "])\n",
    "lstm_model.compile(optimizer='adam', loss='mse')\n",
    "lstm_model.summary() "
   ]
  },
  {
   "cell_type": "code",
   "execution_count": 68,
   "id": "raMDM9th8iCc",
   "metadata": {
    "id": "raMDM9th8iCc"
   },
   "outputs": [],
   "source": [
    "model_path = 'Bidirectional_LSTM_Multivariate.h5'\n",
    "early_stopings = tf.keras.callbacks.EarlyStopping(monitor='val_loss', min_delta=0, patience=20, verbose=1, mode='min')\n",
    "checkpoint =  tf.keras.callbacks.ModelCheckpoint(model_path, monitor='val_loss', save_best_only=True, mode='min', verbose=0)\n",
    "callbacks=[early_stopings,checkpoint]"
   ]
  },
  {
   "cell_type": "code",
   "execution_count": 83,
   "id": "pkiJIDHc8myK",
   "metadata": {
    "colab": {
     "base_uri": "https://localhost:8080/"
    },
    "id": "pkiJIDHc8myK",
    "outputId": "dd6b84d7-7709-49bf-ba1f-3ff0dcb9ab46"
   },
   "outputs": [
    {
     "name": "stdout",
     "output_type": "stream",
     "text": [
      "Epoch 1/100\n",
      "5/5 [==============================] - 1s 101ms/step - loss: 0.0105 - val_loss: 0.0203\n",
      "Epoch 2/100\n",
      "5/5 [==============================] - 1s 105ms/step - loss: 0.0101 - val_loss: 0.0187\n",
      "Epoch 3/100\n",
      "5/5 [==============================] - 0s 97ms/step - loss: 0.0102 - val_loss: 0.0187\n",
      "Epoch 4/100\n",
      "5/5 [==============================] - 0s 76ms/step - loss: 0.0108 - val_loss: 0.0190\n",
      "Epoch 5/100\n",
      "5/5 [==============================] - 0s 77ms/step - loss: 0.0102 - val_loss: 0.0211\n",
      "Epoch 6/100\n",
      "5/5 [==============================] - 0s 77ms/step - loss: 0.0100 - val_loss: 0.0196\n",
      "Epoch 7/100\n",
      "5/5 [==============================] - 0s 79ms/step - loss: 0.0101 - val_loss: 0.0216\n",
      "Epoch 8/100\n",
      "5/5 [==============================] - 0s 77ms/step - loss: 0.0101 - val_loss: 0.0215\n",
      "Epoch 9/100\n",
      "5/5 [==============================] - 0s 77ms/step - loss: 0.0103 - val_loss: 0.0279\n",
      "Epoch 10/100\n",
      "5/5 [==============================] - 0s 77ms/step - loss: 0.0103 - val_loss: 0.0226\n",
      "Epoch 11/100\n",
      "5/5 [==============================] - 0s 78ms/step - loss: 0.0096 - val_loss: 0.0192\n",
      "Epoch 12/100\n",
      "5/5 [==============================] - 0s 77ms/step - loss: 0.0094 - val_loss: 0.0187\n",
      "Epoch 13/100\n",
      "5/5 [==============================] - 0s 76ms/step - loss: 0.0096 - val_loss: 0.0188\n",
      "Epoch 14/100\n",
      "5/5 [==============================] - 0s 79ms/step - loss: 0.0092 - val_loss: 0.0193\n",
      "Epoch 15/100\n",
      "5/5 [==============================] - 0s 76ms/step - loss: 0.0091 - val_loss: 0.0194\n",
      "Epoch 16/100\n",
      "5/5 [==============================] - 0s 76ms/step - loss: 0.0097 - val_loss: 0.0197\n",
      "Epoch 17/100\n",
      "5/5 [==============================] - 0s 95ms/step - loss: 0.0092 - val_loss: 0.0186\n",
      "Epoch 18/100\n",
      "5/5 [==============================] - 0s 96ms/step - loss: 0.0098 - val_loss: 0.0186\n",
      "Epoch 19/100\n",
      "5/5 [==============================] - 0s 93ms/step - loss: 0.0101 - val_loss: 0.0185\n",
      "Epoch 20/100\n",
      "5/5 [==============================] - 0s 77ms/step - loss: 0.0094 - val_loss: 0.0187\n",
      "Epoch 21/100\n",
      "5/5 [==============================] - 0s 77ms/step - loss: 0.0092 - val_loss: 0.0191\n",
      "Epoch 22/100\n",
      "5/5 [==============================] - 0s 76ms/step - loss: 0.0088 - val_loss: 0.0189\n",
      "Epoch 23/100\n",
      "5/5 [==============================] - 0s 77ms/step - loss: 0.0089 - val_loss: 0.0202\n",
      "Epoch 24/100\n",
      "5/5 [==============================] - 0s 78ms/step - loss: 0.0091 - val_loss: 0.0206\n",
      "Epoch 25/100\n",
      "5/5 [==============================] - 0s 74ms/step - loss: 0.0095 - val_loss: 0.0192\n",
      "Epoch 26/100\n",
      "5/5 [==============================] - 0s 76ms/step - loss: 0.0093 - val_loss: 0.0192\n",
      "Epoch 27/100\n",
      "5/5 [==============================] - 0s 77ms/step - loss: 0.0096 - val_loss: 0.0187\n",
      "Epoch 28/100\n",
      "5/5 [==============================] - 0s 75ms/step - loss: 0.0089 - val_loss: 0.0187\n",
      "Epoch 29/100\n",
      "5/5 [==============================] - 0s 76ms/step - loss: 0.0089 - val_loss: 0.0198\n",
      "Epoch 30/100\n",
      "5/5 [==============================] - 0s 75ms/step - loss: 0.0095 - val_loss: 0.0190\n",
      "Epoch 31/100\n",
      "5/5 [==============================] - 0s 75ms/step - loss: 0.0090 - val_loss: 0.0259\n",
      "Epoch 32/100\n",
      "5/5 [==============================] - 0s 76ms/step - loss: 0.0092 - val_loss: 0.0230\n",
      "Epoch 33/100\n",
      "5/5 [==============================] - 0s 77ms/step - loss: 0.0087 - val_loss: 0.0212\n",
      "Epoch 34/100\n",
      "5/5 [==============================] - 0s 75ms/step - loss: 0.0087 - val_loss: 0.0188\n",
      "Epoch 35/100\n",
      "5/5 [==============================] - 0s 77ms/step - loss: 0.0085 - val_loss: 0.0189\n",
      "Epoch 36/100\n",
      "5/5 [==============================] - 0s 73ms/step - loss: 0.0088 - val_loss: 0.0194\n",
      "Epoch 37/100\n",
      "5/5 [==============================] - 0s 76ms/step - loss: 0.0087 - val_loss: 0.0192\n",
      "Epoch 38/100\n",
      "5/5 [==============================] - 0s 78ms/step - loss: 0.0087 - val_loss: 0.0188\n",
      "Epoch 39/100\n",
      "5/5 [==============================] - 0s 78ms/step - loss: 0.0088 - val_loss: 0.0187\n",
      "Epoch 00039: early stopping\n"
     ]
    }
   ],
   "source": [
    "history = lstm_model.fit(train_data,\n",
    "                         epochs=100,\n",
    "                         #steps_per_epoch=100,\n",
    "                         validation_data=val_data,\n",
    "                         #validation_steps=50,\n",
    "                         verbose=1,\n",
    "                         callbacks=callbacks)"
   ]
  },
  {
   "cell_type": "code",
   "execution_count": 84,
   "id": "4FpUXt-C8psJ",
   "metadata": {
    "colab": {
     "base_uri": "https://localhost:8080/",
     "height": 567
    },
    "id": "4FpUXt-C8psJ",
    "outputId": "e662ea83-4830-48b6-b055-7e063e30cf4b"
   },
   "outputs": [
    {
     "data": {
      "image/png": "[encoded data removed]",
      "text/plain": [
       "<Figure size 1152x648 with 1 Axes>"
      ]
     },
     "metadata": {
      "needs_background": "light"
     },
     "output_type": "display_data"
    }
   ],
   "source": [
    "plt.figure(figsize=(16,9))\n",
    "plt.plot(history.history['loss'])\n",
    "plt.plot(history.history['val_loss'])\n",
    "plt.title('Model loss')\n",
    "plt.ylabel('loss')\n",
    "plt.xlabel('epoch')\n",
    "plt.legend(['train loss', 'validation loss'])\n",
    "plt.show() "
   ]
  },
  {
   "cell_type": "code",
   "execution_count": 71,
   "id": "ocT-QrJZ9XkO",
   "metadata": {
    "id": "ocT-QrJZ9XkO"
   },
   "outputs": [],
   "source": [
    "def timeseries_evaluation_metrics_func(y_true, y_pred):\n",
    "    def mean_absolute_percentage_error(y_true, y_pred): \n",
    "        y_true, y_pred = np.array(y_true), np.array(y_pred)\n",
    "        return np.mean(np.abs((y_true - y_pred) / (y_true+ 0.000001))) * 100\n",
    "    print('Evaluation metric results:-')\n",
    "    print(f'MSE is : {metrics.mean_squared_error(y_true, y_pred)}')\n",
    "    print(f'MAE is : {metrics.mean_absolute_error(y_true, y_pred)}')\n",
    "    print(f'RMSE is : {np.sqrt(metrics.mean_squared_error(y_true, y_pred))}')\n",
    "    print(f'MAPE is : {mean_absolute_percentage_error(y_true, y_pred)}')\n",
    "    print(f'R2 is : {metrics.r2_score(y_true, y_pred)}',end='\\n\\n')"
   ]
  },
  {
   "cell_type": "code",
   "execution_count": 85,
   "id": "BsPP885g-oxO",
   "metadata": {
    "colab": {
     "base_uri": "https://localhost:8080/"
    },
    "id": "BsPP885g-oxO",
    "outputId": "fc6c9029-8f7a-4c69-c2ff-3b23d8dad3fd"
   },
   "outputs": [
    {
     "name": "stdout",
     "output_type": "stream",
     "text": [
      "Evaluation metric results:-\n",
      "MSE is : 0.010670232738015498\n",
      "MAE is : 0.08146725013628772\n",
      "RMSE is : 0.10329681862485164\n",
      "MAPE is : 49546.9177504727\n",
      "R2 is : -0.5594473835286278\n",
      "\n"
     ]
    }
   ],
   "source": [
    "timeseries_evaluation_metrics_func(y_train.reshape(-1), lstm_model.predict(X_train).reshape(-1))"
   ]
  },
  {
   "cell_type": "code",
   "execution_count": 86,
   "id": "KwIPDSge-qp2",
   "metadata": {
    "colab": {
     "base_uri": "https://localhost:8080/"
    },
    "id": "KwIPDSge-qp2",
    "outputId": "e8625cde-4c21-4da8-83a9-ca80a7365dfe"
   },
   "outputs": [
    {
     "name": "stdout",
     "output_type": "stream",
     "text": [
      "Evaluation metric results:-\n",
      "MSE is : 0.018652551557586154\n",
      "MAE is : 0.10993049797736817\n",
      "RMSE is : 0.136574344434034\n",
      "MAPE is : 21.39461060338467\n",
      "R2 is : -0.014770445819165312\n",
      "\n"
     ]
    }
   ],
   "source": [
    "timeseries_evaluation_metrics_func(y_valid.reshape(-1), lstm_model.predict(X_valid).reshape(-1))"
   ]
  },
  {
   "cell_type": "code",
   "execution_count": 88,
   "id": "Kfzd3rdW-yUd",
   "metadata": {
    "colab": {
     "base_uri": "https://localhost:8080/",
     "height": 265
    },
    "id": "Kfzd3rdW-yUd",
    "outputId": "8be9659f-6406-41d6-9f4f-6dca68633a2f"
   },
   "outputs": [
    {
     "data": {
      "image/png": "[encoded data removed]",
      "text/plain": [
       "<Figure size 432x288 with 1 Axes>"
      ]
     },
     "metadata": {
      "needs_background": "light"
     },
     "output_type": "display_data"
    }
   ],
   "source": [
    "plt.plot(range(len(y_train.reshape(-1))), y_train.reshape(-1), label = 'true')\n",
    "plt.plot(range(len(y_train.reshape(-1))), lstm_model.predict(X_train).reshape(-1), label = 'predict')\n",
    "#plt.plot(range(len(y_train.reshape(-1))+len(y_valid.reshape(-1))), y_valid.reshape(-1), label = 'true_val')\n",
    "#plt.plot(range(len(y_train.reshape(-1))+len(y_valid.reshape(-1))), lstm_model.predict(X_valid).reshape(-1), label = 'predict_val')\n",
    "\n",
    "plt.legend()\n",
    "plt.show()"
   ]
  },
  {
   "cell_type": "code",
   "execution_count": null,
   "id": "G8AtNVk7-2Yz",
   "metadata": {
    "id": "G8AtNVk7-2Yz"
   },
   "outputs": [],
   "source": []
  }
 ],
 "metadata": {
  "accelerator": "GPU",
  "colab": {
   "name": "CMF_optimization_project.ipynb",
   "provenance": []
  },
  "kernelspec": {
   "display_name": "Python 3 (ipykernel)",
   "language": "python",
   "name": "python3"
  },
  "language_info": {
   "codemirror_mode": {
    "name": "ipython",
    "version": 3
   },
   "file_extension": ".py",
   "mimetype": "text/x-python",
   "name": "python",
   "nbconvert_exporter": "python",
   "pygments_lexer": "ipython3",
   "version": "3.8.8"
  }
 },
 "nbformat": 4,
 "nbformat_minor": 5
}
