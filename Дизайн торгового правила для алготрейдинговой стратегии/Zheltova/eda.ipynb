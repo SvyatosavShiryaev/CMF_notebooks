{
 "cells": [
  {
   "cell_type": "code",
   "execution_count": 1,
   "metadata": {
    "tags": []
   },
   "outputs": [],
   "source": [
    "import pandas as pd\n",
    "import numpy as np\n",
    "from os import listdir\n",
    "from os.path import isfile, join\n",
    "from tqdm import tqdm\n",
    "import matplotlib.pyplot as plt"
   ]
  },
  {
   "cell_type": "code",
   "execution_count": 2,
   "metadata": {
    "collapsed": false,
    "jupyter": {
     "outputs_hidden": false
    },
    "pycharm": {
     "name": "#%%\n"
    }
   },
   "outputs": [],
   "source": [
    "tqdm.pandas()"
   ]
  },
  {
   "cell_type": "markdown",
   "metadata": {},
   "source": [
    "scores_retrotesting.hd5 - Предсказанные скоры для новостей"
   ]
  },
  {
   "cell_type": "code",
   "execution_count": 3,
   "metadata": {
    "collapsed": false,
    "jupyter": {
     "outputs_hidden": false
    },
    "pycharm": {
     "name": "#%%\n"
    }
   },
   "outputs": [
    {
     "data": {
      "text/html": [
       "<div>\n",
       "<style scoped>\n",
       "    .dataframe tbody tr th:only-of-type {\n",
       "        vertical-align: middle;\n",
       "    }\n",
       "\n",
       "    .dataframe tbody tr th {\n",
       "        vertical-align: top;\n",
       "    }\n",
       "\n",
       "    .dataframe thead th {\n",
       "        text-align: right;\n",
       "    }\n",
       "</style>\n",
       "<table border=\"1\" class=\"dataframe\">\n",
       "  <thead>\n",
       "    <tr style=\"text-align: right;\">\n",
       "      <th></th>\n",
       "      <th>observation_id</th>\n",
       "      <th>news_id</th>\n",
       "      <th>10_True_0.05</th>\n",
       "      <th>ticker</th>\n",
       "      <th>final_score</th>\n",
       "      <th>final_probabilities</th>\n",
       "      <th>probability_of_conversion_calibrated_by_source.name</th>\n",
       "      <th>probability</th>\n",
       "    </tr>\n",
       "  </thead>\n",
       "  <tbody>\n",
       "    <tr>\n",
       "      <th>0</th>\n",
       "      <td>3</td>\n",
       "      <td>000fb4a135119a9cf49fe51f91e37add</td>\n",
       "      <td>0.0</td>\n",
       "      <td>SALM</td>\n",
       "      <td>-1.322091</td>\n",
       "      <td>0.210471</td>\n",
       "      <td>0.052152</td>\n",
       "      <td>0.043633</td>\n",
       "    </tr>\n",
       "    <tr>\n",
       "      <th>1</th>\n",
       "      <td>4</td>\n",
       "      <td>000fda8be4442b6ffdcc247693075ffa</td>\n",
       "      <td>0.0</td>\n",
       "      <td>PCT</td>\n",
       "      <td>-1.206645</td>\n",
       "      <td>0.230295</td>\n",
       "      <td>0.000232</td>\n",
       "      <td>0.045608</td>\n",
       "    </tr>\n",
       "    <tr>\n",
       "      <th>2</th>\n",
       "      <td>13</td>\n",
       "      <td>00183e71753b66ed27eb5a59886eed7d</td>\n",
       "      <td>0.0</td>\n",
       "      <td>RXT</td>\n",
       "      <td>-4.440871</td>\n",
       "      <td>0.011648</td>\n",
       "      <td>0.000001</td>\n",
       "      <td>0.012884</td>\n",
       "    </tr>\n",
       "    <tr>\n",
       "      <th>3</th>\n",
       "      <td>83</td>\n",
       "      <td>008cc24b6c7b3411c1de52d6ab579c6c</td>\n",
       "      <td>0.0</td>\n",
       "      <td>ALYA</td>\n",
       "      <td>-1.930154</td>\n",
       "      <td>0.126734</td>\n",
       "      <td>0.052213</td>\n",
       "      <td>0.034512</td>\n",
       "    </tr>\n",
       "    <tr>\n",
       "      <th>4</th>\n",
       "      <td>190</td>\n",
       "      <td>01305f2972f162fa8e0a64d910b7a113</td>\n",
       "      <td>0.0</td>\n",
       "      <td>SELB</td>\n",
       "      <td>-1.934781</td>\n",
       "      <td>0.126222</td>\n",
       "      <td>0.000003</td>\n",
       "      <td>0.034450</td>\n",
       "    </tr>\n",
       "  </tbody>\n",
       "</table>\n",
       "</div>"
      ],
      "text/plain": [
       "   observation_id                           news_id  10_True_0.05 ticker  \\\n",
       "0               3  000fb4a135119a9cf49fe51f91e37add           0.0   SALM   \n",
       "1               4  000fda8be4442b6ffdcc247693075ffa           0.0    PCT   \n",
       "2              13  00183e71753b66ed27eb5a59886eed7d           0.0    RXT   \n",
       "3              83  008cc24b6c7b3411c1de52d6ab579c6c           0.0   ALYA   \n",
       "4             190  01305f2972f162fa8e0a64d910b7a113           0.0   SELB   \n",
       "\n",
       "   final_score  final_probabilities  \\\n",
       "0    -1.322091             0.210471   \n",
       "1    -1.206645             0.230295   \n",
       "2    -4.440871             0.011648   \n",
       "3    -1.930154             0.126734   \n",
       "4    -1.934781             0.126222   \n",
       "\n",
       "   probability_of_conversion_calibrated_by_source.name  probability  \n",
       "0                                           0.052152       0.043633  \n",
       "1                                           0.000232       0.045608  \n",
       "2                                           0.000001       0.012884  \n",
       "3                                           0.052213       0.034512  \n",
       "4                                           0.000003       0.034450  "
      ]
     },
     "execution_count": 3,
     "metadata": {},
     "output_type": "execute_result"
    }
   ],
   "source": [
    "scores = pd.read_hdf('scores_retrotesting.hd5', key='df')\n",
    "scores.head()"
   ]
  },
  {
   "cell_type": "code",
   "execution_count": 4,
   "metadata": {
    "collapsed": false,
    "jupyter": {
     "outputs_hidden": false
    },
    "pycharm": {
     "name": "#%%\n"
    }
   },
   "outputs": [
    {
     "data": {
      "text/html": [
       "<div>\n",
       "<style scoped>\n",
       "    .dataframe tbody tr th:only-of-type {\n",
       "        vertical-align: middle;\n",
       "    }\n",
       "\n",
       "    .dataframe tbody tr th {\n",
       "        vertical-align: top;\n",
       "    }\n",
       "\n",
       "    .dataframe thead th {\n",
       "        text-align: right;\n",
       "    }\n",
       "</style>\n",
       "<table border=\"1\" class=\"dataframe\">\n",
       "  <thead>\n",
       "    <tr style=\"text-align: right;\">\n",
       "      <th></th>\n",
       "      <th>observation_id</th>\n",
       "      <th>10_True_0.05</th>\n",
       "      <th>final_score</th>\n",
       "      <th>final_probabilities</th>\n",
       "      <th>probability_of_conversion_calibrated_by_source.name</th>\n",
       "      <th>probability</th>\n",
       "    </tr>\n",
       "  </thead>\n",
       "  <tbody>\n",
       "    <tr>\n",
       "      <th>count</th>\n",
       "      <td>36398.000000</td>\n",
       "      <td>36398.000000</td>\n",
       "      <td>36398.000000</td>\n",
       "      <td>3.639800e+04</td>\n",
       "      <td>36398.000000</td>\n",
       "      <td>36398.000000</td>\n",
       "    </tr>\n",
       "    <tr>\n",
       "      <th>mean</th>\n",
       "      <td>18198.500000</td>\n",
       "      <td>0.014754</td>\n",
       "      <td>-2.883906</td>\n",
       "      <td>1.351183e-01</td>\n",
       "      <td>0.028384</td>\n",
       "      <td>0.031537</td>\n",
       "    </tr>\n",
       "    <tr>\n",
       "      <th>std</th>\n",
       "      <td>10507.341886</td>\n",
       "      <td>0.120567</td>\n",
       "      <td>1.977213</td>\n",
       "      <td>1.935038e-01</td>\n",
       "      <td>0.060199</td>\n",
       "      <td>0.027775</td>\n",
       "    </tr>\n",
       "    <tr>\n",
       "      <th>min</th>\n",
       "      <td>0.000000</td>\n",
       "      <td>0.000000</td>\n",
       "      <td>-14.254610</td>\n",
       "      <td>6.446165e-07</td>\n",
       "      <td>0.000001</td>\n",
       "      <td>0.000254</td>\n",
       "    </tr>\n",
       "    <tr>\n",
       "      <th>25%</th>\n",
       "      <td>9099.250000</td>\n",
       "      <td>0.000000</td>\n",
       "      <td>-4.125994</td>\n",
       "      <td>1.589084e-02</td>\n",
       "      <td>0.000051</td>\n",
       "      <td>0.014594</td>\n",
       "    </tr>\n",
       "    <tr>\n",
       "      <th>50%</th>\n",
       "      <td>18198.500000</td>\n",
       "      <td>0.000000</td>\n",
       "      <td>-2.923671</td>\n",
       "      <td>5.099573e-02</td>\n",
       "      <td>0.002064</td>\n",
       "      <td>0.023431</td>\n",
       "    </tr>\n",
       "    <tr>\n",
       "      <th>75%</th>\n",
       "      <td>27297.750000</td>\n",
       "      <td>0.000000</td>\n",
       "      <td>-1.633194</td>\n",
       "      <td>1.633933e-01</td>\n",
       "      <td>0.041623</td>\n",
       "      <td>0.038711</td>\n",
       "    </tr>\n",
       "    <tr>\n",
       "      <th>max</th>\n",
       "      <td>36397.000000</td>\n",
       "      <td>1.000000</td>\n",
       "      <td>5.159716</td>\n",
       "      <td>9.942895e-01</td>\n",
       "      <td>0.999966</td>\n",
       "      <td>0.380742</td>\n",
       "    </tr>\n",
       "  </tbody>\n",
       "</table>\n",
       "</div>"
      ],
      "text/plain": [
       "       observation_id  10_True_0.05   final_score  final_probabilities  \\\n",
       "count    36398.000000  36398.000000  36398.000000         3.639800e+04   \n",
       "mean     18198.500000      0.014754     -2.883906         1.351183e-01   \n",
       "std      10507.341886      0.120567      1.977213         1.935038e-01   \n",
       "min          0.000000      0.000000    -14.254610         6.446165e-07   \n",
       "25%       9099.250000      0.000000     -4.125994         1.589084e-02   \n",
       "50%      18198.500000      0.000000     -2.923671         5.099573e-02   \n",
       "75%      27297.750000      0.000000     -1.633194         1.633933e-01   \n",
       "max      36397.000000      1.000000      5.159716         9.942895e-01   \n",
       "\n",
       "       probability_of_conversion_calibrated_by_source.name   probability  \n",
       "count                                       36398.000000    36398.000000  \n",
       "mean                                            0.028384        0.031537  \n",
       "std                                             0.060199        0.027775  \n",
       "min                                             0.000001        0.000254  \n",
       "25%                                             0.000051        0.014594  \n",
       "50%                                             0.002064        0.023431  \n",
       "75%                                             0.041623        0.038711  \n",
       "max                                             0.999966        0.380742  "
      ]
     },
     "execution_count": 4,
     "metadata": {},
     "output_type": "execute_result"
    }
   ],
   "source": [
    "scores.describe()"
   ]
  },
  {
   "cell_type": "markdown",
   "metadata": {},
   "source": [
    "ticker_price_moment_exit.hd5 - Точные интрадей данные по определенному тикеру в момент выхода новости (в текущую секунду)"
   ]
  },
  {
   "cell_type": "code",
   "execution_count": 5,
   "metadata": {
    "collapsed": false,
    "jupyter": {
     "outputs_hidden": false
    },
    "pycharm": {
     "name": "#%%\n"
    }
   },
   "outputs": [
    {
     "data": {
      "text/html": [
       "<div>\n",
       "<style scoped>\n",
       "    .dataframe tbody tr th:only-of-type {\n",
       "        vertical-align: middle;\n",
       "    }\n",
       "\n",
       "    .dataframe tbody tr th {\n",
       "        vertical-align: top;\n",
       "    }\n",
       "\n",
       "    .dataframe thead th {\n",
       "        text-align: right;\n",
       "    }\n",
       "</style>\n",
       "<table border=\"1\" class=\"dataframe\">\n",
       "  <thead>\n",
       "    <tr style=\"text-align: right;\">\n",
       "      <th></th>\n",
       "      <th>ticker</th>\n",
       "      <th>bidPrice</th>\n",
       "      <th>bidSize</th>\n",
       "      <th>askPrice</th>\n",
       "      <th>askSize</th>\n",
       "      <th>lastUpdated</th>\n",
       "      <th>lastSalePrice</th>\n",
       "      <th>lastSaleSize</th>\n",
       "      <th>lastSaleTime</th>\n",
       "      <th>volume</th>\n",
       "      <th>current_price</th>\n",
       "      <th>timestamp</th>\n",
       "      <th>news_id</th>\n",
       "    </tr>\n",
       "  </thead>\n",
       "  <tbody>\n",
       "    <tr>\n",
       "      <th>0</th>\n",
       "      <td>VS</td>\n",
       "      <td>0.0</td>\n",
       "      <td>0.0</td>\n",
       "      <td>0.0</td>\n",
       "      <td>0.0</td>\n",
       "      <td>1629316800000.0</td>\n",
       "      <td>4.33</td>\n",
       "      <td>6.0</td>\n",
       "      <td>1629316790023</td>\n",
       "      <td>46.0</td>\n",
       "      <td>4.24</td>\n",
       "      <td>1629716406</td>\n",
       "      <td>0000d467d1a52a6a84fc8b30adbe8ec2</td>\n",
       "    </tr>\n",
       "    <tr>\n",
       "      <th>1</th>\n",
       "      <td>VSSYW</td>\n",
       "      <td>0.0</td>\n",
       "      <td>0.0</td>\n",
       "      <td>0.0</td>\n",
       "      <td>0.0</td>\n",
       "      <td>1628193600000.0</td>\n",
       "      <td>1.55</td>\n",
       "      <td>25.0</td>\n",
       "      <td>1628178157384</td>\n",
       "      <td>25.0</td>\n",
       "      <td>2.08</td>\n",
       "      <td>1629716406</td>\n",
       "      <td>0000d467d1a52a6a84fc8b30adbe8ec2</td>\n",
       "    </tr>\n",
       "    <tr>\n",
       "      <th>3</th>\n",
       "      <td>BTBT</td>\n",
       "      <td>0.0</td>\n",
       "      <td>0.0</td>\n",
       "      <td>0.0</td>\n",
       "      <td>0.0</td>\n",
       "      <td>1632513600000.0</td>\n",
       "      <td>9.44</td>\n",
       "      <td>1.0</td>\n",
       "      <td>1632513582057</td>\n",
       "      <td>38333.0</td>\n",
       "      <td>9.46</td>\n",
       "      <td>1632747622</td>\n",
       "      <td>0007ea6c22fc24e1f34021185ad07e4e</td>\n",
       "    </tr>\n",
       "    <tr>\n",
       "      <th>4</th>\n",
       "      <td>CAN</td>\n",
       "      <td>0.0</td>\n",
       "      <td>0.0</td>\n",
       "      <td>0.0</td>\n",
       "      <td>0.0</td>\n",
       "      <td>1632515322537</td>\n",
       "      <td>6.16</td>\n",
       "      <td>80.0</td>\n",
       "      <td>1632514484013</td>\n",
       "      <td>453506.0</td>\n",
       "      <td>6.11</td>\n",
       "      <td>1632747622</td>\n",
       "      <td>0007ea6c22fc24e1f34021185ad07e4e</td>\n",
       "    </tr>\n",
       "    <tr>\n",
       "      <th>5</th>\n",
       "      <td>HVBT</td>\n",
       "      <td>0.0</td>\n",
       "      <td>0.0</td>\n",
       "      <td>0.0</td>\n",
       "      <td>0.0</td>\n",
       "      <td>1631563200000.0</td>\n",
       "      <td>3.06</td>\n",
       "      <td>300.0</td>\n",
       "      <td>1631563186154</td>\n",
       "      <td>33347.0</td>\n",
       "      <td>3.06</td>\n",
       "      <td>1632747622</td>\n",
       "      <td>0007ea6c22fc24e1f34021185ad07e4e</td>\n",
       "    </tr>\n",
       "  </tbody>\n",
       "</table>\n",
       "</div>"
      ],
      "text/plain": [
       "  ticker bidPrice bidSize askPrice askSize      lastUpdated lastSalePrice  \\\n",
       "0     VS      0.0     0.0      0.0     0.0  1629316800000.0          4.33   \n",
       "1  VSSYW      0.0     0.0      0.0     0.0  1628193600000.0          1.55   \n",
       "3   BTBT      0.0     0.0      0.0     0.0  1632513600000.0          9.44   \n",
       "4    CAN      0.0     0.0      0.0     0.0    1632515322537          6.16   \n",
       "5   HVBT      0.0     0.0      0.0     0.0  1631563200000.0          3.06   \n",
       "\n",
       "  lastSaleSize   lastSaleTime    volume current_price   timestamp  \\\n",
       "0          6.0  1629316790023      46.0          4.24  1629716406   \n",
       "1         25.0  1628178157384      25.0          2.08  1629716406   \n",
       "3          1.0  1632513582057   38333.0          9.46  1632747622   \n",
       "4         80.0  1632514484013  453506.0          6.11  1632747622   \n",
       "5        300.0  1631563186154   33347.0          3.06  1632747622   \n",
       "\n",
       "                            news_id  \n",
       "0  0000d467d1a52a6a84fc8b30adbe8ec2  \n",
       "1  0000d467d1a52a6a84fc8b30adbe8ec2  \n",
       "3  0007ea6c22fc24e1f34021185ad07e4e  \n",
       "4  0007ea6c22fc24e1f34021185ad07e4e  \n",
       "5  0007ea6c22fc24e1f34021185ad07e4e  "
      ]
     },
     "execution_count": 5,
     "metadata": {},
     "output_type": "execute_result"
    }
   ],
   "source": [
    "moment_price = pd.read_hdf('ticker_price_moment_exit.hd5', key='df')\n",
    "moment_price.head()"
   ]
  },
  {
   "cell_type": "markdown",
   "metadata": {},
   "source": [
    "intraday_data - данные по всем тикерам за дни тестирования (по-минутам)"
   ]
  },
  {
   "cell_type": "code",
   "execution_count": 4,
   "metadata": {
    "collapsed": false,
    "jupyter": {
     "outputs_hidden": false
    },
    "pycharm": {
     "name": "#%%\n"
    }
   },
   "outputs": [],
   "source": [
    "files = [f for f in listdir('data/intraday_data') if isfile(join('data/intraday_data', f))]"
   ]
  },
  {
   "cell_type": "code",
   "execution_count": 5,
   "metadata": {
    "collapsed": false,
    "jupyter": {
     "outputs_hidden": false
    },
    "pycharm": {
     "name": "#%%\n"
    }
   },
   "outputs": [
    {
     "data": {
      "text/html": [
       "<div>\n",
       "<style scoped>\n",
       "    .dataframe tbody tr th:only-of-type {\n",
       "        vertical-align: middle;\n",
       "    }\n",
       "\n",
       "    .dataframe tbody tr th {\n",
       "        vertical-align: top;\n",
       "    }\n",
       "\n",
       "    .dataframe thead th {\n",
       "        text-align: right;\n",
       "    }\n",
       "</style>\n",
       "<table border=\"1\" class=\"dataframe\">\n",
       "  <thead>\n",
       "    <tr style=\"text-align: right;\">\n",
       "      <th></th>\n",
       "      <th>open</th>\n",
       "      <th>high</th>\n",
       "      <th>close</th>\n",
       "      <th>low</th>\n",
       "      <th>volume</th>\n",
       "      <th>time</th>\n",
       "      <th>formated time</th>\n",
       "      <th>ticker</th>\n",
       "      <th>autofilled</th>\n",
       "      <th>date</th>\n",
       "    </tr>\n",
       "  </thead>\n",
       "  <tbody>\n",
       "    <tr>\n",
       "      <th>0</th>\n",
       "      <td>35.2400</td>\n",
       "      <td>35.2400</td>\n",
       "      <td>35.24</td>\n",
       "      <td>35.24</td>\n",
       "      <td>4578.0</td>\n",
       "      <td>2021-08-12 13:30:00</td>\n",
       "      <td>2021-08-12 13:30:00+00:00</td>\n",
       "      <td>WMG</td>\n",
       "      <td>False</td>\n",
       "      <td>2021-08-12</td>\n",
       "    </tr>\n",
       "    <tr>\n",
       "      <th>1</th>\n",
       "      <td>35.2400</td>\n",
       "      <td>NaN</td>\n",
       "      <td>35.24</td>\n",
       "      <td>NaN</td>\n",
       "      <td>NaN</td>\n",
       "      <td>2021-08-12 13:31:00</td>\n",
       "      <td>2021-08-12 13:31:00+00:00</td>\n",
       "      <td>WMG</td>\n",
       "      <td>True</td>\n",
       "      <td>2021-08-12</td>\n",
       "    </tr>\n",
       "    <tr>\n",
       "      <th>2</th>\n",
       "      <td>35.3200</td>\n",
       "      <td>35.3200</td>\n",
       "      <td>35.32</td>\n",
       "      <td>35.32</td>\n",
       "      <td>150.0</td>\n",
       "      <td>2021-08-12 13:32:00</td>\n",
       "      <td>2021-08-12 13:32:00+00:00</td>\n",
       "      <td>WMG</td>\n",
       "      <td>False</td>\n",
       "      <td>2021-08-12</td>\n",
       "    </tr>\n",
       "    <tr>\n",
       "      <th>3</th>\n",
       "      <td>35.3200</td>\n",
       "      <td>NaN</td>\n",
       "      <td>35.32</td>\n",
       "      <td>NaN</td>\n",
       "      <td>NaN</td>\n",
       "      <td>2021-08-12 13:33:00</td>\n",
       "      <td>2021-08-12 13:33:00+00:00</td>\n",
       "      <td>WMG</td>\n",
       "      <td>True</td>\n",
       "      <td>2021-08-12</td>\n",
       "    </tr>\n",
       "    <tr>\n",
       "      <th>4</th>\n",
       "      <td>35.2639</td>\n",
       "      <td>35.2639</td>\n",
       "      <td>35.21</td>\n",
       "      <td>35.18</td>\n",
       "      <td>3029.0</td>\n",
       "      <td>2021-08-12 13:34:00</td>\n",
       "      <td>2021-08-12 13:34:00+00:00</td>\n",
       "      <td>WMG</td>\n",
       "      <td>False</td>\n",
       "      <td>2021-08-12</td>\n",
       "    </tr>\n",
       "  </tbody>\n",
       "</table>\n",
       "</div>"
      ],
      "text/plain": [
       "      open     high  close    low  volume                time  \\\n",
       "0  35.2400  35.2400  35.24  35.24  4578.0 2021-08-12 13:30:00   \n",
       "1  35.2400      NaN  35.24    NaN     NaN 2021-08-12 13:31:00   \n",
       "2  35.3200  35.3200  35.32  35.32   150.0 2021-08-12 13:32:00   \n",
       "3  35.3200      NaN  35.32    NaN     NaN 2021-08-12 13:33:00   \n",
       "4  35.2639  35.2639  35.21  35.18  3029.0 2021-08-12 13:34:00   \n",
       "\n",
       "              formated time ticker  autofilled        date  \n",
       "0 2021-08-12 13:30:00+00:00    WMG       False  2021-08-12  \n",
       "1 2021-08-12 13:31:00+00:00    WMG        True  2021-08-12  \n",
       "2 2021-08-12 13:32:00+00:00    WMG       False  2021-08-12  \n",
       "3 2021-08-12 13:33:00+00:00    WMG        True  2021-08-12  \n",
       "4 2021-08-12 13:34:00+00:00    WMG       False  2021-08-12  "
      ]
     },
     "execution_count": 5,
     "metadata": {},
     "output_type": "execute_result"
    }
   ],
   "source": [
    "df_list = []\n",
    "for file in files:\n",
    "    temp_df = pd.read_hdf('data/intraday_data/' + file, key='df')\n",
    "    df_list.append(temp_df)\n",
    "intraday = pd.concat(df_list)\n",
    "intraday['date'] = pd.to_datetime(intraday['time'], unit='s')\n",
    "intraday['date'] = intraday['date'].dt.date\n",
    "#intraday = intraday[['open', 'close', 'time', 'ticker', 'date']]\n",
    "intraday['time'] = pd.to_datetime(intraday['time'], unit='s')\n",
    "intraday.head()"
   ]
  },
  {
   "cell_type": "markdown",
   "metadata": {},
   "source": [
    "Допустим, мы хотим зайти в позицию по активу в момент выхода новости.\n",
    "Рассмотрим сценарий, в котором мы заходим в позицию с новостями для которых модель предсказала высокий скор"
   ]
  },
  {
   "cell_type": "code",
   "execution_count": 8,
   "metadata": {
    "collapsed": false,
    "jupyter": {
     "outputs_hidden": false
    },
    "pycharm": {
     "name": "#%%\n"
    }
   },
   "outputs": [],
   "source": [
    "high_score = 0.1\n",
    "high_score_news = scores[scores['probability'] >= high_score]"
   ]
  },
  {
   "cell_type": "markdown",
   "metadata": {
    "pycharm": {
     "name": "#%% md\n"
    }
   },
   "source": [
    "Цена в момент публикации новости для новостей с высоким скором"
   ]
  },
  {
   "cell_type": "code",
   "execution_count": 9,
   "metadata": {
    "collapsed": false,
    "jupyter": {
     "outputs_hidden": false
    },
    "pycharm": {
     "name": "#%%\n"
    }
   },
   "outputs": [],
   "source": [
    "moment_price = moment_price[moment_price['news_id'].isin(high_score_news['news_id'])]"
   ]
  },
  {
   "cell_type": "code",
   "execution_count": 10,
   "metadata": {
    "collapsed": false,
    "jupyter": {
     "outputs_hidden": false
    },
    "pycharm": {
     "name": "#%%\n"
    }
   },
   "outputs": [],
   "source": [
    "moment_price = moment_price[['ticker', 'current_price', 'timestamp', 'news_id']]"
   ]
  },
  {
   "cell_type": "code",
   "execution_count": 11,
   "metadata": {
    "collapsed": false,
    "jupyter": {
     "outputs_hidden": false
    },
    "pycharm": {
     "name": "#%%\n"
    }
   },
   "outputs": [
    {
     "data": {
      "text/html": [
       "<div>\n",
       "<style scoped>\n",
       "    .dataframe tbody tr th:only-of-type {\n",
       "        vertical-align: middle;\n",
       "    }\n",
       "\n",
       "    .dataframe tbody tr th {\n",
       "        vertical-align: top;\n",
       "    }\n",
       "\n",
       "    .dataframe thead th {\n",
       "        text-align: right;\n",
       "    }\n",
       "</style>\n",
       "<table border=\"1\" class=\"dataframe\">\n",
       "  <thead>\n",
       "    <tr style=\"text-align: right;\">\n",
       "      <th></th>\n",
       "      <th>ticker</th>\n",
       "      <th>current_price</th>\n",
       "      <th>timestamp</th>\n",
       "      <th>news_id</th>\n",
       "      <th>time</th>\n",
       "      <th>date</th>\n",
       "    </tr>\n",
       "  </thead>\n",
       "  <tbody>\n",
       "    <tr>\n",
       "      <th>80</th>\n",
       "      <td>QD</td>\n",
       "      <td>1.57</td>\n",
       "      <td>1629795613</td>\n",
       "      <td>004d721f06bcc44ada6428bc4c82372c</td>\n",
       "      <td>2021-08-24 09:00:13</td>\n",
       "      <td>2021-08-24</td>\n",
       "    </tr>\n",
       "    <tr>\n",
       "      <th>188</th>\n",
       "      <td>PTON</td>\n",
       "      <td>114.09</td>\n",
       "      <td>1630008305</td>\n",
       "      <td>00c4fe497520e232e1e593160066c16b</td>\n",
       "      <td>2021-08-26 20:05:05</td>\n",
       "      <td>2021-08-26</td>\n",
       "    </tr>\n",
       "    <tr>\n",
       "      <th>193</th>\n",
       "      <td>VUZI</td>\n",
       "      <td>11.4</td>\n",
       "      <td>1631645489</td>\n",
       "      <td>00c9a60541dafc0ed0d8df0adc24c8e3</td>\n",
       "      <td>2021-09-14 18:51:29</td>\n",
       "      <td>2021-09-14</td>\n",
       "    </tr>\n",
       "    <tr>\n",
       "      <th>282</th>\n",
       "      <td>MLNK</td>\n",
       "      <td>28.46</td>\n",
       "      <td>1631045352</td>\n",
       "      <td>01275ce6fbd4fd3415805f1ee0e6afe3</td>\n",
       "      <td>2021-09-07 20:09:12</td>\n",
       "      <td>2021-09-07</td>\n",
       "    </tr>\n",
       "    <tr>\n",
       "      <th>286</th>\n",
       "      <td>ARCB</td>\n",
       "      <td>76.78</td>\n",
       "      <td>1632945914</td>\n",
       "      <td>012d84569d76c8c1894e20c0baecd195</td>\n",
       "      <td>2021-09-29 20:05:14</td>\n",
       "      <td>2021-09-29</td>\n",
       "    </tr>\n",
       "  </tbody>\n",
       "</table>\n",
       "</div>"
      ],
      "text/plain": [
       "    ticker current_price   timestamp                           news_id  \\\n",
       "80      QD          1.57  1629795613  004d721f06bcc44ada6428bc4c82372c   \n",
       "188   PTON        114.09  1630008305  00c4fe497520e232e1e593160066c16b   \n",
       "193   VUZI          11.4  1631645489  00c9a60541dafc0ed0d8df0adc24c8e3   \n",
       "282   MLNK         28.46  1631045352  01275ce6fbd4fd3415805f1ee0e6afe3   \n",
       "286   ARCB         76.78  1632945914  012d84569d76c8c1894e20c0baecd195   \n",
       "\n",
       "                   time        date  \n",
       "80  2021-08-24 09:00:13  2021-08-24  \n",
       "188 2021-08-26 20:05:05  2021-08-26  \n",
       "193 2021-09-14 18:51:29  2021-09-14  \n",
       "282 2021-09-07 20:09:12  2021-09-07  \n",
       "286 2021-09-29 20:05:14  2021-09-29  "
      ]
     },
     "execution_count": 11,
     "metadata": {},
     "output_type": "execute_result"
    }
   ],
   "source": [
    "moment_price['time'] = pd.to_datetime(moment_price['timestamp'], unit='s')\n",
    "moment_price['date'] = moment_price['time'].dt.date\n",
    "moment_price.head()"
   ]
  },
  {
   "cell_type": "markdown",
   "metadata": {
    "pycharm": {
     "name": "#%% md\n"
    }
   },
   "source": [
    "Цена за следующие n минут"
   ]
  },
  {
   "cell_type": "code",
   "execution_count": 26,
   "metadata": {
    "collapsed": false,
    "jupyter": {
     "outputs_hidden": false
    },
    "pycharm": {
     "name": "#%%\n"
    }
   },
   "outputs": [],
   "source": [
    "def get_next_price(row, duration=15):\n",
    "    result = [row['current_price']]\n",
    "    ticker_prices = intraday[(intraday['ticker'] == row['ticker']) & (intraday['date'] == row['date'])]\n",
    "    for m in range(1, duration + 1):\n",
    "        new_time = row['time'] + pd.Timedelta(minutes=m)\n",
    "        new_time =  new_time - pd.to_timedelta(new_time.second, unit='s')\n",
    "        price = ticker_prices[ticker_prices['time'] == new_time]['close']\n",
    "        result.extend(price)\n",
    "    return result"
   ]
  },
  {
   "cell_type": "code",
   "execution_count": 27,
   "metadata": {
    "pycharm": {
     "name": "#%%\n"
    },
    "tags": []
   },
   "outputs": [
    {
     "name": "stderr",
     "output_type": "stream",
     "text": [
      "100%|██████████| 816/816 [26:50<00:00,  1.97s/it]\n"
     ]
    }
   ],
   "source": [
    "result_price = moment_price.progress_apply(lambda x: get_next_price(x), axis=1)"
   ]
  },
  {
   "cell_type": "code",
   "execution_count": 32,
   "metadata": {
    "collapsed": false,
    "jupyter": {
     "outputs_hidden": false
    },
    "pycharm": {
     "name": "#%%\n"
    }
   },
   "outputs": [],
   "source": [
    "fifteen_m_data = pd.DataFrame.from_records(result_price.values)"
   ]
  },
  {
   "cell_type": "markdown",
   "metadata": {
    "pycharm": {
     "name": "#%% md\n"
    }
   },
   "source": [
    "Посмотрим, менялась ли цена во время 15 минут после выхода новости"
   ]
  },
  {
   "cell_type": "code",
   "execution_count": 68,
   "metadata": {
    "collapsed": false,
    "jupyter": {
     "outputs_hidden": false
    },
    "pycharm": {
     "name": "#%%\n"
    }
   },
   "outputs": [],
   "source": [
    "def has_price_changing(row):\n",
    "    return len(np.unique(row.values)) != 1"
   ]
  },
  {
   "cell_type": "code",
   "execution_count": 75,
   "metadata": {
    "collapsed": false,
    "jupyter": {
     "outputs_hidden": false
    },
    "pycharm": {
     "name": "#%%\n"
    }
   },
   "outputs": [
    {
     "data": {
      "text/html": [
       "<div>\n",
       "<style scoped>\n",
       "    .dataframe tbody tr th:only-of-type {\n",
       "        vertical-align: middle;\n",
       "    }\n",
       "\n",
       "    .dataframe tbody tr th {\n",
       "        vertical-align: top;\n",
       "    }\n",
       "\n",
       "    .dataframe thead th {\n",
       "        text-align: right;\n",
       "    }\n",
       "</style>\n",
       "<table border=\"1\" class=\"dataframe\">\n",
       "  <thead>\n",
       "    <tr style=\"text-align: right;\">\n",
       "      <th></th>\n",
       "      <th>0</th>\n",
       "      <th>1</th>\n",
       "      <th>2</th>\n",
       "      <th>3</th>\n",
       "      <th>4</th>\n",
       "      <th>5</th>\n",
       "      <th>6</th>\n",
       "      <th>7</th>\n",
       "      <th>8</th>\n",
       "      <th>9</th>\n",
       "      <th>10</th>\n",
       "      <th>11</th>\n",
       "      <th>12</th>\n",
       "      <th>13</th>\n",
       "      <th>14</th>\n",
       "      <th>15</th>\n",
       "      <th>has_price_changing</th>\n",
       "    </tr>\n",
       "  </thead>\n",
       "  <tbody>\n",
       "    <tr>\n",
       "      <th>0</th>\n",
       "      <td>1.57</td>\n",
       "      <td>1.59</td>\n",
       "      <td>1.59</td>\n",
       "      <td>1.590</td>\n",
       "      <td>1.5900</td>\n",
       "      <td>1.590</td>\n",
       "      <td>1.590</td>\n",
       "      <td>1.59</td>\n",
       "      <td>1.5900</td>\n",
       "      <td>1.59</td>\n",
       "      <td>1.59</td>\n",
       "      <td>1.59</td>\n",
       "      <td>1.590</td>\n",
       "      <td>1.5900</td>\n",
       "      <td>1.59</td>\n",
       "      <td>1.5900</td>\n",
       "      <td>False</td>\n",
       "    </tr>\n",
       "    <tr>\n",
       "      <th>1</th>\n",
       "      <td>114.09</td>\n",
       "      <td>98.44</td>\n",
       "      <td>98.79</td>\n",
       "      <td>98.100</td>\n",
       "      <td>98.7299</td>\n",
       "      <td>99.410</td>\n",
       "      <td>98.690</td>\n",
       "      <td>99.80</td>\n",
       "      <td>99.4500</td>\n",
       "      <td>101.50</td>\n",
       "      <td>101.62</td>\n",
       "      <td>101.26</td>\n",
       "      <td>100.630</td>\n",
       "      <td>101.0000</td>\n",
       "      <td>101.00</td>\n",
       "      <td>100.7600</td>\n",
       "      <td>True</td>\n",
       "    </tr>\n",
       "    <tr>\n",
       "      <th>2</th>\n",
       "      <td>11.40</td>\n",
       "      <td>11.43</td>\n",
       "      <td>11.38</td>\n",
       "      <td>11.378</td>\n",
       "      <td>11.3900</td>\n",
       "      <td>11.335</td>\n",
       "      <td>11.365</td>\n",
       "      <td>11.38</td>\n",
       "      <td>11.3599</td>\n",
       "      <td>11.37</td>\n",
       "      <td>11.36</td>\n",
       "      <td>11.35</td>\n",
       "      <td>11.335</td>\n",
       "      <td>11.3345</td>\n",
       "      <td>11.32</td>\n",
       "      <td>11.3756</td>\n",
       "      <td>True</td>\n",
       "    </tr>\n",
       "    <tr>\n",
       "      <th>3</th>\n",
       "      <td>28.46</td>\n",
       "      <td>29.50</td>\n",
       "      <td>29.50</td>\n",
       "      <td>29.500</td>\n",
       "      <td>29.5000</td>\n",
       "      <td>29.500</td>\n",
       "      <td>29.260</td>\n",
       "      <td>29.00</td>\n",
       "      <td>29.0000</td>\n",
       "      <td>29.00</td>\n",
       "      <td>29.00</td>\n",
       "      <td>29.00</td>\n",
       "      <td>29.000</td>\n",
       "      <td>29.0000</td>\n",
       "      <td>29.00</td>\n",
       "      <td>29.0000</td>\n",
       "      <td>True</td>\n",
       "    </tr>\n",
       "    <tr>\n",
       "      <th>4</th>\n",
       "      <td>76.78</td>\n",
       "      <td>76.78</td>\n",
       "      <td>76.78</td>\n",
       "      <td>76.780</td>\n",
       "      <td>76.7800</td>\n",
       "      <td>76.780</td>\n",
       "      <td>76.780</td>\n",
       "      <td>76.78</td>\n",
       "      <td>76.7800</td>\n",
       "      <td>76.78</td>\n",
       "      <td>76.78</td>\n",
       "      <td>76.78</td>\n",
       "      <td>76.780</td>\n",
       "      <td>76.7800</td>\n",
       "      <td>76.78</td>\n",
       "      <td>76.7800</td>\n",
       "      <td>False</td>\n",
       "    </tr>\n",
       "  </tbody>\n",
       "</table>\n",
       "</div>"
      ],
      "text/plain": [
       "        0      1      2       3        4       5       6      7        8  \\\n",
       "0    1.57   1.59   1.59   1.590   1.5900   1.590   1.590   1.59   1.5900   \n",
       "1  114.09  98.44  98.79  98.100  98.7299  99.410  98.690  99.80  99.4500   \n",
       "2   11.40  11.43  11.38  11.378  11.3900  11.335  11.365  11.38  11.3599   \n",
       "3   28.46  29.50  29.50  29.500  29.5000  29.500  29.260  29.00  29.0000   \n",
       "4   76.78  76.78  76.78  76.780  76.7800  76.780  76.780  76.78  76.7800   \n",
       "\n",
       "        9      10      11       12        13      14        15  \\\n",
       "0    1.59    1.59    1.59    1.590    1.5900    1.59    1.5900   \n",
       "1  101.50  101.62  101.26  100.630  101.0000  101.00  100.7600   \n",
       "2   11.37   11.36   11.35   11.335   11.3345   11.32   11.3756   \n",
       "3   29.00   29.00   29.00   29.000   29.0000   29.00   29.0000   \n",
       "4   76.78   76.78   76.78   76.780   76.7800   76.78   76.7800   \n",
       "\n",
       "   has_price_changing  \n",
       "0               False  \n",
       "1                True  \n",
       "2                True  \n",
       "3                True  \n",
       "4               False  "
      ]
     },
     "execution_count": 75,
     "metadata": {},
     "output_type": "execute_result"
    }
   ],
   "source": [
    "fifteen_m_data['has_price_changing'] = fifteen_m_data.iloc[:, 1:].apply(lambda x: has_price_changing(x), axis=1)\n",
    "fifteen_m_data.head()"
   ]
  },
  {
   "cell_type": "markdown",
   "metadata": {
    "pycharm": {
     "name": "#%% md\n"
    }
   },
   "source": [
    "В 270 случаях цена оставалась прежней на протяжении 15 минут после изменения в первую минуту после выхода материала.\n",
    "В 546 случаях цена менялась"
   ]
  },
  {
   "cell_type": "code",
   "execution_count": 76,
   "metadata": {
    "collapsed": false,
    "jupyter": {
     "outputs_hidden": false
    },
    "pycharm": {
     "name": "#%%\n"
    }
   },
   "outputs": [
    {
     "data": {
      "text/plain": [
       "(270, 17)"
      ]
     },
     "execution_count": 76,
     "metadata": {},
     "output_type": "execute_result"
    }
   ],
   "source": [
    "fifteen_m_data[fifteen_m_data['has_price_changing'] == 0].shape"
   ]
  },
  {
   "cell_type": "code",
   "execution_count": 77,
   "metadata": {
    "collapsed": false,
    "jupyter": {
     "outputs_hidden": false
    },
    "pycharm": {
     "name": "#%%\n"
    }
   },
   "outputs": [
    {
     "data": {
      "text/plain": [
       "(546, 17)"
      ]
     },
     "execution_count": 77,
     "metadata": {},
     "output_type": "execute_result"
    }
   ],
   "source": [
    "fifteen_m_data[fifteen_m_data['has_price_changing'] == 1].shape"
   ]
  },
  {
   "cell_type": "markdown",
   "metadata": {},
   "source": [
    "Посмотрим, на какой минуте цена достигает своего максимума"
   ]
  },
  {
   "cell_type": "code",
   "execution_count": 78,
   "metadata": {
    "collapsed": false,
    "jupyter": {
     "outputs_hidden": false
    },
    "pycharm": {
     "name": "#%%\n"
    }
   },
   "outputs": [],
   "source": [
    "def get_max_price_minute(row):\n",
    "    return np.argmax(row.values, axis=0)"
   ]
  },
  {
   "cell_type": "code",
   "execution_count": 79,
   "metadata": {
    "collapsed": false,
    "jupyter": {
     "outputs_hidden": false
    },
    "pycharm": {
     "name": "#%%\n"
    }
   },
   "outputs": [
    {
     "data": {
      "text/html": [
       "<div>\n",
       "<style scoped>\n",
       "    .dataframe tbody tr th:only-of-type {\n",
       "        vertical-align: middle;\n",
       "    }\n",
       "\n",
       "    .dataframe tbody tr th {\n",
       "        vertical-align: top;\n",
       "    }\n",
       "\n",
       "    .dataframe thead th {\n",
       "        text-align: right;\n",
       "    }\n",
       "</style>\n",
       "<table border=\"1\" class=\"dataframe\">\n",
       "  <thead>\n",
       "    <tr style=\"text-align: right;\">\n",
       "      <th></th>\n",
       "      <th>0</th>\n",
       "      <th>1</th>\n",
       "      <th>2</th>\n",
       "      <th>3</th>\n",
       "      <th>4</th>\n",
       "      <th>5</th>\n",
       "      <th>6</th>\n",
       "      <th>7</th>\n",
       "      <th>8</th>\n",
       "      <th>9</th>\n",
       "      <th>10</th>\n",
       "      <th>11</th>\n",
       "      <th>12</th>\n",
       "      <th>13</th>\n",
       "      <th>14</th>\n",
       "      <th>15</th>\n",
       "      <th>has_price_changing</th>\n",
       "      <th>max_minute</th>\n",
       "    </tr>\n",
       "  </thead>\n",
       "  <tbody>\n",
       "    <tr>\n",
       "      <th>0</th>\n",
       "      <td>1.57</td>\n",
       "      <td>1.59</td>\n",
       "      <td>1.59</td>\n",
       "      <td>1.590</td>\n",
       "      <td>1.5900</td>\n",
       "      <td>1.590</td>\n",
       "      <td>1.590</td>\n",
       "      <td>1.59</td>\n",
       "      <td>1.5900</td>\n",
       "      <td>1.59</td>\n",
       "      <td>1.59</td>\n",
       "      <td>1.59</td>\n",
       "      <td>1.590</td>\n",
       "      <td>1.5900</td>\n",
       "      <td>1.59</td>\n",
       "      <td>1.5900</td>\n",
       "      <td>False</td>\n",
       "      <td>1</td>\n",
       "    </tr>\n",
       "    <tr>\n",
       "      <th>1</th>\n",
       "      <td>114.09</td>\n",
       "      <td>98.44</td>\n",
       "      <td>98.79</td>\n",
       "      <td>98.100</td>\n",
       "      <td>98.7299</td>\n",
       "      <td>99.410</td>\n",
       "      <td>98.690</td>\n",
       "      <td>99.80</td>\n",
       "      <td>99.4500</td>\n",
       "      <td>101.50</td>\n",
       "      <td>101.62</td>\n",
       "      <td>101.26</td>\n",
       "      <td>100.630</td>\n",
       "      <td>101.0000</td>\n",
       "      <td>101.00</td>\n",
       "      <td>100.7600</td>\n",
       "      <td>True</td>\n",
       "      <td>0</td>\n",
       "    </tr>\n",
       "    <tr>\n",
       "      <th>2</th>\n",
       "      <td>11.40</td>\n",
       "      <td>11.43</td>\n",
       "      <td>11.38</td>\n",
       "      <td>11.378</td>\n",
       "      <td>11.3900</td>\n",
       "      <td>11.335</td>\n",
       "      <td>11.365</td>\n",
       "      <td>11.38</td>\n",
       "      <td>11.3599</td>\n",
       "      <td>11.37</td>\n",
       "      <td>11.36</td>\n",
       "      <td>11.35</td>\n",
       "      <td>11.335</td>\n",
       "      <td>11.3345</td>\n",
       "      <td>11.32</td>\n",
       "      <td>11.3756</td>\n",
       "      <td>True</td>\n",
       "      <td>1</td>\n",
       "    </tr>\n",
       "    <tr>\n",
       "      <th>3</th>\n",
       "      <td>28.46</td>\n",
       "      <td>29.50</td>\n",
       "      <td>29.50</td>\n",
       "      <td>29.500</td>\n",
       "      <td>29.5000</td>\n",
       "      <td>29.500</td>\n",
       "      <td>29.260</td>\n",
       "      <td>29.00</td>\n",
       "      <td>29.0000</td>\n",
       "      <td>29.00</td>\n",
       "      <td>29.00</td>\n",
       "      <td>29.00</td>\n",
       "      <td>29.000</td>\n",
       "      <td>29.0000</td>\n",
       "      <td>29.00</td>\n",
       "      <td>29.0000</td>\n",
       "      <td>True</td>\n",
       "      <td>1</td>\n",
       "    </tr>\n",
       "    <tr>\n",
       "      <th>4</th>\n",
       "      <td>76.78</td>\n",
       "      <td>76.78</td>\n",
       "      <td>76.78</td>\n",
       "      <td>76.780</td>\n",
       "      <td>76.7800</td>\n",
       "      <td>76.780</td>\n",
       "      <td>76.780</td>\n",
       "      <td>76.78</td>\n",
       "      <td>76.7800</td>\n",
       "      <td>76.78</td>\n",
       "      <td>76.78</td>\n",
       "      <td>76.78</td>\n",
       "      <td>76.780</td>\n",
       "      <td>76.7800</td>\n",
       "      <td>76.78</td>\n",
       "      <td>76.7800</td>\n",
       "      <td>False</td>\n",
       "      <td>0</td>\n",
       "    </tr>\n",
       "  </tbody>\n",
       "</table>\n",
       "</div>"
      ],
      "text/plain": [
       "        0      1      2       3        4       5       6      7        8  \\\n",
       "0    1.57   1.59   1.59   1.590   1.5900   1.590   1.590   1.59   1.5900   \n",
       "1  114.09  98.44  98.79  98.100  98.7299  99.410  98.690  99.80  99.4500   \n",
       "2   11.40  11.43  11.38  11.378  11.3900  11.335  11.365  11.38  11.3599   \n",
       "3   28.46  29.50  29.50  29.500  29.5000  29.500  29.260  29.00  29.0000   \n",
       "4   76.78  76.78  76.78  76.780  76.7800  76.780  76.780  76.78  76.7800   \n",
       "\n",
       "        9      10      11       12        13      14        15  \\\n",
       "0    1.59    1.59    1.59    1.590    1.5900    1.59    1.5900   \n",
       "1  101.50  101.62  101.26  100.630  101.0000  101.00  100.7600   \n",
       "2   11.37   11.36   11.35   11.335   11.3345   11.32   11.3756   \n",
       "3   29.00   29.00   29.00   29.000   29.0000   29.00   29.0000   \n",
       "4   76.78   76.78   76.78   76.780   76.7800   76.78   76.7800   \n",
       "\n",
       "   has_price_changing  max_minute  \n",
       "0               False           1  \n",
       "1                True           0  \n",
       "2                True           1  \n",
       "3                True           1  \n",
       "4               False           0  "
      ]
     },
     "execution_count": 79,
     "metadata": {},
     "output_type": "execute_result"
    }
   ],
   "source": [
    "fifteen_m_data['max_minute'] = fifteen_m_data.apply(lambda x: get_max_price_minute(x), axis=1)\n",
    "fifteen_m_data.head()"
   ]
  },
  {
   "cell_type": "markdown",
   "metadata": {
    "pycharm": {
     "name": "#%% md\n"
    }
   },
   "source": [
    "В основном максимум цены достигается в момент выхода новости и в первую минуту после ее выхода"
   ]
  },
  {
   "cell_type": "code",
   "execution_count": 84,
   "metadata": {
    "collapsed": false,
    "jupyter": {
     "outputs_hidden": false
    },
    "pycharm": {
     "name": "#%%\n"
    }
   },
   "outputs": [
    {
     "data": {
      "text/plain": [
       "0     130\n",
       "1     121\n",
       "15     34\n",
       "2      31\n",
       "3      28\n",
       "16     28\n",
       "4      22\n",
       "14     21\n",
       "8      19\n",
       "11     17\n",
       "13     16\n",
       "5      16\n",
       "10     14\n",
       "6      13\n",
       "7      12\n",
       "9      12\n",
       "12     12\n",
       "Name: max_minute, dtype: int64"
      ]
     },
     "execution_count": 84,
     "metadata": {},
     "output_type": "execute_result"
    }
   ],
   "source": [
    "fifteen_m_data[fifteen_m_data['has_price_changing'] == 1]['max_minute'].value_counts()"
   ]
  },
  {
   "cell_type": "code",
   "execution_count": 87,
   "metadata": {
    "collapsed": false,
    "jupyter": {
     "outputs_hidden": false
    },
    "pycharm": {
     "name": "#%%\n"
    }
   },
   "outputs": [
    {
     "data": {
      "text/plain": [
       "<AxesSubplot:>"
      ]
     },
     "execution_count": 87,
     "metadata": {},
     "output_type": "execute_result"
    },
    {
     "data": {
      "image/png": "[encoded data removed]",
      "text/plain": [
       "<Figure size 432x288 with 1 Axes>"
      ]
     },
     "metadata": {
      "needs_background": "light"
     },
     "output_type": "display_data"
    }
   ],
   "source": [
    "fifteen_m_data[fifteen_m_data['has_price_changing'] == 1]['max_minute'].hist()"
   ]
  },
  {
   "cell_type": "code",
   "execution_count": null,
   "metadata": {
    "collapsed": false,
    "jupyter": {
     "outputs_hidden": false
    },
    "pycharm": {
     "name": "#%%\n"
    }
   },
   "outputs": [],
   "source": []
  },
  {
   "cell_type": "code",
   "execution_count": null,
   "metadata": {
    "collapsed": false,
    "jupyter": {
     "outputs_hidden": false
    },
    "pycharm": {
     "name": "#%%\n"
    }
   },
   "outputs": [],
   "source": []
  }
 ],
 "metadata": {
  "kernelspec": {
   "display_name": "Python 3",
   "language": "python",
   "name": "python3"
  },
  "language_info": {
   "codemirror_mode": {
    "name": "ipython",
    "version": 3
   },
   "file_extension": ".py",
   "mimetype": "text/x-python",
   "name": "python",
   "nbconvert_exporter": "python",
   "pygments_lexer": "ipython3",
   "version": "3.7.10"
  }
 },
 "nbformat": 4,
 "nbformat_minor": 4
}
