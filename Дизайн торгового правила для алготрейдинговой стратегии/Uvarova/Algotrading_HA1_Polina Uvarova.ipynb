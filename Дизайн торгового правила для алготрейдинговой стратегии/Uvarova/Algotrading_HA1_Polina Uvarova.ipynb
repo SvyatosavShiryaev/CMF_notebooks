{
 "cells": [
  {
   "cell_type": "markdown",
   "id": "dad7f506",
   "metadata": {},
   "source": [
    "# HA1, Polina Uvarova"
   ]
  },
  {
   "cell_type": "markdown",
   "id": "f7368be3",
   "metadata": {},
   "source": [
    "# Задание"
   ]
  },
  {
   "cell_type": "markdown",
   "id": "77a1d677",
   "metadata": {},
   "source": [
    "Допустим ты хочешь зайти в позицию по активу в момент выхода новости.\n",
    "Пользуясь данными по ссылке на диске (ticker_price_moment_exit.hd5 и intraday_data) рассмотреть сценарий, в котором ты заходишь в позицию с новостями для которых модель предсказала высокий скор (scores_retrotesting.hd5)"
   ]
  },
  {
   "cell_type": "markdown",
   "id": "b69802f5",
   "metadata": {},
   "source": [
    "# Решение"
   ]
  },
  {
   "cell_type": "markdown",
   "id": "451ee171",
   "metadata": {},
   "source": [
    "0. Знакомство с данными"
   ]
  },
  {
   "cell_type": "code",
   "execution_count": 1,
   "id": "17f23539",
   "metadata": {},
   "outputs": [],
   "source": [
    "import pandas as pd\n",
    "import matplotlib.pyplot as plt\n",
    "import numpy as np\n",
    "import seaborn as sns"
   ]
  },
  {
   "cell_type": "code",
   "execution_count": 2,
   "id": "c1b45961",
   "metadata": {},
   "outputs": [],
   "source": [
    "scores_retrotesting = pd.read_hdf('scores_retrotesting.hd5', key='df')\n",
    "#scores_retrotesting.head()"
   ]
  },
  {
   "cell_type": "code",
   "execution_count": 3,
   "id": "f38ebb17",
   "metadata": {},
   "outputs": [],
   "source": [
    "ticker_price_moment_exit = pd.read_hdf('ticker_price_moment_exit.hd5', key='df')\n",
    "#ticker_price_moment_exit.head()"
   ]
  },
  {
   "cell_type": "code",
   "execution_count": 4,
   "id": "1a30c6d4",
   "metadata": {},
   "outputs": [
    {
     "data": {
      "text/plain": [
       "count    36398.000000\n",
       "mean        -2.883906\n",
       "std          1.977213\n",
       "min        -14.254610\n",
       "25%         -4.125994\n",
       "50%         -2.923671\n",
       "75%         -1.633194\n",
       "max          5.159716\n",
       "Name: final_score, dtype: float64"
      ]
     },
     "execution_count": 4,
     "metadata": {},
     "output_type": "execute_result"
    }
   ],
   "source": [
    "scores_retrotesting['final_score'].describe()"
   ]
  },
  {
   "cell_type": "markdown",
   "id": "06367075",
   "metadata": {},
   "source": [
    "Мы видим, что значительная часть наблюдений имеет негативный скор. То есть область нашего интереса сосредоточена на узком участке данных. Кроме того, дано нам не говорит, как мы понимаем \"высокий скор\". Давайте проанализируем участок датасета с хотя бы положительным скором."
   ]
  },
  {
   "cell_type": "code",
   "execution_count": 5,
   "id": "d6f65a79",
   "metadata": {},
   "outputs": [
    {
     "data": {
      "text/plain": [
       "count    2658.000000\n",
       "mean        0.962754\n",
       "std         0.840633\n",
       "min         0.000150\n",
       "25%         0.317807\n",
       "50%         0.709202\n",
       "75%         1.377775\n",
       "max         5.159716\n",
       "Name: final_score, dtype: float64"
      ]
     },
     "execution_count": 5,
     "metadata": {},
     "output_type": "execute_result"
    }
   ],
   "source": [
    "positive_final_score = scores_retrotesting[scores_retrotesting['final_score'] >= 0]\n",
    "positive_final_score['final_score'].describe()"
   ]
  },
  {
   "cell_type": "code",
   "execution_count": 6,
   "id": "32122d17",
   "metadata": {},
   "outputs": [
    {
     "name": "stderr",
     "output_type": "stream",
     "text": [
      "C:\\ProgramData\\Anaconda3\\lib\\site-packages\\seaborn\\distributions.py:2557: FutureWarning: `distplot` is a deprecated function and will be removed in a future version. Please adapt your code to use either `displot` (a figure-level function with similar flexibility) or `histplot` (an axes-level function for histograms).\n",
      "  warnings.warn(msg, FutureWarning)\n"
     ]
    },
    {
     "data": {
      "image/png": "[encoded data removed]",
      "text/plain": [
       "<Figure size 1152x360 with 1 Axes>"
      ]
     },
     "metadata": {
      "needs_background": "light"
     },
     "output_type": "display_data"
    }
   ],
   "source": [
    "fig = plt.figure(figsize=(16, 5))\n",
    "\n",
    "sns.distplot(positive_final_score['final_score'], hist=True, kde=False, \n",
    "             bins=60,\n",
    "             hist_kws={'edgecolor':'black'},\n",
    "             kde_kws={'linewidth': 4})\n",
    "\n",
    "plt.title(\"Histogram of positive final score\", weight=\"bold\")\n",
    "\n",
    "plt.show()"
   ]
  },
  {
   "cell_type": "markdown",
   "id": "0af3696d",
   "metadata": {},
   "source": [
    "похоже на гамма распределение"
   ]
  },
  {
   "cell_type": "code",
   "execution_count": 7,
   "id": "dece2447",
   "metadata": {},
   "outputs": [],
   "source": [
    "import scipy.stats as stats"
   ]
  },
  {
   "cell_type": "code",
   "execution_count": 8,
   "id": "7d966198",
   "metadata": {},
   "outputs": [
    {
     "name": "stdout",
     "output_type": "stream",
     "text": [
      "stat=0.361, p=0.000\n",
      "H0 is not accepted\n"
     ]
    }
   ],
   "source": [
    "stat,p = stats.kstest(positive_final_score['final_score'],'gamma', args=(1.99,))\n",
    "print('stat=%.3f, p=%.3f' % (stat, p))\n",
    "if p > 0.05:\n",
    "    print('H0 is not rejected')\n",
    "else:\n",
    "    print('H0 is not accepted')"
   ]
  },
  {
   "cell_type": "markdown",
   "id": "02ca7e4a",
   "metadata": {},
   "source": [
    "ладно, не гамма"
   ]
  },
  {
   "cell_type": "code",
   "execution_count": 9,
   "id": "23f149fa",
   "metadata": {},
   "outputs": [
    {
     "data": {
      "text/plain": [
       "count    180.000000\n",
       "mean       1.294701\n",
       "std        0.927683\n",
       "min        0.007675\n",
       "25%        0.553362\n",
       "50%        1.172128\n",
       "75%        1.904535\n",
       "max        4.363404\n",
       "Name: final_score, dtype: float64"
      ]
     },
     "execution_count": 9,
     "metadata": {},
     "output_type": "execute_result"
    }
   ],
   "source": [
    "positive_final_score_target1 = positive_final_score[positive_final_score['10_True_0.05'] == 1]\n",
    "positive_final_score_target1['final_score'].describe()"
   ]
  },
  {
   "cell_type": "code",
   "execution_count": 10,
   "id": "ef1c208d",
   "metadata": {},
   "outputs": [
    {
     "name": "stderr",
     "output_type": "stream",
     "text": [
      "C:\\ProgramData\\Anaconda3\\lib\\site-packages\\seaborn\\distributions.py:2557: FutureWarning: `distplot` is a deprecated function and will be removed in a future version. Please adapt your code to use either `displot` (a figure-level function with similar flexibility) or `histplot` (an axes-level function for histograms).\n",
      "  warnings.warn(msg, FutureWarning)\n"
     ]
    },
    {
     "data": {
      "image/png": "[encoded data removed]",
      "text/plain": [
       "<Figure size 1152x360 with 1 Axes>"
      ]
     },
     "metadata": {
      "needs_background": "light"
     },
     "output_type": "display_data"
    }
   ],
   "source": [
    "fig = plt.figure(figsize=(16, 5))\n",
    "\n",
    "sns.distplot(positive_final_score_target1['final_score'], hist=True, kde=False, \n",
    "             bins=60,\n",
    "             hist_kws={'edgecolor':'black'},\n",
    "             kde_kws={'linewidth': 4})\n",
    "\n",
    "plt.title(\"Histogram of positive final score with ahieved target\", weight=\"bold\")\n",
    "\n",
    "plt.show()"
   ]
  },
  {
   "cell_type": "code",
   "execution_count": 11,
   "id": "00946df8",
   "metadata": {},
   "outputs": [
    {
     "data": {
      "text/plain": [
       "count    1668.000000\n",
       "mean        1.393246\n",
       "std         0.785349\n",
       "min         0.500126\n",
       "25%         0.787382\n",
       "50%         1.170210\n",
       "75%         1.783352\n",
       "max         5.159716\n",
       "Name: final_score, dtype: float64"
      ]
     },
     "execution_count": 11,
     "metadata": {},
     "output_type": "execute_result"
    }
   ],
   "source": [
    "positive_final_score_1 = positive_final_score[positive_final_score['final_score'] >= 0.5]\n",
    "positive_final_score_1['final_score'].describe()"
   ]
  },
  {
   "cell_type": "code",
   "execution_count": 12,
   "id": "1137ff53",
   "metadata": {},
   "outputs": [
    {
     "name": "stderr",
     "output_type": "stream",
     "text": [
      "C:\\ProgramData\\Anaconda3\\lib\\site-packages\\seaborn\\distributions.py:2557: FutureWarning: `distplot` is a deprecated function and will be removed in a future version. Please adapt your code to use either `displot` (a figure-level function with similar flexibility) or `histplot` (an axes-level function for histograms).\n",
      "  warnings.warn(msg, FutureWarning)\n"
     ]
    },
    {
     "data": {
      "image/png": "[encoded data removed]",
      "text/plain": [
       "<Figure size 1152x360 with 1 Axes>"
      ]
     },
     "metadata": {
      "needs_background": "light"
     },
     "output_type": "display_data"
    }
   ],
   "source": [
    "fig = plt.figure(figsize=(16, 5))\n",
    "\n",
    "sns.distplot(positive_final_score_1['final_score'], hist=True, kde=False, \n",
    "             bins=60,\n",
    "             hist_kws={'edgecolor':'black'},\n",
    "             kde_kws={'linewidth': 4})\n",
    "\n",
    "plt.title(\"Histogram of final score more than 0.7\", weight=\"bold\")\n",
    "\n",
    "plt.show()"
   ]
  },
  {
   "cell_type": "code",
   "execution_count": 13,
   "id": "4d88fded",
   "metadata": {},
   "outputs": [
    {
     "name": "stdout",
     "output_type": "stream",
     "text": [
      "0.07302599043903511\n"
     ]
    }
   ],
   "source": [
    "print(positive_final_score['final_score'].count()/scores_retrotesting['final_score'].count())"
   ]
  },
  {
   "cell_type": "markdown",
   "id": "a379f1fa",
   "metadata": {},
   "source": [
    "Мы видим, что положительным скором обладают всего 7.3% новостей/наблюдений."
   ]
  },
  {
   "cell_type": "code",
   "execution_count": 14,
   "id": "fd081099",
   "metadata": {},
   "outputs": [
    {
     "data": {
      "text/html": [
       "<div>\n",
       "<style scoped>\n",
       "    .dataframe tbody tr th:only-of-type {\n",
       "        vertical-align: middle;\n",
       "    }\n",
       "\n",
       "    .dataframe tbody tr th {\n",
       "        vertical-align: top;\n",
       "    }\n",
       "\n",
       "    .dataframe thead th {\n",
       "        text-align: right;\n",
       "    }\n",
       "</style>\n",
       "<table border=\"1\" class=\"dataframe\">\n",
       "  <thead>\n",
       "    <tr style=\"text-align: right;\">\n",
       "      <th></th>\n",
       "      <th>ticker</th>\n",
       "      <th>publishedAt</th>\n",
       "      <th>val_flag</th>\n",
       "      <th>observation_id</th>\n",
       "      <th>news_id</th>\n",
       "    </tr>\n",
       "  </thead>\n",
       "  <tbody>\n",
       "    <tr>\n",
       "      <th>0</th>\n",
       "      <td>MSFT</td>\n",
       "      <td>2020-08-03 23:45:58+00:00</td>\n",
       "      <td>0</td>\n",
       "      <td>213171</td>\n",
       "      <td>b65b908409773fd7a7fb489aafb8c547</td>\n",
       "    </tr>\n",
       "    <tr>\n",
       "      <th>1</th>\n",
       "      <td>MSFT</td>\n",
       "      <td>2020-08-03 23:45:58+00:00</td>\n",
       "      <td>0</td>\n",
       "      <td>54015</td>\n",
       "      <td>2e058d35d8f8df3b21564d08c06bf98c</td>\n",
       "    </tr>\n",
       "    <tr>\n",
       "      <th>2</th>\n",
       "      <td>ATVI</td>\n",
       "      <td>2020-08-03 23:42:26.655000+00:00</td>\n",
       "      <td>0</td>\n",
       "      <td>193143</td>\n",
       "      <td>a52bd4c43676e10cb41472f788306734</td>\n",
       "    </tr>\n",
       "    <tr>\n",
       "      <th>3</th>\n",
       "      <td>IDEX</td>\n",
       "      <td>2020-08-03 23:41:31+00:00</td>\n",
       "      <td>0</td>\n",
       "      <td>9674</td>\n",
       "      <td>082315fb122f8a86bca0e7db1a39df32</td>\n",
       "    </tr>\n",
       "    <tr>\n",
       "      <th>4</th>\n",
       "      <td>MSFT</td>\n",
       "      <td>2020-08-03 23:31:24.452000+00:00</td>\n",
       "      <td>0</td>\n",
       "      <td>256732</td>\n",
       "      <td>dba0f2f6caad1720801d0e2d35d6c16f</td>\n",
       "    </tr>\n",
       "  </tbody>\n",
       "</table>\n",
       "</div>"
      ],
      "text/plain": [
       "  ticker                      publishedAt  val_flag  observation_id  \\\n",
       "0   MSFT        2020-08-03 23:45:58+00:00         0          213171   \n",
       "1   MSFT        2020-08-03 23:45:58+00:00         0           54015   \n",
       "2   ATVI 2020-08-03 23:42:26.655000+00:00         0          193143   \n",
       "3   IDEX        2020-08-03 23:41:31+00:00         0            9674   \n",
       "4   MSFT 2020-08-03 23:31:24.452000+00:00         0          256732   \n",
       "\n",
       "                            news_id  \n",
       "0  b65b908409773fd7a7fb489aafb8c547  \n",
       "1  2e058d35d8f8df3b21564d08c06bf98c  \n",
       "2  a52bd4c43676e10cb41472f788306734  \n",
       "3  082315fb122f8a86bca0e7db1a39df32  \n",
       "4  dba0f2f6caad1720801d0e2d35d6c16f  "
      ]
     },
     "execution_count": 14,
     "metadata": {},
     "output_type": "execute_result"
    }
   ],
   "source": [
    "main_dev_sample = pd.read_hdf('main_dev_sample.hd5', key='df')\n",
    "main_dev_sample.head()"
   ]
  },
  {
   "cell_type": "code",
   "execution_count": 15,
   "id": "42cb68ad",
   "metadata": {},
   "outputs": [
    {
     "data": {
      "text/html": [
       "<div>\n",
       "<style scoped>\n",
       "    .dataframe tbody tr th:only-of-type {\n",
       "        vertical-align: middle;\n",
       "    }\n",
       "\n",
       "    .dataframe tbody tr th {\n",
       "        vertical-align: top;\n",
       "    }\n",
       "\n",
       "    .dataframe thead th {\n",
       "        text-align: right;\n",
       "    }\n",
       "</style>\n",
       "<table border=\"1\" class=\"dataframe\">\n",
       "  <thead>\n",
       "    <tr style=\"text-align: right;\">\n",
       "      <th></th>\n",
       "      <th>ticker</th>\n",
       "      <th>publishedAt</th>\n",
       "      <th>val_flag</th>\n",
       "      <th>observation_id</th>\n",
       "      <th>news_id</th>\n",
       "    </tr>\n",
       "  </thead>\n",
       "  <tbody>\n",
       "    <tr>\n",
       "      <th>298853</th>\n",
       "      <td>EPZM</td>\n",
       "      <td>2021-08-09 08:30:00+00:00</td>\n",
       "      <td>1</td>\n",
       "      <td>263116</td>\n",
       "      <td>e1338333198d85acc30d50bc5d500bc1</td>\n",
       "    </tr>\n",
       "    <tr>\n",
       "      <th>298854</th>\n",
       "      <td>AMZN</td>\n",
       "      <td>2021-08-09 08:11:28.638000+00:00</td>\n",
       "      <td>1</td>\n",
       "      <td>18954</td>\n",
       "      <td>100dfe030d4d628459afa319362c1034</td>\n",
       "    </tr>\n",
       "    <tr>\n",
       "      <th>298855</th>\n",
       "      <td>PDD</td>\n",
       "      <td>2021-08-09 08:09:18+00:00</td>\n",
       "      <td>1</td>\n",
       "      <td>42702</td>\n",
       "      <td>2463ba9896b55cd863e148448dc293eb</td>\n",
       "    </tr>\n",
       "    <tr>\n",
       "      <th>298856</th>\n",
       "      <td>BABA</td>\n",
       "      <td>2021-08-09 08:01:00+00:00</td>\n",
       "      <td>1</td>\n",
       "      <td>235642</td>\n",
       "      <td>c982ad693b8472843929304ecf234d56</td>\n",
       "    </tr>\n",
       "    <tr>\n",
       "      <th>298857</th>\n",
       "      <td>BNTX</td>\n",
       "      <td>2021-08-09 08:00:00+00:00</td>\n",
       "      <td>1</td>\n",
       "      <td>127246</td>\n",
       "      <td>6d1a9e2e56c13b3baec11130b585a7ed</td>\n",
       "    </tr>\n",
       "  </tbody>\n",
       "</table>\n",
       "</div>"
      ],
      "text/plain": [
       "       ticker                      publishedAt  val_flag  observation_id  \\\n",
       "298853   EPZM        2021-08-09 08:30:00+00:00         1          263116   \n",
       "298854   AMZN 2021-08-09 08:11:28.638000+00:00         1           18954   \n",
       "298855    PDD        2021-08-09 08:09:18+00:00         1           42702   \n",
       "298856   BABA        2021-08-09 08:01:00+00:00         1          235642   \n",
       "298857   BNTX        2021-08-09 08:00:00+00:00         1          127246   \n",
       "\n",
       "                                 news_id  \n",
       "298853  e1338333198d85acc30d50bc5d500bc1  \n",
       "298854  100dfe030d4d628459afa319362c1034  \n",
       "298855  2463ba9896b55cd863e148448dc293eb  \n",
       "298856  c982ad693b8472843929304ecf234d56  \n",
       "298857  6d1a9e2e56c13b3baec11130b585a7ed  "
      ]
     },
     "execution_count": 15,
     "metadata": {},
     "output_type": "execute_result"
    }
   ],
   "source": [
    "main_dev_sample.tail()"
   ]
  },
  {
   "cell_type": "code",
   "execution_count": 16,
   "id": "71d3eed4",
   "metadata": {},
   "outputs": [
    {
     "data": {
      "text/plain": [
       "count                                 298858\n",
       "mean     2021-02-12 12:51:39.711063808+00:00\n",
       "min                2020-08-03 08:00:00+00:00\n",
       "25%         2020-11-09 12:45:04.500000+00:00\n",
       "50%                2021-02-22 12:00:13+00:00\n",
       "75%      2021-05-13 14:06:26.249999872+00:00\n",
       "max                2021-08-09 23:47:29+00:00\n",
       "Name: publishedAt, dtype: object"
      ]
     },
     "execution_count": 16,
     "metadata": {},
     "output_type": "execute_result"
    }
   ],
   "source": [
    "main_dev_sample['publishedAt'].describe(datetime_is_numeric=True)"
   ]
  },
  {
   "cell_type": "code",
   "execution_count": 17,
   "id": "f480230c",
   "metadata": {},
   "outputs": [
    {
     "data": {
      "text/html": [
       "<div>\n",
       "<style scoped>\n",
       "    .dataframe tbody tr th:only-of-type {\n",
       "        vertical-align: middle;\n",
       "    }\n",
       "\n",
       "    .dataframe tbody tr th {\n",
       "        vertical-align: top;\n",
       "    }\n",
       "\n",
       "    .dataframe thead th {\n",
       "        text-align: right;\n",
       "    }\n",
       "</style>\n",
       "<table border=\"1\" class=\"dataframe\">\n",
       "  <thead>\n",
       "    <tr style=\"text-align: right;\">\n",
       "      <th></th>\n",
       "      <th>open</th>\n",
       "      <th>high</th>\n",
       "      <th>close</th>\n",
       "      <th>low</th>\n",
       "      <th>volume</th>\n",
       "      <th>time</th>\n",
       "      <th>formated time</th>\n",
       "      <th>ticker</th>\n",
       "      <th>autofilled</th>\n",
       "    </tr>\n",
       "  </thead>\n",
       "  <tbody>\n",
       "    <tr>\n",
       "      <th>0</th>\n",
       "      <td>35.2400</td>\n",
       "      <td>35.2400</td>\n",
       "      <td>35.24</td>\n",
       "      <td>35.24</td>\n",
       "      <td>4578.0</td>\n",
       "      <td>1628775000</td>\n",
       "      <td>2021-08-12 13:30:00+00:00</td>\n",
       "      <td>WMG</td>\n",
       "      <td>False</td>\n",
       "    </tr>\n",
       "    <tr>\n",
       "      <th>1</th>\n",
       "      <td>35.2400</td>\n",
       "      <td>NaN</td>\n",
       "      <td>35.24</td>\n",
       "      <td>NaN</td>\n",
       "      <td>NaN</td>\n",
       "      <td>1628775060</td>\n",
       "      <td>2021-08-12 13:31:00+00:00</td>\n",
       "      <td>WMG</td>\n",
       "      <td>True</td>\n",
       "    </tr>\n",
       "    <tr>\n",
       "      <th>2</th>\n",
       "      <td>35.3200</td>\n",
       "      <td>35.3200</td>\n",
       "      <td>35.32</td>\n",
       "      <td>35.32</td>\n",
       "      <td>150.0</td>\n",
       "      <td>1628775120</td>\n",
       "      <td>2021-08-12 13:32:00+00:00</td>\n",
       "      <td>WMG</td>\n",
       "      <td>False</td>\n",
       "    </tr>\n",
       "    <tr>\n",
       "      <th>3</th>\n",
       "      <td>35.3200</td>\n",
       "      <td>NaN</td>\n",
       "      <td>35.32</td>\n",
       "      <td>NaN</td>\n",
       "      <td>NaN</td>\n",
       "      <td>1628775180</td>\n",
       "      <td>2021-08-12 13:33:00+00:00</td>\n",
       "      <td>WMG</td>\n",
       "      <td>True</td>\n",
       "    </tr>\n",
       "    <tr>\n",
       "      <th>4</th>\n",
       "      <td>35.2639</td>\n",
       "      <td>35.2639</td>\n",
       "      <td>35.21</td>\n",
       "      <td>35.18</td>\n",
       "      <td>3029.0</td>\n",
       "      <td>1628775240</td>\n",
       "      <td>2021-08-12 13:34:00+00:00</td>\n",
       "      <td>WMG</td>\n",
       "      <td>False</td>\n",
       "    </tr>\n",
       "    <tr>\n",
       "      <th>...</th>\n",
       "      <td>...</td>\n",
       "      <td>...</td>\n",
       "      <td>...</td>\n",
       "      <td>...</td>\n",
       "      <td>...</td>\n",
       "      <td>...</td>\n",
       "      <td>...</td>\n",
       "      <td>...</td>\n",
       "      <td>...</td>\n",
       "    </tr>\n",
       "    <tr>\n",
       "      <th>564</th>\n",
       "      <td>2.7500</td>\n",
       "      <td>NaN</td>\n",
       "      <td>2.75</td>\n",
       "      <td>NaN</td>\n",
       "      <td>NaN</td>\n",
       "      <td>1628802360</td>\n",
       "      <td>2021-08-12 21:06:00+00:00</td>\n",
       "      <td>STON</td>\n",
       "      <td>True</td>\n",
       "    </tr>\n",
       "    <tr>\n",
       "      <th>565</th>\n",
       "      <td>2.7500</td>\n",
       "      <td>NaN</td>\n",
       "      <td>2.75</td>\n",
       "      <td>NaN</td>\n",
       "      <td>NaN</td>\n",
       "      <td>1628802420</td>\n",
       "      <td>2021-08-12 21:07:00+00:00</td>\n",
       "      <td>STON</td>\n",
       "      <td>True</td>\n",
       "    </tr>\n",
       "    <tr>\n",
       "      <th>566</th>\n",
       "      <td>2.7500</td>\n",
       "      <td>NaN</td>\n",
       "      <td>2.75</td>\n",
       "      <td>NaN</td>\n",
       "      <td>NaN</td>\n",
       "      <td>1628802480</td>\n",
       "      <td>2021-08-12 21:08:00+00:00</td>\n",
       "      <td>STON</td>\n",
       "      <td>True</td>\n",
       "    </tr>\n",
       "    <tr>\n",
       "      <th>567</th>\n",
       "      <td>2.7500</td>\n",
       "      <td>NaN</td>\n",
       "      <td>2.75</td>\n",
       "      <td>NaN</td>\n",
       "      <td>NaN</td>\n",
       "      <td>1628802540</td>\n",
       "      <td>2021-08-12 21:09:00+00:00</td>\n",
       "      <td>STON</td>\n",
       "      <td>True</td>\n",
       "    </tr>\n",
       "    <tr>\n",
       "      <th>568</th>\n",
       "      <td>2.6100</td>\n",
       "      <td>2.6100</td>\n",
       "      <td>2.61</td>\n",
       "      <td>2.61</td>\n",
       "      <td>100.0</td>\n",
       "      <td>1628802600</td>\n",
       "      <td>2021-08-12 21:10:00+00:00</td>\n",
       "      <td>STON</td>\n",
       "      <td>False</td>\n",
       "    </tr>\n",
       "  </tbody>\n",
       "</table>\n",
       "<p>635695 rows × 9 columns</p>\n",
       "</div>"
      ],
      "text/plain": [
       "        open     high  close    low  volume        time  \\\n",
       "0    35.2400  35.2400  35.24  35.24  4578.0  1628775000   \n",
       "1    35.2400      NaN  35.24    NaN     NaN  1628775060   \n",
       "2    35.3200  35.3200  35.32  35.32   150.0  1628775120   \n",
       "3    35.3200      NaN  35.32    NaN     NaN  1628775180   \n",
       "4    35.2639  35.2639  35.21  35.18  3029.0  1628775240   \n",
       "..       ...      ...    ...    ...     ...         ...   \n",
       "564   2.7500      NaN   2.75    NaN     NaN  1628802360   \n",
       "565   2.7500      NaN   2.75    NaN     NaN  1628802420   \n",
       "566   2.7500      NaN   2.75    NaN     NaN  1628802480   \n",
       "567   2.7500      NaN   2.75    NaN     NaN  1628802540   \n",
       "568   2.6100   2.6100   2.61   2.61   100.0  1628802600   \n",
       "\n",
       "                formated time ticker  autofilled  \n",
       "0   2021-08-12 13:30:00+00:00    WMG       False  \n",
       "1   2021-08-12 13:31:00+00:00    WMG        True  \n",
       "2   2021-08-12 13:32:00+00:00    WMG       False  \n",
       "3   2021-08-12 13:33:00+00:00    WMG        True  \n",
       "4   2021-08-12 13:34:00+00:00    WMG       False  \n",
       "..                        ...    ...         ...  \n",
       "564 2021-08-12 21:06:00+00:00   STON        True  \n",
       "565 2021-08-12 21:07:00+00:00   STON        True  \n",
       "566 2021-08-12 21:08:00+00:00   STON        True  \n",
       "567 2021-08-12 21:09:00+00:00   STON        True  \n",
       "568 2021-08-12 21:10:00+00:00   STON       False  \n",
       "\n",
       "[635695 rows x 9 columns]"
      ]
     },
     "execution_count": 17,
     "metadata": {},
     "output_type": "execute_result"
    }
   ],
   "source": [
    "data1 = pd.read_hdf('intraday_data/2021-08-12.hd5', key='df')\n",
    "data1['formated time'].astype(str)\n",
    "data1['ticker'].astype(str)\n",
    "data1"
   ]
  },
  {
   "cell_type": "markdown",
   "id": "fdf30835",
   "metadata": {},
   "source": [
    "Вывод: положительных скоров - 7% или 2к наблюдений, из них только у 180 наблюдений цена выросла больше, чем на 5%, спустя 10 минут выхода новости. Сопоставив распределения положительных скоров и положительных скоров с удовлетворенным таргетом, я пришла к выводу, что буду брать целевое значение скора больше 0,5."
   ]
  },
  {
   "cell_type": "markdown",
   "id": "d921c75a",
   "metadata": {},
   "source": [
    "1. Стратегия"
   ]
  },
  {
   "cell_type": "markdown",
   "id": "25364c3b",
   "metadata": {},
   "source": [
    "Бэкстори: Мой начальный бюджет 1 миллион долларов США. Я опытный инвестор, у меня хорошо распределено портфолио, и эти деньги, которые я включила в начальный бюджет, с полным понимаением отправляются под риск."
   ]
  },
  {
   "cell_type": "code",
   "execution_count": 18,
   "id": "ca49c2ae",
   "metadata": {},
   "outputs": [],
   "source": [
    "bud = 1000000"
   ]
  },
  {
   "cell_type": "code",
   "execution_count": 19,
   "id": "c0b4c51f",
   "metadata": {},
   "outputs": [
    {
     "data": {
      "text/html": [
       "<div>\n",
       "<style scoped>\n",
       "    .dataframe tbody tr th:only-of-type {\n",
       "        vertical-align: middle;\n",
       "    }\n",
       "\n",
       "    .dataframe tbody tr th {\n",
       "        vertical-align: top;\n",
       "    }\n",
       "\n",
       "    .dataframe thead th {\n",
       "        text-align: right;\n",
       "    }\n",
       "</style>\n",
       "<table border=\"1\" class=\"dataframe\">\n",
       "  <thead>\n",
       "    <tr style=\"text-align: right;\">\n",
       "      <th></th>\n",
       "      <th>news_id</th>\n",
       "      <th>ticker</th>\n",
       "      <th>final_score</th>\n",
       "      <th>observation_id</th>\n",
       "      <th>publishedAt</th>\n",
       "      <th>price_data_file</th>\n",
       "      <th>price_data_file_read</th>\n",
       "      <th>formated time</th>\n",
       "    </tr>\n",
       "  </thead>\n",
       "  <tbody>\n",
       "    <tr>\n",
       "      <th>0</th>\n",
       "      <td>000fb4a135119a9cf49fe51f91e37add</td>\n",
       "      <td>SALM</td>\n",
       "      <td>-1.322091</td>\n",
       "      <td>3</td>\n",
       "      <td>NaT</td>\n",
       "      <td>NaT</td>\n",
       "      <td>NaT</td>\n",
       "      <td>NaT00+00:00</td>\n",
       "    </tr>\n",
       "    <tr>\n",
       "      <th>1</th>\n",
       "      <td>000fda8be4442b6ffdcc247693075ffa</td>\n",
       "      <td>PCT</td>\n",
       "      <td>-1.206645</td>\n",
       "      <td>4</td>\n",
       "      <td>NaT</td>\n",
       "      <td>NaT</td>\n",
       "      <td>NaT</td>\n",
       "      <td>NaT00+00:00</td>\n",
       "    </tr>\n",
       "    <tr>\n",
       "      <th>2</th>\n",
       "      <td>00183e71753b66ed27eb5a59886eed7d</td>\n",
       "      <td>RXT</td>\n",
       "      <td>-4.440871</td>\n",
       "      <td>13</td>\n",
       "      <td>NaT</td>\n",
       "      <td>NaT</td>\n",
       "      <td>NaT</td>\n",
       "      <td>NaT00+00:00</td>\n",
       "    </tr>\n",
       "    <tr>\n",
       "      <th>3</th>\n",
       "      <td>008cc24b6c7b3411c1de52d6ab579c6c</td>\n",
       "      <td>ALYA</td>\n",
       "      <td>-1.930154</td>\n",
       "      <td>83</td>\n",
       "      <td>NaT</td>\n",
       "      <td>NaT</td>\n",
       "      <td>NaT</td>\n",
       "      <td>NaT00+00:00</td>\n",
       "    </tr>\n",
       "    <tr>\n",
       "      <th>4</th>\n",
       "      <td>01305f2972f162fa8e0a64d910b7a113</td>\n",
       "      <td>SELB</td>\n",
       "      <td>-1.934781</td>\n",
       "      <td>190</td>\n",
       "      <td>NaT</td>\n",
       "      <td>NaT</td>\n",
       "      <td>NaT</td>\n",
       "      <td>NaT00+00:00</td>\n",
       "    </tr>\n",
       "  </tbody>\n",
       "</table>\n",
       "</div>"
      ],
      "text/plain": [
       "                            news_id ticker  final_score  observation_id  \\\n",
       "0  000fb4a135119a9cf49fe51f91e37add   SALM    -1.322091               3   \n",
       "1  000fda8be4442b6ffdcc247693075ffa    PCT    -1.206645               4   \n",
       "2  00183e71753b66ed27eb5a59886eed7d    RXT    -4.440871              13   \n",
       "3  008cc24b6c7b3411c1de52d6ab579c6c   ALYA    -1.930154              83   \n",
       "4  01305f2972f162fa8e0a64d910b7a113   SELB    -1.934781             190   \n",
       "\n",
       "  publishedAt price_data_file price_data_file_read formated time  \n",
       "0         NaT             NaT                  NaT   NaT00+00:00  \n",
       "1         NaT             NaT                  NaT   NaT00+00:00  \n",
       "2         NaT             NaT                  NaT   NaT00+00:00  \n",
       "3         NaT             NaT                  NaT   NaT00+00:00  \n",
       "4         NaT             NaT                  NaT   NaT00+00:00  "
      ]
     },
     "execution_count": 19,
     "metadata": {},
     "output_type": "execute_result"
    }
   ],
   "source": [
    "df= pd.merge(scores_retrotesting[['news_id','ticker', 'final_score','observation_id']],main_dev_sample[['news_id','publishedAt']],on='news_id', how='left')\n",
    "df['price_data_file']=df['publishedAt'].astype(str).str[:10]\n",
    "df['price_data_file_read']=df['price_data_file'].str.replace('-','_')\n",
    "df['formated time']=df['publishedAt'].astype(str).str[:17]+'00+00:00'\n",
    "df['formated time'].astype(str)\n",
    "df.head()"
   ]
  },
  {
   "cell_type": "code",
   "execution_count": 20,
   "id": "0aca81c1",
   "metadata": {},
   "outputs": [
    {
     "data": {
      "text/plain": [
       "count    1668.000000\n",
       "mean        1.393246\n",
       "std         0.785349\n",
       "min         0.500126\n",
       "25%         0.787382\n",
       "50%         1.170210\n",
       "75%         1.783352\n",
       "max         5.159716\n",
       "Name: final_score, dtype: float64"
      ]
     },
     "execution_count": 20,
     "metadata": {},
     "output_type": "execute_result"
    }
   ],
   "source": [
    "df_best_score=df[df['final_score']>=0.5]\n",
    "df_best_score['formated time'].astype(str)\n",
    "df_best_score['ticker'].astype(str)\n",
    "df_best_score['final_score'].describe()"
   ]
  },
  {
   "cell_type": "code",
   "execution_count": 21,
   "id": "1d881eb0",
   "metadata": {},
   "outputs": [
    {
     "data": {
      "text/plain": [
       "count       1\n",
       "unique      1\n",
       "top       NaT\n",
       "freq        1\n",
       "Name: price_data_file, dtype: object"
      ]
     },
     "execution_count": 21,
     "metadata": {},
     "output_type": "execute_result"
    }
   ],
   "source": [
    "dates = df_best_score['price_data_file'].drop_duplicates()\n",
    "dates.describe()"
   ]
  },
  {
   "cell_type": "markdown",
   "id": "c6dd6dca",
   "metadata": {},
   "source": [
    "То есть в среднем 1878/41 или 45 новостей в день. Получается, будем вносить пропорциональную сумму = 1 000 000/45 долларов США (для простоты)"
   ]
  },
  {
   "cell_type": "code",
   "execution_count": 22,
   "id": "79c484c0",
   "metadata": {},
   "outputs": [],
   "source": [
    "#dates.tolist()"
   ]
  },
  {
   "cell_type": "code",
   "execution_count": 23,
   "id": "8a3aed1d",
   "metadata": {},
   "outputs": [],
   "source": [
    "#for i in dates:\n",
    "#    t=i.replace('_','-')\n",
    "#    path='intraday_data/'+t+'.hd5'\n",
    "#    name='data_'+i\n",
    "#    name = pd.read_hdf(path, key='df')"
   ]
  },
  {
   "cell_type": "markdown",
   "id": "6a2a40e1",
   "metadata": {},
   "source": [
    "def get_files(i):\n",
    "    \n",
    "    for item in i:\n",
    "        t=item.replace('_','-')\n",
    "        path='intraday_data/'+t+'.hd5'\n",
    "        #name ='data_'+item\n",
    "        for item in i:\n",
    "            name = pd.read_hdf(path, key='df')\n",
    "        return name"
   ]
  },
  {
   "cell_type": "markdown",
   "id": "53a8bf1c",
   "metadata": {},
   "source": [
    "get_files(dates)"
   ]
  },
  {
   "cell_type": "code",
   "execution_count": 24,
   "id": "bde5cb90",
   "metadata": {},
   "outputs": [],
   "source": [
    "#data_2021_08_17.head()"
   ]
  },
  {
   "cell_type": "code",
   "execution_count": 25,
   "id": "02a7ba7e",
   "metadata": {},
   "outputs": [
    {
     "ename": "MergeError",
     "evalue": "incompatible merge keys [1] dtype('O') and datetime64[ns, tzutc()], must be the same type",
     "output_type": "error",
     "traceback": [
      "\u001b[1;31m---------------------------------------------------------------------------\u001b[0m",
      "\u001b[1;31mMergeError\u001b[0m                                Traceback (most recent call last)",
      "\u001b[1;32m<ipython-input-25-49ac64158781>\u001b[0m in \u001b[0;36m<module>\u001b[1;34m\u001b[0m\n\u001b[1;32m----> 1\u001b[1;33m \u001b[0mdf0\u001b[0m \u001b[1;33m=\u001b[0m \u001b[0mpd\u001b[0m\u001b[1;33m.\u001b[0m\u001b[0mmerge_asof\u001b[0m\u001b[1;33m(\u001b[0m\u001b[0mdf_best_score\u001b[0m\u001b[1;33m,\u001b[0m\u001b[0mdata1\u001b[0m\u001b[1;33m,\u001b[0m\u001b[0mon\u001b[0m \u001b[1;33m=\u001b[0m \u001b[1;34m'formated time'\u001b[0m\u001b[1;33m,\u001b[0m \u001b[0mby\u001b[0m \u001b[1;33m=\u001b[0m \u001b[1;34m'ticker'\u001b[0m\u001b[1;33m)\u001b[0m\u001b[1;33m\u001b[0m\u001b[1;33m\u001b[0m\u001b[0m\n\u001b[0m\u001b[0;32m      2\u001b[0m \u001b[0mdf0\u001b[0m\u001b[1;33m\u001b[0m\u001b[1;33m\u001b[0m\u001b[0m\n",
      "\u001b[1;32mC:\\ProgramData\\Anaconda3\\lib\\site-packages\\pandas\\core\\reshape\\merge.py\u001b[0m in \u001b[0;36mmerge_asof\u001b[1;34m(left, right, on, left_on, right_on, left_index, right_index, by, left_by, right_by, suffixes, tolerance, allow_exact_matches, direction)\u001b[0m\n\u001b[0;32m    564\u001b[0m         \u001b[0mtolerance\u001b[0m\u001b[1;33m=\u001b[0m\u001b[0mtolerance\u001b[0m\u001b[1;33m,\u001b[0m\u001b[1;33m\u001b[0m\u001b[1;33m\u001b[0m\u001b[0m\n\u001b[0;32m    565\u001b[0m         \u001b[0mallow_exact_matches\u001b[0m\u001b[1;33m=\u001b[0m\u001b[0mallow_exact_matches\u001b[0m\u001b[1;33m,\u001b[0m\u001b[1;33m\u001b[0m\u001b[1;33m\u001b[0m\u001b[0m\n\u001b[1;32m--> 566\u001b[1;33m         \u001b[0mdirection\u001b[0m\u001b[1;33m=\u001b[0m\u001b[0mdirection\u001b[0m\u001b[1;33m,\u001b[0m\u001b[1;33m\u001b[0m\u001b[1;33m\u001b[0m\u001b[0m\n\u001b[0m\u001b[0;32m    567\u001b[0m     )\n\u001b[0;32m    568\u001b[0m     \u001b[1;32mreturn\u001b[0m \u001b[0mop\u001b[0m\u001b[1;33m.\u001b[0m\u001b[0mget_result\u001b[0m\u001b[1;33m(\u001b[0m\u001b[1;33m)\u001b[0m\u001b[1;33m\u001b[0m\u001b[1;33m\u001b[0m\u001b[0m\n",
      "\u001b[1;32mC:\\ProgramData\\Anaconda3\\lib\\site-packages\\pandas\\core\\reshape\\merge.py\u001b[0m in \u001b[0;36m__init__\u001b[1;34m(self, left, right, on, left_on, right_on, left_index, right_index, by, left_by, right_by, axis, suffixes, copy, fill_method, how, tolerance, allow_exact_matches, direction)\u001b[0m\n\u001b[0;32m   1674\u001b[0m             \u001b[0mhow\u001b[0m\u001b[1;33m=\u001b[0m\u001b[0mhow\u001b[0m\u001b[1;33m,\u001b[0m\u001b[1;33m\u001b[0m\u001b[1;33m\u001b[0m\u001b[0m\n\u001b[0;32m   1675\u001b[0m             \u001b[0msuffixes\u001b[0m\u001b[1;33m=\u001b[0m\u001b[0msuffixes\u001b[0m\u001b[1;33m,\u001b[0m\u001b[1;33m\u001b[0m\u001b[1;33m\u001b[0m\u001b[0m\n\u001b[1;32m-> 1676\u001b[1;33m             \u001b[0mfill_method\u001b[0m\u001b[1;33m=\u001b[0m\u001b[0mfill_method\u001b[0m\u001b[1;33m,\u001b[0m\u001b[1;33m\u001b[0m\u001b[1;33m\u001b[0m\u001b[0m\n\u001b[0m\u001b[0;32m   1677\u001b[0m         )\n\u001b[0;32m   1678\u001b[0m \u001b[1;33m\u001b[0m\u001b[0m\n",
      "\u001b[1;32mC:\\ProgramData\\Anaconda3\\lib\\site-packages\\pandas\\core\\reshape\\merge.py\u001b[0m in \u001b[0;36m__init__\u001b[1;34m(self, left, right, on, left_on, right_on, left_index, right_index, axis, suffixes, copy, fill_method, how)\u001b[0m\n\u001b[0;32m   1568\u001b[0m             \u001b[0mhow\u001b[0m\u001b[1;33m=\u001b[0m\u001b[0mhow\u001b[0m\u001b[1;33m,\u001b[0m\u001b[1;33m\u001b[0m\u001b[1;33m\u001b[0m\u001b[0m\n\u001b[0;32m   1569\u001b[0m             \u001b[0msuffixes\u001b[0m\u001b[1;33m=\u001b[0m\u001b[0msuffixes\u001b[0m\u001b[1;33m,\u001b[0m\u001b[1;33m\u001b[0m\u001b[1;33m\u001b[0m\u001b[0m\n\u001b[1;32m-> 1570\u001b[1;33m             \u001b[0msort\u001b[0m\u001b[1;33m=\u001b[0m\u001b[1;32mTrue\u001b[0m\u001b[1;33m,\u001b[0m  \u001b[1;31m# factorize sorts\u001b[0m\u001b[1;33m\u001b[0m\u001b[1;33m\u001b[0m\u001b[0m\n\u001b[0m\u001b[0;32m   1571\u001b[0m         )\n\u001b[0;32m   1572\u001b[0m \u001b[1;33m\u001b[0m\u001b[0m\n",
      "\u001b[1;32mC:\\ProgramData\\Anaconda3\\lib\\site-packages\\pandas\\core\\reshape\\merge.py\u001b[0m in \u001b[0;36m__init__\u001b[1;34m(self, left, right, how, on, left_on, right_on, axis, left_index, right_index, sort, suffixes, copy, indicator, validate)\u001b[0m\n\u001b[0;32m    666\u001b[0m             \u001b[0mself\u001b[0m\u001b[1;33m.\u001b[0m\u001b[0mright_join_keys\u001b[0m\u001b[1;33m,\u001b[0m\u001b[1;33m\u001b[0m\u001b[1;33m\u001b[0m\u001b[0m\n\u001b[0;32m    667\u001b[0m             \u001b[0mself\u001b[0m\u001b[1;33m.\u001b[0m\u001b[0mjoin_names\u001b[0m\u001b[1;33m,\u001b[0m\u001b[1;33m\u001b[0m\u001b[1;33m\u001b[0m\u001b[0m\n\u001b[1;32m--> 668\u001b[1;33m         ) = self._get_merge_keys()\n\u001b[0m\u001b[0;32m    669\u001b[0m \u001b[1;33m\u001b[0m\u001b[0m\n\u001b[0;32m    670\u001b[0m         \u001b[1;31m# validate the merge keys dtypes. We may need to coerce\u001b[0m\u001b[1;33m\u001b[0m\u001b[1;33m\u001b[0m\u001b[1;33m\u001b[0m\u001b[0m\n",
      "\u001b[1;32mC:\\ProgramData\\Anaconda3\\lib\\site-packages\\pandas\\core\\reshape\\merge.py\u001b[0m in \u001b[0;36m_get_merge_keys\u001b[1;34m(self)\u001b[0m\n\u001b[0;32m   1747\u001b[0m                         \u001b[1;34mf\"{repr(rk.dtype)}, must be the same type\"\u001b[0m\u001b[1;33m\u001b[0m\u001b[1;33m\u001b[0m\u001b[0m\n\u001b[0;32m   1748\u001b[0m                     )\n\u001b[1;32m-> 1749\u001b[1;33m                 \u001b[1;32mraise\u001b[0m \u001b[0mMergeError\u001b[0m\u001b[1;33m(\u001b[0m\u001b[0mmsg\u001b[0m\u001b[1;33m)\u001b[0m\u001b[1;33m\u001b[0m\u001b[1;33m\u001b[0m\u001b[0m\n\u001b[0m\u001b[0;32m   1750\u001b[0m \u001b[1;33m\u001b[0m\u001b[0m\n\u001b[0;32m   1751\u001b[0m         \u001b[1;31m# validate tolerance; datetime.timedelta or Timedelta if we have a DTI\u001b[0m\u001b[1;33m\u001b[0m\u001b[1;33m\u001b[0m\u001b[1;33m\u001b[0m\u001b[0m\n",
      "\u001b[1;31mMergeError\u001b[0m: incompatible merge keys [1] dtype('O') and datetime64[ns, tzutc()], must be the same type"
     ]
    }
   ],
   "source": [
    "df0 = pd.merge_asof(df_best_score,data1,on = 'formated time', by = 'ticker')\n",
    "df0"
   ]
  },
  {
   "cell_type": "markdown",
   "id": "1157ec82",
   "metadata": {},
   "source": [
    "# Вывод"
   ]
  },
  {
   "cell_type": "markdown",
   "id": "53a1512f",
   "metadata": {},
   "source": [
    "у меня ничего не получилось. но идея была в том, чтобы подтянуть к каждой новости ближайшую по времни цену закрытия. внутри дня совершать покупки в равных суммах и закрывать позиции на ночь. и каждый следующий день торговать на ту сумму, которую удалось извлечь в предыдущий вечер. чтобы как-то оценить свою стратегию, я бы сопоставила свой 1 млн долларов США на входе с суммой на выходе (последний день данных).\n",
    "не знаю, к чему бы меня это привело, но мои навыки кодирования в питоне мне это уже не позволят сделать это, уложившись в дедлайн."
   ]
  },
  {
   "cell_type": "markdown",
   "id": "70f91309",
   "metadata": {},
   "source": [
    "конечно, моя стратегия имеет белые пятна. например, я не корерктирую покупки на допустимый объем торгов бумаги, я не учитываю косяки, которые могут возникнуть в деятельности мосбиржи. так же сомнителен выбор равного инвестирования в разные бумаги с разным скором, можно было бы придумать что-то лучше, хотя бы с весами."
   ]
  },
  {
   "cell_type": "code",
   "execution_count": 35,
   "id": "13f00ddd-c657-4255-b7a0-767ecdbb652f",
   "metadata": {},
   "outputs": [
    {
     "data": {
      "text/html": [
       "<div>\n",
       "<style scoped>\n",
       "    .dataframe tbody tr th:only-of-type {\n",
       "        vertical-align: middle;\n",
       "    }\n",
       "\n",
       "    .dataframe tbody tr th {\n",
       "        vertical-align: top;\n",
       "    }\n",
       "\n",
       "    .dataframe thead th {\n",
       "        text-align: right;\n",
       "    }\n",
       "</style>\n",
       "<table border=\"1\" class=\"dataframe\">\n",
       "  <thead>\n",
       "    <tr style=\"text-align: right;\">\n",
       "      <th></th>\n",
       "      <th>news_id</th>\n",
       "      <th>ticker</th>\n",
       "      <th>final_score</th>\n",
       "      <th>observation_id</th>\n",
       "      <th>publishedAt</th>\n",
       "      <th>price_data_file</th>\n",
       "      <th>price_data_file_read</th>\n",
       "      <th>formated time</th>\n",
       "    </tr>\n",
       "  </thead>\n",
       "  <tbody>\n",
       "    <tr>\n",
       "      <th>8</th>\n",
       "      <td>0216051d09514a4d1242a4397a3a8d1a</td>\n",
       "      <td>INM</td>\n",
       "      <td>0.720760</td>\n",
       "      <td>320</td>\n",
       "      <td>NaT</td>\n",
       "      <td>NaT</td>\n",
       "      <td>NaT</td>\n",
       "      <td>NaT00+00:00</td>\n",
       "    </tr>\n",
       "    <tr>\n",
       "      <th>25</th>\n",
       "      <td>06b4122c6019ebeace8e84d6ed88fb27</td>\n",
       "      <td>FBIO</td>\n",
       "      <td>1.073383</td>\n",
       "      <td>978</td>\n",
       "      <td>NaT</td>\n",
       "      <td>NaT</td>\n",
       "      <td>NaT</td>\n",
       "      <td>NaT00+00:00</td>\n",
       "    </tr>\n",
       "    <tr>\n",
       "      <th>26</th>\n",
       "      <td>06b4122c6019ebeace8e84d6ed88fb27</td>\n",
       "      <td>MBIO</td>\n",
       "      <td>1.073383</td>\n",
       "      <td>979</td>\n",
       "      <td>NaT</td>\n",
       "      <td>NaT</td>\n",
       "      <td>NaT</td>\n",
       "      <td>NaT00+00:00</td>\n",
       "    </tr>\n",
       "    <tr>\n",
       "      <th>34</th>\n",
       "      <td>085626c2474be2f6ade2d389f4d289b5</td>\n",
       "      <td>XNET</td>\n",
       "      <td>1.825751</td>\n",
       "      <td>1183</td>\n",
       "      <td>NaT</td>\n",
       "      <td>NaT</td>\n",
       "      <td>NaT</td>\n",
       "      <td>NaT00+00:00</td>\n",
       "    </tr>\n",
       "    <tr>\n",
       "      <th>45</th>\n",
       "      <td>0bbb3403279779b81fe6bc1fe556ff69</td>\n",
       "      <td>CTSO</td>\n",
       "      <td>0.676775</td>\n",
       "      <td>1692</td>\n",
       "      <td>NaT</td>\n",
       "      <td>NaT</td>\n",
       "      <td>NaT</td>\n",
       "      <td>NaT00+00:00</td>\n",
       "    </tr>\n",
       "    <tr>\n",
       "      <th>...</th>\n",
       "      <td>...</td>\n",
       "      <td>...</td>\n",
       "      <td>...</td>\n",
       "      <td>...</td>\n",
       "      <td>...</td>\n",
       "      <td>...</td>\n",
       "      <td>...</td>\n",
       "      <td>...</td>\n",
       "    </tr>\n",
       "    <tr>\n",
       "      <th>36287</th>\n",
       "      <td>9b48fdd41243a47e307cbac47564081e</td>\n",
       "      <td>BYRN</td>\n",
       "      <td>0.854469</td>\n",
       "      <td>22205</td>\n",
       "      <td>NaT</td>\n",
       "      <td>NaT</td>\n",
       "      <td>NaT</td>\n",
       "      <td>NaT00+00:00</td>\n",
       "    </tr>\n",
       "    <tr>\n",
       "      <th>36369</th>\n",
       "      <td>cde28178b31c5b19a833dd8b90b5a582</td>\n",
       "      <td>PBTS</td>\n",
       "      <td>1.769758</td>\n",
       "      <td>29174</td>\n",
       "      <td>NaT</td>\n",
       "      <td>NaT</td>\n",
       "      <td>NaT</td>\n",
       "      <td>NaT00+00:00</td>\n",
       "    </tr>\n",
       "    <tr>\n",
       "      <th>36381</th>\n",
       "      <td>d39b79e0a92a99bc15bbea7ecad9e03c</td>\n",
       "      <td>NEPH</td>\n",
       "      <td>0.930752</td>\n",
       "      <td>30024</td>\n",
       "      <td>NaT</td>\n",
       "      <td>NaT</td>\n",
       "      <td>NaT</td>\n",
       "      <td>NaT00+00:00</td>\n",
       "    </tr>\n",
       "    <tr>\n",
       "      <th>36411</th>\n",
       "      <td>dd495e51b0949e9e8047f1ccb881e536</td>\n",
       "      <td>BHAT</td>\n",
       "      <td>0.915918</td>\n",
       "      <td>31425</td>\n",
       "      <td>NaT</td>\n",
       "      <td>NaT</td>\n",
       "      <td>NaT</td>\n",
       "      <td>NaT00+00:00</td>\n",
       "    </tr>\n",
       "    <tr>\n",
       "      <th>36476</th>\n",
       "      <td>f8232347be82a3168fbdfaf5b9cec4d5</td>\n",
       "      <td>CBT</td>\n",
       "      <td>0.692351</td>\n",
       "      <td>35324</td>\n",
       "      <td>NaT</td>\n",
       "      <td>NaT</td>\n",
       "      <td>NaT</td>\n",
       "      <td>NaT00+00:00</td>\n",
       "    </tr>\n",
       "  </tbody>\n",
       "</table>\n",
       "<p>1668 rows × 8 columns</p>\n",
       "</div>"
      ],
      "text/plain": [
       "                                news_id ticker  final_score  observation_id  \\\n",
       "8      0216051d09514a4d1242a4397a3a8d1a    INM     0.720760             320   \n",
       "25     06b4122c6019ebeace8e84d6ed88fb27   FBIO     1.073383             978   \n",
       "26     06b4122c6019ebeace8e84d6ed88fb27   MBIO     1.073383             979   \n",
       "34     085626c2474be2f6ade2d389f4d289b5   XNET     1.825751            1183   \n",
       "45     0bbb3403279779b81fe6bc1fe556ff69   CTSO     0.676775            1692   \n",
       "...                                 ...    ...          ...             ...   \n",
       "36287  9b48fdd41243a47e307cbac47564081e   BYRN     0.854469           22205   \n",
       "36369  cde28178b31c5b19a833dd8b90b5a582   PBTS     1.769758           29174   \n",
       "36381  d39b79e0a92a99bc15bbea7ecad9e03c   NEPH     0.930752           30024   \n",
       "36411  dd495e51b0949e9e8047f1ccb881e536   BHAT     0.915918           31425   \n",
       "36476  f8232347be82a3168fbdfaf5b9cec4d5    CBT     0.692351           35324   \n",
       "\n",
       "      publishedAt price_data_file price_data_file_read formated time  \n",
       "8             NaT             NaT                  NaT   NaT00+00:00  \n",
       "25            NaT             NaT                  NaT   NaT00+00:00  \n",
       "26            NaT             NaT                  NaT   NaT00+00:00  \n",
       "34            NaT             NaT                  NaT   NaT00+00:00  \n",
       "45            NaT             NaT                  NaT   NaT00+00:00  \n",
       "...           ...             ...                  ...           ...  \n",
       "36287         NaT             NaT                  NaT   NaT00+00:00  \n",
       "36369         NaT             NaT                  NaT   NaT00+00:00  \n",
       "36381         NaT             NaT                  NaT   NaT00+00:00  \n",
       "36411         NaT             NaT                  NaT   NaT00+00:00  \n",
       "36476         NaT             NaT                  NaT   NaT00+00:00  \n",
       "\n",
       "[1668 rows x 8 columns]"
      ]
     },
     "execution_count": 35,
     "metadata": {},
     "output_type": "execute_result"
    }
   ],
   "source": [
    "df_best_score"
   ]
  },
  {
   "cell_type": "code",
   "execution_count": 27,
   "id": "68ba3890-8869-41ae-93e0-9d8b72fadb7c",
   "metadata": {},
   "outputs": [
    {
     "data": {
      "text/html": [
       "<div>\n",
       "<style scoped>\n",
       "    .dataframe tbody tr th:only-of-type {\n",
       "        vertical-align: middle;\n",
       "    }\n",
       "\n",
       "    .dataframe tbody tr th {\n",
       "        vertical-align: top;\n",
       "    }\n",
       "\n",
       "    .dataframe thead th {\n",
       "        text-align: right;\n",
       "    }\n",
       "</style>\n",
       "<table border=\"1\" class=\"dataframe\">\n",
       "  <thead>\n",
       "    <tr style=\"text-align: right;\">\n",
       "      <th></th>\n",
       "      <th>open</th>\n",
       "      <th>high</th>\n",
       "      <th>close</th>\n",
       "      <th>low</th>\n",
       "      <th>volume</th>\n",
       "      <th>time</th>\n",
       "      <th>formated time</th>\n",
       "      <th>ticker</th>\n",
       "      <th>autofilled</th>\n",
       "    </tr>\n",
       "  </thead>\n",
       "  <tbody>\n",
       "    <tr>\n",
       "      <th>0</th>\n",
       "      <td>35.2400</td>\n",
       "      <td>35.2400</td>\n",
       "      <td>35.24</td>\n",
       "      <td>35.24</td>\n",
       "      <td>4578.0</td>\n",
       "      <td>1628775000</td>\n",
       "      <td>2021-08-12 13:30:00+00:00</td>\n",
       "      <td>WMG</td>\n",
       "      <td>False</td>\n",
       "    </tr>\n",
       "    <tr>\n",
       "      <th>1</th>\n",
       "      <td>35.2400</td>\n",
       "      <td>NaN</td>\n",
       "      <td>35.24</td>\n",
       "      <td>NaN</td>\n",
       "      <td>NaN</td>\n",
       "      <td>1628775060</td>\n",
       "      <td>2021-08-12 13:31:00+00:00</td>\n",
       "      <td>WMG</td>\n",
       "      <td>True</td>\n",
       "    </tr>\n",
       "    <tr>\n",
       "      <th>2</th>\n",
       "      <td>35.3200</td>\n",
       "      <td>35.3200</td>\n",
       "      <td>35.32</td>\n",
       "      <td>35.32</td>\n",
       "      <td>150.0</td>\n",
       "      <td>1628775120</td>\n",
       "      <td>2021-08-12 13:32:00+00:00</td>\n",
       "      <td>WMG</td>\n",
       "      <td>False</td>\n",
       "    </tr>\n",
       "    <tr>\n",
       "      <th>3</th>\n",
       "      <td>35.3200</td>\n",
       "      <td>NaN</td>\n",
       "      <td>35.32</td>\n",
       "      <td>NaN</td>\n",
       "      <td>NaN</td>\n",
       "      <td>1628775180</td>\n",
       "      <td>2021-08-12 13:33:00+00:00</td>\n",
       "      <td>WMG</td>\n",
       "      <td>True</td>\n",
       "    </tr>\n",
       "    <tr>\n",
       "      <th>4</th>\n",
       "      <td>35.2639</td>\n",
       "      <td>35.2639</td>\n",
       "      <td>35.21</td>\n",
       "      <td>35.18</td>\n",
       "      <td>3029.0</td>\n",
       "      <td>1628775240</td>\n",
       "      <td>2021-08-12 13:34:00+00:00</td>\n",
       "      <td>WMG</td>\n",
       "      <td>False</td>\n",
       "    </tr>\n",
       "    <tr>\n",
       "      <th>...</th>\n",
       "      <td>...</td>\n",
       "      <td>...</td>\n",
       "      <td>...</td>\n",
       "      <td>...</td>\n",
       "      <td>...</td>\n",
       "      <td>...</td>\n",
       "      <td>...</td>\n",
       "      <td>...</td>\n",
       "      <td>...</td>\n",
       "    </tr>\n",
       "    <tr>\n",
       "      <th>564</th>\n",
       "      <td>2.7500</td>\n",
       "      <td>NaN</td>\n",
       "      <td>2.75</td>\n",
       "      <td>NaN</td>\n",
       "      <td>NaN</td>\n",
       "      <td>1628802360</td>\n",
       "      <td>2021-08-12 21:06:00+00:00</td>\n",
       "      <td>STON</td>\n",
       "      <td>True</td>\n",
       "    </tr>\n",
       "    <tr>\n",
       "      <th>565</th>\n",
       "      <td>2.7500</td>\n",
       "      <td>NaN</td>\n",
       "      <td>2.75</td>\n",
       "      <td>NaN</td>\n",
       "      <td>NaN</td>\n",
       "      <td>1628802420</td>\n",
       "      <td>2021-08-12 21:07:00+00:00</td>\n",
       "      <td>STON</td>\n",
       "      <td>True</td>\n",
       "    </tr>\n",
       "    <tr>\n",
       "      <th>566</th>\n",
       "      <td>2.7500</td>\n",
       "      <td>NaN</td>\n",
       "      <td>2.75</td>\n",
       "      <td>NaN</td>\n",
       "      <td>NaN</td>\n",
       "      <td>1628802480</td>\n",
       "      <td>2021-08-12 21:08:00+00:00</td>\n",
       "      <td>STON</td>\n",
       "      <td>True</td>\n",
       "    </tr>\n",
       "    <tr>\n",
       "      <th>567</th>\n",
       "      <td>2.7500</td>\n",
       "      <td>NaN</td>\n",
       "      <td>2.75</td>\n",
       "      <td>NaN</td>\n",
       "      <td>NaN</td>\n",
       "      <td>1628802540</td>\n",
       "      <td>2021-08-12 21:09:00+00:00</td>\n",
       "      <td>STON</td>\n",
       "      <td>True</td>\n",
       "    </tr>\n",
       "    <tr>\n",
       "      <th>568</th>\n",
       "      <td>2.6100</td>\n",
       "      <td>2.6100</td>\n",
       "      <td>2.61</td>\n",
       "      <td>2.61</td>\n",
       "      <td>100.0</td>\n",
       "      <td>1628802600</td>\n",
       "      <td>2021-08-12 21:10:00+00:00</td>\n",
       "      <td>STON</td>\n",
       "      <td>False</td>\n",
       "    </tr>\n",
       "  </tbody>\n",
       "</table>\n",
       "<p>635695 rows × 9 columns</p>\n",
       "</div>"
      ],
      "text/plain": [
       "        open     high  close    low  volume        time  \\\n",
       "0    35.2400  35.2400  35.24  35.24  4578.0  1628775000   \n",
       "1    35.2400      NaN  35.24    NaN     NaN  1628775060   \n",
       "2    35.3200  35.3200  35.32  35.32   150.0  1628775120   \n",
       "3    35.3200      NaN  35.32    NaN     NaN  1628775180   \n",
       "4    35.2639  35.2639  35.21  35.18  3029.0  1628775240   \n",
       "..       ...      ...    ...    ...     ...         ...   \n",
       "564   2.7500      NaN   2.75    NaN     NaN  1628802360   \n",
       "565   2.7500      NaN   2.75    NaN     NaN  1628802420   \n",
       "566   2.7500      NaN   2.75    NaN     NaN  1628802480   \n",
       "567   2.7500      NaN   2.75    NaN     NaN  1628802540   \n",
       "568   2.6100   2.6100   2.61   2.61   100.0  1628802600   \n",
       "\n",
       "                formated time ticker  autofilled  \n",
       "0   2021-08-12 13:30:00+00:00    WMG       False  \n",
       "1   2021-08-12 13:31:00+00:00    WMG        True  \n",
       "2   2021-08-12 13:32:00+00:00    WMG       False  \n",
       "3   2021-08-12 13:33:00+00:00    WMG        True  \n",
       "4   2021-08-12 13:34:00+00:00    WMG       False  \n",
       "..                        ...    ...         ...  \n",
       "564 2021-08-12 21:06:00+00:00   STON        True  \n",
       "565 2021-08-12 21:07:00+00:00   STON        True  \n",
       "566 2021-08-12 21:08:00+00:00   STON        True  \n",
       "567 2021-08-12 21:09:00+00:00   STON        True  \n",
       "568 2021-08-12 21:10:00+00:00   STON       False  \n",
       "\n",
       "[635695 rows x 9 columns]"
      ]
     },
     "execution_count": 27,
     "metadata": {},
     "output_type": "execute_result"
    }
   ],
   "source": [
    "data1"
   ]
  },
  {
   "cell_type": "code",
   "execution_count": null,
   "id": "384cb238-7f3a-4df4-b1f0-cde31e668226",
   "metadata": {},
   "outputs": [],
   "source": []
  }
 ],
 "metadata": {
  "kernelspec": {
   "display_name": "Python 3",
   "language": "python",
   "name": "python3"
  },
  "language_info": {
   "codemirror_mode": {
    "name": "ipython",
    "version": 3
   },
   "file_extension": ".py",
   "mimetype": "text/x-python",
   "name": "python",
   "nbconvert_exporter": "python",
   "pygments_lexer": "ipython3",
   "version": "3.7.10"
  }
 },
 "nbformat": 4,
 "nbformat_minor": 5
}
