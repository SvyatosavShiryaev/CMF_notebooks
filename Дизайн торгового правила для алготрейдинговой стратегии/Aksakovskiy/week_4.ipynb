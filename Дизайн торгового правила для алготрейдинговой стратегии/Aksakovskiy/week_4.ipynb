{
 "cells": [
  {
   "cell_type": "code",
   "execution_count": 1,
   "metadata": {
    "collapsed": true,
    "jupyter": {
     "outputs_hidden": true
    }
   },
   "outputs": [],
   "source": [
    "import pandas as pd\n",
    "import numpy as np\n",
    "\n",
    "from os import listdir\n",
    "from os.path import isfile, join\n",
    "from tqdm import tqdm\n",
    "\n",
    "import matplotlib.pyplot as plt\n",
    "import seaborn as sns\n",
    "\n",
    "from sklearn.linear_model import LinearRegression, Lasso, Ridge\n",
    "from sklearn.metrics import mean_absolute_percentage_error\n",
    "from sklearn.model_selection import TimeSeriesSplit, cross_val_score, GridSearchCV\n",
    "from sklearn.feature_selection import SelectKBest, f_regression\n",
    "from sklearn.preprocessing import RobustScaler, PolynomialFeatures\n",
    "from sklearn.pipeline import make_pipeline\n",
    "\n",
    "import warnings"
   ]
  },
  {
   "cell_type": "code",
   "execution_count": 2,
   "metadata": {
    "collapsed": false,
    "jupyter": {
     "outputs_hidden": false
    },
    "pycharm": {
     "name": "#%%\n"
    }
   },
   "outputs": [],
   "source": [
    "warnings.filterwarnings('ignore')"
   ]
  },
  {
   "cell_type": "code",
   "execution_count": 3,
   "metadata": {
    "collapsed": false,
    "jupyter": {
     "outputs_hidden": false
    },
    "pycharm": {
     "name": "#%%\n"
    }
   },
   "outputs": [],
   "source": [
    "sns.set(rc={'figure.figsize':(16, 6)})"
   ]
  },
  {
   "cell_type": "markdown",
   "metadata": {},
   "source": [
    "### Data"
   ]
  },
  {
   "cell_type": "code",
   "execution_count": 4,
   "metadata": {
    "collapsed": false,
    "jupyter": {
     "outputs_hidden": false
    },
    "pycharm": {
     "name": "#%%\n"
    }
   },
   "outputs": [],
   "source": [
    "scores = pd.read_hdf('data/scores_retrotesting.hd5', key='df')\n",
    "moment_price = pd.read_hdf('data/ticker_price_moment_exit.hd5', key='df')"
   ]
  },
  {
   "cell_type": "code",
   "execution_count": 5,
   "metadata": {
    "collapsed": false,
    "jupyter": {
     "outputs_hidden": false
    },
    "pycharm": {
     "name": "#%%\n"
    }
   },
   "outputs": [],
   "source": [
    "files = [f for f in listdir('data/intraday_data') if isfile(join('data/intraday_data', f))]"
   ]
  },
  {
   "cell_type": "code",
   "execution_count": 6,
   "metadata": {
    "collapsed": false,
    "jupyter": {
     "outputs_hidden": false
    },
    "pycharm": {
     "name": "#%%\n"
    }
   },
   "outputs": [
    {
     "data": {
      "text/html": [
       "<div>\n",
       "<style scoped>\n",
       "    .dataframe tbody tr th:only-of-type {\n",
       "        vertical-align: middle;\n",
       "    }\n",
       "\n",
       "    .dataframe tbody tr th {\n",
       "        vertical-align: top;\n",
       "    }\n",
       "\n",
       "    .dataframe thead th {\n",
       "        text-align: right;\n",
       "    }\n",
       "</style>\n",
       "<table border=\"1\" class=\"dataframe\">\n",
       "  <thead>\n",
       "    <tr style=\"text-align: right;\">\n",
       "      <th></th>\n",
       "      <th>open</th>\n",
       "      <th>high</th>\n",
       "      <th>close</th>\n",
       "      <th>low</th>\n",
       "      <th>volume</th>\n",
       "      <th>time</th>\n",
       "      <th>formated time</th>\n",
       "      <th>ticker</th>\n",
       "      <th>autofilled</th>\n",
       "      <th>date</th>\n",
       "    </tr>\n",
       "  </thead>\n",
       "  <tbody>\n",
       "    <tr>\n",
       "      <th>0</th>\n",
       "      <td>35.2400</td>\n",
       "      <td>35.2400</td>\n",
       "      <td>35.24</td>\n",
       "      <td>35.24</td>\n",
       "      <td>4578.0</td>\n",
       "      <td>2021-08-12 13:30:00</td>\n",
       "      <td>2021-08-12 13:30:00+00:00</td>\n",
       "      <td>WMG</td>\n",
       "      <td>False</td>\n",
       "      <td>2021-08-12</td>\n",
       "    </tr>\n",
       "    <tr>\n",
       "      <th>1</th>\n",
       "      <td>35.2400</td>\n",
       "      <td>NaN</td>\n",
       "      <td>35.24</td>\n",
       "      <td>NaN</td>\n",
       "      <td>NaN</td>\n",
       "      <td>2021-08-12 13:31:00</td>\n",
       "      <td>2021-08-12 13:31:00+00:00</td>\n",
       "      <td>WMG</td>\n",
       "      <td>True</td>\n",
       "      <td>2021-08-12</td>\n",
       "    </tr>\n",
       "    <tr>\n",
       "      <th>2</th>\n",
       "      <td>35.3200</td>\n",
       "      <td>35.3200</td>\n",
       "      <td>35.32</td>\n",
       "      <td>35.32</td>\n",
       "      <td>150.0</td>\n",
       "      <td>2021-08-12 13:32:00</td>\n",
       "      <td>2021-08-12 13:32:00+00:00</td>\n",
       "      <td>WMG</td>\n",
       "      <td>False</td>\n",
       "      <td>2021-08-12</td>\n",
       "    </tr>\n",
       "    <tr>\n",
       "      <th>3</th>\n",
       "      <td>35.3200</td>\n",
       "      <td>NaN</td>\n",
       "      <td>35.32</td>\n",
       "      <td>NaN</td>\n",
       "      <td>NaN</td>\n",
       "      <td>2021-08-12 13:33:00</td>\n",
       "      <td>2021-08-12 13:33:00+00:00</td>\n",
       "      <td>WMG</td>\n",
       "      <td>True</td>\n",
       "      <td>2021-08-12</td>\n",
       "    </tr>\n",
       "    <tr>\n",
       "      <th>4</th>\n",
       "      <td>35.2639</td>\n",
       "      <td>35.2639</td>\n",
       "      <td>35.21</td>\n",
       "      <td>35.18</td>\n",
       "      <td>3029.0</td>\n",
       "      <td>2021-08-12 13:34:00</td>\n",
       "      <td>2021-08-12 13:34:00+00:00</td>\n",
       "      <td>WMG</td>\n",
       "      <td>False</td>\n",
       "      <td>2021-08-12</td>\n",
       "    </tr>\n",
       "  </tbody>\n",
       "</table>\n",
       "</div>"
      ],
      "text/plain": [
       "      open     high  close    low  volume                time  \\\n",
       "0  35.2400  35.2400  35.24  35.24  4578.0 2021-08-12 13:30:00   \n",
       "1  35.2400      NaN  35.24    NaN     NaN 2021-08-12 13:31:00   \n",
       "2  35.3200  35.3200  35.32  35.32   150.0 2021-08-12 13:32:00   \n",
       "3  35.3200      NaN  35.32    NaN     NaN 2021-08-12 13:33:00   \n",
       "4  35.2639  35.2639  35.21  35.18  3029.0 2021-08-12 13:34:00   \n",
       "\n",
       "              formated time ticker  autofilled        date  \n",
       "0 2021-08-12 13:30:00+00:00    WMG       False  2021-08-12  \n",
       "1 2021-08-12 13:31:00+00:00    WMG        True  2021-08-12  \n",
       "2 2021-08-12 13:32:00+00:00    WMG       False  2021-08-12  \n",
       "3 2021-08-12 13:33:00+00:00    WMG        True  2021-08-12  \n",
       "4 2021-08-12 13:34:00+00:00    WMG       False  2021-08-12  "
      ]
     },
     "execution_count": 6,
     "metadata": {},
     "output_type": "execute_result"
    }
   ],
   "source": [
    "df_list = []\n",
    "for file in files:\n",
    "    temp_df = pd.read_hdf('data/intraday_data/' + file, key='df')\n",
    "    df_list.append(temp_df)\n",
    "intraday = pd.concat(df_list)\n",
    "intraday['date'] = pd.to_datetime(intraday['time'], unit='s')\n",
    "intraday['date'] = intraday['date'].dt.date\n",
    "intraday['time'] = pd.to_datetime(intraday['time'], unit='s')\n",
    "intraday.head()"
   ]
  },
  {
   "cell_type": "code",
   "execution_count": 7,
   "metadata": {
    "collapsed": false,
    "jupyter": {
     "outputs_hidden": false
    },
    "pycharm": {
     "name": "#%%\n"
    }
   },
   "outputs": [],
   "source": [
    "aapl = intraday[intraday['ticker'] == 'AAPL']\n",
    "aapl = aapl[['open', 'close', 'time', 'date', 'autofilled']]\n",
    "aapl = aapl[aapl['date'] == pd.to_datetime('2021-08-25')]"
   ]
  },
  {
   "cell_type": "code",
   "execution_count": 8,
   "metadata": {
    "collapsed": false,
    "jupyter": {
     "outputs_hidden": false
    },
    "pycharm": {
     "name": "#%%\n"
    }
   },
   "outputs": [
    {
     "data": {
      "text/html": [
       "<div>\n",
       "<style scoped>\n",
       "    .dataframe tbody tr th:only-of-type {\n",
       "        vertical-align: middle;\n",
       "    }\n",
       "\n",
       "    .dataframe tbody tr th {\n",
       "        vertical-align: top;\n",
       "    }\n",
       "\n",
       "    .dataframe thead th {\n",
       "        text-align: right;\n",
       "    }\n",
       "</style>\n",
       "<table border=\"1\" class=\"dataframe\">\n",
       "  <thead>\n",
       "    <tr style=\"text-align: right;\">\n",
       "      <th></th>\n",
       "      <th>ticker</th>\n",
       "      <th>bidPrice</th>\n",
       "      <th>bidSize</th>\n",
       "      <th>askPrice</th>\n",
       "      <th>askSize</th>\n",
       "      <th>lastUpdated</th>\n",
       "      <th>lastSalePrice</th>\n",
       "      <th>lastSaleSize</th>\n",
       "      <th>lastSaleTime</th>\n",
       "      <th>volume</th>\n",
       "      <th>current_price</th>\n",
       "      <th>timestamp</th>\n",
       "      <th>news_id</th>\n",
       "    </tr>\n",
       "  </thead>\n",
       "  <tbody>\n",
       "    <tr>\n",
       "      <th>0</th>\n",
       "      <td>VS</td>\n",
       "      <td>0.0</td>\n",
       "      <td>0.0</td>\n",
       "      <td>0.0</td>\n",
       "      <td>0.0</td>\n",
       "      <td>1629316800000.0</td>\n",
       "      <td>4.33</td>\n",
       "      <td>6.0</td>\n",
       "      <td>1629316790023</td>\n",
       "      <td>46.0</td>\n",
       "      <td>4.24</td>\n",
       "      <td>1629716406</td>\n",
       "      <td>0000d467d1a52a6a84fc8b30adbe8ec2</td>\n",
       "    </tr>\n",
       "    <tr>\n",
       "      <th>1</th>\n",
       "      <td>VSSYW</td>\n",
       "      <td>0.0</td>\n",
       "      <td>0.0</td>\n",
       "      <td>0.0</td>\n",
       "      <td>0.0</td>\n",
       "      <td>1628193600000.0</td>\n",
       "      <td>1.55</td>\n",
       "      <td>25.0</td>\n",
       "      <td>1628178157384</td>\n",
       "      <td>25.0</td>\n",
       "      <td>2.08</td>\n",
       "      <td>1629716406</td>\n",
       "      <td>0000d467d1a52a6a84fc8b30adbe8ec2</td>\n",
       "    </tr>\n",
       "    <tr>\n",
       "      <th>3</th>\n",
       "      <td>BTBT</td>\n",
       "      <td>0.0</td>\n",
       "      <td>0.0</td>\n",
       "      <td>0.0</td>\n",
       "      <td>0.0</td>\n",
       "      <td>1632513600000.0</td>\n",
       "      <td>9.44</td>\n",
       "      <td>1.0</td>\n",
       "      <td>1632513582057</td>\n",
       "      <td>38333.0</td>\n",
       "      <td>9.46</td>\n",
       "      <td>1632747622</td>\n",
       "      <td>0007ea6c22fc24e1f34021185ad07e4e</td>\n",
       "    </tr>\n",
       "    <tr>\n",
       "      <th>4</th>\n",
       "      <td>CAN</td>\n",
       "      <td>0.0</td>\n",
       "      <td>0.0</td>\n",
       "      <td>0.0</td>\n",
       "      <td>0.0</td>\n",
       "      <td>1632515322537</td>\n",
       "      <td>6.16</td>\n",
       "      <td>80.0</td>\n",
       "      <td>1632514484013</td>\n",
       "      <td>453506.0</td>\n",
       "      <td>6.11</td>\n",
       "      <td>1632747622</td>\n",
       "      <td>0007ea6c22fc24e1f34021185ad07e4e</td>\n",
       "    </tr>\n",
       "    <tr>\n",
       "      <th>5</th>\n",
       "      <td>HVBT</td>\n",
       "      <td>0.0</td>\n",
       "      <td>0.0</td>\n",
       "      <td>0.0</td>\n",
       "      <td>0.0</td>\n",
       "      <td>1631563200000.0</td>\n",
       "      <td>3.06</td>\n",
       "      <td>300.0</td>\n",
       "      <td>1631563186154</td>\n",
       "      <td>33347.0</td>\n",
       "      <td>3.06</td>\n",
       "      <td>1632747622</td>\n",
       "      <td>0007ea6c22fc24e1f34021185ad07e4e</td>\n",
       "    </tr>\n",
       "  </tbody>\n",
       "</table>\n",
       "</div>"
      ],
      "text/plain": [
       "  ticker bidPrice bidSize askPrice askSize      lastUpdated lastSalePrice  \\\n",
       "0     VS      0.0     0.0      0.0     0.0  1629316800000.0          4.33   \n",
       "1  VSSYW      0.0     0.0      0.0     0.0  1628193600000.0          1.55   \n",
       "3   BTBT      0.0     0.0      0.0     0.0  1632513600000.0          9.44   \n",
       "4    CAN      0.0     0.0      0.0     0.0    1632515322537          6.16   \n",
       "5   HVBT      0.0     0.0      0.0     0.0  1631563200000.0          3.06   \n",
       "\n",
       "  lastSaleSize   lastSaleTime    volume current_price   timestamp  \\\n",
       "0          6.0  1629316790023      46.0          4.24  1629716406   \n",
       "1         25.0  1628178157384      25.0          2.08  1629716406   \n",
       "3          1.0  1632513582057   38333.0          9.46  1632747622   \n",
       "4         80.0  1632514484013  453506.0          6.11  1632747622   \n",
       "5        300.0  1631563186154   33347.0          3.06  1632747622   \n",
       "\n",
       "                            news_id  \n",
       "0  0000d467d1a52a6a84fc8b30adbe8ec2  \n",
       "1  0000d467d1a52a6a84fc8b30adbe8ec2  \n",
       "3  0007ea6c22fc24e1f34021185ad07e4e  \n",
       "4  0007ea6c22fc24e1f34021185ad07e4e  \n",
       "5  0007ea6c22fc24e1f34021185ad07e4e  "
      ]
     },
     "execution_count": 8,
     "metadata": {},
     "output_type": "execute_result"
    }
   ],
   "source": [
    "moment_price.head()"
   ]
  },
  {
   "cell_type": "code",
   "execution_count": 9,
   "metadata": {
    "collapsed": false,
    "jupyter": {
     "outputs_hidden": false
    },
    "pycharm": {
     "name": "#%%\n"
    }
   },
   "outputs": [],
   "source": [
    "high_score = 0.05\n",
    "high_score_news = scores[scores['probability'] >= high_score]"
   ]
  },
  {
   "cell_type": "code",
   "execution_count": 10,
   "metadata": {
    "collapsed": false,
    "jupyter": {
     "outputs_hidden": false
    },
    "pycharm": {
     "name": "#%%\n"
    }
   },
   "outputs": [],
   "source": [
    "high_moment_price = moment_price[moment_price['news_id'].isin(high_score_news['news_id'])]"
   ]
  },
  {
   "cell_type": "code",
   "execution_count": 11,
   "metadata": {
    "collapsed": false,
    "jupyter": {
     "outputs_hidden": false
    },
    "pycharm": {
     "name": "#%%\n"
    }
   },
   "outputs": [
    {
     "data": {
      "text/html": [
       "<div>\n",
       "<style scoped>\n",
       "    .dataframe tbody tr th:only-of-type {\n",
       "        vertical-align: middle;\n",
       "    }\n",
       "\n",
       "    .dataframe tbody tr th {\n",
       "        vertical-align: top;\n",
       "    }\n",
       "\n",
       "    .dataframe thead th {\n",
       "        text-align: right;\n",
       "    }\n",
       "</style>\n",
       "<table border=\"1\" class=\"dataframe\">\n",
       "  <thead>\n",
       "    <tr style=\"text-align: right;\">\n",
       "      <th></th>\n",
       "      <th>current_price</th>\n",
       "      <th>timestamp</th>\n",
       "      <th>news_id</th>\n",
       "      <th>time</th>\n",
       "      <th>date</th>\n",
       "    </tr>\n",
       "  </thead>\n",
       "  <tbody>\n",
       "    <tr>\n",
       "      <th>512</th>\n",
       "      <td>142.94</td>\n",
       "      <td>1632227415</td>\n",
       "      <td>023f6666089eccdf3a3f6eaa81459232</td>\n",
       "      <td>2021-09-21 12:30:15</td>\n",
       "      <td>2021-09-21</td>\n",
       "    </tr>\n",
       "    <tr>\n",
       "      <th>4738</th>\n",
       "      <td>146.06</td>\n",
       "      <td>1632131218</td>\n",
       "      <td>156950066f760757b4f76099f668308c</td>\n",
       "      <td>2021-09-20 09:46:58</td>\n",
       "      <td>2021-09-20</td>\n",
       "    </tr>\n",
       "    <tr>\n",
       "      <th>10335</th>\n",
       "      <td>155.11</td>\n",
       "      <td>1631192447</td>\n",
       "      <td>2fb4b44b3578368e902f22dfe150dc40</td>\n",
       "      <td>2021-09-09 13:00:47</td>\n",
       "      <td>2021-09-09</td>\n",
       "    </tr>\n",
       "    <tr>\n",
       "      <th>13742</th>\n",
       "      <td>147.905</td>\n",
       "      <td>1631643362</td>\n",
       "      <td>3f458576a35328d208049a144260eaa0</td>\n",
       "      <td>2021-09-14 18:16:02</td>\n",
       "      <td>2021-09-14</td>\n",
       "    </tr>\n",
       "    <tr>\n",
       "      <th>13782</th>\n",
       "      <td>153.915</td>\n",
       "      <td>1630694195</td>\n",
       "      <td>3f8f78b346d4b76a46bbee97423fe05c</td>\n",
       "      <td>2021-09-03 18:36:35</td>\n",
       "      <td>2021-09-03</td>\n",
       "    </tr>\n",
       "    <tr>\n",
       "      <th>15583</th>\n",
       "      <td>147.9</td>\n",
       "      <td>1631643364</td>\n",
       "      <td>480ab3c932e53ec07128fed6462fa4f8</td>\n",
       "      <td>2021-09-14 18:16:04</td>\n",
       "      <td>2021-09-14</td>\n",
       "    </tr>\n",
       "    <tr>\n",
       "      <th>17288</th>\n",
       "      <td>149.705</td>\n",
       "      <td>1631298705</td>\n",
       "      <td>504129913be79d4ed0a69b3fbaca8bd2</td>\n",
       "      <td>2021-09-10 18:31:45</td>\n",
       "      <td>2021-09-10</td>\n",
       "    </tr>\n",
       "    <tr>\n",
       "      <th>17862</th>\n",
       "      <td>154.7401</td>\n",
       "      <td>1631114512</td>\n",
       "      <td>52de2657467f5b1677da3fcd329b6e97</td>\n",
       "      <td>2021-09-08 15:21:52</td>\n",
       "      <td>2021-09-08</td>\n",
       "    </tr>\n",
       "    <tr>\n",
       "      <th>20149</th>\n",
       "      <td>148.785</td>\n",
       "      <td>1631640064</td>\n",
       "      <td>5dc87156901f74b4bbb55538b77c7a24</td>\n",
       "      <td>2021-09-14 17:21:04</td>\n",
       "      <td>2021-09-14</td>\n",
       "    </tr>\n",
       "    <tr>\n",
       "      <th>25631</th>\n",
       "      <td>150.37</td>\n",
       "      <td>1631635329</td>\n",
       "      <td>7705ad87be96d946c997309689172b9a</td>\n",
       "      <td>2021-09-14 16:02:09</td>\n",
       "      <td>2021-09-14</td>\n",
       "    </tr>\n",
       "    <tr>\n",
       "      <th>31938</th>\n",
       "      <td>156.715</td>\n",
       "      <td>1631032571</td>\n",
       "      <td>94914f99235e29400bf4426ba8dc2e0e</td>\n",
       "      <td>2021-09-07 16:36:11</td>\n",
       "      <td>2021-09-07</td>\n",
       "    </tr>\n",
       "    <tr>\n",
       "      <th>34218</th>\n",
       "      <td>142.94</td>\n",
       "      <td>1632173147</td>\n",
       "      <td>9facca345208e6004379f170ac9a2990</td>\n",
       "      <td>2021-09-20 21:25:47</td>\n",
       "      <td>2021-09-20</td>\n",
       "    </tr>\n",
       "    <tr>\n",
       "      <th>36036</th>\n",
       "      <td>142.65</td>\n",
       "      <td>1633353248</td>\n",
       "      <td>a7d67c76701b1a486f5b227b41c6f3b8</td>\n",
       "      <td>2021-10-04 13:14:08</td>\n",
       "      <td>2021-10-04</td>\n",
       "    </tr>\n",
       "    <tr>\n",
       "      <th>36268</th>\n",
       "      <td>156.8</td>\n",
       "      <td>1631031838</td>\n",
       "      <td>a8e76187f5ea8dc25cbd624f385cab67</td>\n",
       "      <td>2021-09-07 16:23:58</td>\n",
       "      <td>2021-09-07</td>\n",
       "    </tr>\n",
       "    <tr>\n",
       "      <th>39576</th>\n",
       "      <td>148.535</td>\n",
       "      <td>1631642371</td>\n",
       "      <td>b88d6137530b93e308587b711b0aa658</td>\n",
       "      <td>2021-09-14 17:59:31</td>\n",
       "      <td>2021-09-14</td>\n",
       "    </tr>\n",
       "    <tr>\n",
       "      <th>44632</th>\n",
       "      <td>152.44</td>\n",
       "      <td>1630340764</td>\n",
       "      <td>d0eefcd28883c883e2d87cc2fcaa5d4d</td>\n",
       "      <td>2021-08-30 16:26:04</td>\n",
       "      <td>2021-08-30</td>\n",
       "    </tr>\n",
       "    <tr>\n",
       "      <th>47793</th>\n",
       "      <td>148.782</td>\n",
       "      <td>1631640062</td>\n",
       "      <td>dfc9d425f3bd9279f681d1494cbae932</td>\n",
       "      <td>2021-09-14 17:21:02</td>\n",
       "      <td>2021-09-14</td>\n",
       "    </tr>\n",
       "    <tr>\n",
       "      <th>50820</th>\n",
       "      <td>143.695</td>\n",
       "      <td>1633702597</td>\n",
       "      <td>edad19c4f26e4fbe2b58e9d3e3ae0359</td>\n",
       "      <td>2021-10-08 14:16:37</td>\n",
       "      <td>2021-10-08</td>\n",
       "    </tr>\n",
       "    <tr>\n",
       "      <th>53542</th>\n",
       "      <td>148.125</td>\n",
       "      <td>1631816794</td>\n",
       "      <td>f9f35d19339a3a77c0b2bca0cc40e825</td>\n",
       "      <td>2021-09-16 18:26:34</td>\n",
       "      <td>2021-09-16</td>\n",
       "    </tr>\n",
       "  </tbody>\n",
       "</table>\n",
       "</div>"
      ],
      "text/plain": [
       "      current_price   timestamp                           news_id  \\\n",
       "512          142.94  1632227415  023f6666089eccdf3a3f6eaa81459232   \n",
       "4738         146.06  1632131218  156950066f760757b4f76099f668308c   \n",
       "10335        155.11  1631192447  2fb4b44b3578368e902f22dfe150dc40   \n",
       "13742       147.905  1631643362  3f458576a35328d208049a144260eaa0   \n",
       "13782       153.915  1630694195  3f8f78b346d4b76a46bbee97423fe05c   \n",
       "15583         147.9  1631643364  480ab3c932e53ec07128fed6462fa4f8   \n",
       "17288       149.705  1631298705  504129913be79d4ed0a69b3fbaca8bd2   \n",
       "17862      154.7401  1631114512  52de2657467f5b1677da3fcd329b6e97   \n",
       "20149       148.785  1631640064  5dc87156901f74b4bbb55538b77c7a24   \n",
       "25631        150.37  1631635329  7705ad87be96d946c997309689172b9a   \n",
       "31938       156.715  1631032571  94914f99235e29400bf4426ba8dc2e0e   \n",
       "34218        142.94  1632173147  9facca345208e6004379f170ac9a2990   \n",
       "36036        142.65  1633353248  a7d67c76701b1a486f5b227b41c6f3b8   \n",
       "36268         156.8  1631031838  a8e76187f5ea8dc25cbd624f385cab67   \n",
       "39576       148.535  1631642371  b88d6137530b93e308587b711b0aa658   \n",
       "44632        152.44  1630340764  d0eefcd28883c883e2d87cc2fcaa5d4d   \n",
       "47793       148.782  1631640062  dfc9d425f3bd9279f681d1494cbae932   \n",
       "50820       143.695  1633702597  edad19c4f26e4fbe2b58e9d3e3ae0359   \n",
       "53542       148.125  1631816794  f9f35d19339a3a77c0b2bca0cc40e825   \n",
       "\n",
       "                     time        date  \n",
       "512   2021-09-21 12:30:15  2021-09-21  \n",
       "4738  2021-09-20 09:46:58  2021-09-20  \n",
       "10335 2021-09-09 13:00:47  2021-09-09  \n",
       "13742 2021-09-14 18:16:02  2021-09-14  \n",
       "13782 2021-09-03 18:36:35  2021-09-03  \n",
       "15583 2021-09-14 18:16:04  2021-09-14  \n",
       "17288 2021-09-10 18:31:45  2021-09-10  \n",
       "17862 2021-09-08 15:21:52  2021-09-08  \n",
       "20149 2021-09-14 17:21:04  2021-09-14  \n",
       "25631 2021-09-14 16:02:09  2021-09-14  \n",
       "31938 2021-09-07 16:36:11  2021-09-07  \n",
       "34218 2021-09-20 21:25:47  2021-09-20  \n",
       "36036 2021-10-04 13:14:08  2021-10-04  \n",
       "36268 2021-09-07 16:23:58  2021-09-07  \n",
       "39576 2021-09-14 17:59:31  2021-09-14  \n",
       "44632 2021-08-30 16:26:04  2021-08-30  \n",
       "47793 2021-09-14 17:21:02  2021-09-14  \n",
       "50820 2021-10-08 14:16:37  2021-10-08  \n",
       "53542 2021-09-16 18:26:34  2021-09-16  "
      ]
     },
     "execution_count": 11,
     "metadata": {},
     "output_type": "execute_result"
    }
   ],
   "source": [
    "aapl_moment_price = high_moment_price[high_moment_price['ticker'] == 'AAPL']\n",
    "aapl_moment_price = aapl_moment_price[['current_price', 'timestamp', 'news_id']]\n",
    "aapl_moment_price['time'] = pd.to_datetime(aapl_moment_price['timestamp'], unit='s')\n",
    "aapl_moment_price['date'] = aapl_moment_price['time'].dt.date\n",
    "aapl_moment_price"
   ]
  },
  {
   "cell_type": "code",
   "execution_count": 38,
   "metadata": {
    "collapsed": false,
    "jupyter": {
     "outputs_hidden": false
    },
    "pycharm": {
     "name": "#%%\n"
    }
   },
   "outputs": [],
   "source": [
    "aapl = intraday[intraday['ticker'] == 'AAPL']\n",
    "aapl = aapl[['open', 'close', 'time', 'date', 'autofilled']]\n",
    "aapl = aapl[(aapl['date'] >= pd.to_datetime('2021-09-20')) & (aapl['date'] < pd.to_datetime('2021-09-21 12:30:00 '))]"
   ]
  },
  {
   "cell_type": "markdown",
   "metadata": {},
   "source": [
    "### Linear regression"
   ]
  },
  {
   "cell_type": "code",
   "execution_count": 39,
   "metadata": {
    "collapsed": false,
    "jupyter": {
     "outputs_hidden": false
    },
    "pycharm": {
     "name": "#%%\n"
    }
   },
   "outputs": [
    {
     "data": {
      "text/html": [
       "<div>\n",
       "<style scoped>\n",
       "    .dataframe tbody tr th:only-of-type {\n",
       "        vertical-align: middle;\n",
       "    }\n",
       "\n",
       "    .dataframe tbody tr th {\n",
       "        vertical-align: top;\n",
       "    }\n",
       "\n",
       "    .dataframe thead th {\n",
       "        text-align: right;\n",
       "    }\n",
       "</style>\n",
       "<table border=\"1\" class=\"dataframe\">\n",
       "  <thead>\n",
       "    <tr style=\"text-align: right;\">\n",
       "      <th></th>\n",
       "      <th>open</th>\n",
       "      <th>close</th>\n",
       "      <th>time</th>\n",
       "      <th>date</th>\n",
       "      <th>autofilled</th>\n",
       "      <th>log</th>\n",
       "      <th>log_diff</th>\n",
       "    </tr>\n",
       "  </thead>\n",
       "  <tbody>\n",
       "    <tr>\n",
       "      <th>0</th>\n",
       "      <td>144.96</td>\n",
       "      <td>144.64</td>\n",
       "      <td>2021-09-20 08:00:00</td>\n",
       "      <td>2021-09-20</td>\n",
       "      <td>False</td>\n",
       "      <td>4.974248</td>\n",
       "      <td>NaN</td>\n",
       "    </tr>\n",
       "    <tr>\n",
       "      <th>1</th>\n",
       "      <td>144.56</td>\n",
       "      <td>144.33</td>\n",
       "      <td>2021-09-20 08:01:00</td>\n",
       "      <td>2021-09-20</td>\n",
       "      <td>False</td>\n",
       "      <td>4.972102</td>\n",
       "      <td>-0.002146</td>\n",
       "    </tr>\n",
       "    <tr>\n",
       "      <th>2</th>\n",
       "      <td>144.35</td>\n",
       "      <td>144.39</td>\n",
       "      <td>2021-09-20 08:02:00</td>\n",
       "      <td>2021-09-20</td>\n",
       "      <td>False</td>\n",
       "      <td>4.972518</td>\n",
       "      <td>0.000416</td>\n",
       "    </tr>\n",
       "    <tr>\n",
       "      <th>3</th>\n",
       "      <td>144.29</td>\n",
       "      <td>144.33</td>\n",
       "      <td>2021-09-20 08:03:00</td>\n",
       "      <td>2021-09-20</td>\n",
       "      <td>False</td>\n",
       "      <td>4.972102</td>\n",
       "      <td>-0.000416</td>\n",
       "    </tr>\n",
       "    <tr>\n",
       "      <th>4</th>\n",
       "      <td>144.32</td>\n",
       "      <td>144.35</td>\n",
       "      <td>2021-09-20 08:04:00</td>\n",
       "      <td>2021-09-20</td>\n",
       "      <td>False</td>\n",
       "      <td>4.972241</td>\n",
       "      <td>0.000139</td>\n",
       "    </tr>\n",
       "  </tbody>\n",
       "</table>\n",
       "</div>"
      ],
      "text/plain": [
       "     open   close                time        date  autofilled       log  \\\n",
       "0  144.96  144.64 2021-09-20 08:00:00  2021-09-20       False  4.974248   \n",
       "1  144.56  144.33 2021-09-20 08:01:00  2021-09-20       False  4.972102   \n",
       "2  144.35  144.39 2021-09-20 08:02:00  2021-09-20       False  4.972518   \n",
       "3  144.29  144.33 2021-09-20 08:03:00  2021-09-20       False  4.972102   \n",
       "4  144.32  144.35 2021-09-20 08:04:00  2021-09-20       False  4.972241   \n",
       "\n",
       "   log_diff  \n",
       "0       NaN  \n",
       "1 -0.002146  \n",
       "2  0.000416  \n",
       "3 -0.000416  \n",
       "4  0.000139  "
      ]
     },
     "execution_count": 39,
     "metadata": {},
     "output_type": "execute_result"
    }
   ],
   "source": [
    "aapl['log'] = np.log(aapl['close'])\n",
    "aapl['log_diff'] = aapl['log'] - aapl['log'].shift(1)\n",
    "aapl.head()"
   ]
  },
  {
   "cell_type": "code",
   "execution_count": 40,
   "metadata": {
    "collapsed": false,
    "jupyter": {
     "outputs_hidden": false
    },
    "pycharm": {
     "name": "#%%\n"
    }
   },
   "outputs": [],
   "source": [
    "def timeseries_train_test_split(X, y, test_size):\n",
    "    test_index = int(len(X) * (1 - test_size))\n",
    "\n",
    "    X_train = X.iloc[:test_index]\n",
    "    y_train = y.iloc[:test_index]\n",
    "    X_test = X.iloc[test_index:]\n",
    "    y_test = y.iloc[test_index:]\n",
    "\n",
    "    return X_train, X_test, y_train, y_test"
   ]
  },
  {
   "cell_type": "code",
   "execution_count": 41,
   "metadata": {
    "collapsed": false,
    "jupyter": {
     "outputs_hidden": false
    },
    "pycharm": {
     "name": "#%%\n"
    }
   },
   "outputs": [],
   "source": [
    "for i in range(1, 60):\n",
    "    aapl[\"lag_{}\".format(i)] = aapl['log_diff'].shift(i)"
   ]
  },
  {
   "cell_type": "code",
   "execution_count": 42,
   "metadata": {
    "collapsed": false,
    "jupyter": {
     "outputs_hidden": false
    },
    "pycharm": {
     "name": "#%%\n"
    }
   },
   "outputs": [],
   "source": [
    "def select_features(X_train, y_train, X_test):\n",
    "    fs = SelectKBest(score_func=f_regression, k='all')\n",
    "    fs.fit(X_train, y_train)\n",
    "    X_train_fs = fs.transform(X_train)\n",
    "    X_test_fs = fs.transform(X_test)\n",
    "    return X_train_fs, X_test_fs, fs"
   ]
  },
  {
   "cell_type": "code",
   "execution_count": 43,
   "metadata": {
    "collapsed": false,
    "jupyter": {
     "outputs_hidden": false
    },
    "pycharm": {
     "name": "#%%\n"
    }
   },
   "outputs": [],
   "source": [
    "y = aapl.dropna()['log_diff']\n",
    "X = aapl.dropna().drop(['log_diff', 'open', 'close', 'time', 'date', 'autofilled', 'log'], axis=1)\n",
    "\n",
    "X_train, X_test, y_train, y_test = timeseries_train_test_split(X, y, test_size=0.3)"
   ]
  },
  {
   "cell_type": "code",
   "execution_count": 45,
   "metadata": {
    "collapsed": false,
    "jupyter": {
     "outputs_hidden": false
    },
    "pycharm": {
     "name": "#%%\n"
    }
   },
   "outputs": [
    {
     "data": {
      "image/png": "[encoded data removed]",
      "text/plain": [
       "<Figure size 1152x432 with 1 Axes>"
      ]
     },
     "metadata": {},
     "output_type": "display_data"
    }
   ],
   "source": [
    "X_train_fs, X_test_fs, fs = select_features(X_train, y_train, X_test)\n",
    "\n",
    "plt.bar([i for i in range(len(fs.scores_))], fs.scores_)\n",
    "plt.xlabel('Признак')\n",
    "plt.ylabel('F-statistic')\n",
    "plt.xticks(list(range(0, X_train.shape[1])), X_train.columns, rotation='vertical')\n",
    "plt.title('Гистограмма расчитанных F-статистик для признаков')\n",
    "plt.show()"
   ]
  },
  {
   "cell_type": "code",
   "execution_count": 46,
   "metadata": {
    "collapsed": false,
    "jupyter": {
     "outputs_hidden": false
    },
    "pycharm": {
     "name": "#%%\n"
    }
   },
   "outputs": [],
   "source": [
    "def get_top_n_features(features, scores, n=10):\n",
    "    top_n_indexes = sorted(range(len(scores)), key=lambda i: scores[i], reverse=True)[:n]\n",
    "    return [features[i] for i in top_n_indexes]"
   ]
  },
  {
   "cell_type": "code",
   "execution_count": 47,
   "metadata": {
    "collapsed": false,
    "jupyter": {
     "outputs_hidden": false
    },
    "pycharm": {
     "name": "#%%\n"
    }
   },
   "outputs": [],
   "source": [
    "def compute_errors_for_regressors(train, test, y_train=y_train, y_test=y_test, degree=1):\n",
    "    errors = []\n",
    "\n",
    "    for n in range(1, train.shape[1] + 1):\n",
    "        top_features = get_top_n_features(train.columns, fs.scores_, n=n)\n",
    "        poly_lr = make_pipeline(PolynomialFeatures(degree), LinearRegression())\n",
    "        poly_lr.fit(train[top_features], y_train)\n",
    "        preds = poly_lr.predict(test[top_features])\n",
    "        errors.append(mean_absolute_percentage_error(preds, y_test))\n",
    "\n",
    "    plt.bar([i for i in range(len(errors))], errors)\n",
    "    plt.xlabel('Количество топ-признаков')\n",
    "    plt.ylabel('MAPE')\n",
    "    plt.xticks([i for i in range(len(errors))], rotation='vertical')\n",
    "    plt.title('MAPE для топ-n регрессоров')\n",
    "    plt.show()\n",
    "\n",
    "    return errors"
   ]
  },
  {
   "cell_type": "code",
   "execution_count": 48,
   "metadata": {
    "collapsed": false,
    "jupyter": {
     "outputs_hidden": false
    },
    "pycharm": {
     "name": "#%%\n"
    }
   },
   "outputs": [
    {
     "data": {
      "image/png": "[encoded data removed]",
      "text/plain": [
       "<Figure size 1152x432 with 1 Axes>"
      ]
     },
     "metadata": {},
     "output_type": "display_data"
    }
   ],
   "source": [
    "errors = compute_errors_for_regressors(X_train, X_test)"
   ]
  },
  {
   "cell_type": "code",
   "execution_count": 49,
   "metadata": {
    "collapsed": false,
    "jupyter": {
     "outputs_hidden": false
    },
    "pycharm": {
     "name": "#%%\n"
    }
   },
   "outputs": [
    {
     "data": {
      "text/plain": [
       "56"
      ]
     },
     "execution_count": 49,
     "metadata": {},
     "output_type": "execute_result"
    }
   ],
   "source": [
    "optimal_n = sorted(range(len(errors)), key=lambda x: errors[x])[0]\n",
    "optimal_n"
   ]
  },
  {
   "cell_type": "code",
   "execution_count": 50,
   "metadata": {
    "collapsed": false,
    "jupyter": {
     "outputs_hidden": false
    },
    "pycharm": {
     "name": "#%%\n"
    }
   },
   "outputs": [],
   "source": [
    "tscv = TimeSeriesSplit(n_splits=5)\n",
    "\n",
    "def plotModelResults(model, train=X_train, test=X_test, y_train=y_train, y_test=y_test, plot_intervals=False, plot_anomalies=False):\n",
    "    prediction = model.predict(test)\n",
    "\n",
    "    plt.figure(figsize=(15, 7))\n",
    "    plt.plot(prediction, \"g\", label=\"prediction\", linewidth=2.0)\n",
    "    plt.plot(y_test.values, label=\"actual\", linewidth=2.0)\n",
    "\n",
    "    if plot_intervals:\n",
    "        cv = cross_val_score(model, train, y_train,\n",
    "                             cv=tscv,\n",
    "                             scoring=\"neg_mean_absolute_error\")\n",
    "        mae = cv.mean() * (-1)\n",
    "        deviation = cv.std()\n",
    "\n",
    "        scale = 1.96\n",
    "        lower = prediction - (mae + scale * deviation)\n",
    "        upper = prediction + (mae + scale * deviation)\n",
    "\n",
    "        plt.plot(lower, \"r--\", label=\"upper bond / lower bond\", alpha=0.5)\n",
    "        plt.plot(upper, \"r--\", alpha=0.5)\n",
    "\n",
    "        if plot_anomalies:\n",
    "            anomalies = np.array([np.NaN]*len(y_test))\n",
    "            anomalies[y_test<lower] = y_test[y_test<lower]\n",
    "            anomalies[y_test>upper] = y_test[y_test>upper]\n",
    "            plt.plot(anomalies, \"o\", markersize=10, label = \"Anomalies\")\n",
    "\n",
    "    error = mean_absolute_percentage_error(prediction, y_test)\n",
    "    plt.title(\"Mean absolute percentage error {0:.2f}%\".format(error))\n",
    "    plt.legend(loc=\"best\")\n",
    "    plt.tight_layout()\n",
    "    plt.grid(True)"
   ]
  },
  {
   "cell_type": "code",
   "execution_count": 51,
   "metadata": {
    "collapsed": false,
    "jupyter": {
     "outputs_hidden": false
    },
    "pycharm": {
     "name": "#%%\n"
    }
   },
   "outputs": [
    {
     "data": {
      "image/png": "[encoded data removed]",
      "text/plain": [
       "<Figure size 1080x504 with 1 Axes>"
      ]
     },
     "metadata": {},
     "output_type": "display_data"
    }
   ],
   "source": [
    "top_features = get_top_n_features(X_train.columns, fs.scores_, n=optimal_n)\n",
    "lr = LinearRegression()\n",
    "lr.fit(X_train[top_features], y_train)\n",
    "\n",
    "plotModelResults(lr, X_train[top_features], X_test[top_features], plot_intervals=True)"
   ]
  },
  {
   "cell_type": "code",
   "execution_count": 52,
   "metadata": {
    "collapsed": false,
    "jupyter": {
     "outputs_hidden": false
    },
    "pycharm": {
     "name": "#%%\n"
    }
   },
   "outputs": [
    {
     "data": {
      "text/plain": [
       "3.601861097951797"
      ]
     },
     "execution_count": 52,
     "metadata": {},
     "output_type": "execute_result"
    }
   ],
   "source": [
    "mean_absolute_percentage_error(lr.predict(X_test[top_features]), y_test)"
   ]
  },
  {
   "cell_type": "markdown",
   "metadata": {},
   "source": [
    "### Predict to next day"
   ]
  },
  {
   "cell_type": "markdown",
   "metadata": {},
   "source": [
    "Предположим, что новость вышла 2021-09-21 12:30:00, и необходимо предсказать значения актива на ближайшие 30 минут, определить наилучшее время для захода и профит"
   ]
  },
  {
   "cell_type": "code",
   "execution_count": 121,
   "metadata": {
    "collapsed": false,
    "jupyter": {
     "outputs_hidden": false
    },
    "pycharm": {
     "name": "#%%\n"
    }
   },
   "outputs": [],
   "source": [
    "aapl_test = intraday[intraday['ticker'] == 'AAPL']\n",
    "aapl_test = aapl_test[['close', 'time']]\n",
    "aapl_test = aapl_test[(aapl_test['time'] >= pd.to_datetime('2021-09-20 23:59:00')) & (aapl_test['time'] < pd.to_datetime('2021-09-21 12:30:00'))]"
   ]
  },
  {
   "cell_type": "code",
   "execution_count": 122,
   "metadata": {
    "collapsed": false,
    "jupyter": {
     "outputs_hidden": false
    },
    "pycharm": {
     "name": "#%%\n"
    }
   },
   "outputs": [
    {
     "data": {
      "text/html": [
       "<div>\n",
       "<style scoped>\n",
       "    .dataframe tbody tr th:only-of-type {\n",
       "        vertical-align: middle;\n",
       "    }\n",
       "\n",
       "    .dataframe tbody tr th {\n",
       "        vertical-align: top;\n",
       "    }\n",
       "\n",
       "    .dataframe thead th {\n",
       "        text-align: right;\n",
       "    }\n",
       "</style>\n",
       "<table border=\"1\" class=\"dataframe\">\n",
       "  <thead>\n",
       "    <tr style=\"text-align: right;\">\n",
       "      <th></th>\n",
       "      <th>close</th>\n",
       "      <th>time</th>\n",
       "      <th>log</th>\n",
       "      <th>log_diff</th>\n",
       "      <th>lag_1</th>\n",
       "      <th>lag_2</th>\n",
       "      <th>lag_3</th>\n",
       "      <th>lag_4</th>\n",
       "      <th>lag_5</th>\n",
       "      <th>lag_6</th>\n",
       "      <th>...</th>\n",
       "      <th>lag_50</th>\n",
       "      <th>lag_51</th>\n",
       "      <th>lag_52</th>\n",
       "      <th>lag_53</th>\n",
       "      <th>lag_54</th>\n",
       "      <th>lag_55</th>\n",
       "      <th>lag_56</th>\n",
       "      <th>lag_57</th>\n",
       "      <th>lag_58</th>\n",
       "      <th>lag_59</th>\n",
       "    </tr>\n",
       "  </thead>\n",
       "  <tbody>\n",
       "    <tr>\n",
       "      <th>265</th>\n",
       "      <td>144.18</td>\n",
       "      <td>2021-09-21 12:25:00</td>\n",
       "      <td>4.971063</td>\n",
       "      <td>0.000624</td>\n",
       "      <td>-0.000208</td>\n",
       "      <td>-0.000278</td>\n",
       "      <td>-0.000277</td>\n",
       "      <td>-0.000139</td>\n",
       "      <td>0.000347</td>\n",
       "      <td>-0.000277</td>\n",
       "      <td>...</td>\n",
       "      <td>0.000416</td>\n",
       "      <td>-0.000139</td>\n",
       "      <td>0.000000</td>\n",
       "      <td>-0.000208</td>\n",
       "      <td>0.000347</td>\n",
       "      <td>0.000000</td>\n",
       "      <td>0.000139</td>\n",
       "      <td>0.000000</td>\n",
       "      <td>-0.000347</td>\n",
       "      <td>0.000069</td>\n",
       "    </tr>\n",
       "    <tr>\n",
       "      <th>266</th>\n",
       "      <td>144.13</td>\n",
       "      <td>2021-09-21 12:26:00</td>\n",
       "      <td>4.970716</td>\n",
       "      <td>-0.000347</td>\n",
       "      <td>0.000624</td>\n",
       "      <td>-0.000208</td>\n",
       "      <td>-0.000278</td>\n",
       "      <td>-0.000277</td>\n",
       "      <td>-0.000139</td>\n",
       "      <td>0.000347</td>\n",
       "      <td>...</td>\n",
       "      <td>-0.000277</td>\n",
       "      <td>0.000416</td>\n",
       "      <td>-0.000139</td>\n",
       "      <td>0.000000</td>\n",
       "      <td>-0.000208</td>\n",
       "      <td>0.000347</td>\n",
       "      <td>0.000000</td>\n",
       "      <td>0.000139</td>\n",
       "      <td>0.000000</td>\n",
       "      <td>-0.000347</td>\n",
       "    </tr>\n",
       "    <tr>\n",
       "      <th>267</th>\n",
       "      <td>144.07</td>\n",
       "      <td>2021-09-21 12:27:00</td>\n",
       "      <td>4.970299</td>\n",
       "      <td>-0.000416</td>\n",
       "      <td>-0.000347</td>\n",
       "      <td>0.000624</td>\n",
       "      <td>-0.000208</td>\n",
       "      <td>-0.000278</td>\n",
       "      <td>-0.000277</td>\n",
       "      <td>-0.000139</td>\n",
       "      <td>...</td>\n",
       "      <td>-0.000832</td>\n",
       "      <td>-0.000277</td>\n",
       "      <td>0.000416</td>\n",
       "      <td>-0.000139</td>\n",
       "      <td>0.000000</td>\n",
       "      <td>-0.000208</td>\n",
       "      <td>0.000347</td>\n",
       "      <td>0.000000</td>\n",
       "      <td>0.000139</td>\n",
       "      <td>0.000000</td>\n",
       "    </tr>\n",
       "    <tr>\n",
       "      <th>268</th>\n",
       "      <td>144.07</td>\n",
       "      <td>2021-09-21 12:28:00</td>\n",
       "      <td>4.970299</td>\n",
       "      <td>0.000000</td>\n",
       "      <td>-0.000416</td>\n",
       "      <td>-0.000347</td>\n",
       "      <td>0.000624</td>\n",
       "      <td>-0.000208</td>\n",
       "      <td>-0.000278</td>\n",
       "      <td>-0.000277</td>\n",
       "      <td>...</td>\n",
       "      <td>0.000139</td>\n",
       "      <td>-0.000832</td>\n",
       "      <td>-0.000277</td>\n",
       "      <td>0.000416</td>\n",
       "      <td>-0.000139</td>\n",
       "      <td>0.000000</td>\n",
       "      <td>-0.000208</td>\n",
       "      <td>0.000347</td>\n",
       "      <td>0.000000</td>\n",
       "      <td>0.000139</td>\n",
       "    </tr>\n",
       "    <tr>\n",
       "      <th>269</th>\n",
       "      <td>144.12</td>\n",
       "      <td>2021-09-21 12:29:00</td>\n",
       "      <td>4.970646</td>\n",
       "      <td>0.000347</td>\n",
       "      <td>0.000000</td>\n",
       "      <td>-0.000416</td>\n",
       "      <td>-0.000347</td>\n",
       "      <td>0.000624</td>\n",
       "      <td>-0.000208</td>\n",
       "      <td>-0.000278</td>\n",
       "      <td>...</td>\n",
       "      <td>-0.000208</td>\n",
       "      <td>0.000139</td>\n",
       "      <td>-0.000832</td>\n",
       "      <td>-0.000277</td>\n",
       "      <td>0.000416</td>\n",
       "      <td>-0.000139</td>\n",
       "      <td>0.000000</td>\n",
       "      <td>-0.000208</td>\n",
       "      <td>0.000347</td>\n",
       "      <td>0.000000</td>\n",
       "    </tr>\n",
       "  </tbody>\n",
       "</table>\n",
       "<p>5 rows × 63 columns</p>\n",
       "</div>"
      ],
      "text/plain": [
       "      close                time       log  log_diff     lag_1     lag_2  \\\n",
       "265  144.18 2021-09-21 12:25:00  4.971063  0.000624 -0.000208 -0.000278   \n",
       "266  144.13 2021-09-21 12:26:00  4.970716 -0.000347  0.000624 -0.000208   \n",
       "267  144.07 2021-09-21 12:27:00  4.970299 -0.000416 -0.000347  0.000624   \n",
       "268  144.07 2021-09-21 12:28:00  4.970299  0.000000 -0.000416 -0.000347   \n",
       "269  144.12 2021-09-21 12:29:00  4.970646  0.000347  0.000000 -0.000416   \n",
       "\n",
       "        lag_3     lag_4     lag_5     lag_6  ...    lag_50    lag_51  \\\n",
       "265 -0.000277 -0.000139  0.000347 -0.000277  ...  0.000416 -0.000139   \n",
       "266 -0.000278 -0.000277 -0.000139  0.000347  ... -0.000277  0.000416   \n",
       "267 -0.000208 -0.000278 -0.000277 -0.000139  ... -0.000832 -0.000277   \n",
       "268  0.000624 -0.000208 -0.000278 -0.000277  ...  0.000139 -0.000832   \n",
       "269 -0.000347  0.000624 -0.000208 -0.000278  ... -0.000208  0.000139   \n",
       "\n",
       "       lag_52    lag_53    lag_54    lag_55    lag_56    lag_57    lag_58  \\\n",
       "265  0.000000 -0.000208  0.000347  0.000000  0.000139  0.000000 -0.000347   \n",
       "266 -0.000139  0.000000 -0.000208  0.000347  0.000000  0.000139  0.000000   \n",
       "267  0.000416 -0.000139  0.000000 -0.000208  0.000347  0.000000  0.000139   \n",
       "268 -0.000277  0.000416 -0.000139  0.000000 -0.000208  0.000347  0.000000   \n",
       "269 -0.000832 -0.000277  0.000416 -0.000139  0.000000 -0.000208  0.000347   \n",
       "\n",
       "       lag_59  \n",
       "265  0.000069  \n",
       "266 -0.000347  \n",
       "267  0.000000  \n",
       "268  0.000139  \n",
       "269  0.000000  \n",
       "\n",
       "[5 rows x 63 columns]"
      ]
     },
     "execution_count": 122,
     "metadata": {},
     "output_type": "execute_result"
    }
   ],
   "source": [
    "aapl_test['log'] = np.log(aapl_test['close'])\n",
    "aapl_test['log_diff'] = aapl_test['log'] - aapl_test['log'].shift(1)\n",
    "\n",
    "for i in range(1, 60):\n",
    "    aapl_test[\"lag_{}\".format(i)] = aapl_test['log_diff'].shift(i)\n",
    "\n",
    "aapl_test = aapl_test.dropna()\n",
    "aapl_test.tail()"
   ]
  },
  {
   "cell_type": "markdown",
   "metadata": {},
   "source": [
    "Предсказания на 30 минут вперед"
   ]
  },
  {
   "cell_type": "code",
   "execution_count": 123,
   "metadata": {
    "collapsed": false,
    "jupyter": {
     "outputs_hidden": false
    },
    "pycharm": {
     "name": "#%%\n"
    }
   },
   "outputs": [],
   "source": [
    "times = pd.date_range(start='2021-09-21 12:30:00', periods=30, freq='min')\n",
    "\n",
    "for t in times:\n",
    "    last_value = aapl_test.tail(1)[top_features]\n",
    "    preds = lr.predict(last_value.values.reshape(1, -1))\n",
    "    new_df = pd.DataFrame(\n",
    "        {\n",
    "            'log': aapl_test.tail(1)['log'] + preds,\n",
    "            'time': t\n",
    "        }\n",
    "    )\n",
    "    new_df['close'] = np.exp(new_df['log'])\n",
    "    aapl_test = aapl_test.append(new_df)\n",
    "\n",
    "    aapl_test['log_diff'] = aapl_test['log'] - aapl_test['log'].shift(1)\n",
    "    for i in range(1, 60):\n",
    "        time_in[\"lag_{}\".format(i)] = aapl_test['log_diff'].shift(i)"
   ]
  },
  {
   "cell_type": "code",
   "execution_count": 129,
   "metadata": {
    "collapsed": false,
    "jupyter": {
     "outputs_hidden": false
    },
    "pycharm": {
     "name": "#%%\n"
    }
   },
   "outputs": [
    {
     "data": {
      "text/plain": [
       "<AxesSubplot:xlabel='time'>"
      ]
     },
     "execution_count": 129,
     "metadata": {},
     "output_type": "execute_result"
    },
    {
     "data": {
      "image/png": "[encoded data removed]",
      "text/plain": [
       "<Figure size 1152x432 with 1 Axes>"
      ]
     },
     "metadata": {},
     "output_type": "display_data"
    }
   ],
   "source": [
    "aapl_test.set_index('time')['close'].plot()"
   ]
  },
  {
   "cell_type": "code",
   "execution_count": 124,
   "metadata": {
    "collapsed": false,
    "jupyter": {
     "outputs_hidden": false
    },
    "pycharm": {
     "name": "#%%\n"
    }
   },
   "outputs": [],
   "source": [
    "def profit(in_money, data, time_news_out, time_in, time_out):\n",
    "    t1 = time_news_out + pd.Timedelta(time_in, unit='m')\n",
    "    t1 = t1.floor('Min')\n",
    "    t_in = data[data[\"time\"] == t1]\n",
    "    if t_in.empty:\n",
    "        return 0\n",
    "    stock = in_money / t_in[\"close\"].values[0]\n",
    "    t2 = time_news_out + pd.Timedelta(time_out, unit='m')\n",
    "    t2 = t2.floor('Min')\n",
    "    t_out = data[data[\"time\"] == t2]\n",
    "    if t_out.empty:\n",
    "        return 0\n",
    "    result = stock * t_out[\"close\"].values[0]\n",
    "    return (result - in_money) / (in_money) * 100\n"
   ]
  },
  {
   "cell_type": "code",
   "execution_count": 125,
   "metadata": {
    "collapsed": false,
    "jupyter": {
     "outputs_hidden": false
    },
    "pycharm": {
     "name": "#%%\n"
    }
   },
   "outputs": [],
   "source": [
    "result = []\n",
    "\n",
    "for time_in in [i for i in range(30)]:\n",
    "    for time_out in [j for j in range(time_in, 30)]:\n",
    "        p = profit(\n",
    "            in_money=100000,\n",
    "            data=aapl_test.tail(30),\n",
    "            time_news_out=pd.to_datetime('2021-09-21 12:30:00'),\n",
    "            time_in=time_in,\n",
    "            time_out=time_out\n",
    "        )\n",
    "        result.append((time_in, time_out, p))"
   ]
  },
  {
   "cell_type": "code",
   "execution_count": 126,
   "metadata": {
    "collapsed": false,
    "jupyter": {
     "outputs_hidden": false
    },
    "pycharm": {
     "name": "#%%\n"
    }
   },
   "outputs": [
    {
     "data": {
      "text/plain": [
       "[(5, 6, 0.08352129438072735),\n",
       " (5, 7, 0.07336062117244001),\n",
       " (4, 6, 0.06956258492422057),\n",
       " (4, 7, 0.05940332883119118),\n",
       " (3, 6, 0.0519252973003604)]"
      ]
     },
     "execution_count": 126,
     "metadata": {},
     "output_type": "execute_result"
    }
   ],
   "source": [
    "sorted(result, key=lambda x: x[2], reverse=True)[:5]"
   ]
  }
 ],
 "metadata": {
  "kernelspec": {
   "display_name": "Python 3",
   "language": "python",
   "name": "python3"
  },
  "language_info": {
   "codemirror_mode": {
    "name": "ipython",
    "version": 3
   },
   "file_extension": ".py",
   "mimetype": "text/x-python",
   "name": "python",
   "nbconvert_exporter": "python",
   "pygments_lexer": "ipython3",
   "version": "3.7.10"
  }
 },
 "nbformat": 4,
 "nbformat_minor": 4
}
