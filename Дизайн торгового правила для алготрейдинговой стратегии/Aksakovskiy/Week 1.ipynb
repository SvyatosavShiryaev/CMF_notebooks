{
 "cells": [
  {
   "cell_type": "markdown",
   "id": "fc340cf7",
   "metadata": {},
   "source": [
    "Мы заходим в позицию по активу в момент выхода новости. Рассмотрим сценарий, в котором мы будем заходить в позицию только по новостям с позитивным таргетом."
   ]
  },
  {
   "cell_type": "code",
   "execution_count": 1,
   "id": "8e6b655c",
   "metadata": {},
   "outputs": [],
   "source": [
    "import numpy as np\n",
    "import pandas as pd\n",
    "import os\n",
    "import h5py"
   ]
  },
  {
   "cell_type": "markdown",
   "id": "976cc6c9",
   "metadata": {},
   "source": [
    "Из targets.hd5 извлечем нужные нам новости"
   ]
  },
  {
   "cell_type": "code",
   "execution_count": 2,
   "id": "b4eeb7d1",
   "metadata": {},
   "outputs": [
    {
     "data": {
      "text/plain": [
       "0.0    36006\n",
       "1.0      540\n",
       "Name: 10_True_0.05, dtype: int64"
      ]
     },
     "execution_count": 2,
     "metadata": {},
     "output_type": "execute_result"
    }
   ],
   "source": [
    "targets = pd.read_hdf('targets-3.hd5', key='df')\n",
    "targets['10_True_0.05'].value_counts()\n"
   ]
  },
  {
   "cell_type": "markdown",
   "id": "a5744ca8",
   "metadata": {},
   "source": [
    "Итого имеем 540 интересующих нас новостей, выделим их"
   ]
  },
  {
   "cell_type": "code",
   "execution_count": 3,
   "id": "2216a1ed",
   "metadata": {},
   "outputs": [],
   "source": [
    "targets = targets[targets['10_True_0.05'] == 1].drop(columns = ['10_True_0.05'])"
   ]
  },
  {
   "cell_type": "code",
   "execution_count": 4,
   "id": "8b74054e",
   "metadata": {},
   "outputs": [
    {
     "data": {
      "text/html": [
       "<div>\n",
       "<style scoped>\n",
       "    .dataframe tbody tr th:only-of-type {\n",
       "        vertical-align: middle;\n",
       "    }\n",
       "\n",
       "    .dataframe tbody tr th {\n",
       "        vertical-align: top;\n",
       "    }\n",
       "\n",
       "    .dataframe thead th {\n",
       "        text-align: right;\n",
       "    }\n",
       "</style>\n",
       "<table border=\"1\" class=\"dataframe\">\n",
       "  <thead>\n",
       "    <tr style=\"text-align: right;\">\n",
       "      <th></th>\n",
       "      <th>news_id</th>\n",
       "      <th>ticker</th>\n",
       "    </tr>\n",
       "  </thead>\n",
       "  <tbody>\n",
       "    <tr>\n",
       "      <th>45</th>\n",
       "      <td>0bbb3403279779b81fe6bc1fe556ff69</td>\n",
       "      <td>CTSO</td>\n",
       "    </tr>\n",
       "    <tr>\n",
       "      <th>117</th>\n",
       "      <td>1b754b1268deb3b6b6ed6a83ee7104ac</td>\n",
       "      <td>HALL</td>\n",
       "    </tr>\n",
       "    <tr>\n",
       "      <th>134</th>\n",
       "      <td>1ef7ccd09c652ee1bcc653eb9a9d857c</td>\n",
       "      <td>CAPR</td>\n",
       "    </tr>\n",
       "    <tr>\n",
       "      <th>191</th>\n",
       "      <td>2b3788b24dc64e622ec4b47b19de2521</td>\n",
       "      <td>SLGG</td>\n",
       "    </tr>\n",
       "    <tr>\n",
       "      <th>237</th>\n",
       "      <td>33b7d9486f20c0a6c296c8860c6bf00f</td>\n",
       "      <td>ABNB</td>\n",
       "    </tr>\n",
       "    <tr>\n",
       "      <th>...</th>\n",
       "      <td>...</td>\n",
       "      <td>...</td>\n",
       "    </tr>\n",
       "    <tr>\n",
       "      <th>35918</th>\n",
       "      <td>f27639fb94b4d032620d815e47d610d2</td>\n",
       "      <td>LW</td>\n",
       "    </tr>\n",
       "    <tr>\n",
       "      <th>36184</th>\n",
       "      <td>595e96d8289fd6df85dd64716680872f</td>\n",
       "      <td>BCYC</td>\n",
       "    </tr>\n",
       "    <tr>\n",
       "      <th>36322</th>\n",
       "      <td>95a136d40f47c8db3c0a851991f38fc7</td>\n",
       "      <td>REDU</td>\n",
       "    </tr>\n",
       "    <tr>\n",
       "      <th>36434</th>\n",
       "      <td>d573a87ede50634009cbb32ba331dca9</td>\n",
       "      <td>AGRX</td>\n",
       "    </tr>\n",
       "    <tr>\n",
       "      <th>36461</th>\n",
       "      <td>dd495e51b0949e9e8047f1ccb881e536</td>\n",
       "      <td>BHAT</td>\n",
       "    </tr>\n",
       "  </tbody>\n",
       "</table>\n",
       "<p>540 rows × 2 columns</p>\n",
       "</div>"
      ],
      "text/plain": [
       "                                news_id ticker\n",
       "45     0bbb3403279779b81fe6bc1fe556ff69   CTSO\n",
       "117    1b754b1268deb3b6b6ed6a83ee7104ac   HALL\n",
       "134    1ef7ccd09c652ee1bcc653eb9a9d857c   CAPR\n",
       "191    2b3788b24dc64e622ec4b47b19de2521   SLGG\n",
       "237    33b7d9486f20c0a6c296c8860c6bf00f   ABNB\n",
       "...                                 ...    ...\n",
       "35918  f27639fb94b4d032620d815e47d610d2     LW\n",
       "36184  595e96d8289fd6df85dd64716680872f   BCYC\n",
       "36322  95a136d40f47c8db3c0a851991f38fc7   REDU\n",
       "36434  d573a87ede50634009cbb32ba331dca9   AGRX\n",
       "36461  dd495e51b0949e9e8047f1ccb881e536   BHAT\n",
       "\n",
       "[540 rows x 2 columns]"
      ]
     },
     "execution_count": 4,
     "metadata": {},
     "output_type": "execute_result"
    }
   ],
   "source": [
    "targets"
   ]
  },
  {
   "cell_type": "markdown",
   "id": "d3f07bd5",
   "metadata": {},
   "source": [
    "Из файла ticker_price_moment_exit.hd5 извлечем цены на тикеры в момент выхода наших новостей"
   ]
  },
  {
   "cell_type": "code",
   "execution_count": 5,
   "id": "5f71cc9f",
   "metadata": {},
   "outputs": [
    {
     "data": {
      "text/html": [
       "<div>\n",
       "<style scoped>\n",
       "    .dataframe tbody tr th:only-of-type {\n",
       "        vertical-align: middle;\n",
       "    }\n",
       "\n",
       "    .dataframe tbody tr th {\n",
       "        vertical-align: top;\n",
       "    }\n",
       "\n",
       "    .dataframe thead th {\n",
       "        text-align: right;\n",
       "    }\n",
       "</style>\n",
       "<table border=\"1\" class=\"dataframe\">\n",
       "  <thead>\n",
       "    <tr style=\"text-align: right;\">\n",
       "      <th></th>\n",
       "      <th>ticker</th>\n",
       "      <th>bidPrice</th>\n",
       "      <th>bidSize</th>\n",
       "      <th>askPrice</th>\n",
       "      <th>askSize</th>\n",
       "      <th>lastUpdated</th>\n",
       "      <th>lastSalePrice</th>\n",
       "      <th>lastSaleSize</th>\n",
       "      <th>lastSaleTime</th>\n",
       "      <th>volume</th>\n",
       "      <th>current_price</th>\n",
       "      <th>timestamp</th>\n",
       "      <th>news_id</th>\n",
       "    </tr>\n",
       "  </thead>\n",
       "  <tbody>\n",
       "    <tr>\n",
       "      <th>0</th>\n",
       "      <td>VS</td>\n",
       "      <td>0.0</td>\n",
       "      <td>0.0</td>\n",
       "      <td>0.0</td>\n",
       "      <td>0.0</td>\n",
       "      <td>1629316800000.0</td>\n",
       "      <td>4.33</td>\n",
       "      <td>6.0</td>\n",
       "      <td>1629316790023</td>\n",
       "      <td>46.0</td>\n",
       "      <td>4.24</td>\n",
       "      <td>1629716406</td>\n",
       "      <td>0000d467d1a52a6a84fc8b30adbe8ec2</td>\n",
       "    </tr>\n",
       "    <tr>\n",
       "      <th>1</th>\n",
       "      <td>VSSYW</td>\n",
       "      <td>0.0</td>\n",
       "      <td>0.0</td>\n",
       "      <td>0.0</td>\n",
       "      <td>0.0</td>\n",
       "      <td>1628193600000.0</td>\n",
       "      <td>1.55</td>\n",
       "      <td>25.0</td>\n",
       "      <td>1628178157384</td>\n",
       "      <td>25.0</td>\n",
       "      <td>2.08</td>\n",
       "      <td>1629716406</td>\n",
       "      <td>0000d467d1a52a6a84fc8b30adbe8ec2</td>\n",
       "    </tr>\n",
       "    <tr>\n",
       "      <th>3</th>\n",
       "      <td>BTBT</td>\n",
       "      <td>0.0</td>\n",
       "      <td>0.0</td>\n",
       "      <td>0.0</td>\n",
       "      <td>0.0</td>\n",
       "      <td>1632513600000.0</td>\n",
       "      <td>9.44</td>\n",
       "      <td>1.0</td>\n",
       "      <td>1632513582057</td>\n",
       "      <td>38333.0</td>\n",
       "      <td>9.46</td>\n",
       "      <td>1632747622</td>\n",
       "      <td>0007ea6c22fc24e1f34021185ad07e4e</td>\n",
       "    </tr>\n",
       "    <tr>\n",
       "      <th>4</th>\n",
       "      <td>CAN</td>\n",
       "      <td>0.0</td>\n",
       "      <td>0.0</td>\n",
       "      <td>0.0</td>\n",
       "      <td>0.0</td>\n",
       "      <td>1632515322537</td>\n",
       "      <td>6.16</td>\n",
       "      <td>80.0</td>\n",
       "      <td>1632514484013</td>\n",
       "      <td>453506.0</td>\n",
       "      <td>6.11</td>\n",
       "      <td>1632747622</td>\n",
       "      <td>0007ea6c22fc24e1f34021185ad07e4e</td>\n",
       "    </tr>\n",
       "    <tr>\n",
       "      <th>5</th>\n",
       "      <td>HVBT</td>\n",
       "      <td>0.0</td>\n",
       "      <td>0.0</td>\n",
       "      <td>0.0</td>\n",
       "      <td>0.0</td>\n",
       "      <td>1631563200000.0</td>\n",
       "      <td>3.06</td>\n",
       "      <td>300.0</td>\n",
       "      <td>1631563186154</td>\n",
       "      <td>33347.0</td>\n",
       "      <td>3.06</td>\n",
       "      <td>1632747622</td>\n",
       "      <td>0007ea6c22fc24e1f34021185ad07e4e</td>\n",
       "    </tr>\n",
       "  </tbody>\n",
       "</table>\n",
       "</div>"
      ],
      "text/plain": [
       "  ticker bidPrice bidSize askPrice askSize      lastUpdated lastSalePrice  \\\n",
       "0     VS      0.0     0.0      0.0     0.0  1629316800000.0          4.33   \n",
       "1  VSSYW      0.0     0.0      0.0     0.0  1628193600000.0          1.55   \n",
       "3   BTBT      0.0     0.0      0.0     0.0  1632513600000.0          9.44   \n",
       "4    CAN      0.0     0.0      0.0     0.0    1632515322537          6.16   \n",
       "5   HVBT      0.0     0.0      0.0     0.0  1631563200000.0          3.06   \n",
       "\n",
       "  lastSaleSize   lastSaleTime    volume current_price   timestamp  \\\n",
       "0          6.0  1629316790023      46.0          4.24  1629716406   \n",
       "1         25.0  1628178157384      25.0          2.08  1629716406   \n",
       "3          1.0  1632513582057   38333.0          9.46  1632747622   \n",
       "4         80.0  1632514484013  453506.0          6.11  1632747622   \n",
       "5        300.0  1631563186154   33347.0          3.06  1632747622   \n",
       "\n",
       "                            news_id  \n",
       "0  0000d467d1a52a6a84fc8b30adbe8ec2  \n",
       "1  0000d467d1a52a6a84fc8b30adbe8ec2  \n",
       "3  0007ea6c22fc24e1f34021185ad07e4e  \n",
       "4  0007ea6c22fc24e1f34021185ad07e4e  \n",
       "5  0007ea6c22fc24e1f34021185ad07e4e  "
      ]
     },
     "execution_count": 5,
     "metadata": {},
     "output_type": "execute_result"
    }
   ],
   "source": [
    "ticker_prices = pd.read_hdf('ticker_price_moment_exit.hd5', key='df')\n",
    "ticker_prices.head()"
   ]
  },
  {
   "cell_type": "code",
   "execution_count": 6,
   "id": "f3cc2589",
   "metadata": {},
   "outputs": [
    {
     "data": {
      "text/html": [
       "<div>\n",
       "<style scoped>\n",
       "    .dataframe tbody tr th:only-of-type {\n",
       "        vertical-align: middle;\n",
       "    }\n",
       "\n",
       "    .dataframe tbody tr th {\n",
       "        vertical-align: top;\n",
       "    }\n",
       "\n",
       "    .dataframe thead th {\n",
       "        text-align: right;\n",
       "    }\n",
       "</style>\n",
       "<table border=\"1\" class=\"dataframe\">\n",
       "  <thead>\n",
       "    <tr style=\"text-align: right;\">\n",
       "      <th></th>\n",
       "      <th>ticker</th>\n",
       "      <th>current_price</th>\n",
       "      <th>news_id</th>\n",
       "    </tr>\n",
       "  </thead>\n",
       "  <tbody>\n",
       "    <tr>\n",
       "      <th>650</th>\n",
       "      <td>FLGC</td>\n",
       "      <td>8.68</td>\n",
       "      <td>02bef0eac6ffefad5ed09dbbe10285a3</td>\n",
       "    </tr>\n",
       "    <tr>\n",
       "      <th>695</th>\n",
       "      <td>FTRP</td>\n",
       "      <td>4.81</td>\n",
       "      <td>02e52550c5a219eab849a8dd4ceabf1e</td>\n",
       "    </tr>\n",
       "    <tr>\n",
       "      <th>751</th>\n",
       "      <td>MMSI</td>\n",
       "      <td>71.65</td>\n",
       "      <td>032371cc3e6282c2a4b879dc530bfdf5</td>\n",
       "    </tr>\n",
       "    <tr>\n",
       "      <th>1096</th>\n",
       "      <td>CEI</td>\n",
       "      <td>1.725</td>\n",
       "      <td>04a3c3a7669c55c3f3139e66785ec07d</td>\n",
       "    </tr>\n",
       "    <tr>\n",
       "      <th>1097</th>\n",
       "      <td>GSAT</td>\n",
       "      <td>2.115</td>\n",
       "      <td>04a3c3a7669c55c3f3139e66785ec07d</td>\n",
       "    </tr>\n",
       "  </tbody>\n",
       "</table>\n",
       "</div>"
      ],
      "text/plain": [
       "     ticker current_price                           news_id\n",
       "650    FLGC          8.68  02bef0eac6ffefad5ed09dbbe10285a3\n",
       "695    FTRP          4.81  02e52550c5a219eab849a8dd4ceabf1e\n",
       "751    MMSI         71.65  032371cc3e6282c2a4b879dc530bfdf5\n",
       "1096    CEI         1.725  04a3c3a7669c55c3f3139e66785ec07d\n",
       "1097   GSAT         2.115  04a3c3a7669c55c3f3139e66785ec07d"
      ]
     },
     "execution_count": 6,
     "metadata": {},
     "output_type": "execute_result"
    }
   ],
   "source": [
    "selected_tickers = ticker_prices[ticker_prices['news_id'].isin(targets['news_id'])]\n",
    "selected_tickers[['ticker', 'current_price', 'news_id']].head()"
   ]
  },
  {
   "cell_type": "code",
   "execution_count": 7,
   "id": "79dce6b0",
   "metadata": {},
   "outputs": [
    {
     "data": {
      "text/plain": [
       "(549, 13)"
      ]
     },
     "execution_count": 7,
     "metadata": {},
     "output_type": "execute_result"
    }
   ],
   "source": [
    "selected_tickers.shape"
   ]
  },
  {
   "cell_type": "markdown",
   "id": "db54a0fa",
   "metadata": {},
   "source": [
    "Теперь из файлов в папке intraday_data достанем цены закрытия соответсвующих тикеров в дни выхода новостей и узнаем, какие из них принесли нам прибыль"
   ]
  },
  {
   "cell_type": "code",
   "execution_count": 8,
   "id": "cb502bb5",
   "metadata": {},
   "outputs": [],
   "source": [
    "## Раньше работал этот способ, теперь не работает"
   ]
  },
  {
   "cell_type": "code",
   "execution_count": 9,
   "id": "78210e66",
   "metadata": {},
   "outputs": [],
   "source": [
    "files = [f for f in os.listdir('intraday_data/')]"
   ]
  },
  {
   "cell_type": "code",
   "execution_count": 10,
   "id": "49fc8d10",
   "metadata": {},
   "outputs": [
    {
     "ename": "UnknownTimeZoneError",
     "evalue": "'cdateutil.tz.win\\ntzwin\\np0\\n(VUTC\\np1\\ntp2\\nRp3\\n.'",
     "output_type": "error",
     "traceback": [
      "\u001b[0;31m---------------------------------------------------------------------------\u001b[0m",
      "\u001b[0;31mUnknownTimeZoneError\u001b[0m                      Traceback (most recent call last)",
      "\u001b[0;32m<ipython-input-10-63eea5f0b05d>\u001b[0m in \u001b[0;36m<module>\u001b[0;34m\u001b[0m\n\u001b[1;32m      1\u001b[0m \u001b[0mall_data\u001b[0m \u001b[0;34m=\u001b[0m \u001b[0;34m[\u001b[0m\u001b[0;34m]\u001b[0m\u001b[0;34m\u001b[0m\u001b[0;34m\u001b[0m\u001b[0m\n\u001b[1;32m      2\u001b[0m \u001b[0;32mfor\u001b[0m \u001b[0mfile\u001b[0m \u001b[0;32min\u001b[0m \u001b[0mfiles\u001b[0m\u001b[0;34m:\u001b[0m\u001b[0;34m\u001b[0m\u001b[0;34m\u001b[0m\u001b[0m\n\u001b[0;32m----> 3\u001b[0;31m     \u001b[0mdays_data\u001b[0m \u001b[0;34m=\u001b[0m \u001b[0mpd\u001b[0m\u001b[0;34m.\u001b[0m\u001b[0mread_hdf\u001b[0m\u001b[0;34m(\u001b[0m\u001b[0;34mf'intraday_data/{file}'\u001b[0m\u001b[0;34m,\u001b[0m \u001b[0mkey\u001b[0m\u001b[0;34m=\u001b[0m\u001b[0;34m'df'\u001b[0m\u001b[0;34m)\u001b[0m\u001b[0;34m\u001b[0m\u001b[0;34m\u001b[0m\u001b[0m\n\u001b[0m\u001b[1;32m      4\u001b[0m     \u001b[0mall_data\u001b[0m\u001b[0;34m.\u001b[0m\u001b[0mappend\u001b[0m\u001b[0;34m(\u001b[0m\u001b[0mdays_data_df\u001b[0m\u001b[0;34m)\u001b[0m\u001b[0;34m\u001b[0m\u001b[0;34m\u001b[0m\u001b[0m\n\u001b[1;32m      5\u001b[0m \u001b[0;34m\u001b[0m\u001b[0m\n",
      "\u001b[0;32m~/opt/anaconda3/lib/python3.8/site-packages/pandas/io/pytables.py\u001b[0m in \u001b[0;36mread_hdf\u001b[0;34m(path_or_buf, key, mode, errors, where, start, stop, columns, iterator, chunksize, **kwargs)\u001b[0m\n\u001b[1;32m    423\u001b[0m                     )\n\u001b[1;32m    424\u001b[0m             \u001b[0mkey\u001b[0m \u001b[0;34m=\u001b[0m \u001b[0mcandidate_only_group\u001b[0m\u001b[0;34m.\u001b[0m\u001b[0m_v_pathname\u001b[0m\u001b[0;34m\u001b[0m\u001b[0;34m\u001b[0m\u001b[0m\n\u001b[0;32m--> 425\u001b[0;31m         return store.select(\n\u001b[0m\u001b[1;32m    426\u001b[0m             \u001b[0mkey\u001b[0m\u001b[0;34m,\u001b[0m\u001b[0;34m\u001b[0m\u001b[0;34m\u001b[0m\u001b[0m\n\u001b[1;32m    427\u001b[0m             \u001b[0mwhere\u001b[0m\u001b[0;34m=\u001b[0m\u001b[0mwhere\u001b[0m\u001b[0;34m,\u001b[0m\u001b[0;34m\u001b[0m\u001b[0;34m\u001b[0m\u001b[0m\n",
      "\u001b[0;32m~/opt/anaconda3/lib/python3.8/site-packages/pandas/io/pytables.py\u001b[0m in \u001b[0;36mselect\u001b[0;34m(self, key, where, start, stop, columns, iterator, chunksize, auto_close)\u001b[0m\n\u001b[1;32m    843\u001b[0m         )\n\u001b[1;32m    844\u001b[0m \u001b[0;34m\u001b[0m\u001b[0m\n\u001b[0;32m--> 845\u001b[0;31m         \u001b[0;32mreturn\u001b[0m \u001b[0mit\u001b[0m\u001b[0;34m.\u001b[0m\u001b[0mget_result\u001b[0m\u001b[0;34m(\u001b[0m\u001b[0;34m)\u001b[0m\u001b[0;34m\u001b[0m\u001b[0;34m\u001b[0m\u001b[0m\n\u001b[0m\u001b[1;32m    846\u001b[0m \u001b[0;34m\u001b[0m\u001b[0m\n\u001b[1;32m    847\u001b[0m     def select_as_coordinates(\n",
      "\u001b[0;32m~/opt/anaconda3/lib/python3.8/site-packages/pandas/io/pytables.py\u001b[0m in \u001b[0;36mget_result\u001b[0;34m(self, coordinates)\u001b[0m\n\u001b[1;32m   1911\u001b[0m \u001b[0;34m\u001b[0m\u001b[0m\n\u001b[1;32m   1912\u001b[0m         \u001b[0;31m# directly return the result\u001b[0m\u001b[0;34m\u001b[0m\u001b[0;34m\u001b[0m\u001b[0;34m\u001b[0m\u001b[0m\n\u001b[0;32m-> 1913\u001b[0;31m         \u001b[0mresults\u001b[0m \u001b[0;34m=\u001b[0m \u001b[0mself\u001b[0m\u001b[0;34m.\u001b[0m\u001b[0mfunc\u001b[0m\u001b[0;34m(\u001b[0m\u001b[0mself\u001b[0m\u001b[0;34m.\u001b[0m\u001b[0mstart\u001b[0m\u001b[0;34m,\u001b[0m \u001b[0mself\u001b[0m\u001b[0;34m.\u001b[0m\u001b[0mstop\u001b[0m\u001b[0;34m,\u001b[0m \u001b[0mwhere\u001b[0m\u001b[0;34m)\u001b[0m\u001b[0;34m\u001b[0m\u001b[0;34m\u001b[0m\u001b[0m\n\u001b[0m\u001b[1;32m   1914\u001b[0m         \u001b[0mself\u001b[0m\u001b[0;34m.\u001b[0m\u001b[0mclose\u001b[0m\u001b[0;34m(\u001b[0m\u001b[0;34m)\u001b[0m\u001b[0;34m\u001b[0m\u001b[0;34m\u001b[0m\u001b[0m\n\u001b[1;32m   1915\u001b[0m         \u001b[0;32mreturn\u001b[0m \u001b[0mresults\u001b[0m\u001b[0;34m\u001b[0m\u001b[0;34m\u001b[0m\u001b[0m\n",
      "\u001b[0;32m~/opt/anaconda3/lib/python3.8/site-packages/pandas/io/pytables.py\u001b[0m in \u001b[0;36mfunc\u001b[0;34m(_start, _stop, _where)\u001b[0m\n\u001b[1;32m    827\u001b[0m         \u001b[0;31m# function to call on iteration\u001b[0m\u001b[0;34m\u001b[0m\u001b[0;34m\u001b[0m\u001b[0;34m\u001b[0m\u001b[0m\n\u001b[1;32m    828\u001b[0m         \u001b[0;32mdef\u001b[0m \u001b[0mfunc\u001b[0m\u001b[0;34m(\u001b[0m\u001b[0m_start\u001b[0m\u001b[0;34m,\u001b[0m \u001b[0m_stop\u001b[0m\u001b[0;34m,\u001b[0m \u001b[0m_where\u001b[0m\u001b[0;34m)\u001b[0m\u001b[0;34m:\u001b[0m\u001b[0;34m\u001b[0m\u001b[0;34m\u001b[0m\u001b[0m\n\u001b[0;32m--> 829\u001b[0;31m             \u001b[0;32mreturn\u001b[0m \u001b[0ms\u001b[0m\u001b[0;34m.\u001b[0m\u001b[0mread\u001b[0m\u001b[0;34m(\u001b[0m\u001b[0mstart\u001b[0m\u001b[0;34m=\u001b[0m\u001b[0m_start\u001b[0m\u001b[0;34m,\u001b[0m \u001b[0mstop\u001b[0m\u001b[0;34m=\u001b[0m\u001b[0m_stop\u001b[0m\u001b[0;34m,\u001b[0m \u001b[0mwhere\u001b[0m\u001b[0;34m=\u001b[0m\u001b[0m_where\u001b[0m\u001b[0;34m,\u001b[0m \u001b[0mcolumns\u001b[0m\u001b[0;34m=\u001b[0m\u001b[0mcolumns\u001b[0m\u001b[0;34m)\u001b[0m\u001b[0;34m\u001b[0m\u001b[0;34m\u001b[0m\u001b[0m\n\u001b[0m\u001b[1;32m    830\u001b[0m \u001b[0;34m\u001b[0m\u001b[0m\n\u001b[1;32m    831\u001b[0m         \u001b[0;31m# create the iterator\u001b[0m\u001b[0;34m\u001b[0m\u001b[0;34m\u001b[0m\u001b[0;34m\u001b[0m\u001b[0m\n",
      "\u001b[0;32m~/opt/anaconda3/lib/python3.8/site-packages/pandas/io/pytables.py\u001b[0m in \u001b[0;36mread\u001b[0;34m(self, where, columns, start, stop)\u001b[0m\n\u001b[1;32m   3143\u001b[0m \u001b[0;34m\u001b[0m\u001b[0m\n\u001b[1;32m   3144\u001b[0m             \u001b[0mblk_items\u001b[0m \u001b[0;34m=\u001b[0m \u001b[0mself\u001b[0m\u001b[0;34m.\u001b[0m\u001b[0mread_index\u001b[0m\u001b[0;34m(\u001b[0m\u001b[0;34mf\"block{i}_items\"\u001b[0m\u001b[0;34m)\u001b[0m\u001b[0;34m\u001b[0m\u001b[0;34m\u001b[0m\u001b[0m\n\u001b[0;32m-> 3145\u001b[0;31m             \u001b[0mvalues\u001b[0m \u001b[0;34m=\u001b[0m \u001b[0mself\u001b[0m\u001b[0;34m.\u001b[0m\u001b[0mread_array\u001b[0m\u001b[0;34m(\u001b[0m\u001b[0;34mf\"block{i}_values\"\u001b[0m\u001b[0;34m,\u001b[0m \u001b[0mstart\u001b[0m\u001b[0;34m=\u001b[0m\u001b[0m_start\u001b[0m\u001b[0;34m,\u001b[0m \u001b[0mstop\u001b[0m\u001b[0;34m=\u001b[0m\u001b[0m_stop\u001b[0m\u001b[0;34m)\u001b[0m\u001b[0;34m\u001b[0m\u001b[0;34m\u001b[0m\u001b[0m\n\u001b[0m\u001b[1;32m   3146\u001b[0m \u001b[0;34m\u001b[0m\u001b[0m\n\u001b[1;32m   3147\u001b[0m             \u001b[0mcolumns\u001b[0m \u001b[0;34m=\u001b[0m \u001b[0mitems\u001b[0m\u001b[0;34m[\u001b[0m\u001b[0mitems\u001b[0m\u001b[0;34m.\u001b[0m\u001b[0mget_indexer\u001b[0m\u001b[0;34m(\u001b[0m\u001b[0mblk_items\u001b[0m\u001b[0;34m)\u001b[0m\u001b[0;34m]\u001b[0m\u001b[0;34m\u001b[0m\u001b[0;34m\u001b[0m\u001b[0m\n",
      "\u001b[0;32m~/opt/anaconda3/lib/python3.8/site-packages/pandas/io/pytables.py\u001b[0m in \u001b[0;36mread_array\u001b[0;34m(self, key, start, stop)\u001b[0m\n\u001b[1;32m   2817\u001b[0m                 \u001b[0;31m# reconstruct a timezone if indicated\u001b[0m\u001b[0;34m\u001b[0m\u001b[0;34m\u001b[0m\u001b[0;34m\u001b[0m\u001b[0m\n\u001b[1;32m   2818\u001b[0m                 \u001b[0mtz\u001b[0m \u001b[0;34m=\u001b[0m \u001b[0mgetattr\u001b[0m\u001b[0;34m(\u001b[0m\u001b[0mattrs\u001b[0m\u001b[0;34m,\u001b[0m \u001b[0;34m\"tz\"\u001b[0m\u001b[0;34m,\u001b[0m \u001b[0;32mNone\u001b[0m\u001b[0;34m)\u001b[0m\u001b[0;34m\u001b[0m\u001b[0;34m\u001b[0m\u001b[0m\n\u001b[0;32m-> 2819\u001b[0;31m                 \u001b[0mret\u001b[0m \u001b[0;34m=\u001b[0m \u001b[0m_set_tz\u001b[0m\u001b[0;34m(\u001b[0m\u001b[0mret\u001b[0m\u001b[0;34m,\u001b[0m \u001b[0mtz\u001b[0m\u001b[0;34m,\u001b[0m \u001b[0mcoerce\u001b[0m\u001b[0;34m=\u001b[0m\u001b[0;32mTrue\u001b[0m\u001b[0;34m)\u001b[0m\u001b[0;34m\u001b[0m\u001b[0;34m\u001b[0m\u001b[0m\n\u001b[0m\u001b[1;32m   2820\u001b[0m \u001b[0;34m\u001b[0m\u001b[0m\n\u001b[1;32m   2821\u001b[0m             \u001b[0;32melif\u001b[0m \u001b[0mdtype\u001b[0m \u001b[0;34m==\u001b[0m \u001b[0;34m\"timedelta64\"\u001b[0m\u001b[0;34m:\u001b[0m\u001b[0;34m\u001b[0m\u001b[0;34m\u001b[0m\u001b[0m\n",
      "\u001b[0;32m~/opt/anaconda3/lib/python3.8/site-packages/pandas/io/pytables.py\u001b[0m in \u001b[0;36m_set_tz\u001b[0;34m(values, tz, coerce)\u001b[0m\n\u001b[1;32m   4758\u001b[0m         \u001b[0mtz\u001b[0m \u001b[0;34m=\u001b[0m \u001b[0m_ensure_decoded\u001b[0m\u001b[0;34m(\u001b[0m\u001b[0mtz\u001b[0m\u001b[0;34m)\u001b[0m\u001b[0;34m\u001b[0m\u001b[0;34m\u001b[0m\u001b[0m\n\u001b[1;32m   4759\u001b[0m         \u001b[0mvalues\u001b[0m \u001b[0;34m=\u001b[0m \u001b[0mDatetimeIndex\u001b[0m\u001b[0;34m(\u001b[0m\u001b[0mvalues\u001b[0m\u001b[0;34m,\u001b[0m \u001b[0mname\u001b[0m\u001b[0;34m=\u001b[0m\u001b[0mname\u001b[0m\u001b[0;34m)\u001b[0m\u001b[0;34m\u001b[0m\u001b[0;34m\u001b[0m\u001b[0m\n\u001b[0;32m-> 4760\u001b[0;31m         \u001b[0mvalues\u001b[0m \u001b[0;34m=\u001b[0m \u001b[0mvalues\u001b[0m\u001b[0;34m.\u001b[0m\u001b[0mtz_localize\u001b[0m\u001b[0;34m(\u001b[0m\u001b[0;34m\"UTC\"\u001b[0m\u001b[0;34m)\u001b[0m\u001b[0;34m.\u001b[0m\u001b[0mtz_convert\u001b[0m\u001b[0;34m(\u001b[0m\u001b[0mtz\u001b[0m\u001b[0;34m)\u001b[0m\u001b[0;34m\u001b[0m\u001b[0;34m\u001b[0m\u001b[0m\n\u001b[0m\u001b[1;32m   4761\u001b[0m     \u001b[0;32melif\u001b[0m \u001b[0mcoerce\u001b[0m\u001b[0;34m:\u001b[0m\u001b[0;34m\u001b[0m\u001b[0;34m\u001b[0m\u001b[0m\n\u001b[1;32m   4762\u001b[0m         \u001b[0mvalues\u001b[0m \u001b[0;34m=\u001b[0m \u001b[0mnp\u001b[0m\u001b[0;34m.\u001b[0m\u001b[0masarray\u001b[0m\u001b[0;34m(\u001b[0m\u001b[0mvalues\u001b[0m\u001b[0;34m,\u001b[0m \u001b[0mdtype\u001b[0m\u001b[0;34m=\u001b[0m\u001b[0;34m\"M8[ns]\"\u001b[0m\u001b[0;34m)\u001b[0m\u001b[0;34m\u001b[0m\u001b[0;34m\u001b[0m\u001b[0m\n",
      "\u001b[0;32m~/opt/anaconda3/lib/python3.8/site-packages/pandas/core/indexes/datetimes.py\u001b[0m in \u001b[0;36mtz_convert\u001b[0;34m(self, tz)\u001b[0m\n\u001b[1;32m    241\u001b[0m     \u001b[0;34m@\u001b[0m\u001b[0mdoc\u001b[0m\u001b[0;34m(\u001b[0m\u001b[0mDatetimeArray\u001b[0m\u001b[0;34m.\u001b[0m\u001b[0mtz_convert\u001b[0m\u001b[0;34m)\u001b[0m\u001b[0;34m\u001b[0m\u001b[0;34m\u001b[0m\u001b[0m\n\u001b[1;32m    242\u001b[0m     \u001b[0;32mdef\u001b[0m \u001b[0mtz_convert\u001b[0m\u001b[0;34m(\u001b[0m\u001b[0mself\u001b[0m\u001b[0;34m,\u001b[0m \u001b[0mtz\u001b[0m\u001b[0;34m)\u001b[0m \u001b[0;34m->\u001b[0m \u001b[0;34m\"DatetimeIndex\"\u001b[0m\u001b[0;34m:\u001b[0m\u001b[0;34m\u001b[0m\u001b[0;34m\u001b[0m\u001b[0m\n\u001b[0;32m--> 243\u001b[0;31m         \u001b[0marr\u001b[0m \u001b[0;34m=\u001b[0m \u001b[0mself\u001b[0m\u001b[0;34m.\u001b[0m\u001b[0m_data\u001b[0m\u001b[0;34m.\u001b[0m\u001b[0mtz_convert\u001b[0m\u001b[0;34m(\u001b[0m\u001b[0mtz\u001b[0m\u001b[0;34m)\u001b[0m\u001b[0;34m\u001b[0m\u001b[0;34m\u001b[0m\u001b[0m\n\u001b[0m\u001b[1;32m    244\u001b[0m         \u001b[0;32mreturn\u001b[0m \u001b[0mtype\u001b[0m\u001b[0;34m(\u001b[0m\u001b[0mself\u001b[0m\u001b[0;34m)\u001b[0m\u001b[0;34m.\u001b[0m\u001b[0m_simple_new\u001b[0m\u001b[0;34m(\u001b[0m\u001b[0marr\u001b[0m\u001b[0;34m,\u001b[0m \u001b[0mname\u001b[0m\u001b[0;34m=\u001b[0m\u001b[0mself\u001b[0m\u001b[0;34m.\u001b[0m\u001b[0mname\u001b[0m\u001b[0;34m)\u001b[0m\u001b[0;34m\u001b[0m\u001b[0;34m\u001b[0m\u001b[0m\n\u001b[1;32m    245\u001b[0m \u001b[0;34m\u001b[0m\u001b[0m\n",
      "\u001b[0;32m~/opt/anaconda3/lib/python3.8/site-packages/pandas/core/arrays/datetimes.py\u001b[0m in \u001b[0;36mtz_convert\u001b[0;34m(self, tz)\u001b[0m\n\u001b[1;32m    808\u001b[0m                         dtype='datetime64[ns]', freq='H')\n\u001b[1;32m    809\u001b[0m         \"\"\"\n\u001b[0;32m--> 810\u001b[0;31m         \u001b[0mtz\u001b[0m \u001b[0;34m=\u001b[0m \u001b[0mtimezones\u001b[0m\u001b[0;34m.\u001b[0m\u001b[0mmaybe_get_tz\u001b[0m\u001b[0;34m(\u001b[0m\u001b[0mtz\u001b[0m\u001b[0;34m)\u001b[0m\u001b[0;34m\u001b[0m\u001b[0;34m\u001b[0m\u001b[0m\n\u001b[0m\u001b[1;32m    811\u001b[0m \u001b[0;34m\u001b[0m\u001b[0m\n\u001b[1;32m    812\u001b[0m         \u001b[0;32mif\u001b[0m \u001b[0mself\u001b[0m\u001b[0;34m.\u001b[0m\u001b[0mtz\u001b[0m \u001b[0;32mis\u001b[0m \u001b[0;32mNone\u001b[0m\u001b[0;34m:\u001b[0m\u001b[0;34m\u001b[0m\u001b[0;34m\u001b[0m\u001b[0m\n",
      "\u001b[0;32mpandas/_libs/tslibs/timezones.pyx\u001b[0m in \u001b[0;36mpandas._libs.tslibs.timezones.maybe_get_tz\u001b[0;34m()\u001b[0m\n",
      "\u001b[0;32mpandas/_libs/tslibs/timezones.pyx\u001b[0m in \u001b[0;36mpandas._libs.tslibs.timezones.maybe_get_tz\u001b[0;34m()\u001b[0m\n",
      "\u001b[0;32m~/opt/anaconda3/lib/python3.8/site-packages/pytz/__init__.py\u001b[0m in \u001b[0;36mtimezone\u001b[0;34m(zone)\u001b[0m\n\u001b[1;32m    186\u001b[0m                 \u001b[0mfp\u001b[0m\u001b[0;34m.\u001b[0m\u001b[0mclose\u001b[0m\u001b[0;34m(\u001b[0m\u001b[0;34m)\u001b[0m\u001b[0;34m\u001b[0m\u001b[0;34m\u001b[0m\u001b[0m\n\u001b[1;32m    187\u001b[0m         \u001b[0;32melse\u001b[0m\u001b[0;34m:\u001b[0m\u001b[0;34m\u001b[0m\u001b[0;34m\u001b[0m\u001b[0m\n\u001b[0;32m--> 188\u001b[0;31m             \u001b[0;32mraise\u001b[0m \u001b[0mUnknownTimeZoneError\u001b[0m\u001b[0;34m(\u001b[0m\u001b[0mzone\u001b[0m\u001b[0;34m)\u001b[0m\u001b[0;34m\u001b[0m\u001b[0;34m\u001b[0m\u001b[0m\n\u001b[0m\u001b[1;32m    189\u001b[0m \u001b[0;34m\u001b[0m\u001b[0m\n\u001b[1;32m    190\u001b[0m     \u001b[0;32mreturn\u001b[0m \u001b[0m_tzinfo_cache\u001b[0m\u001b[0;34m[\u001b[0m\u001b[0mzone\u001b[0m\u001b[0;34m]\u001b[0m\u001b[0;34m\u001b[0m\u001b[0;34m\u001b[0m\u001b[0m\n",
      "\u001b[0;31mUnknownTimeZoneError\u001b[0m: 'cdateutil.tz.win\\ntzwin\\np0\\n(VUTC\\np1\\ntp2\\nRp3\\n.'"
     ]
    }
   ],
   "source": [
    "all_data = []\n",
    "for file in files:\n",
    "    days_data = pd.read_hdf(f'intraday_data/{file}', key='df')\n",
    "    all_data.append(days_data_df)\n",
    "\n",
    "all_data['date'] = pd.to_datetime(all_data['time'], unit='s').df.date"
   ]
  },
  {
   "cell_type": "markdown",
   "id": "9322a05e",
   "metadata": {},
   "source": [
    "Другой способ"
   ]
  },
  {
   "cell_type": "code",
   "execution_count": 11,
   "id": "de780c93",
   "metadata": {},
   "outputs": [],
   "source": [
    "files = [f for f in os.listdir('intraday_data/')]"
   ]
  },
  {
   "cell_type": "code",
   "execution_count": 14,
   "id": "556c2506",
   "metadata": {},
   "outputs": [],
   "source": [
    "days_data = h5py.File(f'intraday_data/{files[0]}','r+')\n",
    "d_data = days_data['df']\n",
    "all_data = pd.DataFrame([[0, 0, 0, 0, 0]], columns=np.array(d_data['block0_items']))\n",
    "\n",
    "for file in files:\n",
    "    days_data = h5py.File(f'intraday_data/{file}','r+')\n",
    "    d_data = days_data['df']\n",
    "    df0 = pd.DataFrame(np.array(d_data['block0_values']),\n",
    "                       columns=np.array(d_data['block0_items'])) #здесь лежат ценовые данные по тинкеру\n",
    "    df1 = pd.DataFrame(np.array(d_data['block1_values']),\n",
    "                       columns=np.array(d_data['block1_items'])) #здесь лежат времена наблюдения\n",
    "    day_data = pd.concat([df0, df1], axis=1)\n",
    "    all_data = pd.concat([all_data, day_data], ignore_index=True)"
   ]
  },
  {
   "cell_type": "code",
   "execution_count": 15,
   "id": "e1297b9f",
   "metadata": {},
   "outputs": [
    {
     "data": {
      "text/plain": [
       "(19497011, 6)"
      ]
     },
     "execution_count": 15,
     "metadata": {},
     "output_type": "execute_result"
    }
   ],
   "source": [
    "all_data.shape"
   ]
  },
  {
   "cell_type": "code",
   "execution_count": 16,
   "id": "71c75e5e",
   "metadata": {
    "scrolled": true
   },
   "outputs": [
    {
     "data": {
      "text/html": [
       "<div>\n",
       "<style scoped>\n",
       "    .dataframe tbody tr th:only-of-type {\n",
       "        vertical-align: middle;\n",
       "    }\n",
       "\n",
       "    .dataframe tbody tr th {\n",
       "        vertical-align: top;\n",
       "    }\n",
       "\n",
       "    .dataframe thead th {\n",
       "        text-align: right;\n",
       "    }\n",
       "</style>\n",
       "<table border=\"1\" class=\"dataframe\">\n",
       "  <thead>\n",
       "    <tr style=\"text-align: right;\">\n",
       "      <th></th>\n",
       "      <th>b'open'</th>\n",
       "      <th>b'high'</th>\n",
       "      <th>b'close'</th>\n",
       "      <th>b'low'</th>\n",
       "      <th>b'volume'</th>\n",
       "      <th>b'time'</th>\n",
       "    </tr>\n",
       "  </thead>\n",
       "  <tbody>\n",
       "    <tr>\n",
       "      <th>19497006</th>\n",
       "      <td>11.93</td>\n",
       "      <td>11.93</td>\n",
       "      <td>11.93</td>\n",
       "      <td>11.93</td>\n",
       "      <td>940.0</td>\n",
       "      <td>1.631318e+09</td>\n",
       "    </tr>\n",
       "    <tr>\n",
       "      <th>19497007</th>\n",
       "      <td>11.94</td>\n",
       "      <td>11.94</td>\n",
       "      <td>11.93</td>\n",
       "      <td>11.93</td>\n",
       "      <td>4285.0</td>\n",
       "      <td>1.631318e+09</td>\n",
       "    </tr>\n",
       "    <tr>\n",
       "      <th>19497008</th>\n",
       "      <td>11.93</td>\n",
       "      <td>11.95</td>\n",
       "      <td>11.95</td>\n",
       "      <td>11.93</td>\n",
       "      <td>7081.0</td>\n",
       "      <td>1.631318e+09</td>\n",
       "    </tr>\n",
       "    <tr>\n",
       "      <th>19497009</th>\n",
       "      <td>11.95</td>\n",
       "      <td>11.95</td>\n",
       "      <td>11.93</td>\n",
       "      <td>11.92</td>\n",
       "      <td>5663.0</td>\n",
       "      <td>1.631318e+09</td>\n",
       "    </tr>\n",
       "    <tr>\n",
       "      <th>19497010</th>\n",
       "      <td>11.92</td>\n",
       "      <td>11.93</td>\n",
       "      <td>11.89</td>\n",
       "      <td>11.89</td>\n",
       "      <td>11113.0</td>\n",
       "      <td>1.631318e+09</td>\n",
       "    </tr>\n",
       "  </tbody>\n",
       "</table>\n",
       "</div>"
      ],
      "text/plain": [
       "          b'open'  b'high'  b'close'  b'low'  b'volume'       b'time'\n",
       "19497006    11.93    11.93     11.93   11.93      940.0  1.631318e+09\n",
       "19497007    11.94    11.94     11.93   11.93     4285.0  1.631318e+09\n",
       "19497008    11.93    11.95     11.95   11.93     7081.0  1.631318e+09\n",
       "19497009    11.95    11.95     11.93   11.92     5663.0  1.631318e+09\n",
       "19497010    11.92    11.93     11.89   11.89    11113.0  1.631318e+09"
      ]
     },
     "execution_count": 16,
     "metadata": {},
     "output_type": "execute_result"
    }
   ],
   "source": [
    "all_data.tail(5)"
   ]
  },
  {
   "cell_type": "markdown",
   "id": "decd86b0",
   "metadata": {},
   "source": [
    "Теперь, по идее, необходимо по соответствию тинкеров и дат публикации новости извлечь из полученного нами датасета all_data цену закрытия для каждого наименования из датасета selected_tickers. Однако извлечь тинкеры из interaday_data данных не удалось и вот почему:"
   ]
  },
  {
   "cell_type": "markdown",
   "id": "ac8531c5",
   "metadata": {},
   "source": [
    "Проблема c тинкерами на примере одного файла"
   ]
  },
  {
   "cell_type": "code",
   "execution_count": 17,
   "id": "5c10b67e",
   "metadata": {
    "scrolled": true
   },
   "outputs": [
    {
     "data": {
      "text/plain": [
       "<KeysViewHDF5 ['axis0', 'axis1', 'block0_items', 'block0_values', 'block1_items', 'block1_values', 'block2_items', 'block2_values', 'block3_items', 'block3_values', 'block4_items', 'block4_values']>"
      ]
     },
     "execution_count": 17,
     "metadata": {},
     "output_type": "execute_result"
    }
   ],
   "source": [
    "filename = 'intraday_data/2021-10-01.hd5'\n",
    "\n",
    "h5 = h5py.File(filename,'r+')\n",
    "\n",
    "data = h5['df']\n",
    "h5['df'].keys()"
   ]
  },
  {
   "cell_type": "code",
   "execution_count": 18,
   "id": "420af6c7",
   "metadata": {},
   "outputs": [],
   "source": [
    "df0 = pd.DataFrame(np.array(data['block0_values']), columns=np.array(data['block0_items'])) #здесь лежат ценовые данные по тинкеру\n",
    "df1 = pd.DataFrame(np.array(data['block1_values']), columns=np.array(data['block1_items'])) #здесь лежат времена наблюдения"
   ]
  },
  {
   "cell_type": "code",
   "execution_count": 19,
   "id": "1ce4a86b",
   "metadata": {},
   "outputs": [
    {
     "data": {
      "text/html": [
       "<div>\n",
       "<style scoped>\n",
       "    .dataframe tbody tr th:only-of-type {\n",
       "        vertical-align: middle;\n",
       "    }\n",
       "\n",
       "    .dataframe tbody tr th {\n",
       "        vertical-align: top;\n",
       "    }\n",
       "\n",
       "    .dataframe thead th {\n",
       "        text-align: right;\n",
       "    }\n",
       "</style>\n",
       "<table border=\"1\" class=\"dataframe\">\n",
       "  <thead>\n",
       "    <tr style=\"text-align: right;\">\n",
       "      <th></th>\n",
       "      <th>b'open'</th>\n",
       "      <th>b'high'</th>\n",
       "      <th>b'close'</th>\n",
       "      <th>b'low'</th>\n",
       "      <th>b'volume'</th>\n",
       "    </tr>\n",
       "  </thead>\n",
       "  <tbody>\n",
       "    <tr>\n",
       "      <th>0</th>\n",
       "      <td>0</td>\n",
       "      <td>0</td>\n",
       "      <td>0</td>\n",
       "      <td>0</td>\n",
       "      <td>0</td>\n",
       "    </tr>\n",
       "  </tbody>\n",
       "</table>\n",
       "</div>"
      ],
      "text/plain": [
       "   b'open'  b'high'  b'close'  b'low'  b'volume'\n",
       "0        0        0         0       0          0"
      ]
     },
     "execution_count": 19,
     "metadata": {},
     "output_type": "execute_result"
    }
   ],
   "source": [
    "col = pd.DataFrame([[0, 0, 0, 0, 0]], columns=np.array(data['block0_items']))\n",
    "col"
   ]
  },
  {
   "cell_type": "code",
   "execution_count": 20,
   "id": "e23dab5a",
   "metadata": {},
   "outputs": [
    {
     "data": {
      "text/plain": [
       "(471604, 5)"
      ]
     },
     "execution_count": 20,
     "metadata": {},
     "output_type": "execute_result"
    }
   ],
   "source": [
    "data['block0_values'].shape"
   ]
  },
  {
   "cell_type": "code",
   "execution_count": 21,
   "id": "367f4dff",
   "metadata": {},
   "outputs": [
    {
     "data": {
      "text/plain": [
       "array([array([128,   4, 149, ..., 148,  98,  46], dtype=uint8)],\n",
       "      dtype=object)"
      ]
     },
     "execution_count": 21,
     "metadata": {},
     "output_type": "execute_result"
    }
   ],
   "source": [
    "np.array(data['block2_values'])\n",
    "#тут тинкеры, и в них происходит что-то странное, не названия, а цифры.\n",
    "#Не очень понятно как с таким работать, поэтому я их не включил\n",
    "#Однако найти соответсвие между данными без названия тинкера невозможно"
   ]
  },
  {
   "cell_type": "code",
   "execution_count": 22,
   "id": "f4c00ed8",
   "metadata": {
    "scrolled": true
   },
   "outputs": [],
   "source": [
    "all_data = pd.concat([df0, df1], axis=1)"
   ]
  },
  {
   "cell_type": "code",
   "execution_count": 23,
   "id": "fda075d9",
   "metadata": {},
   "outputs": [
    {
     "data": {
      "text/html": [
       "<div>\n",
       "<style scoped>\n",
       "    .dataframe tbody tr th:only-of-type {\n",
       "        vertical-align: middle;\n",
       "    }\n",
       "\n",
       "    .dataframe tbody tr th {\n",
       "        vertical-align: top;\n",
       "    }\n",
       "\n",
       "    .dataframe thead th {\n",
       "        text-align: right;\n",
       "    }\n",
       "</style>\n",
       "<table border=\"1\" class=\"dataframe\">\n",
       "  <thead>\n",
       "    <tr style=\"text-align: right;\">\n",
       "      <th></th>\n",
       "      <th>b'open'</th>\n",
       "      <th>b'high'</th>\n",
       "      <th>b'close'</th>\n",
       "      <th>b'low'</th>\n",
       "      <th>b'volume'</th>\n",
       "      <th>b'time'</th>\n",
       "    </tr>\n",
       "  </thead>\n",
       "  <tbody>\n",
       "    <tr>\n",
       "      <th>0</th>\n",
       "      <td>13.12</td>\n",
       "      <td>13.12</td>\n",
       "      <td>12.73</td>\n",
       "      <td>12.73</td>\n",
       "      <td>5799.0</td>\n",
       "      <td>1.633087e+09</td>\n",
       "    </tr>\n",
       "    <tr>\n",
       "      <th>1</th>\n",
       "      <td>12.73</td>\n",
       "      <td>NaN</td>\n",
       "      <td>12.73</td>\n",
       "      <td>NaN</td>\n",
       "      <td>NaN</td>\n",
       "      <td>1.633087e+09</td>\n",
       "    </tr>\n",
       "    <tr>\n",
       "      <th>2</th>\n",
       "      <td>12.73</td>\n",
       "      <td>NaN</td>\n",
       "      <td>12.73</td>\n",
       "      <td>NaN</td>\n",
       "      <td>NaN</td>\n",
       "      <td>1.633087e+09</td>\n",
       "    </tr>\n",
       "    <tr>\n",
       "      <th>3</th>\n",
       "      <td>12.73</td>\n",
       "      <td>NaN</td>\n",
       "      <td>12.73</td>\n",
       "      <td>NaN</td>\n",
       "      <td>NaN</td>\n",
       "      <td>1.633087e+09</td>\n",
       "    </tr>\n",
       "    <tr>\n",
       "      <th>4</th>\n",
       "      <td>12.73</td>\n",
       "      <td>NaN</td>\n",
       "      <td>12.73</td>\n",
       "      <td>NaN</td>\n",
       "      <td>NaN</td>\n",
       "      <td>1.633087e+09</td>\n",
       "    </tr>\n",
       "    <tr>\n",
       "      <th>...</th>\n",
       "      <td>...</td>\n",
       "      <td>...</td>\n",
       "      <td>...</td>\n",
       "      <td>...</td>\n",
       "      <td>...</td>\n",
       "      <td>...</td>\n",
       "    </tr>\n",
       "    <tr>\n",
       "      <th>471600</th>\n",
       "      <td>143.32</td>\n",
       "      <td>143.32</td>\n",
       "      <td>143.32</td>\n",
       "      <td>143.32</td>\n",
       "      <td>100.0</td>\n",
       "      <td>1.633126e+09</td>\n",
       "    </tr>\n",
       "    <tr>\n",
       "      <th>471601</th>\n",
       "      <td>143.32</td>\n",
       "      <td>NaN</td>\n",
       "      <td>143.32</td>\n",
       "      <td>NaN</td>\n",
       "      <td>NaN</td>\n",
       "      <td>1.633126e+09</td>\n",
       "    </tr>\n",
       "    <tr>\n",
       "      <th>471602</th>\n",
       "      <td>143.32</td>\n",
       "      <td>NaN</td>\n",
       "      <td>143.32</td>\n",
       "      <td>NaN</td>\n",
       "      <td>NaN</td>\n",
       "      <td>1.633126e+09</td>\n",
       "    </tr>\n",
       "    <tr>\n",
       "      <th>471603</th>\n",
       "      <td>143.55</td>\n",
       "      <td>143.55</td>\n",
       "      <td>143.55</td>\n",
       "      <td>143.55</td>\n",
       "      <td>100.0</td>\n",
       "      <td>1.633126e+09</td>\n",
       "    </tr>\n",
       "    <tr>\n",
       "      <th>471604</th>\n",
       "      <td>0.00</td>\n",
       "      <td>0.00</td>\n",
       "      <td>0.00</td>\n",
       "      <td>0.00</td>\n",
       "      <td>0.0</td>\n",
       "      <td>NaN</td>\n",
       "    </tr>\n",
       "  </tbody>\n",
       "</table>\n",
       "<p>471605 rows × 6 columns</p>\n",
       "</div>"
      ],
      "text/plain": [
       "        b'open'  b'high'  b'close'  b'low'  b'volume'       b'time'\n",
       "0         13.12    13.12     12.73   12.73     5799.0  1.633087e+09\n",
       "1         12.73      NaN     12.73     NaN        NaN  1.633087e+09\n",
       "2         12.73      NaN     12.73     NaN        NaN  1.633087e+09\n",
       "3         12.73      NaN     12.73     NaN        NaN  1.633087e+09\n",
       "4         12.73      NaN     12.73     NaN        NaN  1.633087e+09\n",
       "...         ...      ...       ...     ...        ...           ...\n",
       "471600   143.32   143.32    143.32  143.32      100.0  1.633126e+09\n",
       "471601   143.32      NaN    143.32     NaN        NaN  1.633126e+09\n",
       "471602   143.32      NaN    143.32     NaN        NaN  1.633126e+09\n",
       "471603   143.55   143.55    143.55  143.55      100.0  1.633126e+09\n",
       "471604     0.00     0.00      0.00    0.00        0.0           NaN\n",
       "\n",
       "[471605 rows x 6 columns]"
      ]
     },
     "execution_count": 23,
     "metadata": {},
     "output_type": "execute_result"
    }
   ],
   "source": [
    "pd.concat([all_data, col], ignore_index=True)"
   ]
  },
  {
   "cell_type": "code",
   "execution_count": null,
   "id": "a93485b4",
   "metadata": {},
   "outputs": [],
   "source": []
  }
 ],
 "metadata": {
  "kernelspec": {
   "display_name": "Python 3",
   "language": "python",
   "name": "python3"
  },
  "language_info": {
   "codemirror_mode": {
    "name": "ipython",
    "version": 3
   },
   "file_extension": ".py",
   "mimetype": "text/x-python",
   "name": "python",
   "nbconvert_exporter": "python",
   "pygments_lexer": "ipython3",
   "version": "3.7.10"
  }
 },
 "nbformat": 4,
 "nbformat_minor": 5
}
