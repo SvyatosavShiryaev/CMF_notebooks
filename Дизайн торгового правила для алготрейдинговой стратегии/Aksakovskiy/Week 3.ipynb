{
 "cells": [
  {
   "cell_type": "code",
   "execution_count": 141,
   "id": "8f1b741b",
   "metadata": {},
   "outputs": [],
   "source": [
    "import numpy as np\n",
    "import pandas as pd\n",
    "import seaborn as sns\n",
    "import matplotlib.pyplot as plt\n",
    "import os\n",
    "import h5py\n",
    "import warnings\n",
    "from datetime import datetime"
   ]
  },
  {
   "cell_type": "markdown",
   "id": "cacf516c",
   "metadata": {},
   "source": [
    "### Выгрузка данных"
   ]
  },
  {
   "cell_type": "code",
   "execution_count": 34,
   "id": "2b209cce",
   "metadata": {},
   "outputs": [],
   "source": [
    "plt.style.use(\"bmh\")"
   ]
  },
  {
   "cell_type": "code",
   "execution_count": 5,
   "id": "9d71bb2d",
   "metadata": {},
   "outputs": [],
   "source": [
    "targets = pd.read_hdf('targets-3.hd5', key='df')\n",
    "ticker_prices = pd.read_hdf('ticker_price_moment_exit.hd5', key='df')"
   ]
  },
  {
   "cell_type": "code",
   "execution_count": 6,
   "id": "5cad5adf",
   "metadata": {
    "scrolled": true
   },
   "outputs": [
    {
     "data": {
      "text/html": [
       "<div>\n",
       "<style scoped>\n",
       "    .dataframe tbody tr th:only-of-type {\n",
       "        vertical-align: middle;\n",
       "    }\n",
       "\n",
       "    .dataframe tbody tr th {\n",
       "        vertical-align: top;\n",
       "    }\n",
       "\n",
       "    .dataframe thead th {\n",
       "        text-align: right;\n",
       "    }\n",
       "</style>\n",
       "<table border=\"1\" class=\"dataframe\">\n",
       "  <thead>\n",
       "    <tr style=\"text-align: right;\">\n",
       "      <th></th>\n",
       "      <th>ticker</th>\n",
       "      <th>bidPrice</th>\n",
       "      <th>bidSize</th>\n",
       "      <th>askPrice</th>\n",
       "      <th>askSize</th>\n",
       "      <th>lastUpdated</th>\n",
       "      <th>lastSalePrice</th>\n",
       "      <th>lastSaleSize</th>\n",
       "      <th>lastSaleTime</th>\n",
       "      <th>volume</th>\n",
       "      <th>current_price</th>\n",
       "      <th>timestamp</th>\n",
       "      <th>news_id</th>\n",
       "    </tr>\n",
       "  </thead>\n",
       "  <tbody>\n",
       "    <tr>\n",
       "      <th>650</th>\n",
       "      <td>FLGC</td>\n",
       "      <td>0.0</td>\n",
       "      <td>0.0</td>\n",
       "      <td>0.0</td>\n",
       "      <td>0.0</td>\n",
       "      <td>1630615691239</td>\n",
       "      <td>8.705</td>\n",
       "      <td>333.0</td>\n",
       "      <td>1630612743142</td>\n",
       "      <td>11501.0</td>\n",
       "      <td>8.68</td>\n",
       "      <td>1630672214</td>\n",
       "      <td>02bef0eac6ffefad5ed09dbbe10285a3</td>\n",
       "    </tr>\n",
       "    <tr>\n",
       "      <th>695</th>\n",
       "      <td>FTRP</td>\n",
       "      <td>0.0</td>\n",
       "      <td>0.0</td>\n",
       "      <td>0.0</td>\n",
       "      <td>0.0</td>\n",
       "      <td>1630008000000.0</td>\n",
       "      <td>4.4</td>\n",
       "      <td>92.0</td>\n",
       "      <td>1630006934351</td>\n",
       "      <td>204.0</td>\n",
       "      <td>4.81</td>\n",
       "      <td>1630491261</td>\n",
       "      <td>02e52550c5a219eab849a8dd4ceabf1e</td>\n",
       "    </tr>\n",
       "    <tr>\n",
       "      <th>751</th>\n",
       "      <td>MMSI</td>\n",
       "      <td>0.0</td>\n",
       "      <td>0.0</td>\n",
       "      <td>0.0</td>\n",
       "      <td>0.0</td>\n",
       "      <td>1631909686001</td>\n",
       "      <td>71.63</td>\n",
       "      <td>30.0</td>\n",
       "      <td>1631908799370.0</td>\n",
       "      <td>17914.0</td>\n",
       "      <td>71.65</td>\n",
       "      <td>1632144306</td>\n",
       "      <td>032371cc3e6282c2a4b879dc530bfdf5</td>\n",
       "    </tr>\n",
       "    <tr>\n",
       "      <th>1096</th>\n",
       "      <td>CEI</td>\n",
       "      <td>1.73</td>\n",
       "      <td>1450.0</td>\n",
       "      <td>1.75</td>\n",
       "      <td>500.0</td>\n",
       "      <td>1631641658467</td>\n",
       "      <td>1.74</td>\n",
       "      <td>200.0</td>\n",
       "      <td>1631641658427</td>\n",
       "      <td>349063.0</td>\n",
       "      <td>1.725</td>\n",
       "      <td>1631641689</td>\n",
       "      <td>04a3c3a7669c55c3f3139e66785ec07d</td>\n",
       "    </tr>\n",
       "    <tr>\n",
       "      <th>1097</th>\n",
       "      <td>GSAT</td>\n",
       "      <td>2.11</td>\n",
       "      <td>1228.0</td>\n",
       "      <td>2.12</td>\n",
       "      <td>891.0</td>\n",
       "      <td>1631641657733</td>\n",
       "      <td>2.115</td>\n",
       "      <td>100.0</td>\n",
       "      <td>1631641650857</td>\n",
       "      <td>171893.0</td>\n",
       "      <td>2.115</td>\n",
       "      <td>1631641689</td>\n",
       "      <td>04a3c3a7669c55c3f3139e66785ec07d</td>\n",
       "    </tr>\n",
       "  </tbody>\n",
       "</table>\n",
       "</div>"
      ],
      "text/plain": [
       "     ticker bidPrice bidSize askPrice askSize      lastUpdated lastSalePrice  \\\n",
       "650    FLGC      0.0     0.0      0.0     0.0    1630615691239         8.705   \n",
       "695    FTRP      0.0     0.0      0.0     0.0  1630008000000.0           4.4   \n",
       "751    MMSI      0.0     0.0      0.0     0.0    1631909686001         71.63   \n",
       "1096    CEI     1.73  1450.0     1.75   500.0    1631641658467          1.74   \n",
       "1097   GSAT     2.11  1228.0     2.12   891.0    1631641657733         2.115   \n",
       "\n",
       "     lastSaleSize     lastSaleTime    volume current_price   timestamp  \\\n",
       "650         333.0    1630612743142   11501.0          8.68  1630672214   \n",
       "695          92.0    1630006934351     204.0          4.81  1630491261   \n",
       "751          30.0  1631908799370.0   17914.0         71.65  1632144306   \n",
       "1096        200.0    1631641658427  349063.0         1.725  1631641689   \n",
       "1097        100.0    1631641650857  171893.0         2.115  1631641689   \n",
       "\n",
       "                               news_id  \n",
       "650   02bef0eac6ffefad5ed09dbbe10285a3  \n",
       "695   02e52550c5a219eab849a8dd4ceabf1e  \n",
       "751   032371cc3e6282c2a4b879dc530bfdf5  \n",
       "1096  04a3c3a7669c55c3f3139e66785ec07d  \n",
       "1097  04a3c3a7669c55c3f3139e66785ec07d  "
      ]
     },
     "execution_count": 6,
     "metadata": {},
     "output_type": "execute_result"
    }
   ],
   "source": [
    "targets = targets[targets['10_True_0.05'] == 1].drop(columns = ['10_True_0.05'])\n",
    "selected_tickers = ticker_prices[ticker_prices['news_id'].isin(targets['news_id'])]\n",
    "selected_tickers.head(5)"
   ]
  },
  {
   "cell_type": "markdown",
   "id": "31c4913f",
   "metadata": {},
   "source": [
    "Для начала попробую реализовать линейную авторегрессию с тикером от Амазон"
   ]
  },
  {
   "cell_type": "code",
   "execution_count": 76,
   "id": "24f508a6",
   "metadata": {},
   "outputs": [],
   "source": [
    "AMZN_news = selected_tickers[selected_tickers['ticker']=='AMZN']"
   ]
  },
  {
   "cell_type": "code",
   "execution_count": 77,
   "id": "c931be86",
   "metadata": {
    "scrolled": true
   },
   "outputs": [
    {
     "name": "stderr",
     "output_type": "stream",
     "text": [
      "<ipython-input-77-6a0881c48c92>:1: SettingWithCopyWarning: \n",
      "A value is trying to be set on a copy of a slice from a DataFrame.\n",
      "Try using .loc[row_indexer,col_indexer] = value instead\n",
      "\n",
      "See the caveats in the documentation: https://pandas.pydata.org/pandas-docs/stable/user_guide/indexing.html#returning-a-view-versus-a-copy\n",
      "  AMZN_news['datetime'] = AMZN_news['timestamp'].apply(lambda x: datetime.fromtimestamp(x))\n"
     ]
    }
   ],
   "source": [
    "AMZN_news['datetime'] = AMZN_news['timestamp'].apply(lambda x: datetime.fromtimestamp(x))"
   ]
  },
  {
   "cell_type": "code",
   "execution_count": 78,
   "id": "133d3b2f",
   "metadata": {},
   "outputs": [
    {
     "data": {
      "text/html": [
       "<div>\n",
       "<style scoped>\n",
       "    .dataframe tbody tr th:only-of-type {\n",
       "        vertical-align: middle;\n",
       "    }\n",
       "\n",
       "    .dataframe tbody tr th {\n",
       "        vertical-align: top;\n",
       "    }\n",
       "\n",
       "    .dataframe thead th {\n",
       "        text-align: right;\n",
       "    }\n",
       "</style>\n",
       "<table border=\"1\" class=\"dataframe\">\n",
       "  <thead>\n",
       "    <tr style=\"text-align: right;\">\n",
       "      <th></th>\n",
       "      <th>ticker</th>\n",
       "      <th>bidPrice</th>\n",
       "      <th>bidSize</th>\n",
       "      <th>askPrice</th>\n",
       "      <th>askSize</th>\n",
       "      <th>lastUpdated</th>\n",
       "      <th>lastSalePrice</th>\n",
       "      <th>lastSaleSize</th>\n",
       "      <th>lastSaleTime</th>\n",
       "      <th>volume</th>\n",
       "      <th>current_price</th>\n",
       "      <th>timestamp</th>\n",
       "      <th>news_id</th>\n",
       "      <th>datetime</th>\n",
       "    </tr>\n",
       "  </thead>\n",
       "  <tbody>\n",
       "    <tr>\n",
       "      <th>5626</th>\n",
       "      <td>AMZN</td>\n",
       "      <td>0.0</td>\n",
       "      <td>0.0</td>\n",
       "      <td>0.0</td>\n",
       "      <td>0.0</td>\n",
       "      <td>1630096631143</td>\n",
       "      <td>3349.17</td>\n",
       "      <td>80.0</td>\n",
       "      <td>1630094398260.0</td>\n",
       "      <td>112968.0</td>\n",
       "      <td>3349.63</td>\n",
       "      <td>1630097099</td>\n",
       "      <td>198456c474cc827aad787dc2cda2ef33</td>\n",
       "      <td>2021-08-27 23:44:59</td>\n",
       "    </tr>\n",
       "    <tr>\n",
       "      <th>16990</th>\n",
       "      <td>AMZN</td>\n",
       "      <td>0.0</td>\n",
       "      <td>0.0</td>\n",
       "      <td>0.0</td>\n",
       "      <td>0.0</td>\n",
       "      <td>1630096631143</td>\n",
       "      <td>3349.17</td>\n",
       "      <td>80.0</td>\n",
       "      <td>1630094398260.0</td>\n",
       "      <td>112968.0</td>\n",
       "      <td>3349.63</td>\n",
       "      <td>1630096814</td>\n",
       "      <td>4ed266a73ceb1b984f0bffe7fc0a73f4</td>\n",
       "      <td>2021-08-27 23:40:14</td>\n",
       "    </tr>\n",
       "    <tr>\n",
       "      <th>50653</th>\n",
       "      <td>AMZN</td>\n",
       "      <td>0.0</td>\n",
       "      <td>0.0</td>\n",
       "      <td>3375.33</td>\n",
       "      <td>100.0</td>\n",
       "      <td>1632239269015</td>\n",
       "      <td>3374.915</td>\n",
       "      <td>100.0</td>\n",
       "      <td>1632239256008</td>\n",
       "      <td>42116.0</td>\n",
       "      <td>3375.29</td>\n",
       "      <td>1632239292</td>\n",
       "      <td>ecfe3b100f88c96c9568b6881a309414</td>\n",
       "      <td>2021-09-21 18:48:12</td>\n",
       "    </tr>\n",
       "  </tbody>\n",
       "</table>\n",
       "</div>"
      ],
      "text/plain": [
       "      ticker bidPrice bidSize askPrice askSize    lastUpdated lastSalePrice  \\\n",
       "5626    AMZN      0.0     0.0      0.0     0.0  1630096631143       3349.17   \n",
       "16990   AMZN      0.0     0.0      0.0     0.0  1630096631143       3349.17   \n",
       "50653   AMZN      0.0     0.0  3375.33   100.0  1632239269015      3374.915   \n",
       "\n",
       "      lastSaleSize     lastSaleTime    volume current_price   timestamp  \\\n",
       "5626          80.0  1630094398260.0  112968.0       3349.63  1630097099   \n",
       "16990         80.0  1630094398260.0  112968.0       3349.63  1630096814   \n",
       "50653        100.0    1632239256008   42116.0       3375.29  1632239292   \n",
       "\n",
       "                                news_id            datetime  \n",
       "5626   198456c474cc827aad787dc2cda2ef33 2021-08-27 23:44:59  \n",
       "16990  4ed266a73ceb1b984f0bffe7fc0a73f4 2021-08-27 23:40:14  \n",
       "50653  ecfe3b100f88c96c9568b6881a309414 2021-09-21 18:48:12  "
      ]
     },
     "execution_count": 78,
     "metadata": {},
     "output_type": "execute_result"
    }
   ],
   "source": [
    "AMZN_news"
   ]
  },
  {
   "cell_type": "markdown",
   "id": "a7deebe7",
   "metadata": {},
   "source": [
    "При проверке оказалось, что в датасете с данными по тикерам наибольшее количество информации содержится для третьей новости, ее и возьму"
   ]
  },
  {
   "cell_type": "code",
   "execution_count": 19,
   "id": "6220ee6b",
   "metadata": {},
   "outputs": [],
   "source": [
    "files = [f for f in os.listdir('intraday_data/')]"
   ]
  },
  {
   "cell_type": "code",
   "execution_count": 79,
   "id": "c73c6d05",
   "metadata": {},
   "outputs": [
    {
     "data": {
      "text/html": [
       "<div>\n",
       "<style scoped>\n",
       "    .dataframe tbody tr th:only-of-type {\n",
       "        vertical-align: middle;\n",
       "    }\n",
       "\n",
       "    .dataframe tbody tr th {\n",
       "        vertical-align: top;\n",
       "    }\n",
       "\n",
       "    .dataframe thead th {\n",
       "        text-align: right;\n",
       "    }\n",
       "</style>\n",
       "<table border=\"1\" class=\"dataframe\">\n",
       "  <thead>\n",
       "    <tr style=\"text-align: right;\">\n",
       "      <th></th>\n",
       "      <th>open</th>\n",
       "      <th>high</th>\n",
       "      <th>close</th>\n",
       "      <th>low</th>\n",
       "      <th>volume</th>\n",
       "      <th>time</th>\n",
       "      <th>formated time</th>\n",
       "      <th>ticker</th>\n",
       "      <th>autofilled</th>\n",
       "    </tr>\n",
       "  </thead>\n",
       "  <tbody>\n",
       "    <tr>\n",
       "      <th>0</th>\n",
       "      <td>13.12</td>\n",
       "      <td>13.12</td>\n",
       "      <td>12.73</td>\n",
       "      <td>12.73</td>\n",
       "      <td>5799.0</td>\n",
       "      <td>1633086780</td>\n",
       "      <td>2021-10-01 11:13:00+00:00</td>\n",
       "      <td>COMP</td>\n",
       "      <td>False</td>\n",
       "    </tr>\n",
       "    <tr>\n",
       "      <th>1</th>\n",
       "      <td>12.73</td>\n",
       "      <td>NaN</td>\n",
       "      <td>12.73</td>\n",
       "      <td>NaN</td>\n",
       "      <td>NaN</td>\n",
       "      <td>1633086840</td>\n",
       "      <td>2021-10-01 11:14:00+00:00</td>\n",
       "      <td>COMP</td>\n",
       "      <td>True</td>\n",
       "    </tr>\n",
       "    <tr>\n",
       "      <th>2</th>\n",
       "      <td>12.73</td>\n",
       "      <td>NaN</td>\n",
       "      <td>12.73</td>\n",
       "      <td>NaN</td>\n",
       "      <td>NaN</td>\n",
       "      <td>1633086900</td>\n",
       "      <td>2021-10-01 11:15:00+00:00</td>\n",
       "      <td>COMP</td>\n",
       "      <td>True</td>\n",
       "    </tr>\n",
       "    <tr>\n",
       "      <th>3</th>\n",
       "      <td>12.73</td>\n",
       "      <td>NaN</td>\n",
       "      <td>12.73</td>\n",
       "      <td>NaN</td>\n",
       "      <td>NaN</td>\n",
       "      <td>1633086960</td>\n",
       "      <td>2021-10-01 11:16:00+00:00</td>\n",
       "      <td>COMP</td>\n",
       "      <td>True</td>\n",
       "    </tr>\n",
       "    <tr>\n",
       "      <th>4</th>\n",
       "      <td>12.73</td>\n",
       "      <td>NaN</td>\n",
       "      <td>12.73</td>\n",
       "      <td>NaN</td>\n",
       "      <td>NaN</td>\n",
       "      <td>1633087020</td>\n",
       "      <td>2021-10-01 11:17:00+00:00</td>\n",
       "      <td>COMP</td>\n",
       "      <td>True</td>\n",
       "    </tr>\n",
       "    <tr>\n",
       "      <th>...</th>\n",
       "      <td>...</td>\n",
       "      <td>...</td>\n",
       "      <td>...</td>\n",
       "      <td>...</td>\n",
       "      <td>...</td>\n",
       "      <td>...</td>\n",
       "      <td>...</td>\n",
       "      <td>...</td>\n",
       "      <td>...</td>\n",
       "    </tr>\n",
       "    <tr>\n",
       "      <th>19497005</th>\n",
       "      <td>11.93</td>\n",
       "      <td>11.93</td>\n",
       "      <td>11.93</td>\n",
       "      <td>11.93</td>\n",
       "      <td>940.0</td>\n",
       "      <td>1631318100</td>\n",
       "      <td>2021-09-10 23:55:00+00:00</td>\n",
       "      <td>ATER</td>\n",
       "      <td>False</td>\n",
       "    </tr>\n",
       "    <tr>\n",
       "      <th>19497006</th>\n",
       "      <td>11.94</td>\n",
       "      <td>11.94</td>\n",
       "      <td>11.93</td>\n",
       "      <td>11.93</td>\n",
       "      <td>4285.0</td>\n",
       "      <td>1631318160</td>\n",
       "      <td>2021-09-10 23:56:00+00:00</td>\n",
       "      <td>ATER</td>\n",
       "      <td>False</td>\n",
       "    </tr>\n",
       "    <tr>\n",
       "      <th>19497007</th>\n",
       "      <td>11.93</td>\n",
       "      <td>11.95</td>\n",
       "      <td>11.95</td>\n",
       "      <td>11.93</td>\n",
       "      <td>7081.0</td>\n",
       "      <td>1631318220</td>\n",
       "      <td>2021-09-10 23:57:00+00:00</td>\n",
       "      <td>ATER</td>\n",
       "      <td>False</td>\n",
       "    </tr>\n",
       "    <tr>\n",
       "      <th>19497008</th>\n",
       "      <td>11.95</td>\n",
       "      <td>11.95</td>\n",
       "      <td>11.93</td>\n",
       "      <td>11.92</td>\n",
       "      <td>5663.0</td>\n",
       "      <td>1631318280</td>\n",
       "      <td>2021-09-10 23:58:00+00:00</td>\n",
       "      <td>ATER</td>\n",
       "      <td>False</td>\n",
       "    </tr>\n",
       "    <tr>\n",
       "      <th>19497009</th>\n",
       "      <td>11.92</td>\n",
       "      <td>11.93</td>\n",
       "      <td>11.89</td>\n",
       "      <td>11.89</td>\n",
       "      <td>11113.0</td>\n",
       "      <td>1631318340</td>\n",
       "      <td>2021-09-10 23:59:00+00:00</td>\n",
       "      <td>ATER</td>\n",
       "      <td>False</td>\n",
       "    </tr>\n",
       "  </tbody>\n",
       "</table>\n",
       "<p>19497010 rows × 9 columns</p>\n",
       "</div>"
      ],
      "text/plain": [
       "           open   high  close    low   volume        time  \\\n",
       "0         13.12  13.12  12.73  12.73   5799.0  1633086780   \n",
       "1         12.73    NaN  12.73    NaN      NaN  1633086840   \n",
       "2         12.73    NaN  12.73    NaN      NaN  1633086900   \n",
       "3         12.73    NaN  12.73    NaN      NaN  1633086960   \n",
       "4         12.73    NaN  12.73    NaN      NaN  1633087020   \n",
       "...         ...    ...    ...    ...      ...         ...   \n",
       "19497005  11.93  11.93  11.93  11.93    940.0  1631318100   \n",
       "19497006  11.94  11.94  11.93  11.93   4285.0  1631318160   \n",
       "19497007  11.93  11.95  11.95  11.93   7081.0  1631318220   \n",
       "19497008  11.95  11.95  11.93  11.92   5663.0  1631318280   \n",
       "19497009  11.92  11.93  11.89  11.89  11113.0  1631318340   \n",
       "\n",
       "                     formated time ticker  autofilled  \n",
       "0        2021-10-01 11:13:00+00:00   COMP       False  \n",
       "1        2021-10-01 11:14:00+00:00   COMP        True  \n",
       "2        2021-10-01 11:15:00+00:00   COMP        True  \n",
       "3        2021-10-01 11:16:00+00:00   COMP        True  \n",
       "4        2021-10-01 11:17:00+00:00   COMP        True  \n",
       "...                            ...    ...         ...  \n",
       "19497005 2021-09-10 23:55:00+00:00   ATER       False  \n",
       "19497006 2021-09-10 23:56:00+00:00   ATER       False  \n",
       "19497007 2021-09-10 23:57:00+00:00   ATER       False  \n",
       "19497008 2021-09-10 23:58:00+00:00   ATER       False  \n",
       "19497009 2021-09-10 23:59:00+00:00   ATER       False  \n",
       "\n",
       "[19497010 rows x 9 columns]"
      ]
     },
     "execution_count": 79,
     "metadata": {},
     "output_type": "execute_result"
    }
   ],
   "source": [
    "core = pd.read_hdf(f'intraday_data/2021-10-01.hd5', key='df')\n",
    "all_data = core.iloc[0:0]\n",
    "\n",
    "for file in files:\n",
    "    days_data_df = pd.read_hdf(f'intraday_data/{file}', key='df')\n",
    "    all_data = pd.concat([all_data, days_data_df], ignore_index=True)\n",
    "all_data"
   ]
  },
  {
   "cell_type": "code",
   "execution_count": 115,
   "id": "ceee68d4",
   "metadata": {},
   "outputs": [],
   "source": [
    "AMZN_only = all_data[all_data['ticker'] == 'AMZN']"
   ]
  },
  {
   "cell_type": "code",
   "execution_count": 116,
   "id": "0a761787",
   "metadata": {},
   "outputs": [
    {
     "name": "stderr",
     "output_type": "stream",
     "text": [
      "<ipython-input-116-68184b076d4a>:1: SettingWithCopyWarning: \n",
      "A value is trying to be set on a copy of a slice from a DataFrame.\n",
      "Try using .loc[row_indexer,col_indexer] = value instead\n",
      "\n",
      "See the caveats in the documentation: https://pandas.pydata.org/pandas-docs/stable/user_guide/indexing.html#returning-a-view-versus-a-copy\n",
      "  AMZN_only['datetime'] = AMZN_only['time'].apply(lambda x: datetime.fromtimestamp(x))\n"
     ]
    }
   ],
   "source": [
    "AMZN_only['datetime'] = AMZN_only['time'].apply(lambda x: datetime.fromtimestamp(x))"
   ]
  },
  {
   "cell_type": "code",
   "execution_count": 117,
   "id": "885e7b31",
   "metadata": {},
   "outputs": [
    {
     "data": {
      "text/plain": [
       "datetime.datetime(2021, 8, 27, 23, 44, 59)"
      ]
     },
     "execution_count": 117,
     "metadata": {},
     "output_type": "execute_result"
    }
   ],
   "source": [
    "datetime.fromtimestamp(1630097099)"
   ]
  },
  {
   "cell_type": "code",
   "execution_count": 118,
   "id": "d879ed4c",
   "metadata": {},
   "outputs": [
    {
     "data": {
      "text/html": [
       "<div>\n",
       "<style scoped>\n",
       "    .dataframe tbody tr th:only-of-type {\n",
       "        vertical-align: middle;\n",
       "    }\n",
       "\n",
       "    .dataframe tbody tr th {\n",
       "        vertical-align: top;\n",
       "    }\n",
       "\n",
       "    .dataframe thead th {\n",
       "        text-align: right;\n",
       "    }\n",
       "</style>\n",
       "<table border=\"1\" class=\"dataframe\">\n",
       "  <thead>\n",
       "    <tr style=\"text-align: right;\">\n",
       "      <th></th>\n",
       "      <th>open</th>\n",
       "      <th>high</th>\n",
       "      <th>close</th>\n",
       "      <th>low</th>\n",
       "      <th>volume</th>\n",
       "      <th>time</th>\n",
       "      <th>formated time</th>\n",
       "      <th>ticker</th>\n",
       "      <th>autofilled</th>\n",
       "      <th>datetime</th>\n",
       "    </tr>\n",
       "  </thead>\n",
       "  <tbody>\n",
       "    <tr>\n",
       "      <th>140332</th>\n",
       "      <td>3274.06</td>\n",
       "      <td>3274.06</td>\n",
       "      <td>3274.06</td>\n",
       "      <td>3274.06</td>\n",
       "      <td>266.0</td>\n",
       "      <td>1633075200</td>\n",
       "      <td>2021-10-01 08:00:00+00:00</td>\n",
       "      <td>AMZN</td>\n",
       "      <td>False</td>\n",
       "      <td>2021-10-01 11:00:00</td>\n",
       "    </tr>\n",
       "    <tr>\n",
       "      <th>140333</th>\n",
       "      <td>3274.06</td>\n",
       "      <td>NaN</td>\n",
       "      <td>3274.06</td>\n",
       "      <td>NaN</td>\n",
       "      <td>NaN</td>\n",
       "      <td>1633075260</td>\n",
       "      <td>2021-10-01 08:01:00+00:00</td>\n",
       "      <td>AMZN</td>\n",
       "      <td>True</td>\n",
       "      <td>2021-10-01 11:01:00</td>\n",
       "    </tr>\n",
       "    <tr>\n",
       "      <th>140334</th>\n",
       "      <td>3274.06</td>\n",
       "      <td>NaN</td>\n",
       "      <td>3274.06</td>\n",
       "      <td>NaN</td>\n",
       "      <td>NaN</td>\n",
       "      <td>1633075320</td>\n",
       "      <td>2021-10-01 08:02:00+00:00</td>\n",
       "      <td>AMZN</td>\n",
       "      <td>True</td>\n",
       "      <td>2021-10-01 11:02:00</td>\n",
       "    </tr>\n",
       "    <tr>\n",
       "      <th>140335</th>\n",
       "      <td>3274.06</td>\n",
       "      <td>NaN</td>\n",
       "      <td>3274.06</td>\n",
       "      <td>NaN</td>\n",
       "      <td>NaN</td>\n",
       "      <td>1633075380</td>\n",
       "      <td>2021-10-01 08:03:00+00:00</td>\n",
       "      <td>AMZN</td>\n",
       "      <td>True</td>\n",
       "      <td>2021-10-01 11:03:00</td>\n",
       "    </tr>\n",
       "    <tr>\n",
       "      <th>140336</th>\n",
       "      <td>3274.06</td>\n",
       "      <td>NaN</td>\n",
       "      <td>3274.06</td>\n",
       "      <td>NaN</td>\n",
       "      <td>NaN</td>\n",
       "      <td>1633075440</td>\n",
       "      <td>2021-10-01 08:04:00+00:00</td>\n",
       "      <td>AMZN</td>\n",
       "      <td>True</td>\n",
       "      <td>2021-10-01 11:04:00</td>\n",
       "    </tr>\n",
       "    <tr>\n",
       "      <th>140337</th>\n",
       "      <td>3274.06</td>\n",
       "      <td>NaN</td>\n",
       "      <td>3274.06</td>\n",
       "      <td>NaN</td>\n",
       "      <td>NaN</td>\n",
       "      <td>1633075500</td>\n",
       "      <td>2021-10-01 08:05:00+00:00</td>\n",
       "      <td>AMZN</td>\n",
       "      <td>True</td>\n",
       "      <td>2021-10-01 11:05:00</td>\n",
       "    </tr>\n",
       "    <tr>\n",
       "      <th>140338</th>\n",
       "      <td>3274.06</td>\n",
       "      <td>NaN</td>\n",
       "      <td>3274.06</td>\n",
       "      <td>NaN</td>\n",
       "      <td>NaN</td>\n",
       "      <td>1633075560</td>\n",
       "      <td>2021-10-01 08:06:00+00:00</td>\n",
       "      <td>AMZN</td>\n",
       "      <td>True</td>\n",
       "      <td>2021-10-01 11:06:00</td>\n",
       "    </tr>\n",
       "    <tr>\n",
       "      <th>140339</th>\n",
       "      <td>3274.06</td>\n",
       "      <td>NaN</td>\n",
       "      <td>3274.06</td>\n",
       "      <td>NaN</td>\n",
       "      <td>NaN</td>\n",
       "      <td>1633075620</td>\n",
       "      <td>2021-10-01 08:07:00+00:00</td>\n",
       "      <td>AMZN</td>\n",
       "      <td>True</td>\n",
       "      <td>2021-10-01 11:07:00</td>\n",
       "    </tr>\n",
       "    <tr>\n",
       "      <th>140340</th>\n",
       "      <td>3274.06</td>\n",
       "      <td>NaN</td>\n",
       "      <td>3274.06</td>\n",
       "      <td>NaN</td>\n",
       "      <td>NaN</td>\n",
       "      <td>1633075680</td>\n",
       "      <td>2021-10-01 08:08:00+00:00</td>\n",
       "      <td>AMZN</td>\n",
       "      <td>True</td>\n",
       "      <td>2021-10-01 11:08:00</td>\n",
       "    </tr>\n",
       "    <tr>\n",
       "      <th>140341</th>\n",
       "      <td>3274.06</td>\n",
       "      <td>NaN</td>\n",
       "      <td>3274.06</td>\n",
       "      <td>NaN</td>\n",
       "      <td>NaN</td>\n",
       "      <td>1633075740</td>\n",
       "      <td>2021-10-01 08:09:00+00:00</td>\n",
       "      <td>AMZN</td>\n",
       "      <td>True</td>\n",
       "      <td>2021-10-01 11:09:00</td>\n",
       "    </tr>\n",
       "  </tbody>\n",
       "</table>\n",
       "</div>"
      ],
      "text/plain": [
       "           open     high    close      low  volume        time  \\\n",
       "140332  3274.06  3274.06  3274.06  3274.06   266.0  1633075200   \n",
       "140333  3274.06      NaN  3274.06      NaN     NaN  1633075260   \n",
       "140334  3274.06      NaN  3274.06      NaN     NaN  1633075320   \n",
       "140335  3274.06      NaN  3274.06      NaN     NaN  1633075380   \n",
       "140336  3274.06      NaN  3274.06      NaN     NaN  1633075440   \n",
       "140337  3274.06      NaN  3274.06      NaN     NaN  1633075500   \n",
       "140338  3274.06      NaN  3274.06      NaN     NaN  1633075560   \n",
       "140339  3274.06      NaN  3274.06      NaN     NaN  1633075620   \n",
       "140340  3274.06      NaN  3274.06      NaN     NaN  1633075680   \n",
       "140341  3274.06      NaN  3274.06      NaN     NaN  1633075740   \n",
       "\n",
       "                   formated time ticker  autofilled            datetime  \n",
       "140332 2021-10-01 08:00:00+00:00   AMZN       False 2021-10-01 11:00:00  \n",
       "140333 2021-10-01 08:01:00+00:00   AMZN        True 2021-10-01 11:01:00  \n",
       "140334 2021-10-01 08:02:00+00:00   AMZN        True 2021-10-01 11:02:00  \n",
       "140335 2021-10-01 08:03:00+00:00   AMZN        True 2021-10-01 11:03:00  \n",
       "140336 2021-10-01 08:04:00+00:00   AMZN        True 2021-10-01 11:04:00  \n",
       "140337 2021-10-01 08:05:00+00:00   AMZN        True 2021-10-01 11:05:00  \n",
       "140338 2021-10-01 08:06:00+00:00   AMZN        True 2021-10-01 11:06:00  \n",
       "140339 2021-10-01 08:07:00+00:00   AMZN        True 2021-10-01 11:07:00  \n",
       "140340 2021-10-01 08:08:00+00:00   AMZN        True 2021-10-01 11:08:00  \n",
       "140341 2021-10-01 08:09:00+00:00   AMZN        True 2021-10-01 11:09:00  "
      ]
     },
     "execution_count": 118,
     "metadata": {},
     "output_type": "execute_result"
    }
   ],
   "source": [
    "AMZN_only.head(10)"
   ]
  },
  {
   "cell_type": "code",
   "execution_count": 119,
   "id": "1815f870",
   "metadata": {},
   "outputs": [],
   "source": [
    "#AMZN_1 = AMZN_only[(AMZN_only['time'] < (AMZN_news.iloc[0, 11] + 60*10))\n",
    "#                   & (AMZN_only['time'] > (AMZN_news.iloc[0, 11] - 60*60*24))]\n",
    "#AMZN_2 = AMZN_only[(AMZN_only['time'] < (AMZN_news.iloc[2, 11] + 60*10))\n",
    "#                   & (AMZN_only['time'] > (AMZN_news.iloc[2, 11] - 60*60*24))]"
   ]
  },
  {
   "cell_type": "markdown",
   "id": "db2e4bd1",
   "metadata": {},
   "source": [
    "Получу из нашего датасета информацию о цене тикера спустя 10 минут после новости и за день до этого"
   ]
  },
  {
   "cell_type": "code",
   "execution_count": 120,
   "id": "775777cc",
   "metadata": {},
   "outputs": [],
   "source": [
    "AMZN = AMZN_only[(AMZN_only['time'] < (AMZN_news.iloc[2, 11] + 60*10))\n",
    "                & (AMZN_only['time'] > (AMZN_news.iloc[2, 11] - 60*60*24))]"
   ]
  },
  {
   "cell_type": "code",
   "execution_count": 122,
   "id": "366419b6",
   "metadata": {},
   "outputs": [
    {
     "name": "stderr",
     "output_type": "stream",
     "text": [
      "<ipython-input-122-4afedf322a66>:1: SettingWithCopyWarning: \n",
      "A value is trying to be set on a copy of a slice from a DataFrame.\n",
      "Try using .loc[row_indexer,col_indexer] = value instead\n",
      "\n",
      "See the caveats in the documentation: https://pandas.pydata.org/pandas-docs/stable/user_guide/indexing.html#returning-a-view-versus-a-copy\n",
      "  AMZN['datetime'] = AMZN['datetime'].apply(lambda x: x.time())\n"
     ]
    }
   ],
   "source": [
    "AMZN['datetime'] = AMZN['datetime'].apply(lambda x: x.time())"
   ]
  },
  {
   "cell_type": "code",
   "execution_count": 123,
   "id": "3e2fca4f",
   "metadata": {},
   "outputs": [
    {
     "data": {
      "text/html": [
       "<div>\n",
       "<style scoped>\n",
       "    .dataframe tbody tr th:only-of-type {\n",
       "        vertical-align: middle;\n",
       "    }\n",
       "\n",
       "    .dataframe tbody tr th {\n",
       "        vertical-align: top;\n",
       "    }\n",
       "\n",
       "    .dataframe thead th {\n",
       "        text-align: right;\n",
       "    }\n",
       "</style>\n",
       "<table border=\"1\" class=\"dataframe\">\n",
       "  <thead>\n",
       "    <tr style=\"text-align: right;\">\n",
       "      <th></th>\n",
       "      <th>open</th>\n",
       "      <th>high</th>\n",
       "      <th>close</th>\n",
       "      <th>low</th>\n",
       "      <th>volume</th>\n",
       "      <th>time</th>\n",
       "      <th>formated time</th>\n",
       "      <th>ticker</th>\n",
       "      <th>autofilled</th>\n",
       "    </tr>\n",
       "    <tr>\n",
       "      <th>datetime</th>\n",
       "      <th></th>\n",
       "      <th></th>\n",
       "      <th></th>\n",
       "      <th></th>\n",
       "      <th></th>\n",
       "      <th></th>\n",
       "      <th></th>\n",
       "      <th></th>\n",
       "      <th></th>\n",
       "    </tr>\n",
       "  </thead>\n",
       "  <tbody>\n",
       "    <tr>\n",
       "      <th>13:58:00</th>\n",
       "      <td>3377.980</td>\n",
       "      <td>3377.980</td>\n",
       "      <td>3377.980</td>\n",
       "      <td>3377.9800</td>\n",
       "      <td>223.0</td>\n",
       "      <td>1632221880</td>\n",
       "      <td>2021-09-21 10:58:00+00:00</td>\n",
       "      <td>AMZN</td>\n",
       "      <td>False</td>\n",
       "    </tr>\n",
       "    <tr>\n",
       "      <th>13:59:00</th>\n",
       "      <td>3377.980</td>\n",
       "      <td>NaN</td>\n",
       "      <td>3377.980</td>\n",
       "      <td>NaN</td>\n",
       "      <td>NaN</td>\n",
       "      <td>1632221940</td>\n",
       "      <td>2021-09-21 10:59:00+00:00</td>\n",
       "      <td>AMZN</td>\n",
       "      <td>True</td>\n",
       "    </tr>\n",
       "    <tr>\n",
       "      <th>14:00:00</th>\n",
       "      <td>3378.720</td>\n",
       "      <td>3378.720</td>\n",
       "      <td>3378.720</td>\n",
       "      <td>3378.7200</td>\n",
       "      <td>796.0</td>\n",
       "      <td>1632222000</td>\n",
       "      <td>2021-09-21 11:00:00+00:00</td>\n",
       "      <td>AMZN</td>\n",
       "      <td>False</td>\n",
       "    </tr>\n",
       "    <tr>\n",
       "      <th>14:01:00</th>\n",
       "      <td>3379.010</td>\n",
       "      <td>3379.010</td>\n",
       "      <td>3379.000</td>\n",
       "      <td>3379.0000</td>\n",
       "      <td>1004.0</td>\n",
       "      <td>1632222060</td>\n",
       "      <td>2021-09-21 11:01:00+00:00</td>\n",
       "      <td>AMZN</td>\n",
       "      <td>False</td>\n",
       "    </tr>\n",
       "    <tr>\n",
       "      <th>14:02:00</th>\n",
       "      <td>3379.000</td>\n",
       "      <td>NaN</td>\n",
       "      <td>3379.000</td>\n",
       "      <td>NaN</td>\n",
       "      <td>NaN</td>\n",
       "      <td>1632222120</td>\n",
       "      <td>2021-09-21 11:02:00+00:00</td>\n",
       "      <td>AMZN</td>\n",
       "      <td>True</td>\n",
       "    </tr>\n",
       "    <tr>\n",
       "      <th>...</th>\n",
       "      <td>...</td>\n",
       "      <td>...</td>\n",
       "      <td>...</td>\n",
       "      <td>...</td>\n",
       "      <td>...</td>\n",
       "      <td>...</td>\n",
       "      <td>...</td>\n",
       "      <td>...</td>\n",
       "      <td>...</td>\n",
       "    </tr>\n",
       "    <tr>\n",
       "      <th>18:54:00</th>\n",
       "      <td>3372.720</td>\n",
       "      <td>3373.705</td>\n",
       "      <td>3373.705</td>\n",
       "      <td>3372.7200</td>\n",
       "      <td>3711.0</td>\n",
       "      <td>1632239640</td>\n",
       "      <td>2021-09-21 15:54:00+00:00</td>\n",
       "      <td>AMZN</td>\n",
       "      <td>False</td>\n",
       "    </tr>\n",
       "    <tr>\n",
       "      <th>18:55:00</th>\n",
       "      <td>3374.400</td>\n",
       "      <td>3375.385</td>\n",
       "      <td>3374.755</td>\n",
       "      <td>3374.4000</td>\n",
       "      <td>2638.0</td>\n",
       "      <td>1632239700</td>\n",
       "      <td>2021-09-21 15:55:00+00:00</td>\n",
       "      <td>AMZN</td>\n",
       "      <td>False</td>\n",
       "    </tr>\n",
       "    <tr>\n",
       "      <th>18:56:00</th>\n",
       "      <td>3375.400</td>\n",
       "      <td>3376.410</td>\n",
       "      <td>3375.380</td>\n",
       "      <td>3374.2166</td>\n",
       "      <td>4212.0</td>\n",
       "      <td>1632239760</td>\n",
       "      <td>2021-09-21 15:56:00+00:00</td>\n",
       "      <td>AMZN</td>\n",
       "      <td>False</td>\n",
       "    </tr>\n",
       "    <tr>\n",
       "      <th>18:57:00</th>\n",
       "      <td>3376.675</td>\n",
       "      <td>3376.675</td>\n",
       "      <td>3375.500</td>\n",
       "      <td>3375.3200</td>\n",
       "      <td>2024.0</td>\n",
       "      <td>1632239820</td>\n",
       "      <td>2021-09-21 15:57:00+00:00</td>\n",
       "      <td>AMZN</td>\n",
       "      <td>False</td>\n",
       "    </tr>\n",
       "    <tr>\n",
       "      <th>18:58:00</th>\n",
       "      <td>3375.080</td>\n",
       "      <td>3375.080</td>\n",
       "      <td>3372.735</td>\n",
       "      <td>3372.7350</td>\n",
       "      <td>3487.0</td>\n",
       "      <td>1632239880</td>\n",
       "      <td>2021-09-21 15:58:00+00:00</td>\n",
       "      <td>AMZN</td>\n",
       "      <td>False</td>\n",
       "    </tr>\n",
       "  </tbody>\n",
       "</table>\n",
       "<p>301 rows × 9 columns</p>\n",
       "</div>"
      ],
      "text/plain": [
       "              open      high     close        low  volume        time  \\\n",
       "datetime                                                                \n",
       "13:58:00  3377.980  3377.980  3377.980  3377.9800   223.0  1632221880   \n",
       "13:59:00  3377.980       NaN  3377.980        NaN     NaN  1632221940   \n",
       "14:00:00  3378.720  3378.720  3378.720  3378.7200   796.0  1632222000   \n",
       "14:01:00  3379.010  3379.010  3379.000  3379.0000  1004.0  1632222060   \n",
       "14:02:00  3379.000       NaN  3379.000        NaN     NaN  1632222120   \n",
       "...            ...       ...       ...        ...     ...         ...   \n",
       "18:54:00  3372.720  3373.705  3373.705  3372.7200  3711.0  1632239640   \n",
       "18:55:00  3374.400  3375.385  3374.755  3374.4000  2638.0  1632239700   \n",
       "18:56:00  3375.400  3376.410  3375.380  3374.2166  4212.0  1632239760   \n",
       "18:57:00  3376.675  3376.675  3375.500  3375.3200  2024.0  1632239820   \n",
       "18:58:00  3375.080  3375.080  3372.735  3372.7350  3487.0  1632239880   \n",
       "\n",
       "                     formated time ticker  autofilled  \n",
       "datetime                                               \n",
       "13:58:00 2021-09-21 10:58:00+00:00   AMZN       False  \n",
       "13:59:00 2021-09-21 10:59:00+00:00   AMZN        True  \n",
       "14:00:00 2021-09-21 11:00:00+00:00   AMZN       False  \n",
       "14:01:00 2021-09-21 11:01:00+00:00   AMZN       False  \n",
       "14:02:00 2021-09-21 11:02:00+00:00   AMZN        True  \n",
       "...                            ...    ...         ...  \n",
       "18:54:00 2021-09-21 15:54:00+00:00   AMZN       False  \n",
       "18:55:00 2021-09-21 15:55:00+00:00   AMZN       False  \n",
       "18:56:00 2021-09-21 15:56:00+00:00   AMZN       False  \n",
       "18:57:00 2021-09-21 15:57:00+00:00   AMZN       False  \n",
       "18:58:00 2021-09-21 15:58:00+00:00   AMZN       False  \n",
       "\n",
       "[301 rows x 9 columns]"
      ]
     },
     "execution_count": 123,
     "metadata": {},
     "output_type": "execute_result"
    }
   ],
   "source": [
    "AMZN.set_index(AMZN['datetime']).drop(columns = ['datetime'])"
   ]
  },
  {
   "cell_type": "markdown",
   "id": "815bedf7",
   "metadata": {},
   "source": [
    "Изображу график поведения тикера в выделенный момент времени"
   ]
  },
  {
   "cell_type": "code",
   "execution_count": 135,
   "id": "263ee0ef",
   "metadata": {
    "scrolled": true
   },
   "outputs": [
    {
     "data": {
      "image/png": "[encoded data removed]",
      "text/plain": [
       "<Figure size 864x432 with 1 Axes>"
      ]
     },
     "metadata": {
      "needs_background": "light"
     },
     "output_type": "display_data"
    }
   ],
   "source": [
    "plot_fields =  ['close', 'open']\n",
    "\n",
    "fig = plt.figure(figsize=(12, 6))\n",
    "plt.plot(AMZN['time'], AMZN[plot_fields])\n",
    "plt.legend(plot_fields)\n",
    "plt.title(\"AMZN price\")\n",
    "\n",
    "plt.show()"
   ]
  },
  {
   "cell_type": "markdown",
   "id": "833afa8f",
   "metadata": {},
   "source": [
    "Работать с ценами не очень удобно, перейду к доходностям"
   ]
  },
  {
   "cell_type": "code",
   "execution_count": 134,
   "id": "a579464b",
   "metadata": {},
   "outputs": [
    {
     "name": "stderr",
     "output_type": "stream",
     "text": [
      "<ipython-input-134-2f5225d6422a>:1: SettingWithCopyWarning: \n",
      "A value is trying to be set on a copy of a slice from a DataFrame.\n",
      "Try using .loc[row_indexer,col_indexer] = value instead\n",
      "\n",
      "See the caveats in the documentation: https://pandas.pydata.org/pandas-docs/stable/user_guide/indexing.html#returning-a-view-versus-a-copy\n",
      "  AMZN['returns'] = AMZN.loc[:, 'close'].pct_change()\n"
     ]
    }
   ],
   "source": [
    "AMZN['returns'] = AMZN.loc[:, 'close'].pct_change()"
   ]
  },
  {
   "cell_type": "code",
   "execution_count": 143,
   "id": "c769f8a2",
   "metadata": {
    "scrolled": true
   },
   "outputs": [
    {
     "data": {
      "image/png": "[encoded data removed]",
      "text/plain": [
       "<Figure size 864x432 with 1 Axes>"
      ]
     },
     "metadata": {
      "needs_background": "light"
     },
     "output_type": "display_data"
    }
   ],
   "source": [
    "fig = plt.figure(figsize=(12, 6))\n",
    "\n",
    "plt.plot(AMZN['time'], AMZN['returns'])\n",
    "plt.legend(plot_fields)\n",
    "plt.title(\"AMZN price returns\")\n",
    "\n",
    "plt.show()"
   ]
  },
  {
   "cell_type": "markdown",
   "id": "b8ec9ec9",
   "metadata": {},
   "source": [
    "Посмотрю на график функции автокорреляции"
   ]
  },
  {
   "cell_type": "code",
   "execution_count": 144,
   "id": "93f99d9f",
   "metadata": {},
   "outputs": [],
   "source": [
    "from statsmodels.tsa.stattools import acf\n",
    "from statsmodels.graphics.tsaplots import plot_acf"
   ]
  },
  {
   "cell_type": "code",
   "execution_count": 149,
   "id": "8adfc0ed",
   "metadata": {
    "scrolled": true
   },
   "outputs": [
    {
     "data": {
      "image/png": "[encoded data removed]",
      "text/plain": [
       "<Figure size 432x288 with 1 Axes>"
      ]
     },
     "metadata": {
      "needs_background": "light"
     },
     "output_type": "display_data"
    }
   ],
   "source": [
    "plot_acf(AMZN['returns'].iloc[1:], alpha=0.05, lags=40)\n",
    "plt.show()"
   ]
  },
  {
   "cell_type": "markdown",
   "id": "6239082a",
   "metadata": {},
   "source": [
    "Как видно, даже на 27 лаге автокорреляция практически выходит за доверительный интервал (из-за того что данные поминутные), поэтому в модели авторегрессии возьму побольше лагов"
   ]
  },
  {
   "cell_type": "code",
   "execution_count": 166,
   "id": "5cec1de5",
   "metadata": {},
   "outputs": [],
   "source": [
    "from sklearn.linear_model import LinearRegression"
   ]
  },
  {
   "cell_type": "code",
   "execution_count": 164,
   "id": "3271ef11",
   "metadata": {},
   "outputs": [
    {
     "name": "stderr",
     "output_type": "stream",
     "text": [
      "<ipython-input-164-2e8a190923c2>:2: SettingWithCopyWarning: \n",
      "A value is trying to be set on a copy of a slice from a DataFrame.\n",
      "Try using .loc[row_indexer,col_indexer] = value instead\n",
      "\n",
      "See the caveats in the documentation: https://pandas.pydata.org/pandas-docs/stable/user_guide/indexing.html#returning-a-view-versus-a-copy\n",
      "  AMZN[f'lag_number_{i}'] = AMZN['returns'].shift(i)\n"
     ]
    }
   ],
   "source": [
    "for i in range(1, 50):\n",
    "    AMZN[f'lag_number_{i}'] = AMZN['returns'].shift(i)"
   ]
  },
  {
   "cell_type": "markdown",
   "id": "deb4b429",
   "metadata": {},
   "source": [
    "Строим модель авторегрессии:"
   ]
  },
  {
   "cell_type": "code",
   "execution_count": 174,
   "id": "134bc988",
   "metadata": {},
   "outputs": [],
   "source": [
    "X = AMZN.dropna()[[f'lag_number_{i}' for i in range(1, 50)]]\n",
    "y = AMZN.dropna()['returns']\n",
    "X_train, y_train, X_test, y_test = X.iloc[:-11], y.iloc[:-11], X.iloc[-10:], y.iloc[-10:]"
   ]
  },
  {
   "cell_type": "code",
   "execution_count": 175,
   "id": "f3277960",
   "metadata": {},
   "outputs": [],
   "source": [
    "reg = LinearRegression().fit(X_train, y_train)"
   ]
  },
  {
   "cell_type": "code",
   "execution_count": 180,
   "id": "7706da4f",
   "metadata": {},
   "outputs": [],
   "source": [
    "y_res = reg.predict(X_test)"
   ]
  },
  {
   "cell_type": "code",
   "execution_count": 181,
   "id": "0f091b4e",
   "metadata": {},
   "outputs": [],
   "source": [
    "from sklearn.metrics import mean_squared_error"
   ]
  },
  {
   "cell_type": "code",
   "execution_count": 182,
   "id": "4534a00b",
   "metadata": {},
   "outputs": [
    {
     "data": {
      "text/plain": [
       "6.500923961584698e-07"
      ]
     },
     "execution_count": 182,
     "metadata": {},
     "output_type": "execute_result"
    }
   ],
   "source": [
    "mean_squared_error(y_res, y_test)"
   ]
  },
  {
   "cell_type": "markdown",
   "id": "b1668c27",
   "metadata": {},
   "source": [
    "В целом, ошибка получилась небольшой. Можно считать, что модель удачная"
   ]
  },
  {
   "cell_type": "code",
   "execution_count": null,
   "id": "3d222fc1-3796-4b2a-910b-27752b763d5c",
   "metadata": {},
   "outputs": [],
   "source": []
  }
 ],
 "metadata": {
  "kernelspec": {
   "display_name": "Python 3",
   "language": "python",
   "name": "python3"
  },
  "language_info": {
   "codemirror_mode": {
    "name": "ipython",
    "version": 3
   },
   "file_extension": ".py",
   "mimetype": "text/x-python",
   "name": "python",
   "nbconvert_exporter": "python",
   "pygments_lexer": "ipython3",
   "version": "3.7.10"
  }
 },
 "nbformat": 4,
 "nbformat_minor": 5
}
