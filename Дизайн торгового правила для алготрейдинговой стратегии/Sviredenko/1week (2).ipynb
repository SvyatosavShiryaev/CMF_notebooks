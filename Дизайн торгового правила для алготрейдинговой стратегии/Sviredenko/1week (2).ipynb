{
 "cells": [
  {
   "cell_type": "code",
   "execution_count": 1,
   "metadata": {},
   "outputs": [],
   "source": [
    "import pandas as pd\n",
    "import numpy as np\n",
    "import h5py\n",
    "import matplotlib.pyplot as plt\n",
    "import glob\n",
    "import warnings\n",
    "warnings.filterwarnings('ignore')"
   ]
  },
  {
   "cell_type": "code",
   "execution_count": 2,
   "metadata": {},
   "outputs": [
    {
     "name": "stdout",
     "output_type": "stream",
     "text": [
      "<class 'pandas.core.frame.DataFrame'>\n",
      "Int64Index: 52622 entries, 0 to 54760\n",
      "Data columns (total 13 columns):\n",
      " #   Column         Non-Null Count  Dtype \n",
      "---  ------         --------------  ----- \n",
      " 0   ticker         52622 non-null  object\n",
      " 1   bidPrice       52622 non-null  object\n",
      " 2   bidSize        52622 non-null  object\n",
      " 3   askPrice       52622 non-null  object\n",
      " 4   askSize        52622 non-null  object\n",
      " 5   lastUpdated    52622 non-null  object\n",
      " 6   lastSalePrice  52622 non-null  object\n",
      " 7   lastSaleSize   52622 non-null  object\n",
      " 8   lastSaleTime   52622 non-null  object\n",
      " 9   volume         52622 non-null  object\n",
      " 10  current_price  52622 non-null  object\n",
      " 11  timestamp      52622 non-null  object\n",
      " 12  news_id        52622 non-null  object\n",
      "dtypes: object(13)\n",
      "memory usage: 5.6+ MB\n"
     ]
    },
    {
     "data": {
      "text/html": [
       "<div>\n",
       "<style scoped>\n",
       "    .dataframe tbody tr th:only-of-type {\n",
       "        vertical-align: middle;\n",
       "    }\n",
       "\n",
       "    .dataframe tbody tr th {\n",
       "        vertical-align: top;\n",
       "    }\n",
       "\n",
       "    .dataframe thead th {\n",
       "        text-align: right;\n",
       "    }\n",
       "</style>\n",
       "<table border=\"1\" class=\"dataframe\">\n",
       "  <thead>\n",
       "    <tr style=\"text-align: right;\">\n",
       "      <th></th>\n",
       "      <th>ticker</th>\n",
       "      <th>bidPrice</th>\n",
       "      <th>bidSize</th>\n",
       "      <th>askPrice</th>\n",
       "      <th>askSize</th>\n",
       "      <th>lastUpdated</th>\n",
       "      <th>lastSalePrice</th>\n",
       "      <th>lastSaleSize</th>\n",
       "      <th>lastSaleTime</th>\n",
       "      <th>volume</th>\n",
       "      <th>current_price</th>\n",
       "      <th>timestamp</th>\n",
       "      <th>news_id</th>\n",
       "    </tr>\n",
       "  </thead>\n",
       "  <tbody>\n",
       "    <tr>\n",
       "      <th>0</th>\n",
       "      <td>VS</td>\n",
       "      <td>0.0</td>\n",
       "      <td>0.0</td>\n",
       "      <td>0.0</td>\n",
       "      <td>0.0</td>\n",
       "      <td>1629316800000.0</td>\n",
       "      <td>4.33</td>\n",
       "      <td>6.0</td>\n",
       "      <td>1629316790023</td>\n",
       "      <td>46.0</td>\n",
       "      <td>4.24</td>\n",
       "      <td>1629716406</td>\n",
       "      <td>0000d467d1a52a6a84fc8b30adbe8ec2</td>\n",
       "    </tr>\n",
       "    <tr>\n",
       "      <th>1</th>\n",
       "      <td>VSSYW</td>\n",
       "      <td>0.0</td>\n",
       "      <td>0.0</td>\n",
       "      <td>0.0</td>\n",
       "      <td>0.0</td>\n",
       "      <td>1628193600000.0</td>\n",
       "      <td>1.55</td>\n",
       "      <td>25.0</td>\n",
       "      <td>1628178157384</td>\n",
       "      <td>25.0</td>\n",
       "      <td>2.08</td>\n",
       "      <td>1629716406</td>\n",
       "      <td>0000d467d1a52a6a84fc8b30adbe8ec2</td>\n",
       "    </tr>\n",
       "    <tr>\n",
       "      <th>3</th>\n",
       "      <td>BTBT</td>\n",
       "      <td>0.0</td>\n",
       "      <td>0.0</td>\n",
       "      <td>0.0</td>\n",
       "      <td>0.0</td>\n",
       "      <td>1632513600000.0</td>\n",
       "      <td>9.44</td>\n",
       "      <td>1.0</td>\n",
       "      <td>1632513582057</td>\n",
       "      <td>38333.0</td>\n",
       "      <td>9.46</td>\n",
       "      <td>1632747622</td>\n",
       "      <td>0007ea6c22fc24e1f34021185ad07e4e</td>\n",
       "    </tr>\n",
       "    <tr>\n",
       "      <th>4</th>\n",
       "      <td>CAN</td>\n",
       "      <td>0.0</td>\n",
       "      <td>0.0</td>\n",
       "      <td>0.0</td>\n",
       "      <td>0.0</td>\n",
       "      <td>1632515322537</td>\n",
       "      <td>6.16</td>\n",
       "      <td>80.0</td>\n",
       "      <td>1632514484013</td>\n",
       "      <td>453506.0</td>\n",
       "      <td>6.11</td>\n",
       "      <td>1632747622</td>\n",
       "      <td>0007ea6c22fc24e1f34021185ad07e4e</td>\n",
       "    </tr>\n",
       "    <tr>\n",
       "      <th>5</th>\n",
       "      <td>HVBT</td>\n",
       "      <td>0.0</td>\n",
       "      <td>0.0</td>\n",
       "      <td>0.0</td>\n",
       "      <td>0.0</td>\n",
       "      <td>1631563200000.0</td>\n",
       "      <td>3.06</td>\n",
       "      <td>300.0</td>\n",
       "      <td>1631563186154</td>\n",
       "      <td>33347.0</td>\n",
       "      <td>3.06</td>\n",
       "      <td>1632747622</td>\n",
       "      <td>0007ea6c22fc24e1f34021185ad07e4e</td>\n",
       "    </tr>\n",
       "    <tr>\n",
       "      <th>6</th>\n",
       "      <td>OLB</td>\n",
       "      <td>0.0</td>\n",
       "      <td>0.0</td>\n",
       "      <td>0.0</td>\n",
       "      <td>0.0</td>\n",
       "      <td>1632513600000.0</td>\n",
       "      <td>4.23</td>\n",
       "      <td>100.0</td>\n",
       "      <td>1632513598460.0</td>\n",
       "      <td>3823.0</td>\n",
       "      <td>4.25</td>\n",
       "      <td>1632747622</td>\n",
       "      <td>0007ea6c22fc24e1f34021185ad07e4e</td>\n",
       "    </tr>\n",
       "    <tr>\n",
       "      <th>7</th>\n",
       "      <td>BBBY</td>\n",
       "      <td>0.0</td>\n",
       "      <td>0.0</td>\n",
       "      <td>0.0</td>\n",
       "      <td>0.0</td>\n",
       "      <td>1631649600272</td>\n",
       "      <td>23.82</td>\n",
       "      <td>6.0</td>\n",
       "      <td>1631649599149</td>\n",
       "      <td>62985.0</td>\n",
       "      <td>23.83</td>\n",
       "      <td>1631707209</td>\n",
       "      <td>00091f238ca72bd41d8baf14eb089f51</td>\n",
       "    </tr>\n",
       "    <tr>\n",
       "      <th>8</th>\n",
       "      <td>KFS</td>\n",
       "      <td>0.0</td>\n",
       "      <td>0.0</td>\n",
       "      <td>0.0</td>\n",
       "      <td>0.0</td>\n",
       "      <td>1633118400000.0</td>\n",
       "      <td>5.17</td>\n",
       "      <td>100.0</td>\n",
       "      <td>1633096381737</td>\n",
       "      <td>300.0</td>\n",
       "      <td>5.36</td>\n",
       "      <td>1633350615</td>\n",
       "      <td>000987a19572364448369fdaaf5d7d20</td>\n",
       "    </tr>\n",
       "    <tr>\n",
       "      <th>9</th>\n",
       "      <td>AFRM</td>\n",
       "      <td>0.0</td>\n",
       "      <td>0.0</td>\n",
       "      <td>0.0</td>\n",
       "      <td>0.0</td>\n",
       "      <td>1632254400987</td>\n",
       "      <td>108.105</td>\n",
       "      <td>28.0</td>\n",
       "      <td>1632254395027</td>\n",
       "      <td>189948.0</td>\n",
       "      <td>108.11</td>\n",
       "      <td>1632315622</td>\n",
       "      <td>000cd8ff9081aaf24065fa357b186b02</td>\n",
       "    </tr>\n",
       "    <tr>\n",
       "      <th>10</th>\n",
       "      <td>NATR</td>\n",
       "      <td>0.0</td>\n",
       "      <td>0.0</td>\n",
       "      <td>17.45</td>\n",
       "      <td>133.0</td>\n",
       "      <td>1630504790206</td>\n",
       "      <td>17.33</td>\n",
       "      <td>100.0</td>\n",
       "      <td>1630504717922</td>\n",
       "      <td>140.0</td>\n",
       "      <td>17.33</td>\n",
       "      <td>1630504816</td>\n",
       "      <td>000de19c850fb98b434e5adf871f6618</td>\n",
       "    </tr>\n",
       "    <tr>\n",
       "      <th>11</th>\n",
       "      <td>ACM</td>\n",
       "      <td>0.0</td>\n",
       "      <td>0.0</td>\n",
       "      <td>0.0</td>\n",
       "      <td>0.0</td>\n",
       "      <td>1632258418517</td>\n",
       "      <td>61.75</td>\n",
       "      <td>100.0</td>\n",
       "      <td>1632254399636</td>\n",
       "      <td>76629.0</td>\n",
       "      <td>61.75</td>\n",
       "      <td>1632308108</td>\n",
       "      <td>000eb81ec3db0f08717a220a835ee459</td>\n",
       "    </tr>\n",
       "    <tr>\n",
       "      <th>12</th>\n",
       "      <td>AYI</td>\n",
       "      <td>0.0</td>\n",
       "      <td>0.0</td>\n",
       "      <td>0.0</td>\n",
       "      <td>0.0</td>\n",
       "      <td>1633554906350.0</td>\n",
       "      <td>195.325</td>\n",
       "      <td>10.0</td>\n",
       "      <td>1633550391486</td>\n",
       "      <td>130428.0</td>\n",
       "      <td>195.55</td>\n",
       "      <td>1633613145</td>\n",
       "      <td>00116993bfe88f86d6ed6ebea7223946</td>\n",
       "    </tr>\n",
       "    <tr>\n",
       "      <th>13</th>\n",
       "      <td>GM</td>\n",
       "      <td>0.0</td>\n",
       "      <td>0.0</td>\n",
       "      <td>0.0</td>\n",
       "      <td>0.0</td>\n",
       "      <td>1629925195331</td>\n",
       "      <td>49.695</td>\n",
       "      <td>36.0</td>\n",
       "      <td>1629921597942</td>\n",
       "      <td>236830.0</td>\n",
       "      <td>49.7</td>\n",
       "      <td>1629939723</td>\n",
       "      <td>0012e7727394e60ef02ab76b3bf62a80</td>\n",
       "    </tr>\n",
       "    <tr>\n",
       "      <th>14</th>\n",
       "      <td>AAPL</td>\n",
       "      <td>0.0</td>\n",
       "      <td>0.0</td>\n",
       "      <td>0.0</td>\n",
       "      <td>0.0</td>\n",
       "      <td>1630415703303</td>\n",
       "      <td>152.54</td>\n",
       "      <td>50.0</td>\n",
       "      <td>1630415650257</td>\n",
       "      <td>1807.0</td>\n",
       "      <td>153.12</td>\n",
       "      <td>1630415773</td>\n",
       "      <td>0015169a4c7587eadf11c465340f3b26</td>\n",
       "    </tr>\n",
       "    <tr>\n",
       "      <th>15</th>\n",
       "      <td>CVX</td>\n",
       "      <td>0.0</td>\n",
       "      <td>0.0</td>\n",
       "      <td>0.0</td>\n",
       "      <td>0.0</td>\n",
       "      <td>1630353738389</td>\n",
       "      <td>98.36</td>\n",
       "      <td>7.0</td>\n",
       "      <td>1630353598427</td>\n",
       "      <td>166683.0</td>\n",
       "      <td>98.39</td>\n",
       "      <td>1630415773</td>\n",
       "      <td>0015169a4c7587eadf11c465340f3b26</td>\n",
       "    </tr>\n",
       "  </tbody>\n",
       "</table>\n",
       "</div>"
      ],
      "text/plain": [
       "   ticker bidPrice bidSize askPrice askSize      lastUpdated lastSalePrice  \\\n",
       "0      VS      0.0     0.0      0.0     0.0  1629316800000.0          4.33   \n",
       "1   VSSYW      0.0     0.0      0.0     0.0  1628193600000.0          1.55   \n",
       "3    BTBT      0.0     0.0      0.0     0.0  1632513600000.0          9.44   \n",
       "4     CAN      0.0     0.0      0.0     0.0    1632515322537          6.16   \n",
       "5    HVBT      0.0     0.0      0.0     0.0  1631563200000.0          3.06   \n",
       "6     OLB      0.0     0.0      0.0     0.0  1632513600000.0          4.23   \n",
       "7    BBBY      0.0     0.0      0.0     0.0    1631649600272         23.82   \n",
       "8     KFS      0.0     0.0      0.0     0.0  1633118400000.0          5.17   \n",
       "9    AFRM      0.0     0.0      0.0     0.0    1632254400987       108.105   \n",
       "10   NATR      0.0     0.0    17.45   133.0    1630504790206         17.33   \n",
       "11    ACM      0.0     0.0      0.0     0.0    1632258418517         61.75   \n",
       "12    AYI      0.0     0.0      0.0     0.0  1633554906350.0       195.325   \n",
       "13     GM      0.0     0.0      0.0     0.0    1629925195331        49.695   \n",
       "14   AAPL      0.0     0.0      0.0     0.0    1630415703303        152.54   \n",
       "15    CVX      0.0     0.0      0.0     0.0    1630353738389         98.36   \n",
       "\n",
       "   lastSaleSize     lastSaleTime    volume current_price   timestamp  \\\n",
       "0           6.0    1629316790023      46.0          4.24  1629716406   \n",
       "1          25.0    1628178157384      25.0          2.08  1629716406   \n",
       "3           1.0    1632513582057   38333.0          9.46  1632747622   \n",
       "4          80.0    1632514484013  453506.0          6.11  1632747622   \n",
       "5         300.0    1631563186154   33347.0          3.06  1632747622   \n",
       "6         100.0  1632513598460.0    3823.0          4.25  1632747622   \n",
       "7           6.0    1631649599149   62985.0         23.83  1631707209   \n",
       "8         100.0    1633096381737     300.0          5.36  1633350615   \n",
       "9          28.0    1632254395027  189948.0        108.11  1632315622   \n",
       "10        100.0    1630504717922     140.0         17.33  1630504816   \n",
       "11        100.0    1632254399636   76629.0         61.75  1632308108   \n",
       "12         10.0    1633550391486  130428.0        195.55  1633613145   \n",
       "13         36.0    1629921597942  236830.0          49.7  1629939723   \n",
       "14         50.0    1630415650257    1807.0        153.12  1630415773   \n",
       "15          7.0    1630353598427  166683.0         98.39  1630415773   \n",
       "\n",
       "                             news_id  \n",
       "0   0000d467d1a52a6a84fc8b30adbe8ec2  \n",
       "1   0000d467d1a52a6a84fc8b30adbe8ec2  \n",
       "3   0007ea6c22fc24e1f34021185ad07e4e  \n",
       "4   0007ea6c22fc24e1f34021185ad07e4e  \n",
       "5   0007ea6c22fc24e1f34021185ad07e4e  \n",
       "6   0007ea6c22fc24e1f34021185ad07e4e  \n",
       "7   00091f238ca72bd41d8baf14eb089f51  \n",
       "8   000987a19572364448369fdaaf5d7d20  \n",
       "9   000cd8ff9081aaf24065fa357b186b02  \n",
       "10  000de19c850fb98b434e5adf871f6618  \n",
       "11  000eb81ec3db0f08717a220a835ee459  \n",
       "12  00116993bfe88f86d6ed6ebea7223946  \n",
       "13  0012e7727394e60ef02ab76b3bf62a80  \n",
       "14  0015169a4c7587eadf11c465340f3b26  \n",
       "15  0015169a4c7587eadf11c465340f3b26  "
      ]
     },
     "execution_count": 2,
     "metadata": {},
     "output_type": "execute_result"
    }
   ],
   "source": [
    "ticker_price_moment_exit = pd.read_hdf(\"ticker_price_moment_exit.hd5\")\n",
    "ticker_price_moment_exit.info()\n",
    "ticker_price_moment_exit.head(15)"
   ]
  },
  {
   "cell_type": "code",
   "execution_count": 3,
   "metadata": {},
   "outputs": [
    {
     "name": "stdout",
     "output_type": "stream",
     "text": [
      "<class 'pandas.core.frame.DataFrame'>\n",
      "Int64Index: 80 entries, 77 to 35677\n",
      "Data columns (total 8 columns):\n",
      " #   Column                                               Non-Null Count  Dtype  \n",
      "---  ------                                               --------------  -----  \n",
      " 0   observation_id                                       80 non-null     int64  \n",
      " 1   news_id                                              80 non-null     object \n",
      " 2   10_True_0.05                                         80 non-null     float64\n",
      " 3   ticker                                               80 non-null     object \n",
      " 4   final_score                                          80 non-null     float64\n",
      " 5   final_probabilities                                  80 non-null     float64\n",
      " 6   probability_of_conversion_calibrated_by_source.name  80 non-null     float64\n",
      " 7   probability                                          80 non-null     float64\n",
      "dtypes: float64(5), int64(1), object(2)\n",
      "memory usage: 5.6+ KB\n"
     ]
    },
    {
     "data": {
      "text/html": [
       "<div>\n",
       "<style scoped>\n",
       "    .dataframe tbody tr th:only-of-type {\n",
       "        vertical-align: middle;\n",
       "    }\n",
       "\n",
       "    .dataframe tbody tr th {\n",
       "        vertical-align: top;\n",
       "    }\n",
       "\n",
       "    .dataframe thead th {\n",
       "        text-align: right;\n",
       "    }\n",
       "</style>\n",
       "<table border=\"1\" class=\"dataframe\">\n",
       "  <thead>\n",
       "    <tr style=\"text-align: right;\">\n",
       "      <th></th>\n",
       "      <th>observation_id</th>\n",
       "      <th>news_id</th>\n",
       "      <th>10_True_0.05</th>\n",
       "      <th>ticker</th>\n",
       "      <th>final_score</th>\n",
       "      <th>final_probabilities</th>\n",
       "      <th>probability_of_conversion_calibrated_by_source.name</th>\n",
       "      <th>probability</th>\n",
       "    </tr>\n",
       "  </thead>\n",
       "  <tbody>\n",
       "    <tr>\n",
       "      <th>77</th>\n",
       "      <td>2640</td>\n",
       "      <td>1256a14eb635a4d5ce7265db89b17e1a</td>\n",
       "      <td>0.0</td>\n",
       "      <td>GP</td>\n",
       "      <td>3.602661</td>\n",
       "      <td>0.973472</td>\n",
       "      <td>0.263349</td>\n",
       "      <td>0.247648</td>\n",
       "    </tr>\n",
       "    <tr>\n",
       "      <th>274</th>\n",
       "      <td>8648</td>\n",
       "      <td>3d0d5cf485f830a3f504939507835c04</td>\n",
       "      <td>0.0</td>\n",
       "      <td>AEY</td>\n",
       "      <td>3.062563</td>\n",
       "      <td>0.955322</td>\n",
       "      <td>0.231295</td>\n",
       "      <td>0.209504</td>\n",
       "    </tr>\n",
       "    <tr>\n",
       "      <th>365</th>\n",
       "      <td>11149</td>\n",
       "      <td>4e1c384c5bc07bc25d34dedb71549b1f</td>\n",
       "      <td>0.0</td>\n",
       "      <td>VTSI</td>\n",
       "      <td>3.987785</td>\n",
       "      <td>0.981797</td>\n",
       "      <td>0.293361</td>\n",
       "      <td>0.277548</td>\n",
       "    </tr>\n",
       "    <tr>\n",
       "      <th>539</th>\n",
       "      <td>16862</td>\n",
       "      <td>76192c3f79fd20595a9789299fc05c5a</td>\n",
       "      <td>0.0</td>\n",
       "      <td>XSPA</td>\n",
       "      <td>3.027966</td>\n",
       "      <td>0.953822</td>\n",
       "      <td>0.229162</td>\n",
       "      <td>0.207214</td>\n",
       "    </tr>\n",
       "    <tr>\n",
       "      <th>678</th>\n",
       "      <td>22025</td>\n",
       "      <td>9a3f60abf541b9844120b280b85b4c2b</td>\n",
       "      <td>0.0</td>\n",
       "      <td>DSP</td>\n",
       "      <td>3.433080</td>\n",
       "      <td>0.968723</td>\n",
       "      <td>0.255003</td>\n",
       "      <td>0.235189</td>\n",
       "    </tr>\n",
       "    <tr>\n",
       "      <th>687</th>\n",
       "      <td>22499</td>\n",
       "      <td>9dbc000e6a6967e7d644af8bcb8cee2a</td>\n",
       "      <td>0.0</td>\n",
       "      <td>EVOL</td>\n",
       "      <td>3.875282</td>\n",
       "      <td>0.979673</td>\n",
       "      <td>0.285313</td>\n",
       "      <td>0.268588</td>\n",
       "    </tr>\n",
       "    <tr>\n",
       "      <th>749</th>\n",
       "      <td>24118</td>\n",
       "      <td>a90f42357d3174a3b8236e3d9e6cc693</td>\n",
       "      <td>1.0</td>\n",
       "      <td>CYBR</td>\n",
       "      <td>3.669652</td>\n",
       "      <td>0.975148</td>\n",
       "      <td>0.234024</td>\n",
       "      <td>0.252691</td>\n",
       "    </tr>\n",
       "    <tr>\n",
       "      <th>903</th>\n",
       "      <td>28644</td>\n",
       "      <td>c9f9ac52368334f51dcb49d928c12776</td>\n",
       "      <td>1.0</td>\n",
       "      <td>CASI</td>\n",
       "      <td>3.437561</td>\n",
       "      <td>0.968858</td>\n",
       "      <td>0.252667</td>\n",
       "      <td>0.235512</td>\n",
       "    </tr>\n",
       "    <tr>\n",
       "      <th>1025</th>\n",
       "      <td>32366</td>\n",
       "      <td>e3d59c6cf70deadd4126a7ed9cdc4d1b</td>\n",
       "      <td>0.0</td>\n",
       "      <td>AZEK</td>\n",
       "      <td>3.777544</td>\n",
       "      <td>0.977633</td>\n",
       "      <td>0.240732</td>\n",
       "      <td>0.260953</td>\n",
       "    </tr>\n",
       "    <tr>\n",
       "      <th>1040</th>\n",
       "      <td>32870</td>\n",
       "      <td>e71fdbb8d05e33d248641d74ce3751af</td>\n",
       "      <td>0.0</td>\n",
       "      <td>EMAN</td>\n",
       "      <td>3.508962</td>\n",
       "      <td>0.970942</td>\n",
       "      <td>0.260051</td>\n",
       "      <td>0.240710</td>\n",
       "    </tr>\n",
       "  </tbody>\n",
       "</table>\n",
       "</div>"
      ],
      "text/plain": [
       "      observation_id                           news_id  10_True_0.05 ticker  \\\n",
       "77              2640  1256a14eb635a4d5ce7265db89b17e1a           0.0     GP   \n",
       "274             8648  3d0d5cf485f830a3f504939507835c04           0.0    AEY   \n",
       "365            11149  4e1c384c5bc07bc25d34dedb71549b1f           0.0   VTSI   \n",
       "539            16862  76192c3f79fd20595a9789299fc05c5a           0.0   XSPA   \n",
       "678            22025  9a3f60abf541b9844120b280b85b4c2b           0.0    DSP   \n",
       "687            22499  9dbc000e6a6967e7d644af8bcb8cee2a           0.0   EVOL   \n",
       "749            24118  a90f42357d3174a3b8236e3d9e6cc693           1.0   CYBR   \n",
       "903            28644  c9f9ac52368334f51dcb49d928c12776           1.0   CASI   \n",
       "1025           32366  e3d59c6cf70deadd4126a7ed9cdc4d1b           0.0   AZEK   \n",
       "1040           32870  e71fdbb8d05e33d248641d74ce3751af           0.0   EMAN   \n",
       "\n",
       "      final_score  final_probabilities  \\\n",
       "77       3.602661             0.973472   \n",
       "274      3.062563             0.955322   \n",
       "365      3.987785             0.981797   \n",
       "539      3.027966             0.953822   \n",
       "678      3.433080             0.968723   \n",
       "687      3.875282             0.979673   \n",
       "749      3.669652             0.975148   \n",
       "903      3.437561             0.968858   \n",
       "1025     3.777544             0.977633   \n",
       "1040     3.508962             0.970942   \n",
       "\n",
       "      probability_of_conversion_calibrated_by_source.name  probability  \n",
       "77                                             0.263349       0.247648  \n",
       "274                                            0.231295       0.209504  \n",
       "365                                            0.293361       0.277548  \n",
       "539                                            0.229162       0.207214  \n",
       "678                                            0.255003       0.235189  \n",
       "687                                            0.285313       0.268588  \n",
       "749                                            0.234024       0.252691  \n",
       "903                                            0.252667       0.235512  \n",
       "1025                                           0.240732       0.260953  \n",
       "1040                                           0.260051       0.240710  "
      ]
     },
     "execution_count": 3,
     "metadata": {},
     "output_type": "execute_result"
    }
   ],
   "source": [
    "scores_retrotesting = pd.read_hdf(\"scores_retrotesting.hd5\")\n",
    "fin_min=scores_retrotesting[\"final_score\"].min() ##данные от -14 до 5 - очень странная расбалансировка\n",
    "fin_max=scores_retrotesting[\"final_score\"].max()\n",
    "scores_retrotesting = scores_retrotesting[scores_retrotesting['final_score'] >3 ]\n",
    "\n",
    "\n",
    "scores_retrotesting.info()\n",
    "scores_retrotesting.head(10)"
   ]
  },
  {
   "cell_type": "code",
   "execution_count": 4,
   "metadata": {},
   "outputs": [
    {
     "name": "stdout",
     "output_type": "stream",
     "text": [
      "<class 'pandas.core.frame.DataFrame'>\n",
      "RangeIndex: 19497010 entries, 0 to 19497009\n",
      "Data columns (total 9 columns):\n",
      " #   Column         Dtype                  \n",
      "---  ------         -----                  \n",
      " 0   open           float64                \n",
      " 1   high           float64                \n",
      " 2   close          float64                \n",
      " 3   low            float64                \n",
      " 4   volume         float64                \n",
      " 5   time           int64                  \n",
      " 6   formated time  datetime64[ns, tzutc()]\n",
      " 7   ticker         object                 \n",
      " 8   autofilled     bool                   \n",
      "dtypes: bool(1), datetime64[ns, tzutc()](1), float64(5), int64(1), object(1)\n",
      "memory usage: 1.2+ GB\n"
     ]
    },
    {
     "data": {
      "text/html": [
       "<div>\n",
       "<style scoped>\n",
       "    .dataframe tbody tr th:only-of-type {\n",
       "        vertical-align: middle;\n",
       "    }\n",
       "\n",
       "    .dataframe tbody tr th {\n",
       "        vertical-align: top;\n",
       "    }\n",
       "\n",
       "    .dataframe thead th {\n",
       "        text-align: right;\n",
       "    }\n",
       "</style>\n",
       "<table border=\"1\" class=\"dataframe\">\n",
       "  <thead>\n",
       "    <tr style=\"text-align: right;\">\n",
       "      <th></th>\n",
       "      <th>open</th>\n",
       "      <th>high</th>\n",
       "      <th>close</th>\n",
       "      <th>low</th>\n",
       "      <th>volume</th>\n",
       "      <th>time</th>\n",
       "      <th>formated time</th>\n",
       "      <th>ticker</th>\n",
       "      <th>autofilled</th>\n",
       "    </tr>\n",
       "  </thead>\n",
       "  <tbody>\n",
       "    <tr>\n",
       "      <th>19496980</th>\n",
       "      <td>15.7950</td>\n",
       "      <td>NaN</td>\n",
       "      <td>15.7950</td>\n",
       "      <td>NaN</td>\n",
       "      <td>NaN</td>\n",
       "      <td>1633731420</td>\n",
       "      <td>2021-10-08 22:17:00+00:00</td>\n",
       "      <td>DENN</td>\n",
       "      <td>True</td>\n",
       "    </tr>\n",
       "    <tr>\n",
       "      <th>19496981</th>\n",
       "      <td>15.7950</td>\n",
       "      <td>NaN</td>\n",
       "      <td>15.7950</td>\n",
       "      <td>NaN</td>\n",
       "      <td>NaN</td>\n",
       "      <td>1633731480</td>\n",
       "      <td>2021-10-08 22:18:00+00:00</td>\n",
       "      <td>DENN</td>\n",
       "      <td>True</td>\n",
       "    </tr>\n",
       "    <tr>\n",
       "      <th>19496982</th>\n",
       "      <td>15.7950</td>\n",
       "      <td>NaN</td>\n",
       "      <td>15.7950</td>\n",
       "      <td>NaN</td>\n",
       "      <td>NaN</td>\n",
       "      <td>1633731540</td>\n",
       "      <td>2021-10-08 22:19:00+00:00</td>\n",
       "      <td>DENN</td>\n",
       "      <td>True</td>\n",
       "    </tr>\n",
       "    <tr>\n",
       "      <th>19496983</th>\n",
       "      <td>15.7950</td>\n",
       "      <td>NaN</td>\n",
       "      <td>15.7950</td>\n",
       "      <td>NaN</td>\n",
       "      <td>NaN</td>\n",
       "      <td>1633731600</td>\n",
       "      <td>2021-10-08 22:20:00+00:00</td>\n",
       "      <td>DENN</td>\n",
       "      <td>True</td>\n",
       "    </tr>\n",
       "    <tr>\n",
       "      <th>19496984</th>\n",
       "      <td>15.7950</td>\n",
       "      <td>NaN</td>\n",
       "      <td>15.7950</td>\n",
       "      <td>NaN</td>\n",
       "      <td>NaN</td>\n",
       "      <td>1633731660</td>\n",
       "      <td>2021-10-08 22:21:00+00:00</td>\n",
       "      <td>DENN</td>\n",
       "      <td>True</td>\n",
       "    </tr>\n",
       "    <tr>\n",
       "      <th>19496985</th>\n",
       "      <td>15.7950</td>\n",
       "      <td>NaN</td>\n",
       "      <td>15.7950</td>\n",
       "      <td>NaN</td>\n",
       "      <td>NaN</td>\n",
       "      <td>1633731720</td>\n",
       "      <td>2021-10-08 22:22:00+00:00</td>\n",
       "      <td>DENN</td>\n",
       "      <td>True</td>\n",
       "    </tr>\n",
       "    <tr>\n",
       "      <th>19496986</th>\n",
       "      <td>15.7950</td>\n",
       "      <td>NaN</td>\n",
       "      <td>15.7950</td>\n",
       "      <td>NaN</td>\n",
       "      <td>NaN</td>\n",
       "      <td>1633731780</td>\n",
       "      <td>2021-10-08 22:23:00+00:00</td>\n",
       "      <td>DENN</td>\n",
       "      <td>True</td>\n",
       "    </tr>\n",
       "    <tr>\n",
       "      <th>19496987</th>\n",
       "      <td>15.7950</td>\n",
       "      <td>NaN</td>\n",
       "      <td>15.7950</td>\n",
       "      <td>NaN</td>\n",
       "      <td>NaN</td>\n",
       "      <td>1633731840</td>\n",
       "      <td>2021-10-08 22:24:00+00:00</td>\n",
       "      <td>DENN</td>\n",
       "      <td>True</td>\n",
       "    </tr>\n",
       "    <tr>\n",
       "      <th>19496988</th>\n",
       "      <td>15.7950</td>\n",
       "      <td>NaN</td>\n",
       "      <td>15.7950</td>\n",
       "      <td>NaN</td>\n",
       "      <td>NaN</td>\n",
       "      <td>1633731900</td>\n",
       "      <td>2021-10-08 22:25:00+00:00</td>\n",
       "      <td>DENN</td>\n",
       "      <td>True</td>\n",
       "    </tr>\n",
       "    <tr>\n",
       "      <th>19496989</th>\n",
       "      <td>15.7950</td>\n",
       "      <td>NaN</td>\n",
       "      <td>15.7950</td>\n",
       "      <td>NaN</td>\n",
       "      <td>NaN</td>\n",
       "      <td>1633731960</td>\n",
       "      <td>2021-10-08 22:26:00+00:00</td>\n",
       "      <td>DENN</td>\n",
       "      <td>True</td>\n",
       "    </tr>\n",
       "    <tr>\n",
       "      <th>19496990</th>\n",
       "      <td>15.7950</td>\n",
       "      <td>NaN</td>\n",
       "      <td>15.7950</td>\n",
       "      <td>NaN</td>\n",
       "      <td>NaN</td>\n",
       "      <td>1633732020</td>\n",
       "      <td>2021-10-08 22:27:00+00:00</td>\n",
       "      <td>DENN</td>\n",
       "      <td>True</td>\n",
       "    </tr>\n",
       "    <tr>\n",
       "      <th>19496991</th>\n",
       "      <td>15.7950</td>\n",
       "      <td>NaN</td>\n",
       "      <td>15.7950</td>\n",
       "      <td>NaN</td>\n",
       "      <td>NaN</td>\n",
       "      <td>1633732080</td>\n",
       "      <td>2021-10-08 22:28:00+00:00</td>\n",
       "      <td>DENN</td>\n",
       "      <td>True</td>\n",
       "    </tr>\n",
       "    <tr>\n",
       "      <th>19496992</th>\n",
       "      <td>15.7950</td>\n",
       "      <td>NaN</td>\n",
       "      <td>15.7950</td>\n",
       "      <td>NaN</td>\n",
       "      <td>NaN</td>\n",
       "      <td>1633732140</td>\n",
       "      <td>2021-10-08 22:29:00+00:00</td>\n",
       "      <td>DENN</td>\n",
       "      <td>True</td>\n",
       "    </tr>\n",
       "    <tr>\n",
       "      <th>19496993</th>\n",
       "      <td>15.7950</td>\n",
       "      <td>NaN</td>\n",
       "      <td>15.7950</td>\n",
       "      <td>NaN</td>\n",
       "      <td>NaN</td>\n",
       "      <td>1633732200</td>\n",
       "      <td>2021-10-08 22:30:00+00:00</td>\n",
       "      <td>DENN</td>\n",
       "      <td>True</td>\n",
       "    </tr>\n",
       "    <tr>\n",
       "      <th>19496994</th>\n",
       "      <td>15.7950</td>\n",
       "      <td>NaN</td>\n",
       "      <td>15.7950</td>\n",
       "      <td>NaN</td>\n",
       "      <td>NaN</td>\n",
       "      <td>1633732260</td>\n",
       "      <td>2021-10-08 22:31:00+00:00</td>\n",
       "      <td>DENN</td>\n",
       "      <td>True</td>\n",
       "    </tr>\n",
       "    <tr>\n",
       "      <th>19496995</th>\n",
       "      <td>15.7950</td>\n",
       "      <td>NaN</td>\n",
       "      <td>15.7950</td>\n",
       "      <td>NaN</td>\n",
       "      <td>NaN</td>\n",
       "      <td>1633732320</td>\n",
       "      <td>2021-10-08 22:32:00+00:00</td>\n",
       "      <td>DENN</td>\n",
       "      <td>True</td>\n",
       "    </tr>\n",
       "    <tr>\n",
       "      <th>19496996</th>\n",
       "      <td>15.7950</td>\n",
       "      <td>NaN</td>\n",
       "      <td>15.7950</td>\n",
       "      <td>NaN</td>\n",
       "      <td>NaN</td>\n",
       "      <td>1633732380</td>\n",
       "      <td>2021-10-08 22:33:00+00:00</td>\n",
       "      <td>DENN</td>\n",
       "      <td>True</td>\n",
       "    </tr>\n",
       "    <tr>\n",
       "      <th>19496997</th>\n",
       "      <td>15.7950</td>\n",
       "      <td>NaN</td>\n",
       "      <td>15.7950</td>\n",
       "      <td>NaN</td>\n",
       "      <td>NaN</td>\n",
       "      <td>1633732440</td>\n",
       "      <td>2021-10-08 22:34:00+00:00</td>\n",
       "      <td>DENN</td>\n",
       "      <td>True</td>\n",
       "    </tr>\n",
       "    <tr>\n",
       "      <th>19496998</th>\n",
       "      <td>15.7950</td>\n",
       "      <td>NaN</td>\n",
       "      <td>15.7950</td>\n",
       "      <td>NaN</td>\n",
       "      <td>NaN</td>\n",
       "      <td>1633732500</td>\n",
       "      <td>2021-10-08 22:35:00+00:00</td>\n",
       "      <td>DENN</td>\n",
       "      <td>True</td>\n",
       "    </tr>\n",
       "    <tr>\n",
       "      <th>19496999</th>\n",
       "      <td>15.7950</td>\n",
       "      <td>NaN</td>\n",
       "      <td>15.7950</td>\n",
       "      <td>NaN</td>\n",
       "      <td>NaN</td>\n",
       "      <td>1633732560</td>\n",
       "      <td>2021-10-08 22:36:00+00:00</td>\n",
       "      <td>DENN</td>\n",
       "      <td>True</td>\n",
       "    </tr>\n",
       "    <tr>\n",
       "      <th>19497000</th>\n",
       "      <td>15.7950</td>\n",
       "      <td>NaN</td>\n",
       "      <td>15.7950</td>\n",
       "      <td>NaN</td>\n",
       "      <td>NaN</td>\n",
       "      <td>1633732620</td>\n",
       "      <td>2021-10-08 22:37:00+00:00</td>\n",
       "      <td>DENN</td>\n",
       "      <td>True</td>\n",
       "    </tr>\n",
       "    <tr>\n",
       "      <th>19497001</th>\n",
       "      <td>15.7950</td>\n",
       "      <td>NaN</td>\n",
       "      <td>15.7950</td>\n",
       "      <td>NaN</td>\n",
       "      <td>NaN</td>\n",
       "      <td>1633732680</td>\n",
       "      <td>2021-10-08 22:38:00+00:00</td>\n",
       "      <td>DENN</td>\n",
       "      <td>True</td>\n",
       "    </tr>\n",
       "    <tr>\n",
       "      <th>19497002</th>\n",
       "      <td>15.7950</td>\n",
       "      <td>NaN</td>\n",
       "      <td>15.7950</td>\n",
       "      <td>NaN</td>\n",
       "      <td>NaN</td>\n",
       "      <td>1633732740</td>\n",
       "      <td>2021-10-08 22:39:00+00:00</td>\n",
       "      <td>DENN</td>\n",
       "      <td>True</td>\n",
       "    </tr>\n",
       "    <tr>\n",
       "      <th>19497003</th>\n",
       "      <td>15.7950</td>\n",
       "      <td>NaN</td>\n",
       "      <td>15.7950</td>\n",
       "      <td>NaN</td>\n",
       "      <td>NaN</td>\n",
       "      <td>1633732800</td>\n",
       "      <td>2021-10-08 22:40:00+00:00</td>\n",
       "      <td>DENN</td>\n",
       "      <td>True</td>\n",
       "    </tr>\n",
       "    <tr>\n",
       "      <th>19497004</th>\n",
       "      <td>15.7950</td>\n",
       "      <td>NaN</td>\n",
       "      <td>15.7950</td>\n",
       "      <td>NaN</td>\n",
       "      <td>NaN</td>\n",
       "      <td>1633732860</td>\n",
       "      <td>2021-10-08 22:41:00+00:00</td>\n",
       "      <td>DENN</td>\n",
       "      <td>True</td>\n",
       "    </tr>\n",
       "    <tr>\n",
       "      <th>19497005</th>\n",
       "      <td>15.7950</td>\n",
       "      <td>NaN</td>\n",
       "      <td>15.7950</td>\n",
       "      <td>NaN</td>\n",
       "      <td>NaN</td>\n",
       "      <td>1633732920</td>\n",
       "      <td>2021-10-08 22:42:00+00:00</td>\n",
       "      <td>DENN</td>\n",
       "      <td>True</td>\n",
       "    </tr>\n",
       "    <tr>\n",
       "      <th>19497006</th>\n",
       "      <td>15.7950</td>\n",
       "      <td>NaN</td>\n",
       "      <td>15.7950</td>\n",
       "      <td>NaN</td>\n",
       "      <td>NaN</td>\n",
       "      <td>1633732980</td>\n",
       "      <td>2021-10-08 22:43:00+00:00</td>\n",
       "      <td>DENN</td>\n",
       "      <td>True</td>\n",
       "    </tr>\n",
       "    <tr>\n",
       "      <th>19497007</th>\n",
       "      <td>15.7950</td>\n",
       "      <td>NaN</td>\n",
       "      <td>15.7950</td>\n",
       "      <td>NaN</td>\n",
       "      <td>NaN</td>\n",
       "      <td>1633733040</td>\n",
       "      <td>2021-10-08 22:44:00+00:00</td>\n",
       "      <td>DENN</td>\n",
       "      <td>True</td>\n",
       "    </tr>\n",
       "    <tr>\n",
       "      <th>19497008</th>\n",
       "      <td>15.7950</td>\n",
       "      <td>NaN</td>\n",
       "      <td>15.7950</td>\n",
       "      <td>NaN</td>\n",
       "      <td>NaN</td>\n",
       "      <td>1633733100</td>\n",
       "      <td>2021-10-08 22:45:00+00:00</td>\n",
       "      <td>DENN</td>\n",
       "      <td>True</td>\n",
       "    </tr>\n",
       "    <tr>\n",
       "      <th>19497009</th>\n",
       "      <td>15.7201</td>\n",
       "      <td>15.7201</td>\n",
       "      <td>15.7201</td>\n",
       "      <td>15.7201</td>\n",
       "      <td>100.0</td>\n",
       "      <td>1633733160</td>\n",
       "      <td>2021-10-08 22:46:00+00:00</td>\n",
       "      <td>DENN</td>\n",
       "      <td>False</td>\n",
       "    </tr>\n",
       "  </tbody>\n",
       "</table>\n",
       "</div>"
      ],
      "text/plain": [
       "             open     high    close      low  volume        time  \\\n",
       "19496980  15.7950      NaN  15.7950      NaN     NaN  1633731420   \n",
       "19496981  15.7950      NaN  15.7950      NaN     NaN  1633731480   \n",
       "19496982  15.7950      NaN  15.7950      NaN     NaN  1633731540   \n",
       "19496983  15.7950      NaN  15.7950      NaN     NaN  1633731600   \n",
       "19496984  15.7950      NaN  15.7950      NaN     NaN  1633731660   \n",
       "19496985  15.7950      NaN  15.7950      NaN     NaN  1633731720   \n",
       "19496986  15.7950      NaN  15.7950      NaN     NaN  1633731780   \n",
       "19496987  15.7950      NaN  15.7950      NaN     NaN  1633731840   \n",
       "19496988  15.7950      NaN  15.7950      NaN     NaN  1633731900   \n",
       "19496989  15.7950      NaN  15.7950      NaN     NaN  1633731960   \n",
       "19496990  15.7950      NaN  15.7950      NaN     NaN  1633732020   \n",
       "19496991  15.7950      NaN  15.7950      NaN     NaN  1633732080   \n",
       "19496992  15.7950      NaN  15.7950      NaN     NaN  1633732140   \n",
       "19496993  15.7950      NaN  15.7950      NaN     NaN  1633732200   \n",
       "19496994  15.7950      NaN  15.7950      NaN     NaN  1633732260   \n",
       "19496995  15.7950      NaN  15.7950      NaN     NaN  1633732320   \n",
       "19496996  15.7950      NaN  15.7950      NaN     NaN  1633732380   \n",
       "19496997  15.7950      NaN  15.7950      NaN     NaN  1633732440   \n",
       "19496998  15.7950      NaN  15.7950      NaN     NaN  1633732500   \n",
       "19496999  15.7950      NaN  15.7950      NaN     NaN  1633732560   \n",
       "19497000  15.7950      NaN  15.7950      NaN     NaN  1633732620   \n",
       "19497001  15.7950      NaN  15.7950      NaN     NaN  1633732680   \n",
       "19497002  15.7950      NaN  15.7950      NaN     NaN  1633732740   \n",
       "19497003  15.7950      NaN  15.7950      NaN     NaN  1633732800   \n",
       "19497004  15.7950      NaN  15.7950      NaN     NaN  1633732860   \n",
       "19497005  15.7950      NaN  15.7950      NaN     NaN  1633732920   \n",
       "19497006  15.7950      NaN  15.7950      NaN     NaN  1633732980   \n",
       "19497007  15.7950      NaN  15.7950      NaN     NaN  1633733040   \n",
       "19497008  15.7950      NaN  15.7950      NaN     NaN  1633733100   \n",
       "19497009  15.7201  15.7201  15.7201  15.7201   100.0  1633733160   \n",
       "\n",
       "                     formated time ticker  autofilled  \n",
       "19496980 2021-10-08 22:17:00+00:00   DENN        True  \n",
       "19496981 2021-10-08 22:18:00+00:00   DENN        True  \n",
       "19496982 2021-10-08 22:19:00+00:00   DENN        True  \n",
       "19496983 2021-10-08 22:20:00+00:00   DENN        True  \n",
       "19496984 2021-10-08 22:21:00+00:00   DENN        True  \n",
       "19496985 2021-10-08 22:22:00+00:00   DENN        True  \n",
       "19496986 2021-10-08 22:23:00+00:00   DENN        True  \n",
       "19496987 2021-10-08 22:24:00+00:00   DENN        True  \n",
       "19496988 2021-10-08 22:25:00+00:00   DENN        True  \n",
       "19496989 2021-10-08 22:26:00+00:00   DENN        True  \n",
       "19496990 2021-10-08 22:27:00+00:00   DENN        True  \n",
       "19496991 2021-10-08 22:28:00+00:00   DENN        True  \n",
       "19496992 2021-10-08 22:29:00+00:00   DENN        True  \n",
       "19496993 2021-10-08 22:30:00+00:00   DENN        True  \n",
       "19496994 2021-10-08 22:31:00+00:00   DENN        True  \n",
       "19496995 2021-10-08 22:32:00+00:00   DENN        True  \n",
       "19496996 2021-10-08 22:33:00+00:00   DENN        True  \n",
       "19496997 2021-10-08 22:34:00+00:00   DENN        True  \n",
       "19496998 2021-10-08 22:35:00+00:00   DENN        True  \n",
       "19496999 2021-10-08 22:36:00+00:00   DENN        True  \n",
       "19497000 2021-10-08 22:37:00+00:00   DENN        True  \n",
       "19497001 2021-10-08 22:38:00+00:00   DENN        True  \n",
       "19497002 2021-10-08 22:39:00+00:00   DENN        True  \n",
       "19497003 2021-10-08 22:40:00+00:00   DENN        True  \n",
       "19497004 2021-10-08 22:41:00+00:00   DENN        True  \n",
       "19497005 2021-10-08 22:42:00+00:00   DENN        True  \n",
       "19497006 2021-10-08 22:43:00+00:00   DENN        True  \n",
       "19497007 2021-10-08 22:44:00+00:00   DENN        True  \n",
       "19497008 2021-10-08 22:45:00+00:00   DENN        True  \n",
       "19497009 2021-10-08 22:46:00+00:00   DENN       False  "
      ]
     },
     "execution_count": 4,
     "metadata": {},
     "output_type": "execute_result"
    }
   ],
   "source": [
    "\n",
    "all_files = glob.glob(\"intraday_data/*.hd5\")\n",
    "li = []\n",
    "#print(all_files)\n",
    "for filename in all_files:\n",
    "    df = pd.read_hdf(filename, index_col=None, header=0)\n",
    "    li.append(df)\n",
    "\n",
    "intraday = pd.concat(li, axis=0, ignore_index=True)\n",
    "#intraday =pd.read_hdf('./test/intraday_data/2021-08-13.hd5')\n",
    "intraday.info()\n",
    "intraday.tail(30)"
   ]
  },
  {
   "cell_type": "code",
   "execution_count": 5,
   "metadata": {},
   "outputs": [],
   "source": [
    "def profit(in_money,data,time_new_out,time_in,time_out):\n",
    "    t1 = time_new_out+time_in*60\n",
    "    t1 = t1 - (t1 % 60)\n",
    "    t_in = data[data[\"time\"]==t1]\n",
    "\n",
    "    if( t_in.empty):\n",
    "        return 0\n",
    "    stock = in_money/t_in[\"close\"].values[0]\n",
    "    t2 = (time_new_out + time_out*60)\n",
    "    t2 = t2 - (t2 % 60)\n",
    "    t_out = data[data[\"time\"]== t2]\n",
    "    if(t_out.empty):\n",
    "        return 0\n",
    "    result = stock*(t_out[\"close\"].values[0])\n",
    "    #print(result - in_money)\n",
    "    return (result - in_money)/(in_money)*100\n",
    "    \n",
    "    "
   ]
  },
  {
   "cell_type": "code",
   "execution_count": 6,
   "metadata": {},
   "outputs": [
    {
     "name": "stdout",
     "output_type": "stream",
     "text": [
      "<function profit at 0x000002734676C8B8>\n"
     ]
    }
   ],
   "source": [
    "profits  = np.zeros((6,6))\n",
    "\n",
    "print(profit)\n",
    "in_time  = [0,1,2,3,4,5] #uniq\n",
    "out_time = [1,2,5,10,15,20] #uniq"
   ]
  },
  {
   "cell_type": "code",
   "execution_count": 16,
   "metadata": {},
   "outputs": [],
   "source": [
    "\n",
    "for ind,data in scores_retrotesting.iterrows() :\n",
    "   # print(data[\"news_id\"],data[\"ticker\"])\n",
    "    buf = ticker_price_moment_exit[ticker_price_moment_exit[\"ticker\"] == data[\"ticker\"]]\n",
    "    buf =  buf[buf[\"news_id\"]==data[\"news_id\"]]\n",
    "    # для всех найдейных \n",
    "    if(not buf.empty):\n",
    "        intraday2 = intraday[intraday['ticker'] == buf[\"ticker\"].values[0] ]\n",
    "        if(not intraday2.empty):\n",
    "            for i in in_time:\n",
    "                for j in out_time :\n",
    "                    if(i<=j):\n",
    "                        profits[in_time.index(i)][out_time.index(j)] += profit(1000,intraday2,buf[\"timestamp\"].values[0],i,j)\n",
    "                \n",
    "        "
   ]
  },
  {
   "cell_type": "code",
   "execution_count": 17,
   "metadata": {},
   "outputs": [
    {
     "name": "stdout",
     "output_type": "stream",
     "text": [
      "-15.762810972362358\n"
     ]
    },
    {
     "data": {
      "image/png": "[encoded data removed]",
      "text/plain": [
       "<Figure size 1152x360 with 1 Axes>"
      ]
     },
     "metadata": {},
     "output_type": "display_data"
    }
   ],
   "source": [
    "import seaborn as sns; sns.set()\n",
    "import matplotlib.pyplot as plt\n",
    "import numpy as np\n",
    "\n",
    "\n",
    "fig = plt.figure(figsize=(16, 5))\n",
    "ax = sns.heatmap(profits, annot=True, fmt=\".3f\", cbar=None)\n",
    "plt.title(\"Визуализация массива\",fontsize=14)\n",
    "print(profits[1][1])\n",
    "#plt.savefig(\"visualize_numpy_array.png\", bbox_inches='tight', dpi=100)\n",
    "\n",
    "plt.show()"
   ]
  },
  {
   "cell_type": "code",
   "execution_count": null,
   "metadata": {},
   "outputs": [],
   "source": [
    "\n",
    "    "
   ]
  },
  {
   "cell_type": "code",
   "execution_count": 18,
   "metadata": {},
   "outputs": [],
   "source": [
    "## второй этап"
   ]
  },
  {
   "cell_type": "code",
   "execution_count": 19,
   "metadata": {},
   "outputs": [
    {
     "data": {
      "text/html": [
       "<div>\n",
       "<style scoped>\n",
       "    .dataframe tbody tr th:only-of-type {\n",
       "        vertical-align: middle;\n",
       "    }\n",
       "\n",
       "    .dataframe tbody tr th {\n",
       "        vertical-align: top;\n",
       "    }\n",
       "\n",
       "    .dataframe thead th {\n",
       "        text-align: right;\n",
       "    }\n",
       "</style>\n",
       "<table border=\"1\" class=\"dataframe\">\n",
       "  <thead>\n",
       "    <tr style=\"text-align: right;\">\n",
       "      <th></th>\n",
       "      <th>observation_id</th>\n",
       "      <th>news_id</th>\n",
       "      <th>10_True_0.05</th>\n",
       "      <th>ticker</th>\n",
       "      <th>final_score</th>\n",
       "      <th>final_probabilities</th>\n",
       "      <th>probability_of_conversion_calibrated_by_source.name</th>\n",
       "      <th>probability</th>\n",
       "    </tr>\n",
       "  </thead>\n",
       "  <tbody>\n",
       "    <tr>\n",
       "      <th>77</th>\n",
       "      <td>2640</td>\n",
       "      <td>1256a14eb635a4d5ce7265db89b17e1a</td>\n",
       "      <td>0.0</td>\n",
       "      <td>GP</td>\n",
       "      <td>3.602661</td>\n",
       "      <td>0.973472</td>\n",
       "      <td>0.263349</td>\n",
       "      <td>0.247648</td>\n",
       "    </tr>\n",
       "    <tr>\n",
       "      <th>274</th>\n",
       "      <td>8648</td>\n",
       "      <td>3d0d5cf485f830a3f504939507835c04</td>\n",
       "      <td>0.0</td>\n",
       "      <td>AEY</td>\n",
       "      <td>3.062563</td>\n",
       "      <td>0.955322</td>\n",
       "      <td>0.231295</td>\n",
       "      <td>0.209504</td>\n",
       "    </tr>\n",
       "    <tr>\n",
       "      <th>365</th>\n",
       "      <td>11149</td>\n",
       "      <td>4e1c384c5bc07bc25d34dedb71549b1f</td>\n",
       "      <td>0.0</td>\n",
       "      <td>VTSI</td>\n",
       "      <td>3.987785</td>\n",
       "      <td>0.981797</td>\n",
       "      <td>0.293361</td>\n",
       "      <td>0.277548</td>\n",
       "    </tr>\n",
       "    <tr>\n",
       "      <th>539</th>\n",
       "      <td>16862</td>\n",
       "      <td>76192c3f79fd20595a9789299fc05c5a</td>\n",
       "      <td>0.0</td>\n",
       "      <td>XSPA</td>\n",
       "      <td>3.027966</td>\n",
       "      <td>0.953822</td>\n",
       "      <td>0.229162</td>\n",
       "      <td>0.207214</td>\n",
       "    </tr>\n",
       "    <tr>\n",
       "      <th>678</th>\n",
       "      <td>22025</td>\n",
       "      <td>9a3f60abf541b9844120b280b85b4c2b</td>\n",
       "      <td>0.0</td>\n",
       "      <td>DSP</td>\n",
       "      <td>3.433080</td>\n",
       "      <td>0.968723</td>\n",
       "      <td>0.255003</td>\n",
       "      <td>0.235189</td>\n",
       "    </tr>\n",
       "  </tbody>\n",
       "</table>\n",
       "</div>"
      ],
      "text/plain": [
       "     observation_id                           news_id  10_True_0.05 ticker  \\\n",
       "77             2640  1256a14eb635a4d5ce7265db89b17e1a           0.0     GP   \n",
       "274            8648  3d0d5cf485f830a3f504939507835c04           0.0    AEY   \n",
       "365           11149  4e1c384c5bc07bc25d34dedb71549b1f           0.0   VTSI   \n",
       "539           16862  76192c3f79fd20595a9789299fc05c5a           0.0   XSPA   \n",
       "678           22025  9a3f60abf541b9844120b280b85b4c2b           0.0    DSP   \n",
       "\n",
       "     final_score  final_probabilities  \\\n",
       "77      3.602661             0.973472   \n",
       "274     3.062563             0.955322   \n",
       "365     3.987785             0.981797   \n",
       "539     3.027966             0.953822   \n",
       "678     3.433080             0.968723   \n",
       "\n",
       "     probability_of_conversion_calibrated_by_source.name  probability  \n",
       "77                                            0.263349       0.247648  \n",
       "274                                           0.231295       0.209504  \n",
       "365                                           0.293361       0.277548  \n",
       "539                                           0.229162       0.207214  \n",
       "678                                           0.255003       0.235189  "
      ]
     },
     "execution_count": 19,
     "metadata": {},
     "output_type": "execute_result"
    }
   ],
   "source": [
    "scores_retrotesting = pd.read_hdf(\"scores_retrotesting.hd5\")\n",
    "scores_retrotesting = scores_retrotesting[scores_retrotesting['final_score'] >3 ]\n",
    "scores_retrotesting.head(5)"
   ]
  },
  {
   "cell_type": "code",
   "execution_count": 20,
   "metadata": {},
   "outputs": [],
   "source": [
    "def max_profit(data,time_new_out,interval):\n",
    "    max_diff = 0\n",
    "    t1 = time_new_out\n",
    "    t1 = t1 - (t1 % 60)\n",
    "    t_in = data[data[\"time\"]==t1]\n",
    "    if(t_in.empty):\n",
    "        t_in = data[data[\"time\"]==data[\"time\"].max()]\n",
    "    for i in range(interval):\n",
    "        t2 = (t1 + i*60)\n",
    "        t_out = data[data[\"time\"]== t2]\n",
    "        if(t_out.empty):\n",
    "            t_out = data[data[\"time\"]==data[\"time\"].max()]\n",
    "            #print(t_out)\n",
    "        buf = abs(t_in['close'].values[0] - t_out['close'].values[0])/ t_out['close'].values[0]\n",
    "        if(max_diff < buf):\n",
    "            max_diff = buf\n",
    "    return max_diff\n",
    "    "
   ]
  },
  {
   "cell_type": "code",
   "execution_count": 34,
   "metadata": {},
   "outputs": [
    {
     "ename": "TypeError",
     "evalue": "string indices must be integers",
     "output_type": "error",
     "traceback": [
      "\u001b[1;31m---------------------------------------------------------------------------\u001b[0m",
      "\u001b[1;31mTypeError\u001b[0m                                 Traceback (most recent call last)",
      "\u001b[1;32m<ipython-input-34-cd2ae398384e>\u001b[0m in \u001b[0;36m<module>\u001b[1;34m\u001b[0m\n\u001b[1;32m----> 1\u001b[1;33m \u001b[0mmax_profit\u001b[0m\u001b[1;33m(\u001b[0m\u001b[1;34m'ticker_price_moment_exit'\u001b[0m\u001b[1;33m,\u001b[0m \u001b[1;36m77\u001b[0m\u001b[1;33m,\u001b[0m \u001b[1;36m3\u001b[0m\u001b[1;33m)\u001b[0m\u001b[1;33m\u001b[0m\u001b[1;33m\u001b[0m\u001b[0m\n\u001b[0m",
      "\u001b[1;32m<ipython-input-20-58f81c3d17f3>\u001b[0m in \u001b[0;36mmax_profit\u001b[1;34m(data, time_new_out, interval)\u001b[0m\n\u001b[0;32m      3\u001b[0m     \u001b[0mt1\u001b[0m \u001b[1;33m=\u001b[0m \u001b[0mtime_new_out\u001b[0m\u001b[1;33m\u001b[0m\u001b[1;33m\u001b[0m\u001b[0m\n\u001b[0;32m      4\u001b[0m     \u001b[0mt1\u001b[0m \u001b[1;33m=\u001b[0m \u001b[0mt1\u001b[0m \u001b[1;33m-\u001b[0m \u001b[1;33m(\u001b[0m\u001b[0mt1\u001b[0m \u001b[1;33m%\u001b[0m \u001b[1;36m60\u001b[0m\u001b[1;33m)\u001b[0m\u001b[1;33m\u001b[0m\u001b[1;33m\u001b[0m\u001b[0m\n\u001b[1;32m----> 5\u001b[1;33m     \u001b[0mt_in\u001b[0m \u001b[1;33m=\u001b[0m \u001b[0mdata\u001b[0m\u001b[1;33m[\u001b[0m\u001b[0mdata\u001b[0m\u001b[1;33m[\u001b[0m\u001b[1;34m\"time\"\u001b[0m\u001b[1;33m]\u001b[0m\u001b[1;33m==\u001b[0m\u001b[0mt1\u001b[0m\u001b[1;33m]\u001b[0m\u001b[1;33m\u001b[0m\u001b[1;33m\u001b[0m\u001b[0m\n\u001b[0m\u001b[0;32m      6\u001b[0m     \u001b[1;32mif\u001b[0m\u001b[1;33m(\u001b[0m\u001b[0mt_in\u001b[0m\u001b[1;33m.\u001b[0m\u001b[0mempty\u001b[0m\u001b[1;33m)\u001b[0m\u001b[1;33m:\u001b[0m\u001b[1;33m\u001b[0m\u001b[1;33m\u001b[0m\u001b[0m\n\u001b[0;32m      7\u001b[0m         \u001b[0mt_in\u001b[0m \u001b[1;33m=\u001b[0m \u001b[0mdata\u001b[0m\u001b[1;33m[\u001b[0m\u001b[0mdata\u001b[0m\u001b[1;33m[\u001b[0m\u001b[1;34m\"time\"\u001b[0m\u001b[1;33m]\u001b[0m\u001b[1;33m==\u001b[0m\u001b[0mdata\u001b[0m\u001b[1;33m[\u001b[0m\u001b[1;34m\"time\"\u001b[0m\u001b[1;33m]\u001b[0m\u001b[1;33m.\u001b[0m\u001b[0mmax\u001b[0m\u001b[1;33m(\u001b[0m\u001b[1;33m)\u001b[0m\u001b[1;33m]\u001b[0m\u001b[1;33m\u001b[0m\u001b[1;33m\u001b[0m\u001b[0m\n",
      "\u001b[1;31mTypeError\u001b[0m: string indices must be integers"
     ]
    }
   ],
   "source": [
    "max_profit('ticker_price_moment_exit', 77, 3)"
   ]
  },
  {
   "cell_type": "code",
   "execution_count": 21,
   "metadata": {},
   "outputs": [],
   "source": [
    "distribution = []\n",
    "for ind,data in scores_retrotesting.iterrows() :\n",
    "   # print(data[\"news_id\"],data[\"ticker\"])\n",
    "    buf = ticker_price_moment_exit[ticker_price_moment_exit[\"ticker\"] == data[\"ticker\"]]\n",
    "    buf =  buf[buf[\"news_id\"]==data[\"news_id\"]]\n",
    "    # для всех найдейных \n",
    "    if(not buf.empty):\n",
    "        intraday2 = intraday[intraday['ticker'] == buf[\"ticker\"].values[0] ]\n",
    "        if(not intraday2.empty):\n",
    "            distribution.append(max_profit(intraday2,buf['timestamp'].values[0],10))"
   ]
  },
  {
   "cell_type": "code",
   "execution_count": 22,
   "metadata": {},
   "outputs": [
    {
     "name": "stdout",
     "output_type": "stream",
     "text": [
      "48\n"
     ]
    },
    {
     "data": {
      "image/png": "[encoded data removed]",
      "text/plain": [
       "<Figure size 1152x360 with 1 Axes>"
      ]
     },
     "metadata": {},
     "output_type": "display_data"
    }
   ],
   "source": [
    "print(len(distribution))\n",
    "fig = plt.figure(figsize=(16, 5))\n",
    "\n",
    "sns.distplot(distribution, hist=True, kde=False, \n",
    "             bins=30,\n",
    "             hist_kws={'edgecolor':'black'},\n",
    "             kde_kws={'linewidth': 4})\n",
    "\n",
    "plt.title(\"Histogram of different procent\", weight=\"bold\")\n",
    "\n",
    "plt.show()"
   ]
  },
  {
   "cell_type": "code",
   "execution_count": 23,
   "metadata": {},
   "outputs": [],
   "source": [
    "for i in range(len(distribution)):\n",
    "    if(distribution[i] >= 0.05):\n",
    "        distribution[i] = 1\n",
    "    else:\n",
    "        distribution[i] = 0"
   ]
  },
  {
   "cell_type": "code",
   "execution_count": 24,
   "metadata": {},
   "outputs": [
    {
     "data": {
      "image/png": "[encoded data removed]",
      "text/plain": [
       "<Figure size 1152x360 with 1 Axes>"
      ]
     },
     "metadata": {},
     "output_type": "display_data"
    }
   ],
   "source": [
    "fig = plt.figure(figsize=(16, 5))\n",
    "\n",
    "sns.distplot(distribution, hist=True, kde=False, \n",
    "             bins=30,\n",
    "             hist_kws={'edgecolor':'black'},\n",
    "             kde_kws={'linewidth': 4})\n",
    "\n",
    "plt.title(\"Histogram of different procent \", weight=\"bold\")\n",
    "\n",
    "plt.show()"
   ]
  },
  {
   "cell_type": "code",
   "execution_count": 25,
   "metadata": {},
   "outputs": [
    {
     "name": "stdout",
     "output_type": "stream",
     "text": [
      "2.0069363340090827\n",
      "5.159715890644274\n"
     ]
    }
   ],
   "source": [
    "#третий этап - смотрим по отфильтрованному скору\n",
    "scores_retrotesting = pd.read_hdf(\"scores_retrotesting.hd5\")\n",
    "scores_retrotesting = scores_retrotesting[scores_retrotesting['final_score'] >2]\n",
    "scores_retrotesting.head(5)\n",
    "score_min = scores_retrotesting['final_score'].min()\n",
    "score_max = scores_retrotesting['final_score'].max()\n",
    "print(score_min)\n",
    "print(score_max)\n"
   ]
  },
  {
   "cell_type": "code",
   "execution_count": 26,
   "metadata": {},
   "outputs": [],
   "source": [
    "##\n",
    "filtr = np.linspace(score_min,score_max,20)\n",
    "n = len(filtr)-2\n",
    "distribution = []\n",
    "for i in range(n):\n",
    "    distr = []\n",
    "    scores_retrotesting2 = scores_retrotesting[scores_retrotesting['final_score'] >filtr[i]] \n",
    "    scores_retrotesting2 = scores_retrotesting2[scores_retrotesting2['final_score'] <filtr[i+1]] \n",
    "    for ind,data in scores_retrotesting2.iterrows() :\n",
    "   # print(data[\"news_id\"],data[\"ticker\"])\n",
    "        buf = ticker_price_moment_exit[ticker_price_moment_exit[\"ticker\"] == data[\"ticker\"]]\n",
    "        buf =  buf[buf[\"news_id\"]==data[\"news_id\"]]\n",
    "    # для всех найдейных \n",
    "        if(not buf.empty):\n",
    "            intraday2 = intraday[intraday['ticker'] == buf[\"ticker\"].values[0] ]\n",
    "            if(not intraday2.empty):\n",
    "                distr.append(max_profit(intraday2,buf['timestamp'].values[0],10))\n",
    "    distribution.append(distr)"
   ]
  },
  {
   "cell_type": "code",
   "execution_count": 27,
   "metadata": {},
   "outputs": [
    {
     "name": "stdout",
     "output_type": "stream",
     "text": [
      "2.0069363340090827 2.172872100147777\n"
     ]
    },
    {
     "data": {
      "image/png": "[encoded data removed]",
      "text/plain": [
       "<Figure size 1152x360 with 1 Axes>"
      ]
     },
     "metadata": {},
     "output_type": "display_data"
    },
    {
     "name": "stdout",
     "output_type": "stream",
     "text": [
      "2.172872100147777 2.338807866286471\n"
     ]
    },
    {
     "data": {
      "image/png": "[encoded data removed]",
      "text/plain": [
       "<Figure size 1152x360 with 1 Axes>"
      ]
     },
     "metadata": {},
     "output_type": "display_data"
    },
    {
     "name": "stdout",
     "output_type": "stream",
     "text": [
      "2.338807866286471 2.5047436324251655\n"
     ]
    },
    {
     "data": {
      "image/png": "[encoded data removed]",
      "text/plain": [
       "<Figure size 1152x360 with 1 Axes>"
      ]
     },
     "metadata": {},
     "output_type": "display_data"
    },
    {
     "name": "stdout",
     "output_type": "stream",
     "text": [
      "2.5047436324251655 2.67067939856386\n"
     ]
    },
    {
     "data": {
      "image/png": "[encoded data removed]",
      "text/plain": [
       "<Figure size 1152x360 with 1 Axes>"
      ]
     },
     "metadata": {},
     "output_type": "display_data"
    },
    {
     "name": "stdout",
     "output_type": "stream",
     "text": [
      "2.67067939856386 2.836615164702554\n"
     ]
    },
    {
     "data": {
      "image/png": "[encoded data removed]",
      "text/plain": [
       "<Figure size 1152x360 with 1 Axes>"
      ]
     },
     "metadata": {},
     "output_type": "display_data"
    },
    {
     "name": "stdout",
     "output_type": "stream",
     "text": [
      "2.836615164702554 3.0025509308412484\n"
     ]
    },
    {
     "data": {
      "image/png": "[encoded data removed]",
      "text/plain": [
       "<Figure size 1152x360 with 1 Axes>"
      ]
     },
     "metadata": {},
     "output_type": "display_data"
    },
    {
     "name": "stdout",
     "output_type": "stream",
     "text": [
      "3.0025509308412484 3.168486696979943\n"
     ]
    },
    {
     "data": {
      "image/png": "[encoded data removed]",
      "text/plain": [
       "<Figure size 1152x360 with 1 Axes>"
      ]
     },
     "metadata": {},
     "output_type": "display_data"
    },
    {
     "name": "stdout",
     "output_type": "stream",
     "text": [
      "3.168486696979943 3.3344224631186368\n"
     ]
    },
    {
     "data": {
      "image/png": "[encoded data removed]",
      "text/plain": [
       "<Figure size 1152x360 with 1 Axes>"
      ]
     },
     "metadata": {},
     "output_type": "display_data"
    },
    {
     "name": "stdout",
     "output_type": "stream",
     "text": [
      "3.3344224631186368 3.500358229257331\n"
     ]
    },
    {
     "data": {
      "image/png": "[encoded data removed]",
      "text/plain": [
       "<Figure size 1152x360 with 1 Axes>"
      ]
     },
     "metadata": {},
     "output_type": "display_data"
    },
    {
     "name": "stdout",
     "output_type": "stream",
     "text": [
      "3.500358229257331 3.6662939953960256\n"
     ]
    },
    {
     "data": {
      "image/png": "[encoded data removed]",
      "text/plain": [
       "<Figure size 1152x360 with 1 Axes>"
      ]
     },
     "metadata": {},
     "output_type": "display_data"
    },
    {
     "name": "stdout",
     "output_type": "stream",
     "text": [
      "3.6662939953960256 3.8322297615347196\n"
     ]
    },
    {
     "data": {
      "image/png": "[encoded data removed]",
      "text/plain": [
       "<Figure size 1152x360 with 1 Axes>"
      ]
     },
     "metadata": {},
     "output_type": "display_data"
    },
    {
     "name": "stdout",
     "output_type": "stream",
     "text": [
      "3.8322297615347196 3.998165527673414\n"
     ]
    },
    {
     "data": {
      "image/png": "[encoded data removed]",
      "text/plain": [
       "<Figure size 1152x360 with 1 Axes>"
      ]
     },
     "metadata": {},
     "output_type": "display_data"
    },
    {
     "name": "stdout",
     "output_type": "stream",
     "text": [
      "3.998165527673414 4.1641012938121085\n"
     ]
    },
    {
     "data": {
      "image/png": "[encoded data removed]",
      "text/plain": [
       "<Figure size 1152x360 with 1 Axes>"
      ]
     },
     "metadata": {},
     "output_type": "display_data"
    },
    {
     "name": "stdout",
     "output_type": "stream",
     "text": [
      "4.1641012938121085 4.3300370599508025\n"
     ]
    },
    {
     "data": {
      "image/png": "[encoded data removed]",
      "text/plain": [
       "<Figure size 1152x360 with 1 Axes>"
      ]
     },
     "metadata": {},
     "output_type": "display_data"
    },
    {
     "name": "stdout",
     "output_type": "stream",
     "text": [
      "4.3300370599508025 4.495972826089497\n"
     ]
    },
    {
     "data": {
      "image/png": "[encoded data removed]",
      "text/plain": [
       "<Figure size 1152x360 with 1 Axes>"
      ]
     },
     "metadata": {},
     "output_type": "display_data"
    },
    {
     "name": "stdout",
     "output_type": "stream",
     "text": [
      "4.495972826089497 4.661908592228191\n"
     ]
    },
    {
     "data": {
      "image/png": "[encoded data removed]",
      "text/plain": [
       "<Figure size 1152x360 with 1 Axes>"
      ]
     },
     "metadata": {},
     "output_type": "display_data"
    },
    {
     "name": "stdout",
     "output_type": "stream",
     "text": [
      "4.661908592228191 4.827844358366885\n"
     ]
    },
    {
     "data": {
      "image/png": "[encoded data removed]",
      "text/plain": [
       "<Figure size 1152x360 with 1 Axes>"
      ]
     },
     "metadata": {},
     "output_type": "display_data"
    },
    {
     "name": "stdout",
     "output_type": "stream",
     "text": [
      "4.827844358366885 4.99378012450558\n"
     ]
    },
    {
     "data": {
      "image/png": "[encoded data removed]",
      "text/plain": [
       "<Figure size 1152x360 with 1 Axes>"
      ]
     },
     "metadata": {},
     "output_type": "display_data"
    }
   ],
   "source": [
    "n = len(distribution)\n",
    "for i in range(n):\n",
    "    fig = plt.figure(figsize=(16, 5))\n",
    "\n",
    "    sns.distplot(distribution[i], hist=True, kde=False, \n",
    "             bins=30,\n",
    "             hist_kws={'edgecolor':'black'},\n",
    "             kde_kws={'linewidth': 4})\n",
    "    print(filtr[i],filtr[i+1])\n",
    "    plt.title(\"Histogram of different procent\", weight=\"bold\")\n",
    "\n",
    "    plt.show()"
   ]
  },
  {
   "cell_type": "code",
   "execution_count": 28,
   "metadata": {},
   "outputs": [
    {
     "name": "stdout",
     "output_type": "stream",
     "text": [
      "<class 'pandas.core.frame.DataFrame'>\n",
      "Int64Index: 594 entries, 34 to 36272\n",
      "Data columns (total 8 columns):\n",
      " #   Column                                               Non-Null Count  Dtype  \n",
      "---  ------                                               --------------  -----  \n",
      " 0   observation_id                                       594 non-null    int64  \n",
      " 1   news_id                                              594 non-null    object \n",
      " 2   10_True_0.05                                         594 non-null    float64\n",
      " 3   ticker                                               594 non-null    object \n",
      " 4   final_score                                          594 non-null    float64\n",
      " 5   final_probabilities                                  594 non-null    float64\n",
      " 6   probability_of_conversion_calibrated_by_source.name  594 non-null    float64\n",
      " 7   probability                                          594 non-null    float64\n",
      "dtypes: float64(5), int64(1), object(2)\n",
      "memory usage: 41.8+ KB\n"
     ]
    }
   ],
   "source": [
    "#пытаемся вычислить точку роста и тенденцию(шанс после первой минуты что вторая успешна)\n",
    "scores_retrotesting = pd.read_hdf(\"scores_retrotesting.hd5\")\n",
    "scores_retrotesting = scores_retrotesting[scores_retrotesting['final_score'] > 1.5 ]\n",
    "scores_retrotesting.info()"
   ]
  },
  {
   "cell_type": "code",
   "execution_count": 29,
   "metadata": {},
   "outputs": [],
   "source": [
    "def profit2(data,time_new_out,n_time):\n",
    "    time_new_out = time_new_out + (60 -time_new_out % 60 )\n",
    "    t_new = data[data[\"time\"]== time_new_out]\n",
    "    time = [(x+1)*60+time_new_out for x in range(n_time)]\n",
    "    result = []\n",
    "    check = True\n",
    "    for i in range(len(time)):\n",
    "        t_in = data[data[\"time\"]==time[i]]\n",
    "        if( t_in.empty):\n",
    "            return [0 for x in range(n_time)]\n",
    "        stock = t_in[\"close\"].values[0] - t_new[\"close\"].values[0] \n",
    "        if(stock > 0 and check):\n",
    "            result.append(1)\n",
    "            t_new = t_in \n",
    "        else:\n",
    "            result.append(0) \n",
    "            check = False\n",
    "    return result\n",
    "    "
   ]
  },
  {
   "cell_type": "code",
   "execution_count": 30,
   "metadata": {},
   "outputs": [],
   "source": [
    "n = [ 0, 0,0, 0, 0,0,0,0 ]\n",
    "for ind,data in scores_retrotesting.iterrows() :\n",
    "   # print(data[\"news_id\"],data[\"ticker\"])\n",
    "    buf = ticker_price_moment_exit[ticker_price_moment_exit[\"ticker\"] == data[\"ticker\"]]\n",
    "    buf =  buf[buf[\"news_id\"]==data[\"news_id\"]]\n",
    "    # для всех найдейных \n",
    "    if(not buf.empty):\n",
    "        intraday2 = intraday[intraday['ticker'] == buf[\"ticker\"].values[0] ]\n",
    "        if(not intraday2.empty):\n",
    "            res = profit2(intraday2,buf['timestamp'].values[0],8)\n",
    "            for i in range(len(n)):\n",
    "                n[i] += res[i]\n",
    "            \n",
    "                        \n",
    "                \n",
    "   "
   ]
  },
  {
   "cell_type": "code",
   "execution_count": 31,
   "metadata": {},
   "outputs": [
    {
     "data": {
      "image/png": "[encoded data removed]",
      "text/plain": [
       "<Figure size 432x288 with 1 Axes>"
      ]
     },
     "metadata": {},
     "output_type": "display_data"
    },
    {
     "name": "stdout",
     "output_type": "stream",
     "text": [
      "[64, 17, 4, 1, 0, 0, 0, 0]\n"
     ]
    }
   ],
   "source": [
    "objects = ('1', '2', '3', '4', '5','6','7','8')\n",
    "y_pos = np.arange(len(objects))\n",
    "\n",
    "\n",
    "plt.bar(y_pos, n, align='center', alpha=0.5)\n",
    "plt.xticks(y_pos, objects)\n",
    "plt.ylabel('Продолжает ли акция расти')\n",
    "plt.title('Кол-во минут прошло')\n",
    "\n",
    "plt.show()\n",
    "print(n)"
   ]
  },
  {
   "cell_type": "code",
   "execution_count": null,
   "metadata": {},
   "outputs": [],
   "source": []
  }
 ],
 "metadata": {
  "kernelspec": {
   "display_name": "Python 3",
   "language": "python",
   "name": "python3"
  },
  "language_info": {
   "codemirror_mode": {
    "name": "ipython",
    "version": 3
   },
   "file_extension": ".py",
   "mimetype": "text/x-python",
   "name": "python",
   "nbconvert_exporter": "python",
   "pygments_lexer": "ipython3",
   "version": "3.7.10"
  }
 },
 "nbformat": 4,
 "nbformat_minor": 4
}
